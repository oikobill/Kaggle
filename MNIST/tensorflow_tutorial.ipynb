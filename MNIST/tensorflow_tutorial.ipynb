{
 "cells": [
  {
   "cell_type": "code",
   "execution_count": 105,
   "metadata": {
    "collapsed": false
   },
   "outputs": [
    {
     "name": "stdout",
     "output_type": "stream",
     "text": [
      "Extracting MNIST_data/train-images-idx3-ubyte.gz\n",
      "Extracting MNIST_data/train-labels-idx1-ubyte.gz\n",
      "Extracting MNIST_data/t10k-images-idx3-ubyte.gz\n",
      "Extracting MNIST_data/t10k-labels-idx1-ubyte.gz\n"
     ]
    }
   ],
   "source": [
    "import numpy as np\n",
    "import pandas as pd\n",
    "import tensorflow as tf\n",
    "from tqdm import tqdm\n",
    "from tensorflow.examples.tutorials.mnist import input_data\n",
    "mnist = input_data.read_data_sets(\"MNIST_data/\", one_hot=True)\n",
    "from keras import backend as K\n",
    "import matplotlib.pyplot as plt\n",
    "%matplotlib inline\n",
    "K.set_image_dim_ordering('tf')"
   ]
  },
  {
   "cell_type": "markdown",
   "metadata": {},
   "source": [
    "## Softmax classifier"
   ]
  },
  {
   "cell_type": "markdown",
   "metadata": {},
   "source": [
    "As a first attempt, we will make a softmax classifier.\n",
    "\n",
    "**What is a softmax classifier?**\n",
    "\n",
    "Assume that we treat each pixel in our 28 by 28 image as a separate feature. Then in total we have $28 \\times 28 = 784$ features. Now we will build a linear classifier s.t.\n",
    "$$softmax(xW + b)$$ gives us a probability distribution over the possible digit classes. Based on that distribution, we will determine the predicted class for that example.\n",
    "\n",
    "**What is the softmax function?**\n",
    "\n",
    "The underlying assumption is that we treat the result of $xW+b$ as the unnormalized log-probabilities of the digit classes. For that reason, everything that comes out of that linear operation a) gets raised to the e power to undo the effect of the log and b) is divided to be in the range 0 to 1 (so that we can interpret is as a probability)\n",
    "\n",
    "$$softmax(x_i) = \\frac{e^{x_i}}{\\sum_{j=0}^{9} e^{x_j}}$$\n",
    "\n",
    "**Decision Rule:** $$y_{pred} = argmax(softmax(xW+b))$$\n"
   ]
  },
  {
   "cell_type": "code",
   "execution_count": 41,
   "metadata": {
    "collapsed": false
   },
   "outputs": [],
   "source": [
    "# set up Interactive Session, allows us to evaluate variables using \"var_name.eval(...)\"\n",
    "sess = tf.InteractiveSession() \n",
    "\n",
    "n_feats = 784\n",
    "n_classes = 10\n",
    "\n",
    "# define your placeholders\n",
    "X = tf.placeholder(dtype=tf.float32, shape=(None, n_feats))\n",
    "y = tf.placeholder(dtype=tf.float32, shape=(None, n_classes))\n",
    "\n",
    "# define your variables\n",
    "W = tf.Variable(initial_value=tf.zeros([784, 10]))\n",
    "b = tf.Variable(initial_value=tf.zeros(10), dtype=tf.float32)"
   ]
  },
  {
   "cell_type": "code",
   "execution_count": 42,
   "metadata": {
    "collapsed": false
   },
   "outputs": [],
   "source": [
    "#prediction based on model\n",
    "unscaled_log_proba = tf.matmul(X, W) + b # softmax will be incuded in the \n",
    "\n",
    "loss = tf.reduce_mean(tf.nn.softmax_cross_entropy_with_logits(\n",
    "        labels=y,\n",
    "        logits=unscaled_log_proba)\n",
    "        )\n",
    "\n",
    "# performs one optimization step\n",
    "train_step = tf.train.GradientDescentOptimizer(0.5).minimize(loss)"
   ]
  },
  {
   "cell_type": "code",
   "execution_count": 43,
   "metadata": {
    "collapsed": true
   },
   "outputs": [],
   "source": [
    "predictions = tf.nn.softmax(unscaled_log_proba)\n",
    "predictions = tf.argmax(predictions, 1)\n",
    "acc = tf.reduce_mean(tf.cast(tf.equal(predictions, tf.argmax(y, 1)), tf.float32))"
   ]
  },
  {
   "cell_type": "code",
   "execution_count": 44,
   "metadata": {
    "collapsed": false,
    "scrolled": true
   },
   "outputs": [
    {
     "name": "stdout",
     "output_type": "stream",
     "text": [
      "Iteration: 0\n",
      "Training Accuracy: 0.2162909060716629\n",
      "Validation Accuracy: 0.20839999616146088\n",
      "Iteration: 500\n",
      "Training Accuracy: 0.9089636206626892\n",
      "Validation Accuracy: 0.9172000288963318\n",
      "Iteration: 1000\n",
      "Training Accuracy: 0.9177091121673584\n",
      "Validation Accuracy: 0.9240000247955322\n",
      "Iteration: 1500\n",
      "Training Accuracy: 0.9227091073989868\n",
      "Validation Accuracy: 0.9265999794006348\n",
      "-------------------------\n",
      "Test accuracy 0.9172999858856201\n"
     ]
    }
   ],
   "source": [
    "sess.run(tf.global_variables_initializer()) # initializes global variables\n",
    "\n",
    "n_iter = 2000\n",
    "batch_size = 100\n",
    "\n",
    "# 1000 times fetch a batch and update W and b\n",
    "for _ in range(n_iter):\n",
    "    batch = mnist.train.next_batch(batch_size)\n",
    "    sess.run([train_step],feed_dict={X:batch[0], y:batch[1]})\n",
    "    \n",
    "    if _%500==0:\n",
    "        train_acc = acc.eval(feed_dict={X:mnist.train.images, \n",
    "                                             y:mnist.train.labels})\n",
    "        validation_acc = acc.eval(feed_dict={X:mnist.validation.images, \n",
    "                                             y:mnist.validation.labels})\n",
    "        print(\"Iteration: {}\".format(_))\n",
    "        print(\"Training Accuracy: {}\".format(train_acc))\n",
    "        print(\"Validation Accuracy: {}\".format(validation_acc))\n",
    "        \n",
    "print(\"-------------------------\")\n",
    "print(\"Test accuracy {}\".format(acc.eval(feed_dict={X:mnist.test.images, \n",
    "                                             y:mnist.test.labels})))"
   ]
  },
  {
   "cell_type": "markdown",
   "metadata": {},
   "source": [
    "## KNN"
   ]
  },
  {
   "cell_type": "code",
   "execution_count": 45,
   "metadata": {
    "collapsed": false
   },
   "outputs": [
    {
     "data": {
      "text/plain": [
       "KNeighborsClassifier(algorithm='auto', leaf_size=30, metric='minkowski',\n",
       "           metric_params=None, n_jobs=1, n_neighbors=7, p=2,\n",
       "           weights='uniform')"
      ]
     },
     "execution_count": 45,
     "metadata": {},
     "output_type": "execute_result"
    }
   ],
   "source": [
    "from sklearn.neighbors import KNeighborsClassifier\n",
    "\n",
    "# view each pixel as a separate feature and each row as a datapoint\n",
    "knn = KNeighborsClassifier(n_neighbors=7)\n",
    "knn.fit(mnist.train.images, np.argmax(mnist.train.labels, 1))"
   ]
  },
  {
   "cell_type": "code",
   "execution_count": null,
   "metadata": {
    "collapsed": true
   },
   "outputs": [],
   "source": [
    "# Testing acc\n",
    "# knn.score(mnist.test.images, np.argmax(mnist.train.labels,1)) # takes long"
   ]
  },
  {
   "cell_type": "markdown",
   "metadata": {},
   "source": [
    "## FNN"
   ]
  },
  {
   "cell_type": "markdown",
   "metadata": {},
   "source": [
    "Now let's try a feedforward neural network. It will have 2 hidden layers with ReLu activations and a softmax activation on the output layer. 128 neurons for the first one and 64 for the second one."
   ]
  },
  {
   "cell_type": "code",
   "execution_count": 6,
   "metadata": {
    "collapsed": false
   },
   "outputs": [],
   "source": [
    "# Let's define our placeholders first\n",
    "\n",
    "X = tf.placeholder(dtype=tf.float32, shape=[None, 784])\n",
    "y = tf.placeholder(dtype=tf.float32, shape=[None, 10])\n",
    "\n",
    "# layer 1\n",
    "layer1_neurons = 128\n",
    "W1 = tf.Variable(initial_value=tf.random_normal([784, layer1_neurons], stddev=0.01))\n",
    "b1 = tf.Variable(initial_value=tf.truncated_normal([layer1_neurons], stddev=0.01))\n",
    "\n",
    "output1 = tf.matmul(X, W1) + b1\n",
    "output1 = tf.nn.relu(output1)\n",
    "\n",
    "# layer 2\n",
    "layer2_neurons = 64\n",
    "W2 = tf.Variable(initial_value=tf.random_normal([layer1_neurons, layer2_neurons], stddev=0.01))\n",
    "b2 = tf.Variable(initial_value=tf.truncated_normal([layer2_neurons], stddev=0.01))\n",
    "\n",
    "output2 = tf.matmul(output1, W2) + b2\n",
    "output2 = tf.nn.relu(output2)\n",
    "\n",
    "#layer 3\n",
    "n_classes = 10\n",
    "W_output = tf.Variable(initial_value=tf.random_normal([layer2_neurons, n_classes], stddev=0.01))\n",
    "b_output = tf.Variable(initial_value=tf.truncated_normal([n_classes], stddev=0.01))\n",
    "\n",
    "output = tf.matmul(output2, W_output) + b_output"
   ]
  },
  {
   "cell_type": "code",
   "execution_count": 7,
   "metadata": {
    "collapsed": true
   },
   "outputs": [],
   "source": [
    "loss = tf.reduce_mean(tf.nn.softmax_cross_entropy_with_logits(\n",
    "        labels=y,\n",
    "        logits=output)\n",
    "        )\n",
    "optimizer = tf.train.GradientDescentOptimizer(0.01)\n",
    "train_step = optimizer.minimize(loss) "
   ]
  },
  {
   "cell_type": "code",
   "execution_count": 8,
   "metadata": {
    "collapsed": true
   },
   "outputs": [],
   "source": [
    "predictions = tf.nn.softmax(output)\n",
    "predictions = tf.argmax(predictions, 1)\n",
    "acc = tf.reduce_mean(tf.cast(tf.equal(predictions, tf.argmax(y, 1)), tf.float32))"
   ]
  },
  {
   "cell_type": "code",
   "execution_count": 170,
   "metadata": {
    "collapsed": false,
    "scrolled": true
   },
   "outputs": [
    {
     "name": "stderr",
     "output_type": "stream",
     "text": [
      "  0%|          | 1/429 [00:00<01:00,  7.09it/s]"
     ]
    },
    {
     "name": "stdout",
     "output_type": "stream",
     "text": [
      "Epoch 0\n"
     ]
    },
    {
     "name": "stderr",
     "output_type": "stream",
     "text": [
      "100%|██████████| 429/429 [00:01<00:00, 217.55it/s]\n",
      "  0%|          | 2/429 [00:00<00:38, 11.06it/s]"
     ]
    },
    {
     "name": "stdout",
     "output_type": "stream",
     "text": [
      "Training Accuracy: 0.11234545707702637\n",
      "Validation Accuracy: 0.11259999871253967\n",
      "-------------------------\n",
      "Epoch 1\n"
     ]
    },
    {
     "name": "stderr",
     "output_type": "stream",
     "text": [
      "100%|██████████| 429/429 [00:01<00:00, 218.64it/s]\n",
      "  0%|          | 2/429 [00:00<00:31, 13.65it/s]"
     ]
    },
    {
     "name": "stdout",
     "output_type": "stream",
     "text": [
      "Training Accuracy: 0.11234545707702637\n",
      "Validation Accuracy: 0.11259999871253967\n",
      "-------------------------\n",
      "Epoch 2\n"
     ]
    },
    {
     "name": "stderr",
     "output_type": "stream",
     "text": [
      "100%|██████████| 429/429 [00:01<00:00, 236.39it/s]\n",
      "  1%|          | 3/429 [00:00<00:23, 18.09it/s]"
     ]
    },
    {
     "name": "stdout",
     "output_type": "stream",
     "text": [
      "Training Accuracy: 0.11234545707702637\n",
      "Validation Accuracy: 0.11259999871253967\n",
      "-------------------------\n",
      "Epoch 3\n"
     ]
    },
    {
     "name": "stderr",
     "output_type": "stream",
     "text": [
      "100%|██████████| 429/429 [00:01<00:00, 228.14it/s]\n",
      "  1%|          | 4/429 [00:00<00:16, 25.05it/s]"
     ]
    },
    {
     "name": "stdout",
     "output_type": "stream",
     "text": [
      "Training Accuracy: 0.11234545707702637\n",
      "Validation Accuracy: 0.11259999871253967\n",
      "-------------------------\n",
      "Epoch 4\n"
     ]
    },
    {
     "name": "stderr",
     "output_type": "stream",
     "text": [
      "100%|██████████| 429/429 [00:01<00:00, 224.88it/s]\n",
      "  1%|          | 4/429 [00:00<00:16, 26.53it/s]"
     ]
    },
    {
     "name": "stdout",
     "output_type": "stream",
     "text": [
      "Training Accuracy: 0.11234545707702637\n",
      "Validation Accuracy: 0.11259999871253967\n",
      "-------------------------\n",
      "Epoch 5\n"
     ]
    },
    {
     "name": "stderr",
     "output_type": "stream",
     "text": [
      "100%|██████████| 429/429 [00:01<00:00, 218.30it/s]\n",
      "  1%|          | 5/429 [00:00<00:13, 31.52it/s]"
     ]
    },
    {
     "name": "stdout",
     "output_type": "stream",
     "text": [
      "Training Accuracy: 0.11234545707702637\n",
      "Validation Accuracy: 0.11259999871253967\n",
      "-------------------------\n",
      "Epoch 6\n"
     ]
    },
    {
     "name": "stderr",
     "output_type": "stream",
     "text": [
      "100%|██████████| 429/429 [00:01<00:00, 247.19it/s]\n",
      "  1%|▏         | 6/429 [00:00<00:11, 36.58it/s]"
     ]
    },
    {
     "name": "stdout",
     "output_type": "stream",
     "text": [
      "Training Accuracy: 0.33739998936653137\n",
      "Validation Accuracy: 0.33719998598098755\n",
      "-------------------------\n",
      "Epoch 7\n"
     ]
    },
    {
     "name": "stderr",
     "output_type": "stream",
     "text": [
      "100%|██████████| 429/429 [00:01<00:00, 244.22it/s]\n",
      "  1%|▏         | 6/429 [00:00<00:11, 37.45it/s]"
     ]
    },
    {
     "name": "stdout",
     "output_type": "stream",
     "text": [
      "Training Accuracy: 0.3450908958911896\n",
      "Validation Accuracy: 0.34439998865127563\n",
      "-------------------------\n",
      "Epoch 8\n"
     ]
    },
    {
     "name": "stderr",
     "output_type": "stream",
     "text": [
      "100%|██████████| 429/429 [00:01<00:00, 239.47it/s]\n",
      "  2%|▏         | 7/429 [00:00<00:10, 42.09it/s]"
     ]
    },
    {
     "name": "stdout",
     "output_type": "stream",
     "text": [
      "Training Accuracy: 0.5290181636810303\n",
      "Validation Accuracy: 0.5325999855995178\n",
      "-------------------------\n",
      "Epoch 9\n"
     ]
    },
    {
     "name": "stderr",
     "output_type": "stream",
     "text": [
      "100%|██████████| 429/429 [00:01<00:00, 218.31it/s]\n",
      "  2%|▏         | 8/429 [00:00<00:08, 47.02it/s]"
     ]
    },
    {
     "name": "stdout",
     "output_type": "stream",
     "text": [
      "Training Accuracy: 0.6981454491615295\n",
      "Validation Accuracy: 0.6976000070571899\n",
      "-------------------------\n",
      "Epoch 10\n"
     ]
    },
    {
     "name": "stderr",
     "output_type": "stream",
     "text": [
      "100%|██████████| 429/429 [00:01<00:00, 226.04it/s]\n",
      "  2%|▏         | 8/429 [00:00<00:08, 47.69it/s]"
     ]
    },
    {
     "name": "stdout",
     "output_type": "stream",
     "text": [
      "Training Accuracy: 0.7677090764045715\n",
      "Validation Accuracy: 0.7757999897003174\n",
      "-------------------------\n",
      "Epoch 11\n"
     ]
    },
    {
     "name": "stderr",
     "output_type": "stream",
     "text": [
      "100%|██████████| 429/429 [00:01<00:00, 244.43it/s]\n",
      "  2%|▏         | 9/429 [00:00<00:07, 55.09it/s]"
     ]
    },
    {
     "name": "stdout",
     "output_type": "stream",
     "text": [
      "Training Accuracy: 0.7936000227928162\n",
      "Validation Accuracy: 0.8051999807357788\n",
      "-------------------------\n",
      "Epoch 12\n"
     ]
    },
    {
     "name": "stderr",
     "output_type": "stream",
     "text": [
      "100%|██████████| 429/429 [00:01<00:00, 240.73it/s]\n",
      "  2%|▏         | 10/429 [00:00<00:07, 59.45it/s]"
     ]
    },
    {
     "name": "stdout",
     "output_type": "stream",
     "text": [
      "Training Accuracy: 0.8065999746322632\n",
      "Validation Accuracy: 0.8162000179290771\n",
      "-------------------------\n",
      "Epoch 13\n"
     ]
    },
    {
     "name": "stderr",
     "output_type": "stream",
     "text": [
      "100%|██████████| 429/429 [00:01<00:00, 235.41it/s]\n",
      "  3%|▎         | 11/429 [00:00<00:07, 57.97it/s]"
     ]
    },
    {
     "name": "stdout",
     "output_type": "stream",
     "text": [
      "Training Accuracy: 0.8209090828895569\n",
      "Validation Accuracy: 0.8348000049591064\n",
      "-------------------------\n",
      "Epoch 14\n"
     ]
    },
    {
     "name": "stderr",
     "output_type": "stream",
     "text": [
      "100%|██████████| 429/429 [00:01<00:00, 241.00it/s]\n",
      "  3%|▎         | 11/429 [00:00<00:06, 59.82it/s]"
     ]
    },
    {
     "name": "stdout",
     "output_type": "stream",
     "text": [
      "Training Accuracy: 0.8304181694984436\n",
      "Validation Accuracy: 0.8416000008583069\n",
      "-------------------------\n",
      "Epoch 15\n"
     ]
    },
    {
     "name": "stderr",
     "output_type": "stream",
     "text": [
      "100%|██████████| 429/429 [00:01<00:00, 226.09it/s]\n",
      "  3%|▎         | 12/429 [00:00<00:05, 70.17it/s]"
     ]
    },
    {
     "name": "stdout",
     "output_type": "stream",
     "text": [
      "Training Accuracy: 0.8393999934196472\n",
      "Validation Accuracy: 0.8507999777793884\n",
      "-------------------------\n",
      "Epoch 16\n"
     ]
    },
    {
     "name": "stderr",
     "output_type": "stream",
     "text": [
      "100%|██████████| 429/429 [00:01<00:00, 244.17it/s]\n",
      "  3%|▎         | 13/429 [00:00<00:05, 72.28it/s]"
     ]
    },
    {
     "name": "stdout",
     "output_type": "stream",
     "text": [
      "Training Accuracy: 0.8497818112373352\n",
      "Validation Accuracy: 0.8622000217437744\n",
      "-------------------------\n",
      "Epoch 17\n"
     ]
    },
    {
     "name": "stderr",
     "output_type": "stream",
     "text": [
      "100%|██████████| 429/429 [00:01<00:00, 236.52it/s]\n",
      "  3%|▎         | 13/429 [00:00<00:05, 71.72it/s]"
     ]
    },
    {
     "name": "stdout",
     "output_type": "stream",
     "text": [
      "Training Accuracy: 0.8601272702217102\n",
      "Validation Accuracy: 0.8695999979972839\n",
      "-------------------------\n",
      "Epoch 18\n"
     ]
    },
    {
     "name": "stderr",
     "output_type": "stream",
     "text": [
      "100%|██████████| 429/429 [00:01<00:00, 235.40it/s]\n",
      "  3%|▎         | 14/429 [00:00<00:05, 77.48it/s]"
     ]
    },
    {
     "name": "stdout",
     "output_type": "stream",
     "text": [
      "Training Accuracy: 0.8687999844551086\n",
      "Validation Accuracy: 0.876800000667572\n",
      "-------------------------\n",
      "Epoch 19\n"
     ]
    },
    {
     "name": "stderr",
     "output_type": "stream",
     "text": [
      "100%|██████████| 429/429 [00:01<00:00, 239.20it/s]\n",
      "  3%|▎         | 15/429 [00:00<00:05, 82.06it/s]"
     ]
    },
    {
     "name": "stdout",
     "output_type": "stream",
     "text": [
      "Training Accuracy: 0.874963641166687\n",
      "Validation Accuracy: 0.885200023651123\n",
      "-------------------------\n",
      "Epoch 20\n"
     ]
    },
    {
     "name": "stderr",
     "output_type": "stream",
     "text": [
      "100%|██████████| 429/429 [00:01<00:00, 247.45it/s]\n",
      "  3%|▎         | 15/429 [00:00<00:05, 78.71it/s]"
     ]
    },
    {
     "name": "stdout",
     "output_type": "stream",
     "text": [
      "Training Accuracy: 0.8817636370658875\n",
      "Validation Accuracy: 0.8913999795913696\n",
      "-------------------------\n",
      "Epoch 21\n"
     ]
    },
    {
     "name": "stderr",
     "output_type": "stream",
     "text": [
      "100%|██████████| 429/429 [00:01<00:00, 223.78it/s]\n",
      "  4%|▎         | 16/429 [00:00<00:05, 81.20it/s]"
     ]
    },
    {
     "name": "stdout",
     "output_type": "stream",
     "text": [
      "Training Accuracy: 0.8848545551300049\n",
      "Validation Accuracy: 0.8935999870300293\n",
      "-------------------------\n",
      "Epoch 22\n"
     ]
    },
    {
     "name": "stderr",
     "output_type": "stream",
     "text": [
      "100%|██████████| 429/429 [00:01<00:00, 229.51it/s]\n",
      "  4%|▍         | 17/429 [00:00<00:04, 88.27it/s]"
     ]
    },
    {
     "name": "stdout",
     "output_type": "stream",
     "text": [
      "Training Accuracy: 0.8909454345703125\n",
      "Validation Accuracy: 0.8984000086784363\n",
      "-------------------------\n",
      "Epoch 23\n"
     ]
    },
    {
     "name": "stderr",
     "output_type": "stream",
     "text": [
      "100%|██████████| 429/429 [00:01<00:00, 238.80it/s]\n",
      "  4%|▍         | 17/429 [00:00<00:04, 88.92it/s]"
     ]
    },
    {
     "name": "stdout",
     "output_type": "stream",
     "text": [
      "Training Accuracy: 0.8944181799888611\n",
      "Validation Accuracy: 0.901199996471405\n",
      "-------------------------\n",
      "Epoch 24\n"
     ]
    },
    {
     "name": "stderr",
     "output_type": "stream",
     "text": [
      "100%|██████████| 429/429 [00:01<00:00, 251.07it/s]\n",
      "  4%|▍         | 18/429 [00:00<00:04, 94.14it/s]"
     ]
    },
    {
     "name": "stdout",
     "output_type": "stream",
     "text": [
      "Training Accuracy: 0.8980545401573181\n",
      "Validation Accuracy: 0.9038000106811523\n",
      "-------------------------\n",
      "Epoch 25\n"
     ]
    },
    {
     "name": "stderr",
     "output_type": "stream",
     "text": [
      "100%|██████████| 429/429 [00:01<00:00, 231.56it/s]\n",
      "  0%|          | 0/429 [00:00<?, ?it/s]"
     ]
    },
    {
     "name": "stdout",
     "output_type": "stream",
     "text": [
      "Training Accuracy: 0.8996909260749817\n",
      "Validation Accuracy: 0.9046000242233276\n",
      "-------------------------\n",
      "Epoch 26\n"
     ]
    },
    {
     "name": "stderr",
     "output_type": "stream",
     "text": [
      "100%|██████████| 429/429 [00:01<00:00, 247.59it/s]\n",
      "  4%|▍         | 19/429 [00:00<00:04, 97.28it/s]"
     ]
    },
    {
     "name": "stdout",
     "output_type": "stream",
     "text": [
      "Training Accuracy: 0.9034727215766907\n",
      "Validation Accuracy: 0.9074000120162964\n",
      "-------------------------\n",
      "Epoch 27\n"
     ]
    },
    {
     "name": "stderr",
     "output_type": "stream",
     "text": [
      "100%|██████████| 429/429 [00:01<00:00, 239.08it/s]\n",
      "  0%|          | 0/429 [00:00<?, ?it/s]"
     ]
    },
    {
     "name": "stdout",
     "output_type": "stream",
     "text": [
      "Training Accuracy: 0.9057818055152893\n",
      "Validation Accuracy: 0.9106000065803528\n",
      "-------------------------\n",
      "Epoch 28\n"
     ]
    },
    {
     "name": "stderr",
     "output_type": "stream",
     "text": [
      "100%|██████████| 429/429 [00:01<00:00, 245.07it/s]\n",
      "  0%|          | 0/429 [00:00<?, ?it/s]"
     ]
    },
    {
     "name": "stdout",
     "output_type": "stream",
     "text": [
      "Training Accuracy: 0.9089454412460327\n",
      "Validation Accuracy: 0.9128000140190125\n",
      "-------------------------\n",
      "Epoch 29\n"
     ]
    },
    {
     "name": "stderr",
     "output_type": "stream",
     "text": [
      "100%|██████████| 429/429 [00:01<00:00, 235.43it/s]\n",
      "  0%|          | 0/429 [00:00<?, ?it/s]"
     ]
    },
    {
     "name": "stdout",
     "output_type": "stream",
     "text": [
      "Training Accuracy: 0.9129636287689209\n",
      "Validation Accuracy: 0.9165999889373779\n",
      "-------------------------\n",
      "Epoch 30\n"
     ]
    },
    {
     "name": "stderr",
     "output_type": "stream",
     "text": [
      "100%|██████████| 429/429 [00:01<00:00, 240.24it/s]\n",
      "  0%|          | 0/429 [00:00<?, ?it/s]"
     ]
    },
    {
     "name": "stdout",
     "output_type": "stream",
     "text": [
      "Training Accuracy: 0.9155636429786682\n",
      "Validation Accuracy: 0.9187999963760376\n",
      "-------------------------\n",
      "Epoch 31\n"
     ]
    },
    {
     "name": "stderr",
     "output_type": "stream",
     "text": [
      "100%|██████████| 429/429 [00:01<00:00, 229.20it/s]\n",
      "  0%|          | 0/429 [00:00<?, ?it/s]"
     ]
    },
    {
     "name": "stdout",
     "output_type": "stream",
     "text": [
      "Training Accuracy: 0.9176545739173889\n",
      "Validation Accuracy: 0.9214000105857849\n",
      "-------------------------\n",
      "Epoch 32\n"
     ]
    },
    {
     "name": "stderr",
     "output_type": "stream",
     "text": [
      "100%|██████████| 429/429 [00:01<00:00, 226.97it/s]\n",
      "  0%|          | 0/429 [00:00<?, ?it/s]"
     ]
    },
    {
     "name": "stdout",
     "output_type": "stream",
     "text": [
      "Training Accuracy: 0.9193636178970337\n",
      "Validation Accuracy: 0.9241999983787537\n",
      "-------------------------\n",
      "Epoch 33\n"
     ]
    },
    {
     "name": "stderr",
     "output_type": "stream",
     "text": [
      "100%|██████████| 429/429 [00:02<00:00, 199.20it/s]\n",
      "  0%|          | 0/429 [00:00<?, ?it/s]"
     ]
    },
    {
     "name": "stdout",
     "output_type": "stream",
     "text": [
      "Training Accuracy: 0.9233818054199219\n",
      "Validation Accuracy: 0.9261999726295471\n",
      "-------------------------\n",
      "Epoch 34\n"
     ]
    },
    {
     "name": "stderr",
     "output_type": "stream",
     "text": [
      "100%|██████████| 429/429 [00:01<00:00, 236.22it/s]\n",
      "  0%|          | 0/429 [00:00<?, ?it/s]"
     ]
    },
    {
     "name": "stdout",
     "output_type": "stream",
     "text": [
      "Training Accuracy: 0.9254727363586426\n",
      "Validation Accuracy: 0.9305999875068665\n",
      "-------------------------\n",
      "Epoch 35\n"
     ]
    },
    {
     "name": "stderr",
     "output_type": "stream",
     "text": [
      "100%|██████████| 429/429 [00:02<00:00, 200.64it/s]\n",
      "  0%|          | 0/429 [00:00<?, ?it/s]"
     ]
    },
    {
     "name": "stdout",
     "output_type": "stream",
     "text": [
      "Training Accuracy: 0.9280181527137756\n",
      "Validation Accuracy: 0.9336000084877014\n",
      "-------------------------\n",
      "Epoch 36\n"
     ]
    },
    {
     "name": "stderr",
     "output_type": "stream",
     "text": [
      "100%|██████████| 429/429 [00:01<00:00, 233.96it/s]\n",
      "  0%|          | 0/429 [00:00<?, ?it/s]"
     ]
    },
    {
     "name": "stdout",
     "output_type": "stream",
     "text": [
      "Training Accuracy: 0.9305999875068665\n",
      "Validation Accuracy: 0.9344000220298767\n",
      "-------------------------\n",
      "Epoch 37\n"
     ]
    },
    {
     "name": "stderr",
     "output_type": "stream",
     "text": [
      "100%|██████████| 429/429 [00:01<00:00, 231.90it/s]\n",
      "  3%|▎         | 12/429 [00:00<00:03, 115.64it/s]"
     ]
    },
    {
     "name": "stdout",
     "output_type": "stream",
     "text": [
      "Training Accuracy: 0.9321091175079346\n",
      "Validation Accuracy: 0.9363999962806702\n",
      "-------------------------\n",
      "Epoch 38\n"
     ]
    },
    {
     "name": "stderr",
     "output_type": "stream",
     "text": [
      "100%|██████████| 429/429 [00:02<00:00, 181.70it/s]\n",
      "  6%|▋         | 27/429 [00:00<00:01, 267.44it/s]"
     ]
    },
    {
     "name": "stdout",
     "output_type": "stream",
     "text": [
      "Training Accuracy: 0.9344545602798462\n",
      "Validation Accuracy: 0.9383999705314636\n",
      "-------------------------\n",
      "Epoch 39\n"
     ]
    },
    {
     "name": "stderr",
     "output_type": "stream",
     "text": [
      "100%|██████████| 429/429 [00:02<00:00, 188.79it/s]\n",
      "  5%|▍         | 20/429 [00:00<00:02, 198.00it/s]"
     ]
    },
    {
     "name": "stdout",
     "output_type": "stream",
     "text": [
      "Training Accuracy: 0.9360727071762085\n",
      "Validation Accuracy: 0.9398000240325928\n",
      "-------------------------\n",
      "Epoch 40\n"
     ]
    },
    {
     "name": "stderr",
     "output_type": "stream",
     "text": [
      "100%|██████████| 429/429 [00:01<00:00, 243.29it/s]\n",
      "  5%|▌         | 22/429 [00:00<00:01, 218.93it/s]"
     ]
    },
    {
     "name": "stdout",
     "output_type": "stream",
     "text": [
      "Training Accuracy: 0.9384545683860779\n",
      "Validation Accuracy: 0.9435999989509583\n",
      "-------------------------\n",
      "Epoch 41\n"
     ]
    },
    {
     "name": "stderr",
     "output_type": "stream",
     "text": [
      "100%|██████████| 429/429 [00:01<00:00, 221.16it/s]\n",
      "  4%|▍         | 19/429 [00:00<00:02, 189.94it/s]"
     ]
    },
    {
     "name": "stdout",
     "output_type": "stream",
     "text": [
      "Training Accuracy: 0.9384909272193909\n",
      "Validation Accuracy: 0.9448000192642212\n",
      "-------------------------\n",
      "Epoch 42\n"
     ]
    },
    {
     "name": "stderr",
     "output_type": "stream",
     "text": [
      "100%|██████████| 429/429 [00:02<00:00, 199.25it/s]\n",
      "  6%|▌         | 24/429 [00:00<00:01, 235.83it/s]"
     ]
    },
    {
     "name": "stdout",
     "output_type": "stream",
     "text": [
      "Training Accuracy: 0.9412727355957031\n",
      "Validation Accuracy: 0.9472000002861023\n",
      "-------------------------\n",
      "Epoch 43\n"
     ]
    },
    {
     "name": "stderr",
     "output_type": "stream",
     "text": [
      "100%|██████████| 429/429 [00:01<00:00, 243.08it/s]\n",
      "  6%|▌         | 26/429 [00:00<00:01, 253.05it/s]"
     ]
    },
    {
     "name": "stdout",
     "output_type": "stream",
     "text": [
      "Training Accuracy: 0.9430181980133057\n",
      "Validation Accuracy: 0.9484000205993652\n",
      "-------------------------\n",
      "Epoch 44\n"
     ]
    },
    {
     "name": "stderr",
     "output_type": "stream",
     "text": [
      "100%|██████████| 429/429 [00:01<00:00, 243.10it/s]\n",
      "  6%|▌         | 26/429 [00:00<00:01, 253.16it/s]"
     ]
    },
    {
     "name": "stdout",
     "output_type": "stream",
     "text": [
      "Training Accuracy: 0.9446181654930115\n",
      "Validation Accuracy: 0.948199987411499\n",
      "-------------------------\n",
      "Epoch 45\n"
     ]
    },
    {
     "name": "stderr",
     "output_type": "stream",
     "text": [
      "100%|██████████| 429/429 [00:02<00:00, 198.84it/s]\n",
      "  5%|▌         | 22/429 [00:00<00:01, 216.15it/s]"
     ]
    },
    {
     "name": "stdout",
     "output_type": "stream",
     "text": [
      "Training Accuracy: 0.9455999732017517\n",
      "Validation Accuracy: 0.949999988079071\n",
      "-------------------------\n",
      "Epoch 46\n"
     ]
    },
    {
     "name": "stderr",
     "output_type": "stream",
     "text": [
      "100%|██████████| 429/429 [00:02<00:00, 204.96it/s]\n",
      "  6%|▌         | 25/429 [00:00<00:01, 244.63it/s]"
     ]
    },
    {
     "name": "stdout",
     "output_type": "stream",
     "text": [
      "Training Accuracy: 0.9470545649528503\n",
      "Validation Accuracy: 0.9513999819755554\n",
      "-------------------------\n",
      "Epoch 47\n"
     ]
    },
    {
     "name": "stderr",
     "output_type": "stream",
     "text": [
      "100%|██████████| 429/429 [00:01<00:00, 215.90it/s]\n",
      "  6%|▌         | 26/429 [00:00<00:01, 254.59it/s]"
     ]
    },
    {
     "name": "stdout",
     "output_type": "stream",
     "text": [
      "Training Accuracy: 0.9476909041404724\n",
      "Validation Accuracy: 0.9516000151634216\n",
      "-------------------------\n",
      "Epoch 48\n"
     ]
    },
    {
     "name": "stderr",
     "output_type": "stream",
     "text": [
      "100%|██████████| 429/429 [00:01<00:00, 229.38it/s]\n",
      "  4%|▍         | 17/429 [00:00<00:02, 169.10it/s]"
     ]
    },
    {
     "name": "stdout",
     "output_type": "stream",
     "text": [
      "Training Accuracy: 0.9489818215370178\n",
      "Validation Accuracy: 0.9526000022888184\n",
      "-------------------------\n",
      "Epoch 49\n"
     ]
    },
    {
     "name": "stderr",
     "output_type": "stream",
     "text": [
      "100%|██████████| 429/429 [00:02<00:00, 212.81it/s]\n",
      "  5%|▍         | 21/429 [00:00<00:02, 201.63it/s]"
     ]
    },
    {
     "name": "stdout",
     "output_type": "stream",
     "text": [
      "Training Accuracy: 0.9499454498291016\n",
      "Validation Accuracy: 0.953000009059906\n",
      "-------------------------\n",
      "Epoch 50\n"
     ]
    },
    {
     "name": "stderr",
     "output_type": "stream",
     "text": [
      "100%|██████████| 429/429 [00:02<00:00, 179.39it/s]\n",
      "  5%|▍         | 20/429 [00:00<00:02, 195.09it/s]"
     ]
    },
    {
     "name": "stdout",
     "output_type": "stream",
     "text": [
      "Training Accuracy: 0.9515454769134521\n",
      "Validation Accuracy: 0.9544000029563904\n",
      "-------------------------\n",
      "Epoch 51\n"
     ]
    },
    {
     "name": "stderr",
     "output_type": "stream",
     "text": [
      "100%|██████████| 429/429 [00:02<00:00, 182.93it/s]\n",
      "  4%|▍         | 17/429 [00:00<00:02, 165.24it/s]"
     ]
    },
    {
     "name": "stdout",
     "output_type": "stream",
     "text": [
      "Training Accuracy: 0.9523817896842957\n",
      "Validation Accuracy: 0.954800009727478\n",
      "-------------------------\n",
      "Epoch 52\n"
     ]
    },
    {
     "name": "stderr",
     "output_type": "stream",
     "text": [
      "100%|██████████| 429/429 [00:02<00:00, 210.55it/s]\n",
      "  4%|▍         | 19/429 [00:00<00:02, 187.10it/s]"
     ]
    },
    {
     "name": "stdout",
     "output_type": "stream",
     "text": [
      "Training Accuracy: 0.9525091052055359\n",
      "Validation Accuracy: 0.9544000029563904\n",
      "-------------------------\n",
      "Epoch 53\n"
     ]
    },
    {
     "name": "stderr",
     "output_type": "stream",
     "text": [
      "100%|██████████| 429/429 [00:02<00:00, 210.01it/s]\n",
      "  4%|▍         | 19/429 [00:00<00:02, 184.85it/s]"
     ]
    },
    {
     "name": "stdout",
     "output_type": "stream",
     "text": [
      "Training Accuracy: 0.9541090726852417\n",
      "Validation Accuracy: 0.9552000164985657\n",
      "-------------------------\n",
      "Epoch 54\n"
     ]
    },
    {
     "name": "stderr",
     "output_type": "stream",
     "text": [
      "100%|██████████| 429/429 [00:01<00:00, 227.31it/s]\n",
      "  6%|▌         | 25/429 [00:00<00:01, 247.52it/s]"
     ]
    },
    {
     "name": "stdout",
     "output_type": "stream",
     "text": [
      "Training Accuracy: 0.9551818370819092\n",
      "Validation Accuracy: 0.9567999839782715\n",
      "-------------------------\n",
      "Epoch 55\n"
     ]
    },
    {
     "name": "stderr",
     "output_type": "stream",
     "text": [
      "100%|██████████| 429/429 [00:02<00:00, 212.33it/s]\n",
      "  6%|▌         | 25/429 [00:00<00:01, 246.62it/s]"
     ]
    },
    {
     "name": "stdout",
     "output_type": "stream",
     "text": [
      "Training Accuracy: 0.9553636312484741\n",
      "Validation Accuracy: 0.9575999975204468\n",
      "-------------------------\n",
      "Epoch 56\n"
     ]
    },
    {
     "name": "stderr",
     "output_type": "stream",
     "text": [
      "100%|██████████| 429/429 [00:02<00:00, 209.94it/s]\n",
      "  6%|▌         | 26/429 [00:00<00:01, 255.53it/s]"
     ]
    },
    {
     "name": "stdout",
     "output_type": "stream",
     "text": [
      "Training Accuracy: 0.956781804561615\n",
      "Validation Accuracy: 0.9592000246047974\n",
      "-------------------------\n",
      "Epoch 57\n"
     ]
    },
    {
     "name": "stderr",
     "output_type": "stream",
     "text": [
      "100%|██████████| 429/429 [00:02<00:00, 195.51it/s]\n",
      "  4%|▍         | 18/429 [00:00<00:02, 178.89it/s]"
     ]
    },
    {
     "name": "stdout",
     "output_type": "stream",
     "text": [
      "Training Accuracy: 0.9579818248748779\n",
      "Validation Accuracy: 0.9588000178337097\n",
      "-------------------------\n",
      "Epoch 58\n"
     ]
    },
    {
     "name": "stderr",
     "output_type": "stream",
     "text": [
      "100%|██████████| 429/429 [00:01<00:00, 218.08it/s]\n",
      "  6%|▋         | 27/429 [00:00<00:01, 262.53it/s]"
     ]
    },
    {
     "name": "stdout",
     "output_type": "stream",
     "text": [
      "Training Accuracy: 0.9589999914169312\n",
      "Validation Accuracy: 0.9607999920845032\n",
      "-------------------------\n",
      "Epoch 59\n"
     ]
    },
    {
     "name": "stderr",
     "output_type": "stream",
     "text": [
      "100%|██████████| 429/429 [00:01<00:00, 222.66it/s]\n",
      "  6%|▌         | 25/429 [00:00<00:01, 242.98it/s]"
     ]
    },
    {
     "name": "stdout",
     "output_type": "stream",
     "text": [
      "Training Accuracy: 0.95978182554245\n",
      "Validation Accuracy: 0.9616000056266785\n",
      "-------------------------\n",
      "Epoch 60\n"
     ]
    },
    {
     "name": "stderr",
     "output_type": "stream",
     "text": [
      "100%|██████████| 429/429 [00:01<00:00, 222.47it/s]\n",
      "  6%|▌         | 25/429 [00:00<00:01, 242.75it/s]"
     ]
    },
    {
     "name": "stdout",
     "output_type": "stream",
     "text": [
      "Training Accuracy: 0.960454523563385\n",
      "Validation Accuracy: 0.9617999792098999\n",
      "-------------------------\n",
      "Epoch 61\n"
     ]
    },
    {
     "name": "stderr",
     "output_type": "stream",
     "text": [
      "100%|██████████| 429/429 [00:02<00:00, 214.48it/s]\n",
      " 10%|█         | 43/429 [00:00<00:02, 179.76it/s]"
     ]
    },
    {
     "name": "stdout",
     "output_type": "stream",
     "text": [
      "Training Accuracy: 0.9608727097511292\n",
      "Validation Accuracy: 0.9617999792098999\n",
      "-------------------------\n",
      "Epoch 62\n"
     ]
    },
    {
     "name": "stderr",
     "output_type": "stream",
     "text": [
      "100%|██████████| 429/429 [00:01<00:00, 222.97it/s]\n",
      "  6%|▌         | 25/429 [00:00<00:01, 243.08it/s]"
     ]
    },
    {
     "name": "stdout",
     "output_type": "stream",
     "text": [
      "Training Accuracy: 0.9616727232933044\n",
      "Validation Accuracy: 0.9625999927520752\n",
      "-------------------------\n",
      "Epoch 63\n"
     ]
    },
    {
     "name": "stderr",
     "output_type": "stream",
     "text": [
      "100%|██████████| 429/429 [00:01<00:00, 216.10it/s]\n",
      "  5%|▌         | 22/429 [00:00<00:01, 211.89it/s]"
     ]
    },
    {
     "name": "stdout",
     "output_type": "stream",
     "text": [
      "Training Accuracy: 0.9629091024398804\n",
      "Validation Accuracy: 0.9634000062942505\n",
      "-------------------------\n",
      "Epoch 64\n"
     ]
    },
    {
     "name": "stderr",
     "output_type": "stream",
     "text": [
      "100%|██████████| 429/429 [00:02<00:00, 213.35it/s]\n",
      "  6%|▌         | 25/429 [00:00<00:01, 246.35it/s]"
     ]
    },
    {
     "name": "stdout",
     "output_type": "stream",
     "text": [
      "Training Accuracy: 0.9632181525230408\n",
      "Validation Accuracy: 0.9629999995231628\n",
      "-------------------------\n",
      "Epoch 65\n"
     ]
    },
    {
     "name": "stderr",
     "output_type": "stream",
     "text": [
      "100%|██████████| 429/429 [00:01<00:00, 214.60it/s]\n",
      "  6%|▌         | 26/429 [00:00<00:01, 252.31it/s]"
     ]
    },
    {
     "name": "stdout",
     "output_type": "stream",
     "text": [
      "Training Accuracy: 0.9636545181274414\n",
      "Validation Accuracy: 0.9638000130653381\n",
      "-------------------------\n",
      "Epoch 66\n"
     ]
    },
    {
     "name": "stderr",
     "output_type": "stream",
     "text": [
      "100%|██████████| 429/429 [00:02<00:00, 197.90it/s]\n",
      "  4%|▎         | 16/429 [00:00<00:02, 158.96it/s]"
     ]
    },
    {
     "name": "stdout",
     "output_type": "stream",
     "text": [
      "Training Accuracy: 0.9639090895652771\n",
      "Validation Accuracy: 0.9639999866485596\n",
      "-------------------------\n",
      "Epoch 67\n"
     ]
    },
    {
     "name": "stderr",
     "output_type": "stream",
     "text": [
      "100%|██████████| 429/429 [00:02<00:00, 169.04it/s]\n",
      "  6%|▌         | 24/429 [00:00<00:01, 236.19it/s]"
     ]
    },
    {
     "name": "stdout",
     "output_type": "stream",
     "text": [
      "Training Accuracy: 0.9652000069618225\n",
      "Validation Accuracy: 0.9648000001907349\n",
      "-------------------------\n",
      "Epoch 68\n"
     ]
    },
    {
     "name": "stderr",
     "output_type": "stream",
     "text": [
      "100%|██████████| 429/429 [00:02<00:00, 185.23it/s]\n",
      "  2%|▏         | 9/429 [00:00<00:04, 89.22it/s]"
     ]
    },
    {
     "name": "stdout",
     "output_type": "stream",
     "text": [
      "Training Accuracy: 0.9657272696495056\n",
      "Validation Accuracy: 0.9657999873161316\n",
      "-------------------------\n",
      "Epoch 69\n"
     ]
    },
    {
     "name": "stderr",
     "output_type": "stream",
     "text": [
      "100%|██████████| 429/429 [00:02<00:00, 196.05it/s]\n",
      "  4%|▍         | 18/429 [00:00<00:02, 179.80it/s]"
     ]
    },
    {
     "name": "stdout",
     "output_type": "stream",
     "text": [
      "Training Accuracy: 0.9663454294204712\n",
      "Validation Accuracy: 0.9652000069618225\n",
      "-------------------------\n",
      "Epoch 70\n"
     ]
    },
    {
     "name": "stderr",
     "output_type": "stream",
     "text": [
      "100%|██████████| 429/429 [00:02<00:00, 189.88it/s]\n",
      "  5%|▍         | 21/429 [00:00<00:01, 208.82it/s]"
     ]
    },
    {
     "name": "stdout",
     "output_type": "stream",
     "text": [
      "Training Accuracy: 0.9664363861083984\n",
      "Validation Accuracy: 0.965399980545044\n",
      "-------------------------\n",
      "Epoch 71\n"
     ]
    },
    {
     "name": "stderr",
     "output_type": "stream",
     "text": [
      "100%|██████████| 429/429 [00:02<00:00, 208.00it/s]\n",
      "  4%|▍         | 19/429 [00:00<00:02, 189.18it/s]"
     ]
    },
    {
     "name": "stdout",
     "output_type": "stream",
     "text": [
      "Training Accuracy: 0.9672181606292725\n",
      "Validation Accuracy: 0.9661999940872192\n",
      "-------------------------\n",
      "Epoch 72\n"
     ]
    },
    {
     "name": "stderr",
     "output_type": "stream",
     "text": [
      "100%|██████████| 429/429 [00:02<00:00, 223.74it/s]\n",
      "  4%|▍         | 18/429 [00:00<00:02, 172.79it/s]"
     ]
    },
    {
     "name": "stdout",
     "output_type": "stream",
     "text": [
      "Training Accuracy: 0.9675818085670471\n",
      "Validation Accuracy: 0.9678000211715698\n",
      "-------------------------\n",
      "Epoch 73\n"
     ]
    },
    {
     "name": "stderr",
     "output_type": "stream",
     "text": [
      "100%|██████████| 429/429 [00:02<00:00, 183.98it/s]\n",
      "  6%|▋         | 27/429 [00:00<00:01, 267.02it/s]"
     ]
    },
    {
     "name": "stdout",
     "output_type": "stream",
     "text": [
      "Training Accuracy: 0.9684727191925049\n",
      "Validation Accuracy: 0.967199981212616\n",
      "-------------------------\n",
      "Epoch 74\n"
     ]
    },
    {
     "name": "stderr",
     "output_type": "stream",
     "text": [
      "100%|██████████| 429/429 [00:02<00:00, 193.63it/s]\n",
      "  7%|▋         | 28/429 [00:00<00:01, 273.93it/s]"
     ]
    },
    {
     "name": "stdout",
     "output_type": "stream",
     "text": [
      "Training Accuracy: 0.9687272906303406\n",
      "Validation Accuracy: 0.9678000211715698\n",
      "-------------------------\n",
      "Epoch 75\n"
     ]
    },
    {
     "name": "stderr",
     "output_type": "stream",
     "text": [
      "100%|██████████| 429/429 [00:02<00:00, 206.55it/s]\n",
      "  4%|▍         | 17/429 [00:00<00:02, 167.04it/s]"
     ]
    },
    {
     "name": "stdout",
     "output_type": "stream",
     "text": [
      "Training Accuracy: 0.9699817895889282\n",
      "Validation Accuracy: 0.9674000144004822\n",
      "-------------------------\n",
      "Epoch 76\n"
     ]
    },
    {
     "name": "stderr",
     "output_type": "stream",
     "text": [
      "100%|██████████| 429/429 [00:01<00:00, 228.00it/s]\n",
      "  7%|▋         | 28/429 [00:00<00:01, 270.48it/s]"
     ]
    },
    {
     "name": "stdout",
     "output_type": "stream",
     "text": [
      "Training Accuracy: 0.9702727198600769\n",
      "Validation Accuracy: 0.9684000015258789\n",
      "-------------------------\n",
      "Epoch 77\n"
     ]
    },
    {
     "name": "stderr",
     "output_type": "stream",
     "text": [
      "100%|██████████| 429/429 [00:02<00:00, 201.25it/s]\n",
      "  4%|▍         | 19/429 [00:00<00:02, 182.96it/s]"
     ]
    },
    {
     "name": "stdout",
     "output_type": "stream",
     "text": [
      "Training Accuracy: 0.9703636169433594\n",
      "Validation Accuracy: 0.9678000211715698\n",
      "-------------------------\n",
      "Epoch 78\n"
     ]
    },
    {
     "name": "stderr",
     "output_type": "stream",
     "text": [
      "100%|██████████| 429/429 [00:02<00:00, 187.61it/s]\n",
      "  4%|▍         | 17/429 [00:00<00:02, 167.03it/s]"
     ]
    },
    {
     "name": "stdout",
     "output_type": "stream",
     "text": [
      "Training Accuracy: 0.970727264881134\n",
      "Validation Accuracy: 0.9684000015258789\n",
      "-------------------------\n",
      "Epoch 79\n"
     ]
    },
    {
     "name": "stderr",
     "output_type": "stream",
     "text": [
      "100%|██████████| 429/429 [00:02<00:00, 178.51it/s]\n",
      "  3%|▎         | 11/429 [00:00<00:03, 109.46it/s]"
     ]
    },
    {
     "name": "stdout",
     "output_type": "stream",
     "text": [
      "Training Accuracy: 0.9715999960899353\n",
      "Validation Accuracy: 0.9679999947547913\n",
      "-------------------------\n",
      "Epoch 80\n"
     ]
    },
    {
     "name": "stderr",
     "output_type": "stream",
     "text": [
      "100%|██████████| 429/429 [00:02<00:00, 190.45it/s]\n",
      "  7%|▋         | 28/429 [00:00<00:01, 276.46it/s]"
     ]
    },
    {
     "name": "stdout",
     "output_type": "stream",
     "text": [
      "Training Accuracy: 0.97196364402771\n",
      "Validation Accuracy: 0.9674000144004822\n",
      "-------------------------\n",
      "Epoch 81\n"
     ]
    },
    {
     "name": "stderr",
     "output_type": "stream",
     "text": [
      "100%|██████████| 429/429 [00:02<00:00, 205.47it/s]\n",
      "  5%|▌         | 22/429 [00:00<00:01, 215.91it/s]"
     ]
    },
    {
     "name": "stdout",
     "output_type": "stream",
     "text": [
      "Training Accuracy: 0.9724545478820801\n",
      "Validation Accuracy: 0.9684000015258789\n",
      "-------------------------\n",
      "Epoch 82\n"
     ]
    },
    {
     "name": "stderr",
     "output_type": "stream",
     "text": [
      "100%|██████████| 429/429 [00:02<00:00, 194.85it/s]\n",
      "  6%|▋         | 27/429 [00:00<00:01, 268.01it/s]"
     ]
    },
    {
     "name": "stdout",
     "output_type": "stream",
     "text": [
      "Training Accuracy: 0.9727636575698853\n",
      "Validation Accuracy: 0.9685999751091003\n",
      "-------------------------\n",
      "Epoch 83\n"
     ]
    },
    {
     "name": "stderr",
     "output_type": "stream",
     "text": [
      "100%|██████████| 429/429 [00:01<00:00, 216.68it/s]\n",
      "  3%|▎         | 14/429 [00:00<00:03, 132.96it/s]"
     ]
    },
    {
     "name": "stdout",
     "output_type": "stream",
     "text": [
      "Training Accuracy: 0.9733454585075378\n",
      "Validation Accuracy: 0.9700000286102295\n",
      "-------------------------\n",
      "Epoch 84\n"
     ]
    },
    {
     "name": "stderr",
     "output_type": "stream",
     "text": [
      "100%|██████████| 429/429 [00:02<00:00, 207.06it/s]\n",
      "  6%|▌         | 26/429 [00:00<00:01, 249.46it/s]"
     ]
    },
    {
     "name": "stdout",
     "output_type": "stream",
     "text": [
      "Training Accuracy: 0.9732000231742859\n",
      "Validation Accuracy: 0.968999981880188\n",
      "-------------------------\n",
      "Epoch 85\n"
     ]
    },
    {
     "name": "stderr",
     "output_type": "stream",
     "text": [
      "100%|██████████| 429/429 [00:02<00:00, 211.65it/s]\n",
      "  6%|▌         | 25/429 [00:00<00:01, 243.20it/s]"
     ]
    },
    {
     "name": "stdout",
     "output_type": "stream",
     "text": [
      "Training Accuracy: 0.9733818173408508\n",
      "Validation Accuracy: 0.9692000150680542\n",
      "-------------------------\n",
      "Epoch 86\n"
     ]
    },
    {
     "name": "stderr",
     "output_type": "stream",
     "text": [
      "100%|██████████| 429/429 [00:02<00:00, 210.12it/s]\n",
      "  6%|▋         | 27/429 [00:00<00:01, 261.94it/s]"
     ]
    },
    {
     "name": "stdout",
     "output_type": "stream",
     "text": [
      "Training Accuracy: 0.9744545221328735\n",
      "Validation Accuracy: 0.9685999751091003\n",
      "-------------------------\n",
      "Epoch 87\n"
     ]
    },
    {
     "name": "stderr",
     "output_type": "stream",
     "text": [
      "100%|██████████| 429/429 [00:01<00:00, 223.10it/s]\n",
      "  4%|▍         | 19/429 [00:00<00:02, 181.21it/s]"
     ]
    },
    {
     "name": "stdout",
     "output_type": "stream",
     "text": [
      "Training Accuracy: 0.9746000170707703\n",
      "Validation Accuracy: 0.97079998254776\n",
      "-------------------------\n",
      "Epoch 88\n"
     ]
    },
    {
     "name": "stderr",
     "output_type": "stream",
     "text": [
      "100%|██████████| 429/429 [00:02<00:00, 210.17it/s]\n",
      "  6%|▋         | 27/429 [00:00<00:01, 266.02it/s]"
     ]
    },
    {
     "name": "stdout",
     "output_type": "stream",
     "text": [
      "Training Accuracy: 0.9751091003417969\n",
      "Validation Accuracy: 0.9697999954223633\n",
      "-------------------------\n",
      "Epoch 89\n"
     ]
    },
    {
     "name": "stderr",
     "output_type": "stream",
     "text": [
      "100%|██████████| 429/429 [00:01<00:00, 214.85it/s]\n",
      "  5%|▌         | 23/429 [00:00<00:01, 225.93it/s]"
     ]
    },
    {
     "name": "stdout",
     "output_type": "stream",
     "text": [
      "Training Accuracy: 0.975454568862915\n",
      "Validation Accuracy: 0.9692000150680542\n",
      "-------------------------\n",
      "Epoch 90\n"
     ]
    },
    {
     "name": "stderr",
     "output_type": "stream",
     "text": [
      "100%|██████████| 429/429 [00:02<00:00, 210.59it/s]\n",
      "  6%|▌         | 24/429 [00:00<00:01, 237.32it/s]"
     ]
    },
    {
     "name": "stdout",
     "output_type": "stream",
     "text": [
      "Training Accuracy: 0.9760181903839111\n",
      "Validation Accuracy: 0.9697999954223633\n",
      "-------------------------\n",
      "Epoch 91\n"
     ]
    },
    {
     "name": "stderr",
     "output_type": "stream",
     "text": [
      "100%|██████████| 429/429 [00:01<00:00, 235.57it/s]\n",
      "  6%|▌         | 26/429 [00:00<00:01, 258.78it/s]"
     ]
    },
    {
     "name": "stdout",
     "output_type": "stream",
     "text": [
      "Training Accuracy: 0.9756545424461365\n",
      "Validation Accuracy: 0.9697999954223633\n",
      "-------------------------\n",
      "Epoch 92\n"
     ]
    },
    {
     "name": "stderr",
     "output_type": "stream",
     "text": [
      "100%|██████████| 429/429 [00:01<00:00, 245.25it/s]\n",
      "  6%|▌         | 25/429 [00:00<00:01, 245.79it/s]"
     ]
    },
    {
     "name": "stdout",
     "output_type": "stream",
     "text": [
      "Training Accuracy: 0.9767272472381592\n",
      "Validation Accuracy: 0.9706000089645386\n",
      "-------------------------\n",
      "Epoch 93\n"
     ]
    },
    {
     "name": "stderr",
     "output_type": "stream",
     "text": [
      "100%|██████████| 429/429 [00:01<00:00, 240.84it/s]\n",
      "  6%|▌         | 26/429 [00:00<00:01, 258.79it/s]"
     ]
    },
    {
     "name": "stdout",
     "output_type": "stream",
     "text": [
      "Training Accuracy: 0.9770727157592773\n",
      "Validation Accuracy: 0.9702000021934509\n",
      "-------------------------\n",
      "Epoch 94\n"
     ]
    },
    {
     "name": "stderr",
     "output_type": "stream",
     "text": [
      "100%|██████████| 429/429 [00:01<00:00, 239.74it/s]\n",
      "  7%|▋         | 28/429 [00:00<00:01, 271.36it/s]"
     ]
    },
    {
     "name": "stdout",
     "output_type": "stream",
     "text": [
      "Training Accuracy: 0.9772182106971741\n",
      "Validation Accuracy: 0.9685999751091003\n",
      "-------------------------\n",
      "Epoch 95\n"
     ]
    },
    {
     "name": "stderr",
     "output_type": "stream",
     "text": [
      "100%|██████████| 429/429 [00:01<00:00, 214.77it/s]\n",
      " 10%|█         | 45/429 [00:00<00:01, 228.10it/s]"
     ]
    },
    {
     "name": "stdout",
     "output_type": "stream",
     "text": [
      "Training Accuracy: 0.9777272939682007\n",
      "Validation Accuracy: 0.9693999886512756\n",
      "-------------------------\n",
      "Epoch 96\n"
     ]
    },
    {
     "name": "stderr",
     "output_type": "stream",
     "text": [
      "100%|██████████| 429/429 [00:02<00:00, 211.78it/s]\n",
      "  6%|▌         | 26/429 [00:00<00:01, 258.81it/s]"
     ]
    },
    {
     "name": "stdout",
     "output_type": "stream",
     "text": [
      "Training Accuracy: 0.9779454469680786\n",
      "Validation Accuracy: 0.9702000021934509\n",
      "-------------------------\n",
      "Epoch 97\n"
     ]
    },
    {
     "name": "stderr",
     "output_type": "stream",
     "text": [
      "100%|██████████| 429/429 [00:01<00:00, 230.62it/s]\n",
      "  6%|▌         | 24/429 [00:00<00:01, 234.53it/s]"
     ]
    },
    {
     "name": "stdout",
     "output_type": "stream",
     "text": [
      "Training Accuracy: 0.9783999919891357\n",
      "Validation Accuracy: 0.9700000286102295\n",
      "-------------------------\n",
      "Epoch 98\n"
     ]
    },
    {
     "name": "stderr",
     "output_type": "stream",
     "text": [
      "100%|██████████| 429/429 [00:01<00:00, 232.25it/s]\n",
      "  6%|▌         | 26/429 [00:00<00:01, 259.82it/s]"
     ]
    },
    {
     "name": "stdout",
     "output_type": "stream",
     "text": [
      "Training Accuracy: 0.9784727096557617\n",
      "Validation Accuracy: 0.9697999954223633\n",
      "-------------------------\n",
      "Epoch 99\n"
     ]
    },
    {
     "name": "stderr",
     "output_type": "stream",
     "text": [
      "100%|██████████| 429/429 [00:01<00:00, 268.54it/s]\n"
     ]
    },
    {
     "name": "stdout",
     "output_type": "stream",
     "text": [
      "Training Accuracy: 0.9788545370101929\n",
      "Validation Accuracy: 0.9702000021934509\n",
      "-------------------------\n",
      "Test accuracy 0.9674999713897705\n"
     ]
    }
   ],
   "source": [
    "sess.run(tf.global_variables_initializer())\n",
    "\n",
    "n_epochs = 100\n",
    "n_batch = 128\n",
    "\n",
    "for e in range(n_epochs):\n",
    "    print(\"Epoch {}\".format(e))\n",
    "    for b in tqdm(range(int(len(mnist.train.images)/n_batch))):\n",
    "        batch = mnist.train.next_batch(n_batch)\n",
    "        train_step.run(feed_dict={X:batch[0], y:batch[1]})\n",
    "    train_acc = acc.eval(feed_dict={X:mnist.train.images, \n",
    "                                   y:mnist.train.labels})\n",
    "    val_acc = acc.eval(feed_dict={X:mnist.validation.images, \n",
    "                                   y:mnist.validation.labels})\n",
    "    print(\"Training Accuracy: {}\".format(train_acc))\n",
    "    print(\"Validation Accuracy: {}\".format(val_acc))\n",
    "    print(\"-------------------------\")\n",
    "\n",
    "test_acc = acc.eval(feed_dict={X:mnist.test.images, \n",
    "                                   y:mnist.test.labels})\n",
    "print(\"Test accuracy {}\".format(test_acc))"
   ]
  },
  {
   "cell_type": "markdown",
   "metadata": {},
   "source": [
    "## CNN"
   ]
  },
  {
   "cell_type": "markdown",
   "metadata": {},
   "source": [
    "FNNs are restrictive because they don't allow us to develop deep architecures but also, we throw away information, namely the pixel relative pixel positions. How can we take advantage of that information? Convolutional Neural Networks!"
   ]
  },
  {
   "cell_type": "markdown",
   "metadata": {},
   "source": [
    "Although we could in theory code up a CNN in tensorflow, I will instead use the Keras API, a high level library used for fast prototyping."
   ]
  },
  {
   "cell_type": "code",
   "execution_count": 63,
   "metadata": {
    "collapsed": false
   },
   "outputs": [],
   "source": [
    "from keras.models import Sequential\n",
    "from keras.layers import Conv2D, Activation, InputLayer, Input\n",
    "from keras.layers import Flatten, MaxPooling2D, Dense, Dropout\n",
    "from keras.optimizers import Nadam, Adam, Adadelta\n",
    "import keras"
   ]
  },
  {
   "cell_type": "code",
   "execution_count": 56,
   "metadata": {
    "collapsed": false,
    "scrolled": true
   },
   "outputs": [
    {
     "name": "stdout",
     "output_type": "stream",
     "text": [
      "Train on 55000 samples, validate on 5000 samples\n",
      "Epoch 1/12\n",
      "55000/55000 [==============================] - 193s - loss: 0.9109 - acc: 0.6945 - val_loss: 0.2630 - val_acc: 0.9242\n",
      "Epoch 2/12\n",
      "55000/55000 [==============================] - 186s - loss: 0.4216 - acc: 0.8695 - val_loss: 0.2146 - val_acc: 0.9388\n",
      "Epoch 3/12\n",
      "55000/55000 [==============================] - 187s - loss: 0.3797 - acc: 0.8825 - val_loss: 0.1875 - val_acc: 0.9472\n",
      "Epoch 4/12\n",
      "55000/55000 [==============================] - 187s - loss: 0.3548 - acc: 0.8897 - val_loss: 0.1716 - val_acc: 0.9522\n",
      "Epoch 5/12\n",
      "55000/55000 [==============================] - 183s - loss: 0.3371 - acc: 0.8968 - val_loss: 0.1655 - val_acc: 0.9520\n",
      "Epoch 6/12\n",
      "55000/55000 [==============================] - 203s - loss: 0.3301 - acc: 0.8974 - val_loss: 0.1510 - val_acc: 0.9588\n",
      "Epoch 7/12\n",
      "55000/55000 [==============================] - 184s - loss: 0.3113 - acc: 0.9034 - val_loss: 0.1459 - val_acc: 0.9602\n",
      "Epoch 8/12\n",
      "55000/55000 [==============================] - 182s - loss: 0.2959 - acc: 0.9092 - val_loss: 0.1345 - val_acc: 0.9632\n",
      "Epoch 9/12\n",
      "55000/55000 [==============================] - 185s - loss: 0.2876 - acc: 0.9127 - val_loss: 0.1314 - val_acc: 0.9642\n",
      "Epoch 10/12\n",
      "55000/55000 [==============================] - 199s - loss: 0.2756 - acc: 0.9156 - val_loss: 0.1289 - val_acc: 0.9636\n",
      "Epoch 11/12\n",
      "55000/55000 [==============================] - 194s - loss: 0.2559 - acc: 0.9222 - val_loss: 0.1185 - val_acc: 0.9668\n",
      "Epoch 12/12\n",
      "55000/55000 [==============================] - 189s - loss: 0.2439 - acc: 0.9248 - val_loss: 0.1069 - val_acc: 0.9678\n"
     ]
    },
    {
     "data": {
      "text/plain": [
       "<keras.callbacks.History at 0x13ad42c50>"
      ]
     },
     "execution_count": 56,
     "metadata": {},
     "output_type": "execute_result"
    }
   ],
   "source": [
    "X_train = (mnist.train.images/255).reshape(-1, 28, 28, 1)\n",
    "y_train = mnist.train.labels\n",
    "\n",
    "X_val = (mnist.validation.images/255).reshape(-1, 28, 28, 1)\n",
    "y_val = mnist.validation.labels\n",
    "\n",
    "epochs=12\n",
    "batch_size = 128\n",
    "\n",
    "model = Sequential()\n",
    "model.add(Conv2D(32, kernel_size=(3, 3),\n",
    "                 activation='relu',\n",
    "                 input_shape=(28, 28, 1)))\n",
    "model.add(Conv2D(64, (3, 3), activation='relu'))\n",
    "model.add(MaxPooling2D(pool_size=(2, 2)))\n",
    "model.add(Dropout(0.25))\n",
    "model.add(Flatten())\n",
    "model.add(Dense(128, activation='relu'))\n",
    "model.add(Dropout(0.5))\n",
    "model.add(Dense(num_classes, activation='softmax'))\n",
    "\n",
    "model.compile(loss=keras.losses.categorical_crossentropy,\n",
    "              optimizer=keras.optimizers.Nadam(),\n",
    "              metrics=['accuracy'])\n",
    "\n",
    "model.fit(X_train, y_train,\n",
    "          batch_size=batch_size,\n",
    "          epochs=epochs,\n",
    "          verbose=1,\n",
    "          validation_data=(X_val, y_val))"
   ]
  },
  {
   "cell_type": "code",
   "execution_count": 61,
   "metadata": {
    "collapsed": false
   },
   "outputs": [
    {
     "name": "stdout",
     "output_type": "stream",
     "text": [
      "10000/10000 [==============================] - 10s    \n"
     ]
    },
    {
     "data": {
      "text/plain": [
       "[8.9146776718139655, 0.44529999999999997]"
      ]
     },
     "execution_count": 61,
     "metadata": {},
     "output_type": "execute_result"
    }
   ],
   "source": [
    "# test accuracy\n",
    "\n",
    "X_test = mnist.test.images.reshape(-1, 28,28,1)\n",
    "y_test = mnist.test.labels\n",
    "\n",
    "model.evaluate(X_test, y_test)"
   ]
  },
  {
   "cell_type": "markdown",
   "metadata": {},
   "source": [
    "## Fancy stuff"
   ]
  },
  {
   "cell_type": "markdown",
   "metadata": {},
   "source": [
    "2. Using a pretrained neural net for mnist classification. Transfer Learning!"
   ]
  },
  {
   "cell_type": "code",
   "execution_count": 87,
   "metadata": {
    "collapsed": false
   },
   "outputs": [],
   "source": [
    "from keras.applications.vgg19 import VGG19\n",
    "import cv2\n",
    "\n",
    "# to use a VGG net we have to a) convert image from greyscale to rgb b) augment to be 64 by 64\n",
    "\n",
    "X_train_rgb = np.array([cv2.cvtColor(i,cv2.COLOR_GRAY2RGB) for i in X_train.reshape(-1, 28,28)])\n",
    "X_val_rgb = np.array([cv2.cvtColor(i,cv2.COLOR_GRAY2RGB) for i in X_val.reshape(-1, 28,28)])\n",
    "X_test_rgb = np.array([cv2.cvtColor(i,cv2.COLOR_GRAY2RGB) for i in X_test.reshape(-1, 28,28)])\n",
    "\n",
    "X_train_rgb_augmented = np.array([ cv2.resize(i,(64,64)) for i in X_train_rgb])\n",
    "X_val_rgb_augmented = np.array([ cv2.resize(i,(64,64)) for i in X_val_rgb])\n",
    "X_test_rgb_augmented = np.array([ cv2.resize(i,(64,64)) for i in X_test_rgb])"
   ]
  },
  {
   "cell_type": "code",
   "execution_count": 90,
   "metadata": {
    "collapsed": false,
    "scrolled": true
   },
   "outputs": [
    {
     "name": "stdout",
     "output_type": "stream",
     "text": [
      "_________________________________________________________________\n",
      "Layer (type)                 Output Shape              Param #   \n",
      "=================================================================\n",
      "input_5 (InputLayer)         (None, 64, 64, 3)         0         \n",
      "_________________________________________________________________\n",
      "block1_conv1 (Conv2D)        (None, 64, 64, 64)        1792      \n",
      "_________________________________________________________________\n",
      "block1_conv2 (Conv2D)        (None, 64, 64, 64)        36928     \n",
      "_________________________________________________________________\n",
      "block1_pool (MaxPooling2D)   (None, 32, 32, 64)        0         \n",
      "_________________________________________________________________\n",
      "block2_conv1 (Conv2D)        (None, 32, 32, 128)       73856     \n",
      "_________________________________________________________________\n",
      "block2_conv2 (Conv2D)        (None, 32, 32, 128)       147584    \n",
      "_________________________________________________________________\n",
      "block2_pool (MaxPooling2D)   (None, 16, 16, 128)       0         \n",
      "_________________________________________________________________\n",
      "block3_conv1 (Conv2D)        (None, 16, 16, 256)       295168    \n",
      "_________________________________________________________________\n",
      "block3_conv2 (Conv2D)        (None, 16, 16, 256)       590080    \n",
      "_________________________________________________________________\n",
      "block3_conv3 (Conv2D)        (None, 16, 16, 256)       590080    \n",
      "_________________________________________________________________\n",
      "block3_conv4 (Conv2D)        (None, 16, 16, 256)       590080    \n",
      "_________________________________________________________________\n",
      "block3_pool (MaxPooling2D)   (None, 8, 8, 256)         0         \n",
      "_________________________________________________________________\n",
      "block4_conv1 (Conv2D)        (None, 8, 8, 512)         1180160   \n",
      "_________________________________________________________________\n",
      "block4_conv2 (Conv2D)        (None, 8, 8, 512)         2359808   \n",
      "_________________________________________________________________\n",
      "block4_conv3 (Conv2D)        (None, 8, 8, 512)         2359808   \n",
      "_________________________________________________________________\n",
      "block4_conv4 (Conv2D)        (None, 8, 8, 512)         2359808   \n",
      "_________________________________________________________________\n",
      "block4_pool (MaxPooling2D)   (None, 4, 4, 512)         0         \n",
      "_________________________________________________________________\n",
      "block5_conv1 (Conv2D)        (None, 4, 4, 512)         2359808   \n",
      "_________________________________________________________________\n",
      "block5_conv2 (Conv2D)        (None, 4, 4, 512)         2359808   \n",
      "_________________________________________________________________\n",
      "block5_conv3 (Conv2D)        (None, 4, 4, 512)         2359808   \n",
      "_________________________________________________________________\n",
      "block5_conv4 (Conv2D)        (None, 4, 4, 512)         2359808   \n",
      "_________________________________________________________________\n",
      "block5_pool (MaxPooling2D)   (None, 2, 2, 512)         0         \n",
      "=================================================================\n",
      "Total params: 20,024,384\n",
      "Trainable params: 20,024,384\n",
      "Non-trainable params: 0\n",
      "_________________________________________________________________\n"
     ]
    }
   ],
   "source": [
    "from keras.models import Model\n",
    "\n",
    "# import VGG net\n",
    "\n",
    "vgg19 = VGG19(include_top=False, weights='imagenet', input_tensor=Input((64, 64, 3)))\n",
    "\n",
    "vgg19.summary()"
   ]
  },
  {
   "cell_type": "code",
   "execution_count": 119,
   "metadata": {
    "collapsed": false
   },
   "outputs": [],
   "source": [
    "# which layer makes for the best summary?\n",
    "\n",
    "layer_name = 'block1_pool'\n",
    "\n",
    "extractor = Model(inputs = vgg19.input, outputs = vgg19.get_layer(layer_name).output)\n",
    "features = extractor.predict(X_train_rgb_augmented[:500])"
   ]
  },
  {
   "cell_type": "code",
   "execution_count": 120,
   "metadata": {
    "collapsed": false
   },
   "outputs": [],
   "source": [
    "from sklearn.manifold import TSNE\n",
    "\n",
    "tsne = TSNE(n_components=2)\n",
    "feats_2d = tsne.fit_transform(features.reshape(500, -1))"
   ]
  },
  {
   "cell_type": "code",
   "execution_count": 121,
   "metadata": {
    "collapsed": false
   },
   "outputs": [
    {
     "data": {
      "text/plain": [
       "<matplotlib.colorbar.Colorbar at 0x175c9ac88>"
      ]
     },
     "execution_count": 121,
     "metadata": {},
     "output_type": "execute_result"
    },
    {
     "data": {
      "image/png": "[encoded data removed]",
      "text/plain": [
       "<matplotlib.figure.Figure at 0x171541cc0>"
      ]
     },
     "metadata": {},
     "output_type": "display_data"
    }
   ],
   "source": [
    "# if the tsne projection shows a nice collection of classes forming then we should use that layer as an extractor\n",
    "plt.scatter(feats_2d[:,0], feats_2d[:,1], c = np.argmax(y_train[:500],1), cmap='Accent')\n",
    "plt.colorbar()"
   ]
  },
  {
   "cell_type": "code",
   "execution_count": 136,
   "metadata": {
    "collapsed": false
   },
   "outputs": [],
   "source": [
    "# not perfect clusters but lets see performance on last layer\n",
    "for l in vgg19.layers:\n",
    "    l.trainable = False\n",
    "\n",
    "x = Flatten()(vgg19.output)\n",
    "x = Dense(100, activation='relu')(x)\n",
    "x = Dense(10, activation='relu')(x)\n",
    "\n",
    "model = Model(inputs=vgg19.input, outputs=x)\n"
   ]
  },
  {
   "cell_type": "code",
   "execution_count": null,
   "metadata": {
    "collapsed": false
   },
   "outputs": [
    {
     "name": "stdout",
     "output_type": "stream",
     "text": [
      "Train on 55000 samples, validate on 5000 samples\n",
      "Epoch 1/20\n",
      " 1792/55000 [..............................] - ETA: 537020s - loss: 8.5713 - acc: 0.1099"
     ]
    }
   ],
   "source": [
    "epochs= 20\n",
    "batch_size = 128\n",
    "\n",
    "model.compile(loss=keras.losses.categorical_crossentropy,\n",
    "              optimizer=keras.optimizers.Nadam(),\n",
    "              metrics=['accuracy'])\n",
    "\n",
    "model.fit(X_train_rgb_augmented, y_train,\n",
    "          batch_size=batch_size,\n",
    "          epochs=epochs,\n",
    "          verbose=1,\n",
    "          validation_data=(X_val_rgb_augmented, y_val))"
   ]
  },
  {
   "cell_type": "markdown",
   "metadata": {},
   "source": [
    "1. Augment the dataset using Keras' ```ImageDataGenerator```"
   ]
  },
  {
   "cell_type": "code",
   "execution_count": 58,
   "metadata": {
    "collapsed": false
   },
   "outputs": [],
   "source": [
    "from keras.preprocessing.image import ImageDataGenerator\n",
    "\n",
    "datagen = ImageDataGenerator(width_shift_range=0.2, \n",
    "        height_shift_range=0.2, rotation_range=0.2)"
   ]
  },
  {
   "cell_type": "code",
   "execution_count": null,
   "metadata": {
    "collapsed": false,
    "scrolled": true
   },
   "outputs": [],
   "source": [
    "opt = Nadam()\n",
    "model.compile(optimizer=opt, loss='categorical_crossentropy', metrics = ['accuracy'])\n",
    "model.fit_generator(datagen.flow(X_train, y_train, batch_size=128), steps_per_epoch = len(X_train)//batch_size,\n",
    "                    epochs=30, validation_data = (X_val, y_val))"
   ]
  },
  {
   "cell_type": "markdown",
   "metadata": {
    "collapsed": true
   },
   "source": []
  },
  {
   "cell_type": "markdown",
   "metadata": {},
   "source": [
    "4. Better Performance by adding random noise to your data"
   ]
  }
 ],
 "metadata": {
  "anaconda-cloud": {},
  "kernelspec": {
   "display_name": "Python [conda root]",
   "language": "python",
   "name": "conda-root-py"
  },
  "language_info": {
   "codemirror_mode": {
    "name": "ipython",
    "version": 3
   },
   "file_extension": ".py",
   "mimetype": "text/x-python",
   "name": "python",
   "nbconvert_exporter": "python",
   "pygments_lexer": "ipython3",
   "version": "3.5.2"
  }
 },
 "nbformat": 4,
 "nbformat_minor": 1
}
