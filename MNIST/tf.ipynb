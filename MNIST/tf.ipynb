{
 "cells": [
  {
   "cell_type": "code",
   "execution_count": 2,
   "metadata": {
    "collapsed": false
   },
   "outputs": [],
   "source": [
    "%matplotlib inline\n",
    "import tensorflow as tf\n",
    "import pandas as pd\n",
    "import numpy as np\n",
    "from tqdm import tqdm\n",
    "import matplotlib.pyplot as plt"
   ]
  },
  {
   "cell_type": "code",
   "execution_count": 20,
   "metadata": {
    "collapsed": false
   },
   "outputs": [],
   "source": [
    "train = pd.read_csv(\"data/train.csv\")\n",
    "test = pd.read_csv(\"data/test.csv\")"
   ]
  },
  {
   "cell_type": "code",
   "execution_count": 21,
   "metadata": {
    "collapsed": false
   },
   "outputs": [
    {
     "data": {
      "text/html": [
       "<div>\n",
       "<table border=\"1\" class=\"dataframe\">\n",
       "  <thead>\n",
       "    <tr style=\"text-align: right;\">\n",
       "      <th></th>\n",
       "      <th>pixel0</th>\n",
       "      <th>pixel1</th>\n",
       "      <th>pixel2</th>\n",
       "      <th>pixel3</th>\n",
       "      <th>pixel4</th>\n",
       "      <th>pixel5</th>\n",
       "      <th>pixel6</th>\n",
       "      <th>pixel7</th>\n",
       "      <th>pixel8</th>\n",
       "      <th>pixel9</th>\n",
       "      <th>...</th>\n",
       "      <th>pixel774</th>\n",
       "      <th>pixel775</th>\n",
       "      <th>pixel776</th>\n",
       "      <th>pixel777</th>\n",
       "      <th>pixel778</th>\n",
       "      <th>pixel779</th>\n",
       "      <th>pixel780</th>\n",
       "      <th>pixel781</th>\n",
       "      <th>pixel782</th>\n",
       "      <th>pixel783</th>\n",
       "    </tr>\n",
       "  </thead>\n",
       "  <tbody>\n",
       "    <tr>\n",
       "      <th>0</th>\n",
       "      <td>0</td>\n",
       "      <td>0</td>\n",
       "      <td>0</td>\n",
       "      <td>0</td>\n",
       "      <td>0</td>\n",
       "      <td>0</td>\n",
       "      <td>0</td>\n",
       "      <td>0</td>\n",
       "      <td>0</td>\n",
       "      <td>0</td>\n",
       "      <td>...</td>\n",
       "      <td>0</td>\n",
       "      <td>0</td>\n",
       "      <td>0</td>\n",
       "      <td>0</td>\n",
       "      <td>0</td>\n",
       "      <td>0</td>\n",
       "      <td>0</td>\n",
       "      <td>0</td>\n",
       "      <td>0</td>\n",
       "      <td>0</td>\n",
       "    </tr>\n",
       "    <tr>\n",
       "      <th>1</th>\n",
       "      <td>0</td>\n",
       "      <td>0</td>\n",
       "      <td>0</td>\n",
       "      <td>0</td>\n",
       "      <td>0</td>\n",
       "      <td>0</td>\n",
       "      <td>0</td>\n",
       "      <td>0</td>\n",
       "      <td>0</td>\n",
       "      <td>0</td>\n",
       "      <td>...</td>\n",
       "      <td>0</td>\n",
       "      <td>0</td>\n",
       "      <td>0</td>\n",
       "      <td>0</td>\n",
       "      <td>0</td>\n",
       "      <td>0</td>\n",
       "      <td>0</td>\n",
       "      <td>0</td>\n",
       "      <td>0</td>\n",
       "      <td>0</td>\n",
       "    </tr>\n",
       "    <tr>\n",
       "      <th>2</th>\n",
       "      <td>0</td>\n",
       "      <td>0</td>\n",
       "      <td>0</td>\n",
       "      <td>0</td>\n",
       "      <td>0</td>\n",
       "      <td>0</td>\n",
       "      <td>0</td>\n",
       "      <td>0</td>\n",
       "      <td>0</td>\n",
       "      <td>0</td>\n",
       "      <td>...</td>\n",
       "      <td>0</td>\n",
       "      <td>0</td>\n",
       "      <td>0</td>\n",
       "      <td>0</td>\n",
       "      <td>0</td>\n",
       "      <td>0</td>\n",
       "      <td>0</td>\n",
       "      <td>0</td>\n",
       "      <td>0</td>\n",
       "      <td>0</td>\n",
       "    </tr>\n",
       "    <tr>\n",
       "      <th>3</th>\n",
       "      <td>0</td>\n",
       "      <td>0</td>\n",
       "      <td>0</td>\n",
       "      <td>0</td>\n",
       "      <td>0</td>\n",
       "      <td>0</td>\n",
       "      <td>0</td>\n",
       "      <td>0</td>\n",
       "      <td>0</td>\n",
       "      <td>0</td>\n",
       "      <td>...</td>\n",
       "      <td>0</td>\n",
       "      <td>0</td>\n",
       "      <td>0</td>\n",
       "      <td>0</td>\n",
       "      <td>0</td>\n",
       "      <td>0</td>\n",
       "      <td>0</td>\n",
       "      <td>0</td>\n",
       "      <td>0</td>\n",
       "      <td>0</td>\n",
       "    </tr>\n",
       "    <tr>\n",
       "      <th>4</th>\n",
       "      <td>0</td>\n",
       "      <td>0</td>\n",
       "      <td>0</td>\n",
       "      <td>0</td>\n",
       "      <td>0</td>\n",
       "      <td>0</td>\n",
       "      <td>0</td>\n",
       "      <td>0</td>\n",
       "      <td>0</td>\n",
       "      <td>0</td>\n",
       "      <td>...</td>\n",
       "      <td>0</td>\n",
       "      <td>0</td>\n",
       "      <td>0</td>\n",
       "      <td>0</td>\n",
       "      <td>0</td>\n",
       "      <td>0</td>\n",
       "      <td>0</td>\n",
       "      <td>0</td>\n",
       "      <td>0</td>\n",
       "      <td>0</td>\n",
       "    </tr>\n",
       "  </tbody>\n",
       "</table>\n",
       "<p>5 rows × 784 columns</p>\n",
       "</div>"
      ],
      "text/plain": [
       "   pixel0  pixel1  pixel2  pixel3  pixel4  pixel5  pixel6  pixel7  pixel8  \\\n",
       "0       0       0       0       0       0       0       0       0       0   \n",
       "1       0       0       0       0       0       0       0       0       0   \n",
       "2       0       0       0       0       0       0       0       0       0   \n",
       "3       0       0       0       0       0       0       0       0       0   \n",
       "4       0       0       0       0       0       0       0       0       0   \n",
       "\n",
       "   pixel9    ...     pixel774  pixel775  pixel776  pixel777  pixel778  \\\n",
       "0       0    ...            0         0         0         0         0   \n",
       "1       0    ...            0         0         0         0         0   \n",
       "2       0    ...            0         0         0         0         0   \n",
       "3       0    ...            0         0         0         0         0   \n",
       "4       0    ...            0         0         0         0         0   \n",
       "\n",
       "   pixel779  pixel780  pixel781  pixel782  pixel783  \n",
       "0         0         0         0         0         0  \n",
       "1         0         0         0         0         0  \n",
       "2         0         0         0         0         0  \n",
       "3         0         0         0         0         0  \n",
       "4         0         0         0         0         0  \n",
       "\n",
       "[5 rows x 784 columns]"
      ]
     },
     "execution_count": 21,
     "metadata": {},
     "output_type": "execute_result"
    }
   ],
   "source": [
    "labels = train.label\n",
    "train = train.drop('label', axis=1)\n",
    "feats = train.as_matrix()\n",
    "train.head()"
   ]
  },
  {
   "cell_type": "code",
   "execution_count": 22,
   "metadata": {
    "collapsed": false
   },
   "outputs": [],
   "source": [
    "# nice viz with tsne\n",
    "from sklearn.manifold import TSNE\n",
    "\n",
    "tsne = TSNE(n_components=2, random_state=0)\n",
    "choose = np.random.choice(np.arange(len(train.as_matrix())), 100, replace=False)\n",
    "a = tsne.fit_transform(train.as_matrix()[choose])"
   ]
  },
  {
   "cell_type": "code",
   "execution_count": 23,
   "metadata": {
    "collapsed": false
   },
   "outputs": [
    {
     "data": {
      "text/plain": [
       "<matplotlib.text.Text at 0x17e399160>"
      ]
     },
     "execution_count": 23,
     "metadata": {},
     "output_type": "execute_result"
    },
    {
     "data": {
      "image/png": "[encoded data removed]",
      "text/plain": [
       "<matplotlib.figure.Figure at 0x17e3a5ef0>"
      ]
     },
     "metadata": {},
     "output_type": "display_data"
    }
   ],
   "source": [
    "fig = plt.figure()\n",
    "ax = fig.add_subplot(111)\n",
    "ax.scatter(a[:,0], a[:,1], c = labels[choose] ,cmap=plt.cm.prism)\n",
    "ax.set_xlabel(\"tsne dim 1\")\n",
    "ax.set_ylabel(\"tsne dim 2\")"
   ]
  },
  {
   "cell_type": "code",
   "execution_count": 13,
   "metadata": {
    "collapsed": false
   },
   "outputs": [
    {
     "data": {
      "text/plain": [
       "array([[ 0.,  1.,  0., ...,  0.,  0.,  0.],\n",
       "       [ 1.,  0.,  0., ...,  0.,  0.,  0.],\n",
       "       [ 0.,  1.,  0., ...,  0.,  0.,  0.],\n",
       "       ..., \n",
       "       [ 0.,  0.,  0., ...,  1.,  0.,  0.],\n",
       "       [ 0.,  0.,  0., ...,  0.,  0.,  0.],\n",
       "       [ 0.,  0.,  0., ...,  0.,  0.,  1.]])"
      ]
     },
     "execution_count": 13,
     "metadata": {},
     "output_type": "execute_result"
    }
   ],
   "source": [
    "# one hot encode labels\n",
    "labels = pd.get_dummies(labels).values\n",
    "labels"
   ]
  },
  {
   "cell_type": "code",
   "execution_count": 6,
   "metadata": {
    "collapsed": true
   },
   "outputs": [],
   "source": [
    "sess = tf.InteractiveSession() #allows you to evaluate parts of the graph before building the whole thing up"
   ]
  },
  {
   "cell_type": "code",
   "execution_count": 7,
   "metadata": {
    "collapsed": true
   },
   "outputs": [],
   "source": [
    "#inputs to the graph\n",
    "x = tf.placeholder(tf.float32, shape=[None, 784]) #trainning feats\n",
    "y_ = tf.placeholder(tf.float32, shape=[None, 10]) #trainning labels"
   ]
  },
  {
   "cell_type": "code",
   "execution_count": 8,
   "metadata": {
    "collapsed": true
   },
   "outputs": [],
   "source": [
    "#weighst and bias for each pixel\n",
    "W = tf.Variable(tf.zeros([784,10]))\n",
    "b = tf.Variable(tf.zeros([10]))"
   ]
  },
  {
   "cell_type": "code",
   "execution_count": 9,
   "metadata": {
    "collapsed": false
   },
   "outputs": [],
   "source": [
    "sess.run(tf.global_variables_initializer())\n",
    "y = tf.matmul(x, W)+b #prediction rule"
   ]
  },
  {
   "cell_type": "code",
   "execution_count": 9,
   "metadata": {
    "collapsed": true
   },
   "outputs": [],
   "source": [
    "#loss function\n",
    "cross_entropy = tf.reduce_mean(\n",
    "    tf.nn.softmax_cross_entropy_with_logits(labels=y_, logits=y))"
   ]
  },
  {
   "cell_type": "code",
   "execution_count": 10,
   "metadata": {
    "collapsed": true
   },
   "outputs": [],
   "source": [
    "#uses Gradient descent w a learning rate of 0.5 to update W and b based on the value of the loss function\n",
    "train_step = tf.train.GradientDescentOptimizer(0.5).minimize(cross_entropy)"
   ]
  },
  {
   "cell_type": "code",
   "execution_count": 11,
   "metadata": {
    "collapsed": true
   },
   "outputs": [],
   "source": [
    "#run stochastic gradientbdescent \n",
    "for _ in range(1000):\n",
    "  batch = np.random.randint(0, len(feats), 100)\n",
    "  train_step.run(feed_dict={x: feats[batch], y_: labels[batch]})"
   ]
  },
  {
   "cell_type": "code",
   "execution_count": 12,
   "metadata": {
    "collapsed": true
   },
   "outputs": [],
   "source": [
    "#argmax will undo the one hot encoding\n",
    "correct_prediction = tf.equal(tf.argmax(y,1), tf.argmax(y_,1))"
   ]
  },
  {
   "cell_type": "code",
   "execution_count": 13,
   "metadata": {
    "collapsed": false
   },
   "outputs": [],
   "source": [
    "accuracy = tf.reduce_mean(tf.cast(correct_prediction, tf.float32))"
   ]
  },
  {
   "cell_type": "code",
   "execution_count": 14,
   "metadata": {
    "collapsed": false
   },
   "outputs": [
    {
     "name": "stdout",
     "output_type": "stream",
     "text": [
      "0.895143\n"
     ]
    }
   ],
   "source": [
    "print(accuracy.eval(feed_dict={x: feats, y_: labels}))"
   ]
  },
  {
   "cell_type": "markdown",
   "metadata": {},
   "source": [
    "## Feedforward NN"
   ]
  },
  {
   "cell_type": "code",
   "execution_count": 15,
   "metadata": {
    "collapsed": true
   },
   "outputs": [],
   "source": [
    "sess = tf.InteractiveSession()\n",
    "sess.run(tf.global_variables_initializer())"
   ]
  },
  {
   "cell_type": "code",
   "execution_count": 16,
   "metadata": {
    "collapsed": false
   },
   "outputs": [],
   "source": [
    "learning_rate = 0.001\n",
    "training_epochs = 150 #how many iterations over your data\n",
    "batch_size = 200\n",
    "display_step = 1"
   ]
  },
  {
   "cell_type": "code",
   "execution_count": 17,
   "metadata": {
    "collapsed": true
   },
   "outputs": [],
   "source": [
    "n_hidden_1 = 256 # 1st layer number of features\n",
    "n_hidden_2 = 256 # 2nd layer number of features\n",
    "n_input = 784 # MNIST data input (img shape: 28*28)\n",
    "n_classes = 10 # MNIST total classes (0-9 digits)\n",
    "\n",
    "# tf Graph input\n",
    "x = tf.placeholder(\"float\", [None, n_input])\n",
    "y = tf.placeholder(\"float\", [None, n_classes])"
   ]
  },
  {
   "cell_type": "code",
   "execution_count": 18,
   "metadata": {
    "collapsed": false
   },
   "outputs": [],
   "source": [
    "def mlp(x, weights, biases):\n",
    "    \"\"\"\n",
    "    x: placeholder that takes in the input data\n",
    "    weights: dictionary of variable weights {'11':__tensor__, 'l2':__tensor__}\n",
    "    biases: dictionary of variable biases {'11':__tensor__, 'l2':__tensor__}\n",
    "    Note that everything is fully connected.\n",
    "    x is a matrix of dimension [42000, 784]\n",
    "    weight is a matrix of dimension [nodes_in_prev_layer, nodes_in_next_layer]\n",
    "    e.g. if there was no hidden layer, that would give [784, 10] \n",
    "    \"\"\"\n",
    "    #Activations for hidden layer 1(ReLu)\n",
    "    x1 = tf.add(tf.matmul(x, weights['l1']), biases['l1'])\n",
    "    x1 = tf.nn.relu(x1)\n",
    "    #Activations for hidden layer 2(ReLu)\n",
    "    x2 = tf.add(tf.matmul(x1, weights['l2']), biases['l2'])\n",
    "    x2 = tf.nn.relu(x2)\n",
    "    #output layer\n",
    "    y_ = tf.matmul(x2, weights['out']) + biases['out']\n",
    "    return y_"
   ]
  },
  {
   "cell_type": "code",
   "execution_count": 19,
   "metadata": {
    "collapsed": false
   },
   "outputs": [],
   "source": [
    "weights = {\n",
    "    'l1': tf.Variable(tf.random_normal([n_input, n_hidden_1])),\n",
    "    'l2': tf.Variable(tf.random_normal([n_hidden_1, n_hidden_2])),\n",
    "    'out': tf.Variable(tf.random_normal([n_hidden_2, n_classes]))\n",
    "}\n",
    "biases = {\n",
    "    'l1': tf.Variable(tf.random_normal([n_hidden_1])),\n",
    "    'l2': tf.Variable(tf.random_normal([n_hidden_2])),\n",
    "    'out': tf.Variable(tf.random_normal([n_classes]))\n",
    "}"
   ]
  },
  {
   "cell_type": "code",
   "execution_count": 20,
   "metadata": {
    "collapsed": false
   },
   "outputs": [],
   "source": [
    "model = mlp(x, weights, biases)\n",
    "cost = tf.reduce_mean(tf.nn.softmax_cross_entropy_with_logits(logits=model, labels=y))\n",
    "train_step = tf.train.AdamOptimizer(learning_rate=learning_rate).minimize(cost)"
   ]
  },
  {
   "cell_type": "code",
   "execution_count": 21,
   "metadata": {
    "collapsed": false
   },
   "outputs": [],
   "source": [
    "# Define loss and optimizer\n",
    "cost = tf.reduce_mean(tf.nn.softmax_cross_entropy_with_logits(logits=model, labels=y))\n",
    "optimizer = tf.train.AdamOptimizer(learning_rate=learning_rate).minimize(cost)\n",
    "\n",
    "# Initializing the variables\n",
    "init = tf.global_variables_initializer()"
   ]
  },
  {
   "cell_type": "code",
   "execution_count": 22,
   "metadata": {
    "collapsed": false,
    "scrolled": true
   },
   "outputs": [
    {
     "name": "stdout",
     "output_type": "stream",
     "text": [
      "Epoch: 0001 cost= 77875.515332031\n",
      "Epoch: 0002 cost= 16877.718622117\n",
      "Epoch: 0003 cost= 10926.551088170\n",
      "Epoch: 0004 cost= 7916.559041922\n",
      "Epoch: 0005 cost= 5908.641657947\n",
      "Epoch: 0006 cost= 4755.957473028\n",
      "Epoch: 0007 cost= 3849.976185535\n",
      "Epoch: 0008 cost= 3131.219756208\n",
      "Epoch: 0009 cost= 2495.652059719\n",
      "Epoch: 0010 cost= 2195.171349298\n",
      "Epoch: 0011 cost= 1726.863815853\n"
     ]
    },
    {
     "ename": "KeyboardInterrupt",
     "evalue": "",
     "output_type": "error",
     "traceback": [
      "\u001b[0;31m---------------------------------------------------------------------------\u001b[0m",
      "\u001b[0;31mKeyboardInterrupt\u001b[0m                         Traceback (most recent call last)",
      "\u001b[0;32m<ipython-input-22-e953d651bcd0>\u001b[0m in \u001b[0;36m<module>\u001b[0;34m()\u001b[0m\n\u001b[1;32m     10\u001b[0m             \u001b[0;31m# Run optimization op (backprop) and cost op (to get loss value)\u001b[0m\u001b[0;34m\u001b[0m\u001b[0;34m\u001b[0m\u001b[0m\n\u001b[1;32m     11\u001b[0m             _, c = sess.run([optimizer, cost], feed_dict={x: batch_x,\n\u001b[0;32m---> 12\u001b[0;31m                                                           y: batch_y})\n\u001b[0m\u001b[1;32m     13\u001b[0m             \u001b[0;31m# Compute average loss\u001b[0m\u001b[0;34m\u001b[0m\u001b[0;34m\u001b[0m\u001b[0m\n\u001b[1;32m     14\u001b[0m             \u001b[0mavg_cost\u001b[0m \u001b[0;34m+=\u001b[0m \u001b[0mc\u001b[0m \u001b[0;34m/\u001b[0m \u001b[0mtotal_batch\u001b[0m\u001b[0;34m\u001b[0m\u001b[0m\n",
      "\u001b[0;32m/Users/Vasilis/anaconda3/lib/python3.5/site-packages/tensorflow/python/client/session.py\u001b[0m in \u001b[0;36mrun\u001b[0;34m(self, fetches, feed_dict, options, run_metadata)\u001b[0m\n\u001b[1;32m    776\u001b[0m     \u001b[0;32mtry\u001b[0m\u001b[0;34m:\u001b[0m\u001b[0;34m\u001b[0m\u001b[0m\n\u001b[1;32m    777\u001b[0m       result = self._run(None, fetches, feed_dict, options_ptr,\n\u001b[0;32m--> 778\u001b[0;31m                          run_metadata_ptr)\n\u001b[0m\u001b[1;32m    779\u001b[0m       \u001b[0;32mif\u001b[0m \u001b[0mrun_metadata\u001b[0m\u001b[0;34m:\u001b[0m\u001b[0;34m\u001b[0m\u001b[0m\n\u001b[1;32m    780\u001b[0m         \u001b[0mproto_data\u001b[0m \u001b[0;34m=\u001b[0m \u001b[0mtf_session\u001b[0m\u001b[0;34m.\u001b[0m\u001b[0mTF_GetBuffer\u001b[0m\u001b[0;34m(\u001b[0m\u001b[0mrun_metadata_ptr\u001b[0m\u001b[0;34m)\u001b[0m\u001b[0;34m\u001b[0m\u001b[0m\n",
      "\u001b[0;32m/Users/Vasilis/anaconda3/lib/python3.5/site-packages/tensorflow/python/client/session.py\u001b[0m in \u001b[0;36m_run\u001b[0;34m(self, handle, fetches, feed_dict, options, run_metadata)\u001b[0m\n\u001b[1;32m    980\u001b[0m     \u001b[0;32mif\u001b[0m \u001b[0mfinal_fetches\u001b[0m \u001b[0;32mor\u001b[0m \u001b[0mfinal_targets\u001b[0m\u001b[0;34m:\u001b[0m\u001b[0;34m\u001b[0m\u001b[0m\n\u001b[1;32m    981\u001b[0m       results = self._do_run(handle, final_targets, final_fetches,\n\u001b[0;32m--> 982\u001b[0;31m                              feed_dict_string, options, run_metadata)\n\u001b[0m\u001b[1;32m    983\u001b[0m     \u001b[0;32melse\u001b[0m\u001b[0;34m:\u001b[0m\u001b[0;34m\u001b[0m\u001b[0m\n\u001b[1;32m    984\u001b[0m       \u001b[0mresults\u001b[0m \u001b[0;34m=\u001b[0m \u001b[0;34m[\u001b[0m\u001b[0;34m]\u001b[0m\u001b[0;34m\u001b[0m\u001b[0m\n",
      "\u001b[0;32m/Users/Vasilis/anaconda3/lib/python3.5/site-packages/tensorflow/python/client/session.py\u001b[0m in \u001b[0;36m_do_run\u001b[0;34m(self, handle, target_list, fetch_list, feed_dict, options, run_metadata)\u001b[0m\n\u001b[1;32m   1030\u001b[0m     \u001b[0;32mif\u001b[0m \u001b[0mhandle\u001b[0m \u001b[0;32mis\u001b[0m \u001b[0;32mNone\u001b[0m\u001b[0;34m:\u001b[0m\u001b[0;34m\u001b[0m\u001b[0m\n\u001b[1;32m   1031\u001b[0m       return self._do_call(_run_fn, self._session, feed_dict, fetch_list,\n\u001b[0;32m-> 1032\u001b[0;31m                            target_list, options, run_metadata)\n\u001b[0m\u001b[1;32m   1033\u001b[0m     \u001b[0;32melse\u001b[0m\u001b[0;34m:\u001b[0m\u001b[0;34m\u001b[0m\u001b[0m\n\u001b[1;32m   1034\u001b[0m       return self._do_call(_prun_fn, self._session, handle, feed_dict,\n",
      "\u001b[0;32m/Users/Vasilis/anaconda3/lib/python3.5/site-packages/tensorflow/python/client/session.py\u001b[0m in \u001b[0;36m_do_call\u001b[0;34m(self, fn, *args)\u001b[0m\n\u001b[1;32m   1037\u001b[0m   \u001b[0;32mdef\u001b[0m \u001b[0m_do_call\u001b[0m\u001b[0;34m(\u001b[0m\u001b[0mself\u001b[0m\u001b[0;34m,\u001b[0m \u001b[0mfn\u001b[0m\u001b[0;34m,\u001b[0m \u001b[0;34m*\u001b[0m\u001b[0margs\u001b[0m\u001b[0;34m)\u001b[0m\u001b[0;34m:\u001b[0m\u001b[0;34m\u001b[0m\u001b[0m\n\u001b[1;32m   1038\u001b[0m     \u001b[0;32mtry\u001b[0m\u001b[0;34m:\u001b[0m\u001b[0;34m\u001b[0m\u001b[0m\n\u001b[0;32m-> 1039\u001b[0;31m       \u001b[0;32mreturn\u001b[0m \u001b[0mfn\u001b[0m\u001b[0;34m(\u001b[0m\u001b[0;34m*\u001b[0m\u001b[0margs\u001b[0m\u001b[0;34m)\u001b[0m\u001b[0;34m\u001b[0m\u001b[0m\n\u001b[0m\u001b[1;32m   1040\u001b[0m     \u001b[0;32mexcept\u001b[0m \u001b[0merrors\u001b[0m\u001b[0;34m.\u001b[0m\u001b[0mOpError\u001b[0m \u001b[0;32mas\u001b[0m \u001b[0me\u001b[0m\u001b[0;34m:\u001b[0m\u001b[0;34m\u001b[0m\u001b[0m\n\u001b[1;32m   1041\u001b[0m       \u001b[0mmessage\u001b[0m \u001b[0;34m=\u001b[0m \u001b[0mcompat\u001b[0m\u001b[0;34m.\u001b[0m\u001b[0mas_text\u001b[0m\u001b[0;34m(\u001b[0m\u001b[0me\u001b[0m\u001b[0;34m.\u001b[0m\u001b[0mmessage\u001b[0m\u001b[0;34m)\u001b[0m\u001b[0;34m\u001b[0m\u001b[0m\n",
      "\u001b[0;32m/Users/Vasilis/anaconda3/lib/python3.5/site-packages/tensorflow/python/client/session.py\u001b[0m in \u001b[0;36m_run_fn\u001b[0;34m(session, feed_dict, fetch_list, target_list, options, run_metadata)\u001b[0m\n\u001b[1;32m   1019\u001b[0m         return tf_session.TF_Run(session, options,\n\u001b[1;32m   1020\u001b[0m                                  \u001b[0mfeed_dict\u001b[0m\u001b[0;34m,\u001b[0m \u001b[0mfetch_list\u001b[0m\u001b[0;34m,\u001b[0m \u001b[0mtarget_list\u001b[0m\u001b[0;34m,\u001b[0m\u001b[0;34m\u001b[0m\u001b[0m\n\u001b[0;32m-> 1021\u001b[0;31m                                  status, run_metadata)\n\u001b[0m\u001b[1;32m   1022\u001b[0m \u001b[0;34m\u001b[0m\u001b[0m\n\u001b[1;32m   1023\u001b[0m     \u001b[0;32mdef\u001b[0m \u001b[0m_prun_fn\u001b[0m\u001b[0;34m(\u001b[0m\u001b[0msession\u001b[0m\u001b[0;34m,\u001b[0m \u001b[0mhandle\u001b[0m\u001b[0;34m,\u001b[0m \u001b[0mfeed_dict\u001b[0m\u001b[0;34m,\u001b[0m \u001b[0mfetch_list\u001b[0m\u001b[0;34m)\u001b[0m\u001b[0;34m:\u001b[0m\u001b[0;34m\u001b[0m\u001b[0m\n",
      "\u001b[0;31mKeyboardInterrupt\u001b[0m: "
     ]
    }
   ],
   "source": [
    "sess.run([init])\n",
    "# Training cycle\n",
    "for epoch in range(training_epochs):\n",
    "        avg_cost = 0.\n",
    "        total_batch = int(len(feats)/batch_size)\n",
    "        # Loop over all batches\n",
    "        for i in range(total_batch):\n",
    "            batch = np.random.randint(0, len(feats), batch_size)\n",
    "            batch_x, batch_y = feats[batch], labels[batch]\n",
    "            # Run optimization op (backprop) and cost op (to get loss value)\n",
    "            _, c = sess.run([optimizer, cost], feed_dict={x: batch_x,\n",
    "                                                          y: batch_y})\n",
    "            # Compute average loss\n",
    "            avg_cost += c / total_batch\n",
    "        # Display logs per epoch step\n",
    "        if epoch % display_step == 0:\n",
    "            print(\"Epoch:\", '%04d' % (epoch+1), \"cost=\", \\\n",
    "                \"{:.9f}\".format(avg_cost))\n",
    "print(\"Optimization Finished!\")\n",
    "\n",
    "# Test model\n",
    "correct_prediction = tf.equal(tf.argmax(model, 1), tf.argmax(y, 1))\n",
    "# Calculate accuracy\n",
    "accuracy = tf.reduce_mean(tf.cast(correct_prediction, \"float\"))\n",
    "print(\"Accuracy:\", accuracy.eval({x: feats, y: labels}))"
   ]
  },
  {
   "cell_type": "code",
   "execution_count": 44,
   "metadata": {
    "collapsed": false
   },
   "outputs": [
    {
     "name": "stdout",
     "output_type": "stream",
     "text": [
      "Accuracy: 0.999381\n"
     ]
    }
   ],
   "source": [
    "# Test model\n",
    "correct_prediction = tf.equal(tf.argmax(model, 1), tf.argmax(y, 1))\n",
    "# Calculate accuracy\n",
    "accuracy = tf.reduce_mean(tf.cast(correct_prediction, \"float\"))\n",
    "print(\"Accuracy:\", accuracy.eval({x: feats, y: labels}))"
   ]
  },
  {
   "cell_type": "code",
   "execution_count": 57,
   "metadata": {
    "collapsed": false
   },
   "outputs": [
    {
     "data": {
      "text/plain": [
       "array([ 0.,  1.,  0.,  0.,  0.,  0.,  0.,  0.,  0.,  0.], dtype=float32)"
      ]
     },
     "execution_count": 57,
     "metadata": {},
     "output_type": "execute_result"
    }
   ],
   "source": [
    "sess.run(tf.nn.softmax(model), feed_dict={x:feats})[0]"
   ]
  },
  {
   "cell_type": "code",
   "execution_count": 68,
   "metadata": {
    "collapsed": false
   },
   "outputs": [],
   "source": [
    "test = pd.read_csv(\"data/test.csv\").as_matrix()"
   ]
  },
  {
   "cell_type": "code",
   "execution_count": 72,
   "metadata": {
    "collapsed": false
   },
   "outputs": [],
   "source": [
    "preds = sess.run([tf.nn.softmax(model)], feed_dict={x:test})[0]"
   ]
  },
  {
   "cell_type": "code",
   "execution_count": 73,
   "metadata": {
    "collapsed": false
   },
   "outputs": [],
   "source": [
    "preds = [np.argmax(i) for i in preds]"
   ]
  },
  {
   "cell_type": "code",
   "execution_count": 82,
   "metadata": {
    "collapsed": false
   },
   "outputs": [],
   "source": [
    "answer = pd.DataFrame.from_dict(data={\"ImageId\":np.arange(1,len(preds)+1), \"Label\":preds}, orient='columns')\n",
    "answer.to_csv(\"predictions/tf1.csv\", index=False)"
   ]
  },
  {
   "cell_type": "markdown",
   "metadata": {},
   "source": [
    "**Checkpoint reached**\n",
    "Got a 96% with a simple 2 layer neural net. It took a lot of trainning admittedly. And it also seems like it is overfitting."
   ]
  },
  {
   "cell_type": "markdown",
   "metadata": {},
   "source": [
    "## Version 2"
   ]
  },
  {
   "cell_type": "code",
   "execution_count": 206,
   "metadata": {
    "collapsed": false
   },
   "outputs": [],
   "source": [
    "input_placeholder = tf.placeholder(shape=(None, 784), dtype=tf.float32) #unknown #of rows but 784 feats we know\n",
    "label_placeholder = tf.placeholder(shape=(None, 10), dtype=tf.float32) #labels are 1-hot encoded"
   ]
  },
  {
   "cell_type": "code",
   "execution_count": 220,
   "metadata": {
    "collapsed": false
   },
   "outputs": [],
   "source": [
    "#Layer 1\n",
    "no_nodes1 = 512\n",
    "weights1 = tf.Variable(initial_value=tf.truncated_normal(shape = (784, no_nodes1), stddev=0.1), dtype=tf.float32)\n",
    "biases1 = tf.Variable(initial_value=tf.zeros(shape = (no_nodes1)), dtype = tf.float32)\n",
    "output1 = tf.add(tf.matmul(input_placeholder, weights1), biases1)\n",
    "output1 = tf.nn.relu(output1)\n",
    "#Layer 2\n",
    "no_nodes2 = 512\n",
    "weights2 = tf.Variable(initial_value=tf.truncated_normal(shape = (no_nodes1, no_nodes2), stddev=0.1), dtype=tf.float32)\n",
    "biases2 = tf.Variable(initial_value=tf.zeros(shape = (no_nodes2)), dtype = tf.float32)\n",
    "output2 = tf.add(tf.matmul(output1, weights2), biases2)\n",
    "output2 = tf.nn.relu(output2)\n",
    "#Layer 3\n",
    "no_nodes3 = 512\n",
    "weights3 = tf.Variable(initial_value=tf.truncated_normal(shape = (no_nodes2, no_nodes3), stddev=0.1), dtype=tf.float32)\n",
    "biases3 = tf.Variable(initial_value=tf.zeros(shape = (no_nodes3)), dtype = tf.float32)\n",
    "output3 = tf.add(tf.matmul(output2, weights3), biases3)\n",
    "output3 = tf.nn.relu(output3)\n",
    "# Output Layer\n",
    "no_classes = 10\n",
    "weights_out = tf.Variable(initial_value=tf.truncated_normal(shape = (no_nodes3, no_classes), stddev=0.1), dtype=tf.float32)\n",
    "biases_out = tf.Variable(initial_value=tf.zeros(shape = (no_classes)), dtype = tf.float32)\n",
    "model = tf.add(tf.matmul(output3, weights_out), biases_out)"
   ]
  },
  {
   "cell_type": "code",
   "execution_count": 221,
   "metadata": {
    "collapsed": false
   },
   "outputs": [],
   "source": [
    "cost = tf.reduce_mean(tf.nn.softmax_cross_entropy_with_logits(logits=model, labels=label_placeholder))\n",
    "optimizer = tf.train.AdamOptimizer(learning_rate=0.001).minimize(cost)"
   ]
  },
  {
   "cell_type": "code",
   "execution_count": 222,
   "metadata": {
    "collapsed": false,
    "scrolled": true
   },
   "outputs": [
    {
     "name": "stdout",
     "output_type": "stream",
     "text": [
      "# Epoch:0\n",
      "Loss:557.4600219726562\n",
      "Accuracy:0.30414285714285716\n",
      "# Epoch:1\n",
      "Loss:512.1281127929688\n",
      "Accuracy:0.38902380952380955\n",
      "# Epoch:2\n",
      "Loss:513.7936401367188\n",
      "Accuracy:0.5144285714285715\n",
      "# Epoch:3\n",
      "Loss:318.0520324707031\n",
      "Accuracy:0.6136428571428572\n",
      "# Epoch:4\n",
      "Loss:220.8585205078125\n",
      "Accuracy:0.6518571428571428\n",
      "# Epoch:5\n",
      "Loss:171.615966796875\n",
      "Accuracy:0.6749285714285714\n",
      "# Epoch:6\n",
      "Loss:124.03250885009766\n",
      "Accuracy:0.717452380952381\n",
      "# Epoch:7\n",
      "Loss:86.75979614257812\n",
      "Accuracy:0.6746190476190477\n",
      "# Epoch:8\n",
      "Loss:100.25664520263672\n",
      "Accuracy:0.6842142857142857\n",
      "# Epoch:9\n",
      "Loss:97.19975280761719\n",
      "Accuracy:0.7672857142857142\n",
      "# Epoch:10\n",
      "Loss:60.437416076660156\n",
      "Accuracy:0.8086904761904762\n",
      "# Epoch:11\n",
      "Loss:46.20412063598633\n",
      "Accuracy:0.8172857142857143\n",
      "# Epoch:12\n",
      "Loss:45.48539733886719\n",
      "Accuracy:0.8234523809523809\n",
      "# Epoch:13\n",
      "Loss:45.10470199584961\n",
      "Accuracy:0.8276428571428571\n",
      "# Epoch:14\n",
      "Loss:45.61818313598633\n",
      "Accuracy:0.8277142857142857\n",
      "# Epoch:15\n",
      "Loss:46.94857406616211\n",
      "Accuracy:0.8296190476190476\n",
      "# Epoch:16\n",
      "Loss:45.57889175415039\n",
      "Accuracy:0.8388095238095238\n",
      "# Epoch:17\n",
      "Loss:41.07725143432617\n",
      "Accuracy:0.8506428571428571\n",
      "# Epoch:18\n",
      "Loss:35.69376754760742\n",
      "Accuracy:0.8615238095238095\n",
      "# Epoch:19\n",
      "Loss:30.754398345947266\n",
      "Accuracy:0.8734047619047619\n",
      "# Epoch:20\n",
      "Loss:26.568696975708008\n",
      "Accuracy:0.8829523809523809\n",
      "# Epoch:21\n",
      "Loss:23.297006607055664\n",
      "Accuracy:0.8911190476190476\n",
      "# Epoch:22\n",
      "Loss:21.00116729736328\n",
      "Accuracy:0.894095238095238\n",
      "# Epoch:23\n",
      "Loss:19.72532081604004\n",
      "Accuracy:0.8948333333333334\n",
      "# Epoch:24\n",
      "Loss:19.211368560791016\n",
      "Accuracy:0.8932857142857142\n",
      "# Epoch:25\n",
      "Loss:19.185710906982422\n",
      "Accuracy:0.8914285714285715\n",
      "# Epoch:26\n",
      "Loss:19.13376808166504\n",
      "Accuracy:0.8896666666666667\n",
      "# Epoch:27\n",
      "Loss:18.709131240844727\n",
      "Accuracy:0.8913809523809524\n",
      "# Epoch:28\n",
      "Loss:17.81429672241211\n",
      "Accuracy:0.8968095238095238\n",
      "# Epoch:29\n",
      "Loss:16.58430290222168\n",
      "Accuracy:0.9024047619047619\n",
      "# Epoch:30\n",
      "Loss:15.21441650390625\n",
      "Accuracy:0.907952380952381\n",
      "# Epoch:31\n",
      "Loss:13.872148513793945\n",
      "Accuracy:0.9130714285714285\n",
      "# Epoch:32\n",
      "Loss:12.698123931884766\n",
      "Accuracy:0.9176666666666666\n",
      "# Epoch:33\n",
      "Loss:11.775958061218262\n",
      "Accuracy:0.9211904761904762\n",
      "# Epoch:34\n",
      "Loss:11.118204116821289\n",
      "Accuracy:0.9225\n",
      "# Epoch:35\n",
      "Loss:10.680349349975586\n",
      "Accuracy:0.9227619047619048\n",
      "# Epoch:36\n",
      "Loss:10.383986473083496\n",
      "Accuracy:0.9232142857142858\n",
      "# Epoch:37\n",
      "Loss:10.153421401977539\n",
      "Accuracy:0.9239761904761905\n",
      "# Epoch:38\n",
      "Loss:9.911934852600098\n",
      "Accuracy:0.9252380952380952\n",
      "# Epoch:39\n",
      "Loss:9.62391185760498\n",
      "Accuracy:0.9266190476190476\n",
      "# Epoch:40\n",
      "Loss:9.282195091247559\n",
      "Accuracy:0.9281666666666667\n",
      "# Epoch:41\n",
      "Loss:8.910326957702637\n",
      "Accuracy:0.9296190476190476\n",
      "# Epoch:42\n",
      "Loss:8.528608322143555\n",
      "Accuracy:0.9312857142857143\n",
      "# Epoch:43\n",
      "Loss:8.146357536315918\n",
      "Accuracy:0.9331666666666667\n",
      "# Epoch:44\n",
      "Loss:7.765531063079834\n",
      "Accuracy:0.9347857142857143\n",
      "# Epoch:45\n",
      "Loss:7.398868083953857\n",
      "Accuracy:0.9362857142857143\n",
      "# Epoch:46\n",
      "Loss:7.058001518249512\n",
      "Accuracy:0.9372142857142857\n",
      "# Epoch:47\n",
      "Loss:6.747412204742432\n",
      "Accuracy:0.9387857142857143\n",
      "# Epoch:48\n",
      "Loss:6.46890926361084\n",
      "Accuracy:0.9397857142857143\n",
      "# Epoch:49\n",
      "Loss:6.2281813621521\n",
      "Accuracy:0.9407380952380953\n",
      "# Epoch:50\n",
      "Loss:6.023552417755127\n",
      "Accuracy:0.9414047619047619\n",
      "# Epoch:51\n",
      "Loss:5.845386981964111\n",
      "Accuracy:0.9419285714285714\n",
      "# Epoch:52\n",
      "Loss:5.674497127532959\n",
      "Accuracy:0.9420714285714286\n",
      "# Epoch:53\n",
      "Loss:5.500978469848633\n",
      "Accuracy:0.9429761904761905\n",
      "# Epoch:54\n",
      "Loss:5.3169708251953125\n",
      "Accuracy:0.9442857142857143\n",
      "# Epoch:55\n",
      "Loss:5.117862224578857\n",
      "Accuracy:0.9458333333333333\n",
      "# Epoch:56\n",
      "Loss:4.911473274230957\n",
      "Accuracy:0.9473095238095238\n",
      "# Epoch:57\n",
      "Loss:4.706958293914795\n",
      "Accuracy:0.948952380952381\n",
      "# Epoch:58\n",
      "Loss:4.516191005706787\n",
      "Accuracy:0.9500714285714286\n",
      "# Epoch:59\n",
      "Loss:4.3424153327941895\n",
      "Accuracy:0.9511190476190476\n",
      "# Epoch:60\n",
      "Loss:4.186092376708984\n",
      "Accuracy:0.9524523809523809\n",
      "# Epoch:61\n",
      "Loss:4.046447277069092\n",
      "Accuracy:0.9533571428571429\n",
      "# Epoch:62\n",
      "Loss:3.9150822162628174\n",
      "Accuracy:0.9541190476190476\n",
      "# Epoch:63\n",
      "Loss:3.7859482765197754\n",
      "Accuracy:0.9548333333333333\n",
      "# Epoch:64\n",
      "Loss:3.6567227840423584\n",
      "Accuracy:0.9558333333333333\n",
      "# Epoch:65\n",
      "Loss:3.525517463684082\n",
      "Accuracy:0.9573809523809523\n",
      "# Epoch:66\n",
      "Loss:3.397616147994995\n",
      "Accuracy:0.9584761904761905\n",
      "# Epoch:67\n",
      "Loss:3.273787260055542\n",
      "Accuracy:0.9598571428571429\n",
      "# Epoch:68\n",
      "Loss:3.1560401916503906\n",
      "Accuracy:0.9608809523809524\n",
      "# Epoch:69\n",
      "Loss:3.045248031616211\n",
      "Accuracy:0.9618095238095238\n",
      "# Epoch:70\n",
      "Loss:2.939149856567383\n",
      "Accuracy:0.9623809523809523\n",
      "# Epoch:71\n",
      "Loss:2.8352551460266113\n",
      "Accuracy:0.9637619047619047\n",
      "# Epoch:72\n",
      "Loss:2.733046054840088\n",
      "Accuracy:0.9648571428571429\n",
      "# Epoch:73\n",
      "Loss:2.6340627670288086\n",
      "Accuracy:0.9656666666666667\n",
      "# Epoch:74\n",
      "Loss:2.539470911026001\n",
      "Accuracy:0.9667619047619047\n",
      "# Epoch:75\n",
      "Loss:2.4485387802124023\n",
      "Accuracy:0.9683809523809523\n",
      "# Epoch:76\n",
      "Loss:2.360013723373413\n",
      "Accuracy:0.969452380952381\n",
      "# Epoch:77\n",
      "Loss:2.2741026878356934\n",
      "Accuracy:0.9703333333333334\n",
      "# Epoch:78\n",
      "Loss:2.1915650367736816\n",
      "Accuracy:0.9709285714285715\n",
      "# Epoch:79\n",
      "Loss:2.1123557090759277\n",
      "Accuracy:0.9716904761904762\n",
      "# Epoch:80\n",
      "Loss:2.0355494022369385\n",
      "Accuracy:0.9724285714285714\n",
      "# Epoch:81\n",
      "Loss:1.9599049091339111\n",
      "Accuracy:0.9730714285714286\n",
      "# Epoch:82\n",
      "Loss:1.886683464050293\n",
      "Accuracy:0.9737619047619047\n",
      "# Epoch:83\n",
      "Loss:1.8168092966079712\n",
      "Accuracy:0.9740238095238095\n",
      "# Epoch:84\n",
      "Loss:1.7494791746139526\n",
      "Accuracy:0.9749285714285715\n",
      "# Epoch:85\n",
      "Loss:1.6836820840835571\n",
      "Accuracy:0.9759047619047619\n",
      "# Epoch:86\n",
      "Loss:1.6198824644088745\n",
      "Accuracy:0.9766904761904762\n",
      "# Epoch:87\n",
      "Loss:1.5586761236190796\n",
      "Accuracy:0.9771190476190477\n",
      "# Epoch:88\n",
      "Loss:1.500345230102539\n",
      "Accuracy:0.9780238095238095\n",
      "# Epoch:89\n",
      "Loss:1.4445109367370605\n",
      "Accuracy:0.9787380952380952\n",
      "# Epoch:90\n",
      "Loss:1.390947699546814\n",
      "Accuracy:0.9793333333333333\n",
      "# Epoch:91\n",
      "Loss:1.3384698629379272\n",
      "Accuracy:0.9799523809523809\n",
      "# Epoch:92\n",
      "Loss:1.2878077030181885\n",
      "Accuracy:0.9809523809523809\n",
      "# Epoch:93\n",
      "Loss:1.2391339540481567\n",
      "Accuracy:0.9812142857142857\n",
      "# Epoch:94\n",
      "Loss:1.1921921968460083\n",
      "Accuracy:0.981452380952381\n",
      "# Epoch:95\n",
      "Loss:1.1465779542922974\n",
      "Accuracy:0.9821904761904762\n",
      "# Epoch:96\n",
      "Loss:1.1027413606643677\n",
      "Accuracy:0.9825952380952381\n",
      "# Epoch:97\n",
      "Loss:1.0605665445327759\n",
      "Accuracy:0.9829761904761904\n",
      "# Epoch:98\n",
      "Loss:1.0192444324493408\n",
      "Accuracy:0.9836190476190476\n",
      "# Epoch:99\n",
      "Loss:0.9792269468307495\n",
      "Accuracy:0.9839285714285714\n",
      "# Epoch:100\n",
      "Loss:0.941154956817627\n",
      "Accuracy:0.9844047619047619\n",
      "# Epoch:101\n",
      "Loss:0.9042278528213501\n",
      "Accuracy:0.9847380952380952\n",
      "# Epoch:102\n",
      "Loss:0.8681439757347107\n",
      "Accuracy:0.9852619047619048\n",
      "# Epoch:103\n",
      "Loss:0.8332489728927612\n",
      "Accuracy:0.9857380952380952\n",
      "# Epoch:104\n",
      "Loss:0.799541175365448\n",
      "Accuracy:0.9864285714285714\n",
      "# Epoch:105\n",
      "Loss:0.7672306299209595\n",
      "Accuracy:0.9868571428571429\n",
      "# Epoch:106\n",
      "Loss:0.7360000014305115\n",
      "Accuracy:0.9876666666666667\n",
      "# Epoch:107\n",
      "Loss:0.7060407400131226\n",
      "Accuracy:0.987904761904762\n",
      "# Epoch:108\n",
      "Loss:0.6772891283035278\n",
      "Accuracy:0.988547619047619\n",
      "# Epoch:109\n",
      "Loss:0.6495082378387451\n",
      "Accuracy:0.9889285714285714\n",
      "# Epoch:110\n",
      "Loss:0.6228957772254944\n",
      "Accuracy:0.9891428571428571\n",
      "# Epoch:111\n",
      "Loss:0.5972420573234558\n",
      "Accuracy:0.9897142857142858\n",
      "# Epoch:112\n",
      "Loss:0.5723609328269958\n",
      "Accuracy:0.9897619047619047\n",
      "# Epoch:113\n",
      "Loss:0.5481269359588623\n",
      "Accuracy:0.990547619047619\n",
      "# Epoch:114\n",
      "Loss:0.5251027941703796\n",
      "Accuracy:0.9906428571428572\n",
      "# Epoch:115\n",
      "Loss:0.503216564655304\n",
      "Accuracy:0.9912142857142857\n",
      "# Epoch:116\n",
      "Loss:0.482364296913147\n",
      "Accuracy:0.991452380952381\n",
      "# Epoch:117\n",
      "Loss:0.4625173807144165\n",
      "Accuracy:0.9920476190476191\n",
      "# Epoch:118\n",
      "Loss:0.4437628388404846\n",
      "Accuracy:0.9921190476190476\n",
      "# Epoch:119\n",
      "Loss:0.4259503483772278\n",
      "Accuracy:0.9922857142857143\n",
      "# Epoch:120\n",
      "Loss:0.4087859094142914\n",
      "Accuracy:0.9927380952380952\n",
      "# Epoch:121\n",
      "Loss:0.39228230714797974\n",
      "Accuracy:0.9931428571428571\n",
      "# Epoch:122\n",
      "Loss:0.37666067481040955\n",
      "Accuracy:0.9935\n",
      "# Epoch:123\n",
      "Loss:0.3619488477706909\n",
      "Accuracy:0.9938333333333333\n",
      "# Epoch:124\n",
      "Loss:0.34785231947898865\n",
      "Accuracy:0.9940714285714286\n",
      "# Epoch:125\n",
      "Loss:0.33424878120422363\n",
      "Accuracy:0.9941904761904762\n",
      "# Epoch:126\n",
      "Loss:0.32112035155296326\n",
      "Accuracy:0.9944047619047619\n",
      "# Epoch:127\n",
      "Loss:0.3084734082221985\n",
      "Accuracy:0.9946190476190476\n",
      "# Epoch:128\n",
      "Loss:0.2961066663265228\n",
      "Accuracy:0.9950238095238095\n",
      "# Epoch:129\n",
      "Loss:0.2838425934314728\n",
      "Accuracy:0.9953333333333333\n",
      "# Epoch:130\n",
      "Loss:0.2718103229999542\n",
      "Accuracy:0.9953333333333333\n",
      "# Epoch:131\n",
      "Loss:0.26021143794059753\n",
      "Accuracy:0.9954285714285714\n",
      "# Epoch:132\n",
      "Loss:0.24930903315544128\n",
      "Accuracy:0.9956666666666667\n",
      "# Epoch:133\n",
      "Loss:0.23901762068271637\n",
      "Accuracy:0.9956190476190476\n",
      "# Epoch:134\n",
      "Loss:0.22923484444618225\n",
      "Accuracy:0.9956428571428572\n",
      "# Epoch:135\n",
      "Loss:0.21982194483280182\n",
      "Accuracy:0.9959285714285714\n",
      "# Epoch:136\n",
      "Loss:0.21074974536895752\n",
      "Accuracy:0.9962619047619048\n",
      "# Epoch:137\n",
      "Loss:0.20206907391548157\n",
      "Accuracy:0.996547619047619\n",
      "# Epoch:138\n",
      "Loss:0.19374310970306396\n",
      "Accuracy:0.9967619047619047\n",
      "# Epoch:139\n",
      "Loss:0.18578600883483887\n",
      "Accuracy:0.9970476190476191\n",
      "# Epoch:140\n",
      "Loss:0.1781546026468277\n",
      "Accuracy:0.9971904761904762\n",
      "# Epoch:141\n",
      "Loss:0.17093250155448914\n",
      "Accuracy:0.9973571428571428\n",
      "# Epoch:142\n",
      "Loss:0.1640460193157196\n",
      "Accuracy:0.9974047619047619\n",
      "# Epoch:143\n",
      "Loss:0.15748590230941772\n",
      "Accuracy:0.9973809523809524\n",
      "# Epoch:144\n",
      "Loss:0.1510530263185501\n",
      "Accuracy:0.9974285714285714\n",
      "# Epoch:145\n",
      "Loss:0.1447049379348755\n",
      "Accuracy:0.997547619047619\n",
      "# Epoch:146\n",
      "Loss:0.13850873708724976\n",
      "Accuracy:0.9976428571428572\n",
      "# Epoch:147\n",
      "Loss:0.1324973851442337\n",
      "Accuracy:0.9977857142857143\n",
      "# Epoch:148\n",
      "Loss:0.12671223282814026\n",
      "Accuracy:0.9979047619047619\n",
      "# Epoch:149\n",
      "Loss:0.12126467376947403\n",
      "Accuracy:0.998\n"
     ]
    }
   ],
   "source": [
    "nepochs = 150\n",
    "init = tf.global_variables_initializer()\n",
    "sess.run(init)\n",
    "for i in range(nepochs):\n",
    "    _, c =  sess.run([optimizer, cost], feed_dict={input_placeholder:feats, label_placeholder:labels})\n",
    "    print(\"# Epoch:{}\".format(i))\n",
    "    print(\"Loss:{}\".format(c))\n",
    "    print(\"Accuracy:{}\".format(sum(sess.run([tf.argmax(model,1)], feed_dict={input_placeholder:feats})[0] == np.array([np.argmax(i) for i in labels]))\\\n",
    "/len(labels)))"
   ]
  },
  {
   "cell_type": "code",
   "execution_count": 226,
   "metadata": {
    "collapsed": false
   },
   "outputs": [],
   "source": [
    "preds = sess.run([tf.nn.softmax(model)], feed_dict={input_placeholder:test})[0]\n",
    "preds = [np.argmax(i) for i in preds]\n",
    "answer = pd.DataFrame.from_dict(data={\"ImageId\":np.arange(1,len(preds)+1), \"Label\":preds}, orient='columns')\n",
    "answer.to_csv(\"predictions/tf2.csv\", index=False)"
   ]
  },
  {
   "cell_type": "markdown",
   "metadata": {},
   "source": [
    "Checkpoint, overfits like crazy. Version 1 was more successful. Next I should try a CNN with cleverhans"
   ]
  },
  {
   "cell_type": "markdown",
   "metadata": {},
   "source": [
    "## Version 3\n",
    "\n",
    "It's time for a CNN to do the work with Keras."
   ]
  },
  {
   "cell_type": "code",
   "execution_count": 14,
   "metadata": {
    "collapsed": false
   },
   "outputs": [
    {
     "name": "stderr",
     "output_type": "stream",
     "text": [
      "Using TensorFlow backend.\n"
     ]
    }
   ],
   "source": [
    "import keras\n",
    "from keras.datasets import cifar10\n",
    "from keras.preprocessing.image import ImageDataGenerator\n",
    "from keras.models import Sequential\n",
    "from keras.layers import Dense, Dropout, Activation, Flatten\n",
    "from keras.optimizers import Adam\n",
    "from keras.layers import Conv2D, MaxPool2D, BatchNormalization"
   ]
  },
  {
   "cell_type": "code",
   "execution_count": 15,
   "metadata": {
    "collapsed": true
   },
   "outputs": [],
   "source": [
    "batch_size = 32\n",
    "num_classes = 10\n",
    "epochs = 15\n",
    "data_augmentation = True"
   ]
  },
  {
   "cell_type": "code",
   "execution_count": 16,
   "metadata": {
    "collapsed": true
   },
   "outputs": [],
   "source": [
    "x_train = feats.reshape([42000, 28, 28])"
   ]
  },
  {
   "cell_type": "code",
   "execution_count": 17,
   "metadata": {
    "collapsed": false
   },
   "outputs": [],
   "source": [
    "model = Sequential()\n",
    "\n",
    "# add a convolutional layer\n",
    "#using 16 filters/kernels that add quite a bit of depth to the system\n",
    "# relu activation to avoid saturation\n",
    "\n",
    "model.add(Conv2D(filters=16,kernel_size=(3,3),activation='relu',input_shape=(28,28,1)))\n",
    "\n",
    "# add a normalization layer\n",
    "model.add(BatchNormalization())\n",
    "\n",
    "# add a convolutional layer\n",
    "                                                        \n",
    "model.add(Conv2D(filters=16,kernel_size=(3,3),activation='relu'))\n",
    "\n",
    "# add a pooling layer\n",
    "# keeping the maximum of 4 by 4 windows \n",
    "model.add(MaxPool2D(strides=(2,2)))\n",
    "\n",
    "# add a normalization layer\n",
    "model.add(BatchNormalization())\n",
    "\n",
    "# add a dropout layer, mostly used for regularization here\n",
    "model.add(Dropout(0.25))\n",
    "\n",
    "\n",
    "# add a convolutional layer\n",
    "model.add(Conv2D(filters=32,kernel_size=(3,3),activation='relu'))\n",
    "\n",
    "# add a normalization layer\n",
    "model.add(BatchNormalization())\n",
    "\n",
    "# add a convolutional layer\n",
    "model.add(Conv2D(filters=32,kernel_size=(3,3),activation='relu'))\n",
    "\n",
    "# add a pooling layer\n",
    "model.add(MaxPool2D(strides=(2,2))) #reduces size of input volume\n",
    "\n",
    "# add a normalization layer\n",
    "model.add(BatchNormalization())\n",
    "\n",
    "# add a dropout layer\n",
    "model.add(Dropout(0.25)) #regularization\n",
    "\n",
    "# add a flatten layer\n",
    "model.add(Flatten())\n",
    "\n",
    "# add a dense layer (fully connected)\n",
    "model.add(Dense(512,activation='relu'))\n",
    "\n",
    "# add a dropout layer\n",
    "model.add(Dropout(0.25))\n",
    "\n",
    "# add a dense layer (fully connected)\n",
    "model.add(Dense(1024,activation='relu'))\n",
    "\n",
    "# add a dropout layer\n",
    "model.add(Dropout(0.5))\n",
    "\n",
    "# add a dense layer (output layer, 10 categories)\n",
    "model.add(Dense(10,activation='softmax')) #typical softmax layer"
   ]
  },
  {
   "cell_type": "code",
   "execution_count": 42,
   "metadata": {
    "collapsed": false
   },
   "outputs": [],
   "source": [
    "model.compile(loss='categorical_crossentropy',optimizer=Adam(lr=3e-5),metrics=[\"accuracy\"])"
   ]
  },
  {
   "cell_type": "code",
   "execution_count": 43,
   "metadata": {
    "collapsed": false
   },
   "outputs": [
    {
     "name": "stdout",
     "output_type": "stream",
     "text": [
      "Epoch 1/15\n",
      "42000/42000 [==============================] - 167s - loss: 1.0277 - acc: 0.6580   \n",
      "Epoch 2/15\n",
      "42000/42000 [==============================] - 158s - loss: 0.3460 - acc: 0.8905   \n",
      "Epoch 3/15\n",
      "42000/42000 [==============================] - 152s - loss: 0.2269 - acc: 0.9277   \n",
      "Epoch 4/15\n",
      "42000/42000 [==============================] - 184s - loss: 0.1748 - acc: 0.9439   \n",
      "Epoch 5/15\n",
      "42000/42000 [==============================] - 154s - loss: 0.1425 - acc: 0.9535   \n",
      "Epoch 6/15\n",
      "42000/42000 [==============================] - 153s - loss: 0.1235 - acc: 0.9608   \n",
      "Epoch 7/15\n",
      "42000/42000 [==============================] - 173s - loss: 0.1065 - acc: 0.9653   \n",
      "Epoch 8/15\n",
      "42000/42000 [==============================] - 160s - loss: 0.0941 - acc: 0.9693   \n",
      "Epoch 9/15\n",
      "42000/42000 [==============================] - 147s - loss: 0.0874 - acc: 0.9710   \n",
      "Epoch 10/15\n",
      "42000/42000 [==============================] - 173s - loss: 0.0794 - acc: 0.9743   \n",
      "Epoch 11/15\n",
      "42000/42000 [==============================] - 160s - loss: 0.0718 - acc: 0.9773   \n",
      "Epoch 12/15\n",
      "42000/42000 [==============================] - 154s - loss: 0.0660 - acc: 0.9781   \n",
      "Epoch 13/15\n",
      "42000/42000 [==============================] - 154s - loss: 0.0673 - acc: 0.9788   \n",
      "Epoch 14/15\n",
      "42000/42000 [==============================] - 147s - loss: 0.0613 - acc: 0.9800   \n",
      "Epoch 15/15\n",
      "42000/42000 [==============================] - 169s - loss: 0.0576 - acc: 0.9822   \n"
     ]
    },
    {
     "data": {
      "text/plain": [
       "<keras.callbacks.History at 0x12580f6a0>"
      ]
     },
     "execution_count": 43,
     "metadata": {},
     "output_type": "execute_result"
    }
   ],
   "source": [
    "#takes super long to train, defs needs a gpu\n",
    "model.fit(x_train.reshape(42000,28,28,1), labels,\n",
    "              batch_size=batch_size,\n",
    "              epochs=epochs,\n",
    "              shuffle=True)"
   ]
  },
  {
   "cell_type": "code",
   "execution_count": 44,
   "metadata": {
    "collapsed": false
   },
   "outputs": [
    {
     "name": "stdout",
     "output_type": "stream",
     "text": [
      "Saved model to disk\n"
     ]
    }
   ],
   "source": [
    "#save model so that you don't have to train it every time\n",
    "\n",
    "# serialize model to JSON\n",
    "model_json = model.to_json()\n",
    "with open(\"models/cnn.json\", \"w\") as json_file:\n",
    "    json_file.write(model_json)\n",
    "# serialize weights to HDF5\n",
    "model.save_weights(\"models/cnn.h5\")\n",
    "print(\"Saved model to disk\")"
   ]
  },
  {
   "cell_type": "code",
   "execution_count": 310,
   "metadata": {
    "collapsed": false
   },
   "outputs": [
    {
     "name": "stdout",
     "output_type": "stream",
     "text": [
      "27968/28000 [============================>.] - ETA: 0s"
     ]
    }
   ],
   "source": [
    "preds = model.predict_classes(test.reshape(28000, 28,28,1))"
   ]
  },
  {
   "cell_type": "code",
   "execution_count": 312,
   "metadata": {
    "collapsed": false
   },
   "outputs": [],
   "source": [
    "answer = pd.DataFrame.from_dict(data={\"ImageId\":np.arange(1,len(preds)+1), \"Label\":preds}, orient='columns')\n",
    "answer.to_csv(\"predictions/tf3.csv\", index=False)"
   ]
  },
  {
   "cell_type": "markdown",
   "metadata": {},
   "source": [
    "Checkpoint 99% on the leaderboard and #342"
   ]
  },
  {
   "cell_type": "markdown",
   "metadata": {},
   "source": [
    "## Fun experiment: How would a KNN classifier work in this scenario?\n",
    "\n",
    "Define some notion of distance between the images... Impelement!\n",
    "\n",
    "Manhattan, L1 distance!\n",
    "\n",
    "Define the Manhattan distance as follows: Subtract the values of corresponding pixels from images. Add the absolute differences."
   ]
  },
  {
   "cell_type": "code",
   "execution_count": 374,
   "metadata": {
    "collapsed": false
   },
   "outputs": [],
   "source": [
    "class NearestNeigbhbor:\n",
    "    def __init__(self):\n",
    "        pass\n",
    "    \n",
    "    def train(self, X,y) :\n",
    "        self.X = X\n",
    "        self.y = y\n",
    "    \n",
    "    def predict(self,img):\n",
    "        dist = np.sum(np.abs(img - train.as_matrix()), axis=1) # Manhattan distance\n",
    "        index = np.argmin(dist)\n",
    "        return np.argmax(labels[index])"
   ]
  },
  {
   "cell_type": "code",
   "execution_count": 422,
   "metadata": {
    "collapsed": true
   },
   "outputs": [],
   "source": [
    "class NearestNeigbhbors:\n",
    "    def __init__(self, k):\n",
    "        self.k = k\n",
    "        pass\n",
    "    \n",
    "    def train(self, X, y) :\n",
    "        self.X = X\n",
    "        self.y = y\n",
    "    \n",
    "    def predict(self,img):\n",
    "        dist = np.sum(np.abs(img - train.as_matrix()), axis=1) # Manhattan distance\n",
    "        indices = np.argsort(dist)[:self.k]\n",
    "        #print(indices)\n",
    "        labels = self.y[indices]\n",
    "        #print(labels)\n",
    "        return np.argmax(np.bincount(labels))"
   ]
  },
  {
   "cell_type": "code",
   "execution_count": 423,
   "metadata": {
    "collapsed": false,
    "scrolled": true
   },
   "outputs": [],
   "source": [
    "knn = NearestNeigbhbors(11)\n",
    "knn.train(feats, np.argmax(labels, axis=1))"
   ]
  },
  {
   "cell_type": "code",
   "execution_count": 435,
   "metadata": {
    "collapsed": false
   },
   "outputs": [
    {
     "data": {
      "text/plain": [
       "0.968"
      ]
     },
     "execution_count": 435,
     "metadata": {},
     "output_type": "execute_result"
    }
   ],
   "source": [
    "#slow checkout FLANN for real life implementation\n",
    "correct = 0\n",
    "for i in range(1000):\n",
    "    if knn.predict(feats[i,:])==np.argmax(labels, axis=1)[i]:\n",
    "        correct+=1\n",
    "correct/1000 #surprisingly not terrible but super inefficient"
   ]
  },
  {
   "cell_type": "code",
   "execution_count": 439,
   "metadata": {
    "collapsed": false
   },
   "outputs": [],
   "source": [
    "# just curious to see what KNN would get on the leader board, this will take forever\n",
    "preds = [knn.predict(test[i,:]) for i in range(len(test))]\n",
    "answer = pd.DataFrame.from_dict(data={\"ImageId\":np.arange(1,len(preds)+1), \"Label\":preds}, orient='columns')\n",
    "answer.to_csv(\"predictions/knn_joke.csv\", index=False)"
   ]
  },
  {
   "cell_type": "markdown",
   "metadata": {},
   "source": [
    "## Time for the big guns\n",
    "\n",
    "Use a pretrained VGG net to do the feature extraction and simply adjust the output layers to be suitable for MNIST."
   ]
  },
  {
   "cell_type": "code",
   "execution_count": 18,
   "metadata": {
    "collapsed": false
   },
   "outputs": [],
   "source": [
    "from keras.applications.vgg16 import VGG16\n",
    "from keras.preprocessing import image\n",
    "from keras.applications.vgg16 import preprocess_input\n",
    "from keras.layers import Input, Flatten, Dense\n",
    "from keras.models import Model"
   ]
  },
  {
   "cell_type": "code",
   "execution_count": 19,
   "metadata": {
    "collapsed": false
   },
   "outputs": [
    {
     "name": "stdout",
     "output_type": "stream",
     "text": [
      "_________________________________________________________________\n",
      "Layer (type)                 Output Shape              Param #   \n",
      "=================================================================\n",
      "input_1 (InputLayer)         (None, None, None, 3)     0         \n",
      "_________________________________________________________________\n",
      "block1_conv1 (Conv2D)        (None, None, None, 64)    1792      \n",
      "_________________________________________________________________\n",
      "block1_conv2 (Conv2D)        (None, None, None, 64)    36928     \n",
      "_________________________________________________________________\n",
      "block1_pool (MaxPooling2D)   (None, None, None, 64)    0         \n",
      "_________________________________________________________________\n",
      "block2_conv1 (Conv2D)        (None, None, None, 128)   73856     \n",
      "_________________________________________________________________\n",
      "block2_conv2 (Conv2D)        (None, None, None, 128)   147584    \n",
      "_________________________________________________________________\n",
      "block2_pool (MaxPooling2D)   (None, None, None, 128)   0         \n",
      "_________________________________________________________________\n",
      "block3_conv1 (Conv2D)        (None, None, None, 256)   295168    \n",
      "_________________________________________________________________\n",
      "block3_conv2 (Conv2D)        (None, None, None, 256)   590080    \n",
      "_________________________________________________________________\n",
      "block3_conv3 (Conv2D)        (None, None, None, 256)   590080    \n",
      "_________________________________________________________________\n",
      "block3_pool (MaxPooling2D)   (None, None, None, 256)   0         \n",
      "_________________________________________________________________\n",
      "block4_conv1 (Conv2D)        (None, None, None, 512)   1180160   \n",
      "_________________________________________________________________\n",
      "block4_conv2 (Conv2D)        (None, None, None, 512)   2359808   \n",
      "_________________________________________________________________\n",
      "block4_conv3 (Conv2D)        (None, None, None, 512)   2359808   \n",
      "_________________________________________________________________\n",
      "block4_pool (MaxPooling2D)   (None, None, None, 512)   0         \n",
      "_________________________________________________________________\n",
      "block5_conv1 (Conv2D)        (None, None, None, 512)   2359808   \n",
      "_________________________________________________________________\n",
      "block5_conv2 (Conv2D)        (None, None, None, 512)   2359808   \n",
      "_________________________________________________________________\n",
      "block5_conv3 (Conv2D)        (None, None, None, 512)   2359808   \n",
      "_________________________________________________________________\n",
      "block5_pool (MaxPooling2D)   (None, None, None, 512)   0         \n",
      "=================================================================\n",
      "Total params: 14,714,688\n",
      "Trainable params: 14,714,688\n",
      "Non-trainable params: 0\n",
      "_________________________________________________________________\n"
     ]
    }
   ],
   "source": [
    "#download vgg 16\n",
    "model_vgg16_conv = VGG16(weights='imagenet', include_top=False)\n",
    "model_vgg16_conv.summary()"
   ]
  },
  {
   "cell_type": "code",
   "execution_count": 20,
   "metadata": {
    "collapsed": false
   },
   "outputs": [
    {
     "name": "stdout",
     "output_type": "stream",
     "text": [
      "Total number of layers: 19.\n"
     ]
    }
   ],
   "source": [
    "print(\"Total number of layers: {}.\".format(len(model_vgg16_conv.layers)))"
   ]
  },
  {
   "cell_type": "code",
   "execution_count": 21,
   "metadata": {
    "collapsed": true
   },
   "outputs": [],
   "source": [
    "# freeze the first 14 layers of the net (not counting input)\n",
    "for layer in model_vgg16_conv.layers[:15]:\n",
    "    layer.trainable = False"
   ]
  },
  {
   "cell_type": "markdown",
   "metadata": {},
   "source": [
    "Since VGG will not accept our image in its current dimensions, lets perform some image augmentation."
   ]
  },
  {
   "cell_type": "code",
   "execution_count": 22,
   "metadata": {
    "collapsed": false
   },
   "outputs": [],
   "source": [
    "def augment_image(img, dim = (50, 50)):\n",
    "    \"\"\"Turns images into a suitable dimension to go into VGG\"\"\"\n",
    "    \n",
    "    from skimage import data\n",
    "    from skimage import data\n",
    "    from skimage.transform import resize\n",
    "    \n",
    "    image = np.random.normal(0, 0.01, (28,28))\n",
    "    image1 = img.reshape(28,28) + image\n",
    "    return resize(image1, dim)"
   ]
  },
  {
   "cell_type": "code",
   "execution_count": 36,
   "metadata": {
    "collapsed": false,
    "scrolled": true
   },
   "outputs": [
    {
     "name": "stderr",
     "output_type": "stream",
     "text": [
      "100%|██████████| 42000/42000 [00:34<00:00, 1207.77it/s]\n"
     ]
    }
   ],
   "source": [
    "# Augment and normalize images\n",
    "rescaled = (train - train.mean())\n",
    "\n",
    "imgs = []\n",
    "tmp = rescaled.as_matrix()\n",
    "for i in tqdm(range(len(tmp))):\n",
    "    imgs.append(augment_image(tmp[i,:]))\n",
    "\n",
    "imgs = np.array(imgs)"
   ]
  },
  {
   "cell_type": "code",
   "execution_count": 25,
   "metadata": {
    "collapsed": false,
    "scrolled": true
   },
   "outputs": [
    {
     "data": {
      "text/plain": [
       "<matplotlib.image.AxesImage at 0x147dd7978>"
      ]
     },
     "execution_count": 25,
     "metadata": {},
     "output_type": "execute_result"
    },
    {
     "data": {
      "image/png": "[encoded data removed]",
      "text/plain": [
       "<matplotlib.figure.Figure at 0x12072fbe0>"
      ]
     },
     "metadata": {},
     "output_type": "display_data"
    }
   ],
   "source": [
    "plt.imshow(imgs[1])"
   ]
  },
  {
   "cell_type": "code",
   "execution_count": 143,
   "metadata": {
    "collapsed": false
   },
   "outputs": [],
   "source": [
    "a = imgs.reshape(-1, 50,50,1)"
   ]
  },
  {
   "cell_type": "code",
   "execution_count": 144,
   "metadata": {
    "collapsed": false
   },
   "outputs": [
    {
     "data": {
      "text/plain": [
       "array([-0.00077375,  0.00020815,  0.00218485, ...,  0.002303  ,\n",
       "        0.00275259,  0.00235993])"
      ]
     },
     "execution_count": 144,
     "metadata": {},
     "output_type": "execute_result"
    }
   ],
   "source": [
    "a.flatten()"
   ]
  },
  {
   "cell_type": "code",
   "execution_count": 145,
   "metadata": {
    "collapsed": false
   },
   "outputs": [],
   "source": [
    "zeros = np.zeros(len(a.flatten())*3)\n",
    "np.put(zeros, range(0, len(zeros), 3), a.flatten())"
   ]
  },
  {
   "cell_type": "code",
   "execution_count": 174,
   "metadata": {
    "collapsed": false
   },
   "outputs": [
    {
     "data": {
      "text/plain": [
       "array([-0.00077375,  0.        ,  0.        , ...,  0.00235993,\n",
       "        0.        ,  0.        ])"
      ]
     },
     "execution_count": 174,
     "metadata": {},
     "output_type": "execute_result"
    }
   ],
   "source": []
  },
  {
   "cell_type": "code",
   "execution_count": 130,
   "metadata": {
    "collapsed": false
   },
   "outputs": [
    {
     "data": {
      "text/plain": [
       "(982, 5)"
      ]
     },
     "execution_count": 130,
     "metadata": {},
     "output_type": "execute_result"
    }
   ],
   "source": [
    "a=np.zeros((982,5)) \n",
    "b=np.random.randint(0,100,(491,5)) # your 491 row matrix\n",
    "a[::2] = b\n",
    "a.shape"
   ]
  },
  {
   "cell_type": "code",
   "execution_count": 125,
   "metadata": {
    "collapsed": false,
    "scrolled": false
   },
   "outputs": [
    {
     "ename": "ValueError",
     "evalue": "number of input channels does not match corresponding dimension of filter, 1 != 3",
     "output_type": "error",
     "traceback": [
      "\u001b[0;31m---------------------------------------------------------------------------\u001b[0m",
      "\u001b[0;31mValueError\u001b[0m                                Traceback (most recent call last)",
      "\u001b[0;32m<ipython-input-125-50b001c436b9>\u001b[0m in \u001b[0;36m<module>\u001b[0;34m()\u001b[0m\n\u001b[1;32m      2\u001b[0m \u001b[0;34m\u001b[0m\u001b[0m\n\u001b[1;32m      3\u001b[0m \u001b[0;31m#Use the generated model\u001b[0m\u001b[0;34m\u001b[0m\u001b[0;34m\u001b[0m\u001b[0m\n\u001b[0;32m----> 4\u001b[0;31m \u001b[0moutput_vgg16_conv\u001b[0m \u001b[0;34m=\u001b[0m \u001b[0mmodel_vgg16_conv\u001b[0m\u001b[0;34m(\u001b[0m\u001b[0minput\u001b[0m\u001b[0;34m)\u001b[0m\u001b[0;34m\u001b[0m\u001b[0m\n\u001b[0m\u001b[1;32m      5\u001b[0m \u001b[0;34m\u001b[0m\u001b[0m\n\u001b[1;32m      6\u001b[0m \u001b[0;31m#Add the fully-connected layers\u001b[0m\u001b[0;34m\u001b[0m\u001b[0;34m\u001b[0m\u001b[0m\n",
      "\u001b[0;32m/Users/Vasilis/anaconda3/lib/python3.5/site-packages/keras/engine/topology.py\u001b[0m in \u001b[0;36m__call__\u001b[0;34m(self, inputs, **kwargs)\u001b[0m\n\u001b[1;32m    583\u001b[0m \u001b[0;34m\u001b[0m\u001b[0m\n\u001b[1;32m    584\u001b[0m             \u001b[0;31m# Actually call the layer, collecting output(s), mask(s), and shape(s).\u001b[0m\u001b[0;34m\u001b[0m\u001b[0;34m\u001b[0m\u001b[0m\n\u001b[0;32m--> 585\u001b[0;31m             \u001b[0moutput\u001b[0m \u001b[0;34m=\u001b[0m \u001b[0mself\u001b[0m\u001b[0;34m.\u001b[0m\u001b[0mcall\u001b[0m\u001b[0;34m(\u001b[0m\u001b[0minputs\u001b[0m\u001b[0;34m,\u001b[0m \u001b[0;34m**\u001b[0m\u001b[0mkwargs\u001b[0m\u001b[0;34m)\u001b[0m\u001b[0;34m\u001b[0m\u001b[0m\n\u001b[0m\u001b[1;32m    586\u001b[0m             \u001b[0moutput_mask\u001b[0m \u001b[0;34m=\u001b[0m \u001b[0mself\u001b[0m\u001b[0;34m.\u001b[0m\u001b[0mcompute_mask\u001b[0m\u001b[0;34m(\u001b[0m\u001b[0minputs\u001b[0m\u001b[0;34m,\u001b[0m \u001b[0mprevious_mask\u001b[0m\u001b[0;34m)\u001b[0m\u001b[0;34m\u001b[0m\u001b[0m\n\u001b[1;32m    587\u001b[0m \u001b[0;34m\u001b[0m\u001b[0m\n",
      "\u001b[0;32m/Users/Vasilis/anaconda3/lib/python3.5/site-packages/keras/engine/topology.py\u001b[0m in \u001b[0;36mcall\u001b[0;34m(self, inputs, mask)\u001b[0m\n\u001b[1;32m   2025\u001b[0m             \u001b[0;32mreturn\u001b[0m \u001b[0mself\u001b[0m\u001b[0;34m.\u001b[0m\u001b[0m_output_tensor_cache\u001b[0m\u001b[0;34m[\u001b[0m\u001b[0mcache_key\u001b[0m\u001b[0;34m]\u001b[0m\u001b[0;34m\u001b[0m\u001b[0m\n\u001b[1;32m   2026\u001b[0m         \u001b[0;32melse\u001b[0m\u001b[0;34m:\u001b[0m\u001b[0;34m\u001b[0m\u001b[0m\n\u001b[0;32m-> 2027\u001b[0;31m             \u001b[0moutput_tensors\u001b[0m\u001b[0;34m,\u001b[0m \u001b[0m_\u001b[0m\u001b[0;34m,\u001b[0m \u001b[0m_\u001b[0m \u001b[0;34m=\u001b[0m \u001b[0mself\u001b[0m\u001b[0;34m.\u001b[0m\u001b[0mrun_internal_graph\u001b[0m\u001b[0;34m(\u001b[0m\u001b[0minputs\u001b[0m\u001b[0;34m,\u001b[0m \u001b[0mmasks\u001b[0m\u001b[0;34m)\u001b[0m\u001b[0;34m\u001b[0m\u001b[0m\n\u001b[0m\u001b[1;32m   2028\u001b[0m             \u001b[0;32mreturn\u001b[0m \u001b[0moutput_tensors\u001b[0m\u001b[0;34m\u001b[0m\u001b[0m\n\u001b[1;32m   2029\u001b[0m \u001b[0;34m\u001b[0m\u001b[0m\n",
      "\u001b[0;32m/Users/Vasilis/anaconda3/lib/python3.5/site-packages/keras/engine/topology.py\u001b[0m in \u001b[0;36mrun_internal_graph\u001b[0;34m(self, inputs, masks)\u001b[0m\n\u001b[1;32m   2176\u001b[0m                                 \u001b[0;32mif\u001b[0m \u001b[0;34m'mask'\u001b[0m \u001b[0;32mnot\u001b[0m \u001b[0;32min\u001b[0m \u001b[0mkwargs\u001b[0m\u001b[0;34m:\u001b[0m\u001b[0;34m\u001b[0m\u001b[0m\n\u001b[1;32m   2177\u001b[0m                                     \u001b[0mkwargs\u001b[0m\u001b[0;34m[\u001b[0m\u001b[0;34m'mask'\u001b[0m\u001b[0;34m]\u001b[0m \u001b[0;34m=\u001b[0m \u001b[0mcomputed_mask\u001b[0m\u001b[0;34m\u001b[0m\u001b[0m\n\u001b[0;32m-> 2178\u001b[0;31m                             \u001b[0moutput_tensors\u001b[0m \u001b[0;34m=\u001b[0m \u001b[0m_to_list\u001b[0m\u001b[0;34m(\u001b[0m\u001b[0mlayer\u001b[0m\u001b[0;34m.\u001b[0m\u001b[0mcall\u001b[0m\u001b[0;34m(\u001b[0m\u001b[0mcomputed_tensor\u001b[0m\u001b[0;34m,\u001b[0m \u001b[0;34m**\u001b[0m\u001b[0mkwargs\u001b[0m\u001b[0;34m)\u001b[0m\u001b[0;34m)\u001b[0m\u001b[0;34m\u001b[0m\u001b[0m\n\u001b[0m\u001b[1;32m   2179\u001b[0m                             output_masks = _to_list(layer.compute_mask(computed_tensor,\n\u001b[1;32m   2180\u001b[0m                                                                        computed_mask))\n",
      "\u001b[0;32m/Users/Vasilis/anaconda3/lib/python3.5/site-packages/keras/layers/convolutional.py\u001b[0m in \u001b[0;36mcall\u001b[0;34m(self, inputs)\u001b[0m\n\u001b[1;32m    162\u001b[0m                 \u001b[0mpadding\u001b[0m\u001b[0;34m=\u001b[0m\u001b[0mself\u001b[0m\u001b[0;34m.\u001b[0m\u001b[0mpadding\u001b[0m\u001b[0;34m,\u001b[0m\u001b[0;34m\u001b[0m\u001b[0m\n\u001b[1;32m    163\u001b[0m                 \u001b[0mdata_format\u001b[0m\u001b[0;34m=\u001b[0m\u001b[0mself\u001b[0m\u001b[0;34m.\u001b[0m\u001b[0mdata_format\u001b[0m\u001b[0;34m,\u001b[0m\u001b[0;34m\u001b[0m\u001b[0m\n\u001b[0;32m--> 164\u001b[0;31m                 dilation_rate=self.dilation_rate)\n\u001b[0m\u001b[1;32m    165\u001b[0m         \u001b[0;32mif\u001b[0m \u001b[0mself\u001b[0m\u001b[0;34m.\u001b[0m\u001b[0mrank\u001b[0m \u001b[0;34m==\u001b[0m \u001b[0;36m3\u001b[0m\u001b[0;34m:\u001b[0m\u001b[0;34m\u001b[0m\u001b[0m\n\u001b[1;32m    166\u001b[0m             outputs = K.conv3d(\n",
      "\u001b[0;32m/Users/Vasilis/anaconda3/lib/python3.5/site-packages/keras/backend/tensorflow_backend.py\u001b[0m in \u001b[0;36mconv2d\u001b[0;34m(x, kernel, strides, padding, data_format, dilation_rate)\u001b[0m\n\u001b[1;32m   3093\u001b[0m         \u001b[0mstrides\u001b[0m\u001b[0;34m=\u001b[0m\u001b[0mstrides\u001b[0m\u001b[0;34m,\u001b[0m\u001b[0;34m\u001b[0m\u001b[0m\n\u001b[1;32m   3094\u001b[0m         \u001b[0mpadding\u001b[0m\u001b[0;34m=\u001b[0m\u001b[0mpadding\u001b[0m\u001b[0;34m,\u001b[0m\u001b[0;34m\u001b[0m\u001b[0m\n\u001b[0;32m-> 3095\u001b[0;31m         data_format='NHWC')\n\u001b[0m\u001b[1;32m   3096\u001b[0m     \u001b[0;32mreturn\u001b[0m \u001b[0m_postprocess_conv2d_output\u001b[0m\u001b[0;34m(\u001b[0m\u001b[0mx\u001b[0m\u001b[0;34m,\u001b[0m \u001b[0mdata_format\u001b[0m\u001b[0;34m)\u001b[0m\u001b[0;34m\u001b[0m\u001b[0m\n\u001b[1;32m   3097\u001b[0m \u001b[0;34m\u001b[0m\u001b[0m\n",
      "\u001b[0;32m/Users/Vasilis/anaconda3/lib/python3.5/site-packages/tensorflow/python/ops/nn_ops.py\u001b[0m in \u001b[0;36mconvolution\u001b[0;34m(input, filter, padding, strides, dilation_rate, name, data_format)\u001b[0m\n\u001b[1;32m    639\u001b[0m           \u001b[0;34m\"number of input channels does not match corresponding dimension of filter, \"\u001b[0m\u001b[0;34m\u001b[0m\u001b[0m\n\u001b[1;32m    640\u001b[0m           \"{} != {}\".format(input_channels_dim, filter.get_shape()[\n\u001b[0;32m--> 641\u001b[0;31m               num_spatial_dims]))\n\u001b[0m\u001b[1;32m    642\u001b[0m \u001b[0;34m\u001b[0m\u001b[0m\n\u001b[1;32m    643\u001b[0m     strides, dilation_rate = _get_strides_and_dilation_rate(\n",
      "\u001b[0;31mValueError\u001b[0m: number of input channels does not match corresponding dimension of filter, 1 != 3"
     ]
    }
   ],
   "source": [
    "input = Input(shape=(50,50,1),name = 'image_input') \n",
    "\n",
    "#Use the generated model \n",
    "output_vgg16_conv = model_vgg16_conv(input)\n",
    "\n",
    "#Add the fully-connected layers \n",
    "x = Flatten(name='flatten')(output_vgg16_conv)\n",
    "x = Dense(4096, activation='relu', name='fc1')(x)\n",
    "x = Dense(4096, activation='relu', name='fc2')(x)\n",
    "x = Dense(10, activation='softmax', name='predictions')(x)\n",
    "\n",
    "#Create your own model \n",
    "my_model = Model(inputs=input, outputs=x)\n",
    "\n",
    "#In the summary, weights and layers from VGG part will be hidden, but they will be fit during the training\n",
    "my_model.summary()"
   ]
  },
  {
   "cell_type": "code",
   "execution_count": 179,
   "metadata": {
    "collapsed": false
   },
   "outputs": [],
   "source": [
    "my_model.compile(optimizer = 'Adam', loss = 'categorical_crossentropy')"
   ]
  },
  {
   "cell_type": "code",
   "execution_count": 189,
   "metadata": {
    "collapsed": false
   },
   "outputs": [
    {
     "data": {
      "text/plain": [
       "42000"
      ]
     },
     "execution_count": 189,
     "metadata": {},
     "output_type": "execute_result"
    }
   ],
   "source": [
    "imgs.shape[0]"
   ]
  },
  {
   "cell_type": "code",
   "execution_count": 186,
   "metadata": {
    "collapsed": false
   },
   "outputs": [
    {
     "name": "stdout",
     "output_type": "stream",
     "text": [
      "Epoch 1/50\n"
     ]
    },
    {
     "ename": "ValueError",
     "evalue": "CorrMM images and kernel must have the same stack size\n\nApply node that caused the error: CorrMM{half, (1, 1), (1, 1)}(InplaceDimShuffle{0,3,1,2}.0, Subtensor{::, ::, ::int64, ::int64}.0)\nToposort index: 88\nInputs types: [TensorType(float32, 4D), TensorType(float32, 4D)]\nInputs shapes: [(256, 1, 50, 50), (64, 3, 3, 3)]\nInputs strides: [(10000, 10000, 200, 4), (4, 256, -2304, -768)]\nInputs values: ['not shown', 'not shown']\nOutputs clients: [[Elemwise{Composite{(i0 * ((i1 + i2) + Abs((i1 + i2))))}}[(0, 1)](TensorConstant{(1, 1, 1, 1) of 0.5}, CorrMM{half, (1, 1), (1, 1)}.0, InplaceDimShuffle{x,0,x,x}.0)]]\n\nBacktrace when the node is created(use Theano flag traceback.limit=N to make it longer):\n  File \"/Users/Vasilis/anaconda3/lib/python3.5/site-packages/IPython/core/interactiveshell.py\", line 2821, in run_ast_nodes\n    if self.run_code(code, result):\n  File \"/Users/Vasilis/anaconda3/lib/python3.5/site-packages/IPython/core/interactiveshell.py\", line 2881, in run_code\n    exec(code_obj, self.user_global_ns, self.user_ns)\n  File \"<ipython-input-178-50b001c436b9>\", line 4, in <module>\n    output_vgg16_conv = model_vgg16_conv(input)\n  File \"/Users/Vasilis/anaconda3/lib/python3.5/site-packages/keras/engine/topology.py\", line 585, in __call__\n    output = self.call(inputs, **kwargs)\n  File \"/Users/Vasilis/anaconda3/lib/python3.5/site-packages/keras/engine/topology.py\", line 2027, in call\n    output_tensors, _, _ = self.run_internal_graph(inputs, masks)\n  File \"/Users/Vasilis/anaconda3/lib/python3.5/site-packages/keras/engine/topology.py\", line 2178, in run_internal_graph\n    output_tensors = _to_list(layer.call(computed_tensor, **kwargs))\n  File \"/Users/Vasilis/anaconda3/lib/python3.5/site-packages/keras/layers/convolutional.py\", line 164, in call\n    dilation_rate=self.dilation_rate)\n  File \"/Users/Vasilis/anaconda3/lib/python3.5/site-packages/keras/backend/theano_backend.py\", line 1805, in conv2d\n    filter_dilation=dilation_rate)\n\nHINT: Use the Theano flag 'exception_verbosity=high' for a debugprint and storage map footprint of this apply node.",
     "output_type": "error",
     "traceback": [
      "\u001b[0;31m---------------------------------------------------------------------------\u001b[0m",
      "\u001b[0;31mValueError\u001b[0m                                Traceback (most recent call last)",
      "\u001b[0;32m/Users/Vasilis/anaconda3/lib/python3.5/site-packages/theano/compile/function_module.py\u001b[0m in \u001b[0;36m__call__\u001b[0;34m(self, *args, **kwargs)\u001b[0m\n\u001b[1;32m    883\u001b[0m             \u001b[0moutputs\u001b[0m \u001b[0;34m=\u001b[0m\u001b[0;31m\\\u001b[0m\u001b[0;34m\u001b[0m\u001b[0m\n\u001b[0;32m--> 884\u001b[0;31m                 \u001b[0mself\u001b[0m\u001b[0;34m.\u001b[0m\u001b[0mfn\u001b[0m\u001b[0;34m(\u001b[0m\u001b[0;34m)\u001b[0m \u001b[0;32mif\u001b[0m \u001b[0moutput_subset\u001b[0m \u001b[0;32mis\u001b[0m \u001b[0;32mNone\u001b[0m \u001b[0;32melse\u001b[0m\u001b[0;31m\\\u001b[0m\u001b[0;34m\u001b[0m\u001b[0m\n\u001b[0m\u001b[1;32m    885\u001b[0m                 \u001b[0mself\u001b[0m\u001b[0;34m.\u001b[0m\u001b[0mfn\u001b[0m\u001b[0;34m(\u001b[0m\u001b[0moutput_subset\u001b[0m\u001b[0;34m=\u001b[0m\u001b[0moutput_subset\u001b[0m\u001b[0;34m)\u001b[0m\u001b[0;34m\u001b[0m\u001b[0m\n",
      "\u001b[0;31mValueError\u001b[0m: CorrMM images and kernel must have the same stack size\n",
      "\nDuring handling of the above exception, another exception occurred:\n",
      "\u001b[0;31mValueError\u001b[0m                                Traceback (most recent call last)",
      "\u001b[0;32m<ipython-input-186-a8117f89ed5f>\u001b[0m in \u001b[0;36m<module>\u001b[0;34m()\u001b[0m\n\u001b[0;32m----> 1\u001b[0;31m \u001b[0mmy_model\u001b[0m\u001b[0;34m.\u001b[0m\u001b[0mfit\u001b[0m\u001b[0;34m(\u001b[0m\u001b[0mx\u001b[0m \u001b[0;34m=\u001b[0m \u001b[0mimgs\u001b[0m\u001b[0;34m,\u001b[0m \u001b[0my\u001b[0m \u001b[0;34m=\u001b[0m \u001b[0mlabels\u001b[0m\u001b[0;34m,\u001b[0m \u001b[0mepochs\u001b[0m \u001b[0;34m=\u001b[0m \u001b[0;36m50\u001b[0m\u001b[0;34m,\u001b[0m \u001b[0mbatch_size\u001b[0m\u001b[0;34m=\u001b[0m\u001b[0;36m256\u001b[0m\u001b[0;34m)\u001b[0m\u001b[0;34m\u001b[0m\u001b[0m\n\u001b[0m",
      "\u001b[0;32m/Users/Vasilis/anaconda3/lib/python3.5/site-packages/keras/engine/training.py\u001b[0m in \u001b[0;36mfit\u001b[0;34m(self, x, y, batch_size, epochs, verbose, callbacks, validation_split, validation_data, shuffle, class_weight, sample_weight, initial_epoch, **kwargs)\u001b[0m\n\u001b[1;32m   1496\u001b[0m                               \u001b[0mval_f\u001b[0m\u001b[0;34m=\u001b[0m\u001b[0mval_f\u001b[0m\u001b[0;34m,\u001b[0m \u001b[0mval_ins\u001b[0m\u001b[0;34m=\u001b[0m\u001b[0mval_ins\u001b[0m\u001b[0;34m,\u001b[0m \u001b[0mshuffle\u001b[0m\u001b[0;34m=\u001b[0m\u001b[0mshuffle\u001b[0m\u001b[0;34m,\u001b[0m\u001b[0;34m\u001b[0m\u001b[0m\n\u001b[1;32m   1497\u001b[0m                               \u001b[0mcallback_metrics\u001b[0m\u001b[0;34m=\u001b[0m\u001b[0mcallback_metrics\u001b[0m\u001b[0;34m,\u001b[0m\u001b[0;34m\u001b[0m\u001b[0m\n\u001b[0;32m-> 1498\u001b[0;31m                               initial_epoch=initial_epoch)\n\u001b[0m\u001b[1;32m   1499\u001b[0m \u001b[0;34m\u001b[0m\u001b[0m\n\u001b[1;32m   1500\u001b[0m     \u001b[0;32mdef\u001b[0m \u001b[0mevaluate\u001b[0m\u001b[0;34m(\u001b[0m\u001b[0mself\u001b[0m\u001b[0;34m,\u001b[0m \u001b[0mx\u001b[0m\u001b[0;34m,\u001b[0m \u001b[0my\u001b[0m\u001b[0;34m,\u001b[0m \u001b[0mbatch_size\u001b[0m\u001b[0;34m=\u001b[0m\u001b[0;36m32\u001b[0m\u001b[0;34m,\u001b[0m \u001b[0mverbose\u001b[0m\u001b[0;34m=\u001b[0m\u001b[0;36m1\u001b[0m\u001b[0;34m,\u001b[0m \u001b[0msample_weight\u001b[0m\u001b[0;34m=\u001b[0m\u001b[0;32mNone\u001b[0m\u001b[0;34m)\u001b[0m\u001b[0;34m:\u001b[0m\u001b[0;34m\u001b[0m\u001b[0m\n",
      "\u001b[0;32m/Users/Vasilis/anaconda3/lib/python3.5/site-packages/keras/engine/training.py\u001b[0m in \u001b[0;36m_fit_loop\u001b[0;34m(self, f, ins, out_labels, batch_size, epochs, verbose, callbacks, val_f, val_ins, shuffle, callback_metrics, initial_epoch)\u001b[0m\n\u001b[1;32m   1150\u001b[0m                 \u001b[0mbatch_logs\u001b[0m\u001b[0;34m[\u001b[0m\u001b[0;34m'size'\u001b[0m\u001b[0;34m]\u001b[0m \u001b[0;34m=\u001b[0m \u001b[0mlen\u001b[0m\u001b[0;34m(\u001b[0m\u001b[0mbatch_ids\u001b[0m\u001b[0;34m)\u001b[0m\u001b[0;34m\u001b[0m\u001b[0m\n\u001b[1;32m   1151\u001b[0m                 \u001b[0mcallbacks\u001b[0m\u001b[0;34m.\u001b[0m\u001b[0mon_batch_begin\u001b[0m\u001b[0;34m(\u001b[0m\u001b[0mbatch_index\u001b[0m\u001b[0;34m,\u001b[0m \u001b[0mbatch_logs\u001b[0m\u001b[0;34m)\u001b[0m\u001b[0;34m\u001b[0m\u001b[0m\n\u001b[0;32m-> 1152\u001b[0;31m                 \u001b[0mouts\u001b[0m \u001b[0;34m=\u001b[0m \u001b[0mf\u001b[0m\u001b[0;34m(\u001b[0m\u001b[0mins_batch\u001b[0m\u001b[0;34m)\u001b[0m\u001b[0;34m\u001b[0m\u001b[0m\n\u001b[0m\u001b[1;32m   1153\u001b[0m                 \u001b[0;32mif\u001b[0m \u001b[0;32mnot\u001b[0m \u001b[0misinstance\u001b[0m\u001b[0;34m(\u001b[0m\u001b[0mouts\u001b[0m\u001b[0;34m,\u001b[0m \u001b[0mlist\u001b[0m\u001b[0;34m)\u001b[0m\u001b[0;34m:\u001b[0m\u001b[0;34m\u001b[0m\u001b[0m\n\u001b[1;32m   1154\u001b[0m                     \u001b[0mouts\u001b[0m \u001b[0;34m=\u001b[0m \u001b[0;34m[\u001b[0m\u001b[0mouts\u001b[0m\u001b[0;34m]\u001b[0m\u001b[0;34m\u001b[0m\u001b[0m\n",
      "\u001b[0;32m/Users/Vasilis/anaconda3/lib/python3.5/site-packages/keras/backend/theano_backend.py\u001b[0m in \u001b[0;36m__call__\u001b[0;34m(self, inputs)\u001b[0m\n\u001b[1;32m   1156\u001b[0m     \u001b[0;32mdef\u001b[0m \u001b[0m__call__\u001b[0m\u001b[0;34m(\u001b[0m\u001b[0mself\u001b[0m\u001b[0;34m,\u001b[0m \u001b[0minputs\u001b[0m\u001b[0;34m)\u001b[0m\u001b[0;34m:\u001b[0m\u001b[0;34m\u001b[0m\u001b[0m\n\u001b[1;32m   1157\u001b[0m         \u001b[0;32massert\u001b[0m \u001b[0misinstance\u001b[0m\u001b[0;34m(\u001b[0m\u001b[0minputs\u001b[0m\u001b[0;34m,\u001b[0m \u001b[0;34m(\u001b[0m\u001b[0mlist\u001b[0m\u001b[0;34m,\u001b[0m \u001b[0mtuple\u001b[0m\u001b[0;34m)\u001b[0m\u001b[0;34m)\u001b[0m\u001b[0;34m\u001b[0m\u001b[0m\n\u001b[0;32m-> 1158\u001b[0;31m         \u001b[0;32mreturn\u001b[0m \u001b[0mself\u001b[0m\u001b[0;34m.\u001b[0m\u001b[0mfunction\u001b[0m\u001b[0;34m(\u001b[0m\u001b[0;34m*\u001b[0m\u001b[0minputs\u001b[0m\u001b[0;34m)\u001b[0m\u001b[0;34m\u001b[0m\u001b[0m\n\u001b[0m\u001b[1;32m   1159\u001b[0m \u001b[0;34m\u001b[0m\u001b[0m\n\u001b[1;32m   1160\u001b[0m \u001b[0;34m\u001b[0m\u001b[0m\n",
      "\u001b[0;32m/Users/Vasilis/anaconda3/lib/python3.5/site-packages/theano/compile/function_module.py\u001b[0m in \u001b[0;36m__call__\u001b[0;34m(self, *args, **kwargs)\u001b[0m\n\u001b[1;32m    896\u001b[0m                     \u001b[0mnode\u001b[0m\u001b[0;34m=\u001b[0m\u001b[0mself\u001b[0m\u001b[0;34m.\u001b[0m\u001b[0mfn\u001b[0m\u001b[0;34m.\u001b[0m\u001b[0mnodes\u001b[0m\u001b[0;34m[\u001b[0m\u001b[0mself\u001b[0m\u001b[0;34m.\u001b[0m\u001b[0mfn\u001b[0m\u001b[0;34m.\u001b[0m\u001b[0mposition_of_error\u001b[0m\u001b[0;34m]\u001b[0m\u001b[0;34m,\u001b[0m\u001b[0;34m\u001b[0m\u001b[0m\n\u001b[1;32m    897\u001b[0m                     \u001b[0mthunk\u001b[0m\u001b[0;34m=\u001b[0m\u001b[0mthunk\u001b[0m\u001b[0;34m,\u001b[0m\u001b[0;34m\u001b[0m\u001b[0m\n\u001b[0;32m--> 898\u001b[0;31m                     storage_map=getattr(self.fn, 'storage_map', None))\n\u001b[0m\u001b[1;32m    899\u001b[0m             \u001b[0;32melse\u001b[0m\u001b[0;34m:\u001b[0m\u001b[0;34m\u001b[0m\u001b[0m\n\u001b[1;32m    900\u001b[0m                 \u001b[0;31m# old-style linkers raise their own exceptions\u001b[0m\u001b[0;34m\u001b[0m\u001b[0;34m\u001b[0m\u001b[0m\n",
      "\u001b[0;32m/Users/Vasilis/anaconda3/lib/python3.5/site-packages/theano/gof/link.py\u001b[0m in \u001b[0;36mraise_with_op\u001b[0;34m(node, thunk, exc_info, storage_map)\u001b[0m\n\u001b[1;32m    323\u001b[0m         \u001b[0;31m# extra long error message in that case.\u001b[0m\u001b[0;34m\u001b[0m\u001b[0;34m\u001b[0m\u001b[0m\n\u001b[1;32m    324\u001b[0m         \u001b[0;32mpass\u001b[0m\u001b[0;34m\u001b[0m\u001b[0m\n\u001b[0;32m--> 325\u001b[0;31m     \u001b[0mreraise\u001b[0m\u001b[0;34m(\u001b[0m\u001b[0mexc_type\u001b[0m\u001b[0;34m,\u001b[0m \u001b[0mexc_value\u001b[0m\u001b[0;34m,\u001b[0m \u001b[0mexc_trace\u001b[0m\u001b[0;34m)\u001b[0m\u001b[0;34m\u001b[0m\u001b[0m\n\u001b[0m\u001b[1;32m    326\u001b[0m \u001b[0;34m\u001b[0m\u001b[0m\n\u001b[1;32m    327\u001b[0m \u001b[0;34m\u001b[0m\u001b[0m\n",
      "\u001b[0;32m/Users/Vasilis/anaconda3/lib/python3.5/site-packages/six.py\u001b[0m in \u001b[0;36mreraise\u001b[0;34m(tp, value, tb)\u001b[0m\n\u001b[1;32m    683\u001b[0m             \u001b[0mvalue\u001b[0m \u001b[0;34m=\u001b[0m \u001b[0mtp\u001b[0m\u001b[0;34m(\u001b[0m\u001b[0;34m)\u001b[0m\u001b[0;34m\u001b[0m\u001b[0m\n\u001b[1;32m    684\u001b[0m         \u001b[0;32mif\u001b[0m \u001b[0mvalue\u001b[0m\u001b[0;34m.\u001b[0m\u001b[0m__traceback__\u001b[0m \u001b[0;32mis\u001b[0m \u001b[0;32mnot\u001b[0m \u001b[0mtb\u001b[0m\u001b[0;34m:\u001b[0m\u001b[0;34m\u001b[0m\u001b[0m\n\u001b[0;32m--> 685\u001b[0;31m             \u001b[0;32mraise\u001b[0m \u001b[0mvalue\u001b[0m\u001b[0;34m.\u001b[0m\u001b[0mwith_traceback\u001b[0m\u001b[0;34m(\u001b[0m\u001b[0mtb\u001b[0m\u001b[0;34m)\u001b[0m\u001b[0;34m\u001b[0m\u001b[0m\n\u001b[0m\u001b[1;32m    686\u001b[0m         \u001b[0;32mraise\u001b[0m \u001b[0mvalue\u001b[0m\u001b[0;34m\u001b[0m\u001b[0m\n\u001b[1;32m    687\u001b[0m \u001b[0;34m\u001b[0m\u001b[0m\n",
      "\u001b[0;32m/Users/Vasilis/anaconda3/lib/python3.5/site-packages/theano/compile/function_module.py\u001b[0m in \u001b[0;36m__call__\u001b[0;34m(self, *args, **kwargs)\u001b[0m\n\u001b[1;32m    882\u001b[0m         \u001b[0;32mtry\u001b[0m\u001b[0;34m:\u001b[0m\u001b[0;34m\u001b[0m\u001b[0m\n\u001b[1;32m    883\u001b[0m             \u001b[0moutputs\u001b[0m \u001b[0;34m=\u001b[0m\u001b[0;31m\\\u001b[0m\u001b[0;34m\u001b[0m\u001b[0m\n\u001b[0;32m--> 884\u001b[0;31m                 \u001b[0mself\u001b[0m\u001b[0;34m.\u001b[0m\u001b[0mfn\u001b[0m\u001b[0;34m(\u001b[0m\u001b[0;34m)\u001b[0m \u001b[0;32mif\u001b[0m \u001b[0moutput_subset\u001b[0m \u001b[0;32mis\u001b[0m \u001b[0;32mNone\u001b[0m \u001b[0;32melse\u001b[0m\u001b[0;31m\\\u001b[0m\u001b[0;34m\u001b[0m\u001b[0m\n\u001b[0m\u001b[1;32m    885\u001b[0m                 \u001b[0mself\u001b[0m\u001b[0;34m.\u001b[0m\u001b[0mfn\u001b[0m\u001b[0;34m(\u001b[0m\u001b[0moutput_subset\u001b[0m\u001b[0;34m=\u001b[0m\u001b[0moutput_subset\u001b[0m\u001b[0;34m)\u001b[0m\u001b[0;34m\u001b[0m\u001b[0m\n\u001b[1;32m    886\u001b[0m         \u001b[0;32mexcept\u001b[0m \u001b[0mException\u001b[0m\u001b[0;34m:\u001b[0m\u001b[0;34m\u001b[0m\u001b[0m\n",
      "\u001b[0;31mValueError\u001b[0m: CorrMM images and kernel must have the same stack size\n\nApply node that caused the error: CorrMM{half, (1, 1), (1, 1)}(InplaceDimShuffle{0,3,1,2}.0, Subtensor{::, ::, ::int64, ::int64}.0)\nToposort index: 88\nInputs types: [TensorType(float32, 4D), TensorType(float32, 4D)]\nInputs shapes: [(256, 1, 50, 50), (64, 3, 3, 3)]\nInputs strides: [(10000, 10000, 200, 4), (4, 256, -2304, -768)]\nInputs values: ['not shown', 'not shown']\nOutputs clients: [[Elemwise{Composite{(i0 * ((i1 + i2) + Abs((i1 + i2))))}}[(0, 1)](TensorConstant{(1, 1, 1, 1) of 0.5}, CorrMM{half, (1, 1), (1, 1)}.0, InplaceDimShuffle{x,0,x,x}.0)]]\n\nBacktrace when the node is created(use Theano flag traceback.limit=N to make it longer):\n  File \"/Users/Vasilis/anaconda3/lib/python3.5/site-packages/IPython/core/interactiveshell.py\", line 2821, in run_ast_nodes\n    if self.run_code(code, result):\n  File \"/Users/Vasilis/anaconda3/lib/python3.5/site-packages/IPython/core/interactiveshell.py\", line 2881, in run_code\n    exec(code_obj, self.user_global_ns, self.user_ns)\n  File \"<ipython-input-178-50b001c436b9>\", line 4, in <module>\n    output_vgg16_conv = model_vgg16_conv(input)\n  File \"/Users/Vasilis/anaconda3/lib/python3.5/site-packages/keras/engine/topology.py\", line 585, in __call__\n    output = self.call(inputs, **kwargs)\n  File \"/Users/Vasilis/anaconda3/lib/python3.5/site-packages/keras/engine/topology.py\", line 2027, in call\n    output_tensors, _, _ = self.run_internal_graph(inputs, masks)\n  File \"/Users/Vasilis/anaconda3/lib/python3.5/site-packages/keras/engine/topology.py\", line 2178, in run_internal_graph\n    output_tensors = _to_list(layer.call(computed_tensor, **kwargs))\n  File \"/Users/Vasilis/anaconda3/lib/python3.5/site-packages/keras/layers/convolutional.py\", line 164, in call\n    dilation_rate=self.dilation_rate)\n  File \"/Users/Vasilis/anaconda3/lib/python3.5/site-packages/keras/backend/theano_backend.py\", line 1805, in conv2d\n    filter_dilation=dilation_rate)\n\nHINT: Use the Theano flag 'exception_verbosity=high' for a debugprint and storage map footprint of this apply node."
     ]
    }
   ],
   "source": [
    "my_model.fit(x = imgs, y = labels, epochs = 50, batch_size=256)"
   ]
  },
  {
   "cell_type": "code",
   "execution_count": null,
   "metadata": {
    "collapsed": true
   },
   "outputs": [],
   "source": [
    "labe"
   ]
  }
 ],
 "metadata": {
  "anaconda-cloud": {},
  "kernelspec": {
   "display_name": "Python [conda root]",
   "language": "python",
   "name": "conda-root-py"
  },
  "language_info": {
   "codemirror_mode": {
    "name": "ipython",
    "version": 3
   },
   "file_extension": ".py",
   "mimetype": "text/x-python",
   "name": "python",
   "nbconvert_exporter": "python",
   "pygments_lexer": "ipython3",
   "version": "3.5.2"
  }
 },
 "nbformat": 4,
 "nbformat_minor": 1
}
