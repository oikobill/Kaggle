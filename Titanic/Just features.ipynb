{
 "cells": [
  {
   "cell_type": "code",
   "execution_count": 1,
   "metadata": {
    "collapsed": false
   },
   "outputs": [
    {
     "name": "stderr",
     "output_type": "stream",
     "text": [
      "Using Theano backend.\n"
     ]
    }
   ],
   "source": [
    "#import the necessary libraries\n",
    "import pandas as pd\n",
    "import numpy as np\n",
    "import matplotlib.pyplot as plt\n",
    "import re\n",
    "from biokit.viz import corrplot\n",
    "from sklearn import preprocessing\n",
    "from sklearn import cross_validation\n",
    "from sklearn import linear_model\n",
    "from sklearn import ensemble\n",
    "from sklearn import svm\n",
    "from sklearn import tree\n",
    "from sklearn import neighbors \n",
    "from sklearn import naive_bayes\n",
    "from sklearn import metrics\n",
    "from sklearn.feature_selection import SelectKBest\n",
    "from sklearn.grid_search import GridSearchCV, RandomizedSearchCV\n",
    "from time import clock\n",
    "import fancyimpute\n",
    "from statsmodels.graphics.mosaicplot import mosaic\n",
    "import warnings\n",
    "warnings.filterwarnings(\"ignore\")\n",
    "%matplotlib inline"
   ]
  },
  {
   "cell_type": "markdown",
   "metadata": {},
   "source": [
    "# Current Features"
   ]
  },
  {
   "cell_type": "code",
   "execution_count": 2,
   "metadata": {
    "collapsed": true
   },
   "outputs": [],
   "source": [
    "#import our data\n",
    "train = pd.read_csv(\"data/train.csv\")\n",
    "test = pd.read_csv(\"data/test.csv\")"
   ]
  },
  {
   "cell_type": "markdown",
   "metadata": {},
   "source": [
    "### Title\n",
    "Extract the Title of each passenger using regular expressions. Regular expressions (also refered to as regex) is a sequence of characters that define and search for a pattern in a string.  Also note that from now on I will be using a combined version of our data (both train and test data) so that I won't have to rewrite code to create the test set features."
   ]
  },
  {
   "cell_type": "code",
   "execution_count": 4,
   "metadata": {
    "collapsed": false
   },
   "outputs": [
    {
     "data": {
      "text/html": [
       "<div>\n",
       "<table border=\"1\" class=\"dataframe\">\n",
       "  <thead>\n",
       "    <tr style=\"text-align: right;\">\n",
       "      <th>Title</th>\n",
       "      <th>Capt.</th>\n",
       "      <th>Col.</th>\n",
       "      <th>Countess.</th>\n",
       "      <th>Don.</th>\n",
       "      <th>Dona.</th>\n",
       "      <th>Dr.</th>\n",
       "      <th>Jonkheer.</th>\n",
       "      <th>Lady.</th>\n",
       "      <th>Major.</th>\n",
       "      <th>Master.</th>\n",
       "      <th>Miss.</th>\n",
       "      <th>Mlle.</th>\n",
       "      <th>Mme.</th>\n",
       "      <th>Mr.</th>\n",
       "      <th>Mrs.</th>\n",
       "      <th>Ms.</th>\n",
       "      <th>Rev.</th>\n",
       "      <th>Sir.</th>\n",
       "    </tr>\n",
       "    <tr>\n",
       "      <th>Gender</th>\n",
       "      <th></th>\n",
       "      <th></th>\n",
       "      <th></th>\n",
       "      <th></th>\n",
       "      <th></th>\n",
       "      <th></th>\n",
       "      <th></th>\n",
       "      <th></th>\n",
       "      <th></th>\n",
       "      <th></th>\n",
       "      <th></th>\n",
       "      <th></th>\n",
       "      <th></th>\n",
       "      <th></th>\n",
       "      <th></th>\n",
       "      <th></th>\n",
       "      <th></th>\n",
       "      <th></th>\n",
       "    </tr>\n",
       "  </thead>\n",
       "  <tbody>\n",
       "    <tr>\n",
       "      <th>female</th>\n",
       "      <td>0</td>\n",
       "      <td>0</td>\n",
       "      <td>1</td>\n",
       "      <td>0</td>\n",
       "      <td>1</td>\n",
       "      <td>1</td>\n",
       "      <td>0</td>\n",
       "      <td>1</td>\n",
       "      <td>0</td>\n",
       "      <td>0</td>\n",
       "      <td>260</td>\n",
       "      <td>2</td>\n",
       "      <td>1</td>\n",
       "      <td>0</td>\n",
       "      <td>197</td>\n",
       "      <td>2</td>\n",
       "      <td>0</td>\n",
       "      <td>0</td>\n",
       "    </tr>\n",
       "    <tr>\n",
       "      <th>male</th>\n",
       "      <td>1</td>\n",
       "      <td>4</td>\n",
       "      <td>0</td>\n",
       "      <td>1</td>\n",
       "      <td>0</td>\n",
       "      <td>7</td>\n",
       "      <td>1</td>\n",
       "      <td>0</td>\n",
       "      <td>2</td>\n",
       "      <td>61</td>\n",
       "      <td>0</td>\n",
       "      <td>0</td>\n",
       "      <td>0</td>\n",
       "      <td>757</td>\n",
       "      <td>0</td>\n",
       "      <td>0</td>\n",
       "      <td>8</td>\n",
       "      <td>1</td>\n",
       "    </tr>\n",
       "  </tbody>\n",
       "</table>\n",
       "</div>"
      ],
      "text/plain": [
       "Title   Capt.  Col.  Countess.  Don.  Dona.  Dr.  Jonkheer.  Lady.  Major.  \\\n",
       "Gender                                                                       \n",
       "female      0     0          1     0      1    1          0      1       0   \n",
       "male        1     4          0     1      0    7          1      0       2   \n",
       "\n",
       "Title   Master.  Miss.  Mlle.  Mme.  Mr.  Mrs.  Ms.  Rev.  Sir.  \n",
       "Gender                                                           \n",
       "female        0    260      2     1    0   197    2     0     0  \n",
       "male         61      0      0     0  757     0    0     8     1  "
      ]
     },
     "execution_count": 4,
     "metadata": {},
     "output_type": "execute_result"
    }
   ],
   "source": [
    "# Here is a pivot table with the Titles and the gender. Note that there should be a \n",
    "# high correlation between the two variables but that is ok for now.\n",
    "titles = []\n",
    "for name in data.Name:\n",
    "    titles.append(re.search(r'[A-Z][a-z]+\\.', name).group())\n",
    "data['Title'] = titles\n",
    "pd.crosstab(data['Sex'], data['Title'],rownames=['Gender'], colnames=['Title'])"
   ]
  },
  {
   "cell_type": "code",
   "execution_count": 5,
   "metadata": {
    "collapsed": false
   },
   "outputs": [],
   "source": [
    "# There are some titles with very few counts. We could group those into a collection of rare titles\n",
    "rare = [\"Capt.\", \"Col.\", \"Countess.\", \"Don.\", \"Dona.\", \"Jonkheer.\", \"Dr.\", \"Dr.\", \"Major.\", \"Rev.\", \"Sir.\", \"Lady.\"]\n",
    "for i in range(len(titles)):\n",
    "    if titles[i] in rare:\n",
    "        titles[i]='rare'\n",
    "data['Title']=titles"
   ]
  },
  {
   "cell_type": "code",
   "execution_count": 6,
   "metadata": {
    "collapsed": false
   },
   "outputs": [],
   "source": [
    "# Also reassign mlle, ms, and mme, lady accordingly\n",
    "data = data.replace(to_replace='Mlle.', value='Miss.')\n",
    "data = data.replace(to_replace='Ms.', value='Miss.')\n",
    "data = data.replace(to_replace='Mme.', value='Mrs.')"
   ]
  },
  {
   "cell_type": "code",
   "execution_count": 7,
   "metadata": {
    "collapsed": false
   },
   "outputs": [
    {
     "data": {
      "text/html": [
       "<div>\n",
       "<table border=\"1\" class=\"dataframe\">\n",
       "  <thead>\n",
       "    <tr style=\"text-align: right;\">\n",
       "      <th>Title</th>\n",
       "      <th>Master.</th>\n",
       "      <th>Miss.</th>\n",
       "      <th>Mr.</th>\n",
       "      <th>Mrs.</th>\n",
       "      <th>rare</th>\n",
       "    </tr>\n",
       "    <tr>\n",
       "      <th>Gender</th>\n",
       "      <th></th>\n",
       "      <th></th>\n",
       "      <th></th>\n",
       "      <th></th>\n",
       "      <th></th>\n",
       "    </tr>\n",
       "  </thead>\n",
       "  <tbody>\n",
       "    <tr>\n",
       "      <th>female</th>\n",
       "      <td>0</td>\n",
       "      <td>264</td>\n",
       "      <td>0</td>\n",
       "      <td>198</td>\n",
       "      <td>4</td>\n",
       "    </tr>\n",
       "    <tr>\n",
       "      <th>male</th>\n",
       "      <td>61</td>\n",
       "      <td>0</td>\n",
       "      <td>757</td>\n",
       "      <td>0</td>\n",
       "      <td>25</td>\n",
       "    </tr>\n",
       "  </tbody>\n",
       "</table>\n",
       "</div>"
      ],
      "text/plain": [
       "Title   Master.  Miss.  Mr.  Mrs.  rare\n",
       "Gender                                 \n",
       "female        0    264    0   198     4\n",
       "male         61      0  757     0    25"
      ]
     },
     "execution_count": 7,
     "metadata": {},
     "output_type": "execute_result"
    }
   ],
   "source": [
    "#Our new pivot table looks like this\n",
    "pd.crosstab(data['Sex'], data['Title'],rownames=['Gender'], colnames=['Title'])"
   ]
  },
  {
   "cell_type": "code",
   "execution_count": 8,
   "metadata": {
    "collapsed": false
   },
   "outputs": [
    {
     "data": {
      "text/html": [
       "<div>\n",
       "<table border=\"1\" class=\"dataframe\">\n",
       "  <thead>\n",
       "    <tr style=\"text-align: right;\">\n",
       "      <th>Title</th>\n",
       "      <th>Master.</th>\n",
       "      <th>Miss.</th>\n",
       "      <th>Mr.</th>\n",
       "      <th>Mrs.</th>\n",
       "      <th>rare</th>\n",
       "    </tr>\n",
       "    <tr>\n",
       "      <th>Survived</th>\n",
       "      <th></th>\n",
       "      <th></th>\n",
       "      <th></th>\n",
       "      <th></th>\n",
       "      <th></th>\n",
       "    </tr>\n",
       "  </thead>\n",
       "  <tbody>\n",
       "    <tr>\n",
       "      <th>0.0</th>\n",
       "      <td>17</td>\n",
       "      <td>55</td>\n",
       "      <td>436</td>\n",
       "      <td>26</td>\n",
       "      <td>15</td>\n",
       "    </tr>\n",
       "    <tr>\n",
       "      <th>1.0</th>\n",
       "      <td>23</td>\n",
       "      <td>130</td>\n",
       "      <td>81</td>\n",
       "      <td>100</td>\n",
       "      <td>8</td>\n",
       "    </tr>\n",
       "  </tbody>\n",
       "</table>\n",
       "</div>"
      ],
      "text/plain": [
       "Title     Master.  Miss.  Mr.  Mrs.  rare\n",
       "Survived                                 \n",
       "0.0            17     55  436    26    15\n",
       "1.0            23    130   81   100     8"
      ]
     },
     "execution_count": 8,
     "metadata": {},
     "output_type": "execute_result"
    }
   ],
   "source": [
    "# Survival in this case does not seem to depend to much on the title. perhaps we should revisit that feature to make \n",
    "# it more informative.\n",
    "pd.crosstab(data['Survived'], data['Title'],rownames=['Survived'], colnames=['Title'])"
   ]
  },
  {
   "cell_type": "markdown",
   "metadata": {},
   "source": [
    "### Family Size\n",
    "Now we will examine family sizes. Some intuition behind this is that families with children may have escaped the disaster if they were given priority when abandoning the sinking ship."
   ]
  },
  {
   "cell_type": "code",
   "execution_count": 10,
   "metadata": {
    "collapsed": false
   },
   "outputs": [],
   "source": [
    "# family size for each passenger\n",
    "data['Fsize'] = np.array(data['Parch'])+np.array(data['SibSp']) + 1"
   ]
  },
  {
   "cell_type": "code",
   "execution_count": 11,
   "metadata": {
    "collapsed": false
   },
   "outputs": [
    {
     "data": {
      "text/plain": [
       "<matplotlib.axes._subplots.AxesSubplot at 0x1193e45f8>"
      ]
     },
     "execution_count": 11,
     "metadata": {},
     "output_type": "execute_result"
    },
    {
     "data": {
      "image/png": "[encoded data removed]",
      "text/plain": [
       "<matplotlib.figure.Figure at 0x119665588>"
      ]
     },
     "metadata": {},
     "output_type": "display_data"
    }
   ],
   "source": [
    "# Now let's explore the relation between family size and survival rate\n",
    "survived = data[data['Survived']==1]\n",
    "died = data[data['Survived']==0]\n",
    "died['Died'] = 1\n",
    "died.drop(\"Survived\", axis=1, inplace=True)\n",
    "survived = survived.groupby('Fsize')[['Survived']].sum()\n",
    "died = died.groupby('Fsize')[['Died']].sum()\n",
    "result = pd.concat([died, survived], axis=1)\n",
    "result = result.fillna(0)\n",
    "# convert to proportions\n",
    "total = np.array(result['Died'])+np.array(result['Survived'])\n",
    "result['Died'] = np.array(result[\"Died\"])/total\n",
    "result['Survived'] = np.array(result[\"Survived\"])/total\n",
    "result.plot(kind='bar')"
   ]
  },
  {
   "cell_type": "code",
   "execution_count": 12,
   "metadata": {
    "collapsed": false
   },
   "outputs": [],
   "source": [
    "# clearly we see that the only types of families that survived are mainly those of 2, 3 and 4 people while others seem\n",
    "# to have perished\n",
    "#Hence, we can encode the family size into 3 categorical variables, small, medium and large based on their size\n",
    "def encode_fsize(x):\n",
    "    if x==1:\n",
    "        return 'small'\n",
    "    elif x<5:\n",
    "        return 'medium'\n",
    "    else:\n",
    "        return 'large'"
   ]
  },
  {
   "cell_type": "code",
   "execution_count": 13,
   "metadata": {
    "collapsed": false
   },
   "outputs": [],
   "source": [
    "data['Fsize']=data['Fsize'].apply(encode_fsize)"
   ]
  },
  {
   "cell_type": "code",
   "execution_count": 14,
   "metadata": {
    "collapsed": false
   },
   "outputs": [],
   "source": [
    "data.drop(['SibSp','Parch'], axis=1, inplace=True)"
   ]
  },
  {
   "cell_type": "markdown",
   "metadata": {},
   "source": [
    "### Deck"
   ]
  },
  {
   "cell_type": "code",
   "execution_count": 15,
   "metadata": {
    "collapsed": false
   },
   "outputs": [],
   "source": [
    "# In this part we will utilize the cabin variable that we have to see what was the deck of each passenger\n",
    "# Z if value is nan\n",
    "data['Deck'] = data['Cabin'].apply(lambda x: x[0] if type(x)==type('str') else 'Z')\n",
    "data.drop('Cabin', axis=1, inplace=True)"
   ]
  },
  {
   "cell_type": "markdown",
   "metadata": {},
   "source": [
    "### Ticket prefix"
   ]
  },
  {
   "cell_type": "code",
   "execution_count": 16,
   "metadata": {
    "collapsed": false
   },
   "outputs": [
    {
     "data": {
      "text/plain": [
       "0           A/5 21171\n",
       "1            PC 17599\n",
       "2    STON/O2. 3101282\n",
       "3              113803\n",
       "4              373450\n",
       "Name: Ticket, dtype: object"
      ]
     },
     "execution_count": 16,
     "metadata": {},
     "output_type": "execute_result"
    }
   ],
   "source": [
    "# For this feature we will attempt to examine the significance of the ticket prefix, eg A/5, PC etc\n",
    "data['Ticket'].head()"
   ]
  },
  {
   "cell_type": "code",
   "execution_count": 17,
   "metadata": {
    "collapsed": false
   },
   "outputs": [],
   "source": [
    "data['TicketPrefix'] = data[\"Ticket\"].apply(lambda i: i.split(\" \")[0] if len(i.split(\" \"))>=2 else '0')"
   ]
  },
  {
   "cell_type": "code",
   "execution_count": 18,
   "metadata": {
    "collapsed": false
   },
   "outputs": [],
   "source": [
    "data['TicketPrefix'] = data['TicketPrefix'].apply(lambda x: re.sub(r'[/\\.]', \"\", x))"
   ]
  },
  {
   "cell_type": "markdown",
   "metadata": {},
   "source": [
    "### Fare"
   ]
  },
  {
   "cell_type": "code",
   "execution_count": 19,
   "metadata": {
    "collapsed": false
   },
   "outputs": [],
   "source": [
    "class_port_means = pd.crosstab(data['Pclass'], data['Embarked'], values = data['Fare'], aggfunc='mean',\n",
    "                               rownames=['Pclass'], colnames=['Title'])"
   ]
  },
  {
   "cell_type": "code",
   "execution_count": 20,
   "metadata": {
    "collapsed": false
   },
   "outputs": [],
   "source": [
    "new_fares = []\n",
    "for i in range(len(data)):\n",
    "    if np.array(data['Fare'])[i]<5 or np.isnan(np.array(data['Fare'])[i]):\n",
    "        new_fares.append(class_port_means[np.array(data.Embarked)[i]][np.array(data.Pclass)[i]])\n",
    "    else:\n",
    "        new_fares.append(np.array(data['Fare'])[i])\n",
    "data['Fare'] = new_fares"
   ]
  },
  {
   "cell_type": "markdown",
   "metadata": {},
   "source": [
    "### Age "
   ]
  },
  {
   "cell_type": "code",
   "execution_count": 21,
   "metadata": {
    "collapsed": false
   },
   "outputs": [],
   "source": [
    "not_nan_third_class = data[data.notnull()['Age']]\n",
    "not_nan_third_class = not_nan_third_class[not_nan_third_class['Pclass']==3]\n",
    "data['Age'] = data['Age'].fillna(np.mean(not_nan_third_class['Age']))"
   ]
  },
  {
   "cell_type": "code",
   "execution_count": 22,
   "metadata": {
    "collapsed": false
   },
   "outputs": [],
   "source": [
    "data['Embarked'] = data.replace(to_replace=29.881137667304014, value='S')['Embarked']"
   ]
  },
  {
   "cell_type": "markdown",
   "metadata": {},
   "source": [
    "# New Features"
   ]
  },
  {
   "cell_type": "code",
   "execution_count": null,
   "metadata": {
    "collapsed": true
   },
   "outputs": [],
   "source": []
  },
  {
   "cell_type": "markdown",
   "metadata": {},
   "source": [
    "### Data normalization"
   ]
  },
  {
   "cell_type": "code",
   "execution_count": 23,
   "metadata": {
    "collapsed": false
   },
   "outputs": [
    {
     "name": "stdout",
     "output_type": "stream",
     "text": [
      "Mean Age is  7.743572356629243e-17\n",
      "Mean Fare is  -9.79608551139844e-18\n",
      "SD Age is  0.999999999999997\n",
      "SD Fare is  0.9999999999999997\n"
     ]
    }
   ],
   "source": [
    "#sklearn preprocessing\n",
    "# Note that the values derived are not exactly 0 or 1 but are awefully close to those values.\n",
    "cols_to_normalize = [\"Fare\", \"Age\"]\n",
    "data['Fare'] = preprocessing.scale(data['Fare'])\n",
    "data['Age'] = preprocessing.scale(data['Age'])\n",
    "print(\"Mean Age is \", np.mean(data['Age']))\n",
    "print(\"Mean Fare is \", np.mean(data['Fare']))\n",
    "print(\"SD Age is \", np.std(data['Age']))\n",
    "print(\"SD Fare is \", np.std(data['Fare']))"
   ]
  },
  {
   "cell_type": "markdown",
   "metadata": {},
   "source": [
    "### Data formatting\n",
    "Put the data in the correct format to train our classifiers."
   ]
  },
  {
   "cell_type": "code",
   "execution_count": 24,
   "metadata": {
    "collapsed": false
   },
   "outputs": [],
   "source": [
    "# First, we need to put categorical data into dummy variables. Luckily pandas has a very handy function for that.\n",
    "to_be_replaced = ['Sex', \"Embarked\", 'Deck', 'TicketPrefix', 'Fsize', 'Title']\n",
    "added_cols = pd.get_dummies(data[to_be_replaced])\n",
    "added_cols['PassengerId'] = data['PassengerId']\n",
    "data = pd.merge(data, added_cols, on='PassengerId')\n",
    "tmp = pd.get_dummies(data['Pclass'])\n",
    "tmp.columns=[\"Class 1\", \"Class 2\", \"Class 3\"]\n",
    "tmp['PassengerId'] = data['PassengerId']"
   ]
  },
  {
   "cell_type": "code",
   "execution_count": 25,
   "metadata": {
    "collapsed": false
   },
   "outputs": [],
   "source": [
    "data.drop(to_be_replaced, axis=1, inplace=True)\n",
    "data.drop(\"Pclass\", axis=1, inplace=True)\n",
    "data = pd.merge(data, tmp, on='PassengerId')"
   ]
  },
  {
   "cell_type": "markdown",
   "metadata": {},
   "source": [
    "### Predictions"
   ]
  },
  {
   "cell_type": "code",
   "execution_count": 26,
   "metadata": {
    "collapsed": true
   },
   "outputs": [],
   "source": [
    "train = data[:len(train)]\n",
    "test = data[len(train):]"
   ]
  },
  {
   "cell_type": "code",
   "execution_count": 27,
   "metadata": {
    "collapsed": false
   },
   "outputs": [],
   "source": [
    "X=train.drop(['Ticket', 'Name', 'PassengerId', 'Survived'], axis=1).as_matrix()\n",
    "Y= np.array(train['Survived'])"
   ]
  },
  {
   "cell_type": "code",
   "execution_count": 28,
   "metadata": {
    "collapsed": true
   },
   "outputs": [],
   "source": [
    "#At this point we will define a utility function which will abstract away some of the code for us\n",
    "def report(clf, X, Y):\n",
    "    start=clock()\n",
    "    predicted = cross_validation.cross_val_predict(clf, X, Y, cv=10)\n",
    "    end = clock()\n",
    "    print(\"Accuracy: \", metrics.accuracy_score(Y, predicted))\n",
    "    print(\"Recall: \", metrics.recall_score(Y, predicted))\n",
    "    print(\"Precision: \", metrics.precision_score(Y, predicted))\n",
    "    print(\"F1: \", metrics.f1_score(Y, predicted))\n",
    "    print(\"Time elapsed: \", end-start)"
   ]
  },
  {
   "cell_type": "code",
   "execution_count": 29,
   "metadata": {
    "collapsed": true
   },
   "outputs": [],
   "source": [
    "clf = ensemble.RandomForestClassifier(random_state = 10, warm_start = True, \n",
    "                                  n_estimators = 26,\n",
    "                                  max_depth = 6, \n",
    "                                  max_features = 'sqrt')"
   ]
  },
  {
   "cell_type": "code",
   "execution_count": 30,
   "metadata": {
    "collapsed": false
   },
   "outputs": [
    {
     "name": "stdout",
     "output_type": "stream",
     "text": [
      "Accuracy:  0.841750841751\n",
      "Recall:  0.748538011696\n",
      "Precision:  0.823151125402\n",
      "F1:  0.784073506891\n",
      "Time elapsed:  0.29994200000000015\n"
     ]
    }
   ],
   "source": [
    "report(clf, X, Y)"
   ]
  },
  {
   "cell_type": "markdown",
   "metadata": {},
   "source": [
    "<a name=\"submission\"></a>"
   ]
  },
  {
   "cell_type": "markdown",
   "metadata": {},
   "source": [
    "## Submission"
   ]
  },
  {
   "cell_type": "code",
   "execution_count": null,
   "metadata": {
    "collapsed": true
   },
   "outputs": [],
   "source": [
    "# Gets 1% less on the leaderboard than best solution\n",
    "X_test = test.drop(['Ticket', 'Name', 'PassengerId', 'Survived'], axis=1).as_matrix()\n",
    "clf.fit(X, Y)\n",
    "predictions = clf.predict(X_test)"
   ]
  },
  {
   "cell_type": "code",
   "execution_count": null,
   "metadata": {
    "collapsed": false
   },
   "outputs": [],
   "source": [
    "def make_submission_file(filename, predictions):\n",
    "    results = pd.DataFrame()\n",
    "    results['Survived'] = [int(i) for i in predictions]\n",
    "    results['PassengerId'] = np.array(test.axes[0])+1\n",
    "    results.to_csv(filename,index=False)"
   ]
  },
  {
   "cell_type": "code",
   "execution_count": null,
   "metadata": {
    "collapsed": false
   },
   "outputs": [],
   "source": [
    "#make submission\n",
    "filename = \"predictions/age.csv\"\n",
    "make_submission_file(filename, predictions)"
   ]
  },
  {
   "cell_type": "code",
   "execution_count": null,
   "metadata": {
    "collapsed": true
   },
   "outputs": [],
   "source": []
  }
 ],
 "metadata": {
  "kernelspec": {
   "display_name": "Python 3",
   "language": "python",
   "name": "python3"
  },
  "language_info": {
   "codemirror_mode": {
    "name": "ipython",
    "version": 3
   },
   "file_extension": ".py",
   "mimetype": "text/x-python",
   "name": "python",
   "nbconvert_exporter": "python",
   "pygments_lexer": "ipython3",
   "version": "3.5.1"
  }
 },
 "nbformat": 4,
 "nbformat_minor": 0
}
