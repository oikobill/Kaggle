{
 "cells": [
  {
   "cell_type": "code",
   "execution_count": 3,
   "metadata": {
    "collapsed": false
   },
   "outputs": [],
   "source": [
    "#import the necessary libraries\n",
    "import pandas as pd\n",
    "import numpy as np\n",
    "import matplotlib.pyplot as plt\n",
    "import re\n",
    "import collections\n",
    "from biokit.viz import corrplot\n",
    "from sklearn import preprocessing\n",
    "from sklearn import cross_validation\n",
    "from sklearn import linear_model\n",
    "from sklearn import ensemble\n",
    "from sklearn import svm\n",
    "from sklearn import tree\n",
    "from sklearn import neighbors \n",
    "from sklearn import naive_bayes\n",
    "from sklearn import metrics\n",
    "from sklearn.feature_selection import SelectKBest\n",
    "from sklearn.grid_search import GridSearchCV, RandomizedSearchCV\n",
    "from time import clock\n",
    "import fancyimpute\n",
    "from statsmodels.graphics.mosaicplot import mosaic\n",
    "import warnings\n",
    "warnings.filterwarnings(\"ignore\")\n",
    "%matplotlib inline"
   ]
  },
  {
   "cell_type": "markdown",
   "metadata": {},
   "source": [
    "## Data"
   ]
  },
  {
   "cell_type": "code",
   "execution_count": 10,
   "metadata": {
    "collapsed": false
   },
   "outputs": [],
   "source": [
    "#import our data\n",
    "train = pd.read_csv(\"data/train.csv\")\n",
    "test = pd.read_csv(\"data/test.csv\")\n",
    "data = pd.read_csv(\"data/processed_data.csv\")\n",
    "train = data[:len(train)]\n",
    "test = data[len(train):]"
   ]
  },
  {
   "cell_type": "markdown",
   "metadata": {},
   "source": [
    "## Utils"
   ]
  },
  {
   "cell_type": "code",
   "execution_count": 120,
   "metadata": {
    "collapsed": true
   },
   "outputs": [],
   "source": [
    "def report(clf, X, Y):\n",
    "    start=clock()\n",
    "    predicted = cross_validation.cross_val_predict(clf, X, Y, cv=10)\n",
    "    end = clock()\n",
    "    print(\"Accuracy: \", metrics.accuracy_score(Y, predicted))\n",
    "    print(\"Recall: \", metrics.recall_score(Y, predicted))\n",
    "    print(\"Precision: \", metrics.precision_score(Y, predicted))\n",
    "    print(\"F1: \", metrics.f1_score(Y, predicted))\n",
    "    print(\"Time elapsed: \", end-start)\n",
    "\n",
    "def train_test_model(model, hyperparameters, X_train, X_test, y_train, y_test,\n",
    "                    folds = 10, score='accuracy'):\n",
    "    \"\"\"\n",
    "    Given a [model] and a set of possible [hyperparameters], along with \n",
    "    matricies corresponding to hold-out cross-validation, returns a model w/ \n",
    "    optimized hyperparameters, and prints out model evaluation metrics.\n",
    "    \"\"\"\n",
    "    optimized_model = GridSearchCV(model, hyperparameters, cv = folds, n_jobs = -1, scoring=score)\n",
    "    optimized_model.fit(X_train, y_train)\n",
    "    predicted = optimized_model.predict(X_test)\n",
    "    print ('Optimized parameters:', optimized_model.best_params_)\n",
    "    print ('Model accuracy (hold-out):', optimized_model.score(X_test, y_test))\n",
    "    kfold_score = np.mean(cross_validation.cross_val_score(\n",
    "            optimized_model.best_estimator_, np.append(X_train, X_test, axis = 0), \n",
    "            np.append(y_train, y_test), cv = folds, n_jobs = -1))\n",
    "    print ('Model accuracy ({0}-fold):'.format(str(folds)), kfold_score, '\\n')\n",
    "    return optimized_model\n",
    "\n",
    "def make_submission_file(filename, predictions):\n",
    "    results = pd.DataFrame()\n",
    "    results['Survived'] = [int(i) for i in predictions]\n",
    "    results['PassengerId'] = np.array(test.axes[0])+1\n",
    "    results.to_csv(filename,index=False)"
   ]
  },
  {
   "cell_type": "markdown",
   "metadata": {},
   "source": [
    "## Men"
   ]
  },
  {
   "cell_type": "code",
   "execution_count": 121,
   "metadata": {
    "collapsed": false
   },
   "outputs": [],
   "source": [
    "male_train = train[train.Sex==0]\n",
    "X_male, Y_male = male_train.drop(\"Survived\", axis=1).as_matrix(), np.array(male_train.Survived)\n",
    "X_train_men, X_test_men, y_train_men, y_test_men = cross_validation.train_test_split(X_male, Y_male, test_size = 0.2)"
   ]
  },
  {
   "cell_type": "code",
   "execution_count": 122,
   "metadata": {
    "collapsed": false
   },
   "outputs": [
    {
     "name": "stdout",
     "output_type": "stream",
     "text": [
      "Optimized parameters: {'class_weight': None, 'C': 10}\n",
      "Model accuracy (hold-out): 0.818965517241\n",
      "Model accuracy (10-fold): 0.83713810388 \n",
      "\n",
      "Accuracy:  0.830155979203\n",
      "Recall:  0.275229357798\n",
      "Precision:  0.612244897959\n",
      "F1:  0.379746835443\n",
      "Time elapsed:  0.12097400000004654\n"
     ]
    }
   ],
   "source": [
    "#Logistic Regression\n",
    "lr_men = train_test_model(\n",
    "    linear_model.LogisticRegression(), {\n",
    "        'C': [0.0001,0.001, 0.01, 0.1, 1, 10, 100, 1000],\n",
    "        'class_weight': [None, 'balanced', {0:1, 1:2}, {0:1, 1:10}, {0:1, 1:100}, {0:1, 1:1000}]}, \n",
    "    X_train_men, X_test_men, y_train_men, y_test_men)\n",
    "lr_men = lr_men.best_estimator_\n",
    "report(lr_men, X_male, Y_male)"
   ]
  },
  {
   "cell_type": "code",
   "execution_count": 123,
   "metadata": {
    "collapsed": false
   },
   "outputs": [
    {
     "name": "stdout",
     "output_type": "stream",
     "text": [
      "Optimized parameters: {'n_neighbors': 5}\n",
      "Model accuracy (hold-out): 0.818965517241\n",
      "Model accuracy (10-fold): 0.83011731916 \n",
      "\n",
      "Accuracy:  0.82842287695\n",
      "Recall:  0.284403669725\n",
      "Precision:  0.596153846154\n",
      "F1:  0.385093167702\n",
      "Time elapsed:  0.7843369999999368\n"
     ]
    }
   ],
   "source": [
    "# K Nearest Neighbors\n",
    "knn_men = train_test_model(\n",
    "    neighbors.KNeighborsClassifier(), {\n",
    "        'n_neighbors': np.array([num + 1 for num in range(0, 20) if num % 2 == 0])}, \n",
    "    X_train_men, X_test_men, y_train_men, y_test_men)\n",
    "knn_men = knn_men.best_estimator_\n",
    "report(knn_men, X_male, Y_male)"
   ]
  },
  {
   "cell_type": "code",
   "execution_count": null,
   "metadata": {
    "collapsed": false
   },
   "outputs": [
    {
     "name": "stdout",
     "output_type": "stream",
     "text": [
      "Optimized parameters: {'gamma': 0.01, 'C': 10}\n",
      "Model accuracy (hold-out): 0.818965517241\n",
      "Model accuracy (10-fold): 0.852714761041 \n",
      "\n",
      "Accuracy:  0.852686308492\n",
      "Recall:  0.220183486239\n",
      "Precision:  1.0\n",
      "F1:  0.360902255639\n",
      "Time elapsed:  10.243816000000038\n"
     ]
    }
   ],
   "source": [
    "# SVM\n",
    "svm_men = train_test_model(\n",
    "    svm.SVC(probability = True, random_state = 25), {\n",
    "        'C': [0.001, 0.01, 0.1, 1, 10, 100, 1000],\n",
    "        'gamma': np.logspace(-9, 3, 13)}, \n",
    "    X_train_men, X_test_men, y_train_men, y_test_men)\n",
    "svm_men = svm_men.best_estimator_\n",
    "report(svm_men, X_male, Y_male)"
   ]
  },
  {
   "cell_type": "code",
   "execution_count": null,
   "metadata": {
    "collapsed": false
   },
   "outputs": [],
   "source": [
    "# Random Forest\n",
    "rf_men = train_test_model(\n",
    "    ensemble.RandomForestClassifier(random_state = 25), {\n",
    "    \"warm_start\":[True, False],\n",
    "    \"n_estimators\":[50, 400, 800],\n",
    "    \"max_depth\":[None, 5, 10, 20],\n",
    "    \"max_features\":[None, 100, 300, 500]\n",
    "}, X_train_men, X_test_men, y_train_men, y_test_men)\n",
    "rf_men = rf_men.best_estimator_\n",
    "\n",
    "report(rf_men, X_male, Y_male)"
   ]
  },
  {
   "cell_type": "code",
   "execution_count": null,
   "metadata": {
    "collapsed": false
   },
   "outputs": [],
   "source": [
    "combined = ensemble.VotingClassifier([('2', rf_men), ('4', svm_men)], \n",
    "                                     weights=[1,2],voting='soft)\n",
    "report(combined, X_male, Y_male)"
   ]
  },
  {
   "cell_type": "markdown",
   "metadata": {},
   "source": [
    "## Women"
   ]
  },
  {
   "cell_type": "code",
   "execution_count": null,
   "metadata": {
    "collapsed": true
   },
   "outputs": [],
   "source": [
    "female_train = train[train.Sex==1]\n",
    "X_female, Y_female = female_train.drop(\"Survived\", axis=1).as_matrix(), np.array(female_train.Survived)\n",
    "X_train_women, X_test_women, y_train_women, y_test_women = cross_validation.train_test_split(X_female, \n",
    "                                                                                             Y_female, test_size = 0.2)"
   ]
  },
  {
   "cell_type": "code",
   "execution_count": null,
   "metadata": {
    "collapsed": false
   },
   "outputs": [],
   "source": [
    "#Logistic Regression\n",
    "lr_women = train_test_model(\n",
    "    linear_model.LogisticRegression(), {\n",
    "        'C': [0.0001,0.001, 0.01, 0.1, 1, 10, 100, 1000],\n",
    "        'class_weight': [None, 'balanced', {0:1, 1:2}, {0:1, 1:10}, {0:1, 1:100}, {0:1, 1:1000}]}, \n",
    "    X_train_women, X_test_women, y_train_women, y_test_women)\n",
    "lr_women = lr_women.best_estimator_\n",
    "report(lr_women, X_female, Y_female)"
   ]
  },
  {
   "cell_type": "code",
   "execution_count": null,
   "metadata": {
    "collapsed": false
   },
   "outputs": [],
   "source": [
    "# K Nearest Neighbors\n",
    "knn_women = train_test_model(\n",
    "    neighbors.KNeighborsClassifier(), {\n",
    "        'n_neighbors': np.array([num + 1 for num in range(0, 20) if num % 2 == 0])}, \n",
    "    X_train_women, X_test_women, y_train_women, y_test_women)\n",
    "knn_women = knn_women.best_estimator_\n",
    "report(knn_women, X_female, Y_female)"
   ]
  },
  {
   "cell_type": "code",
   "execution_count": null,
   "metadata": {
    "collapsed": false
   },
   "outputs": [],
   "source": [
    "# SVM\n",
    "svm_women = train_test_model(\n",
    "    svm.SVC(probability = True, random_state = 25), {\n",
    "        'C': [0.001, 0.01, 0.1, 1, 10, 100, 1000],\n",
    "        'gamma': np.logspace(-9, 3, 13)}, \n",
    "    X_train_women, X_test_women, y_train_women, y_test_women)\n",
    "svm_women = svm_women.best_estimator_\n",
    "report(svm_women, X_female, Y_female)"
   ]
  },
  {
   "cell_type": "code",
   "execution_count": null,
   "metadata": {
    "collapsed": false
   },
   "outputs": [],
   "source": [
    "# Random Forest\n",
    "rf_women = train_test_model(\n",
    "    ensemble.RandomForestClassifier(random_state = 25), {\n",
    "    \"warm_start\":[True, False],\n",
    "    \"n_estimators\":[50, 400, 800],\n",
    "    \"max_depth\":[None, 5, 10, 20],\n",
    "    \"max_features\":[None, 100, 300, 500]\n",
    "}, X_train_women, X_test_women, y_train_women, y_test_women)\n",
    "rf_women = rf_women.best_estimator_\n",
    "\n",
    "report(rf_women, X_female, Y_female)"
   ]
  },
  {
   "cell_type": "code",
   "execution_count": null,
   "metadata": {
    "collapsed": false
   },
   "outputs": [],
   "source": [
    "combined_w = ensemble.VotingClassifier([('2', lr_women), ('4', svm_women)], \n",
    "                                     weights=[3,2],voting='soft')\n",
    "report(combined_w, X_female, Y_female)"
   ]
  },
  {
   "cell_type": "markdown",
   "metadata": {},
   "source": [
    "## Submission"
   ]
  },
  {
   "cell_type": "code",
   "execution_count": null,
   "metadata": {
    "collapsed": false
   },
   "outputs": [],
   "source": [
    "X_test = test.drop(\"Survived\", axis=1).as_matrix()\n",
    "sex = np.array(test.Sex)"
   ]
  },
  {
   "cell_type": "code",
   "execution_count": null,
   "metadata": {
    "collapsed": false
   },
   "outputs": [],
   "source": [
    "combined.fit(X_male, Y_male)\n",
    "combined_w.fit(X_female, Y_female)"
   ]
  },
  {
   "cell_type": "code",
   "execution_count": 102,
   "metadata": {
    "collapsed": false
   },
   "outputs": [],
   "source": [
    "# 80.03 % on leaderboard\n",
    "preds = []\n",
    "for i in range(len(sex)):\n",
    "    if sex[i]==0:\n",
    "        preds.append(combined.predict(X_test[i]))\n",
    "    else:\n",
    "        preds.append(combined_w.predict(X_test[i]))"
   ]
  },
  {
   "cell_type": "code",
   "execution_count": 103,
   "metadata": {
    "collapsed": false
   },
   "outputs": [],
   "source": [
    "#make submission\n",
    "filename = \"predictions/women_men.csv\"\n",
    "make_submission_file(filename, preds)"
   ]
  },
  {
   "cell_type": "code",
   "execution_count": null,
   "metadata": {
    "collapsed": true
   },
   "outputs": [],
   "source": []
  }
 ],
 "metadata": {
  "kernelspec": {
   "display_name": "Python 3",
   "language": "python",
   "name": "python3"
  },
  "language_info": {
   "codemirror_mode": {
    "name": "ipython",
    "version": 3
   },
   "file_extension": ".py",
   "mimetype": "text/x-python",
   "name": "python",
   "nbconvert_exporter": "python",
   "pygments_lexer": "ipython3",
   "version": "3.5.1"
  }
 },
 "nbformat": 4,
 "nbformat_minor": 0
}
