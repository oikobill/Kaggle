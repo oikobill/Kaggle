{
 "cells": [
  {
   "cell_type": "code",
   "execution_count": 156,
   "metadata": {
    "collapsed": false
   },
   "outputs": [],
   "source": [
    "#import the necessary libraries\n",
    "import pandas as pd\n",
    "import numpy as np\n",
    "import matplotlib.pyplot as plt\n",
    "import re\n",
    "import collections\n",
    "from biokit.viz import corrplot\n",
    "from sklearn import preprocessing\n",
    "from sklearn import cross_validation\n",
    "from sklearn import linear_model\n",
    "from sklearn import ensemble\n",
    "from sklearn import svm\n",
    "from sklearn import tree\n",
    "from sklearn import neighbors \n",
    "from sklearn import naive_bayes\n",
    "from sklearn import metrics\n",
    "from sklearn.feature_selection import SelectKBest\n",
    "from sklearn.grid_search import GridSearchCV, RandomizedSearchCV\n",
    "from time import clock\n",
    "import fancyimpute\n",
    "from statsmodels.graphics.mosaicplot import mosaic\n",
    "import warnings\n",
    "warnings.filterwarnings(\"ignore\")\n",
    "%matplotlib inline"
   ]
  },
  {
   "cell_type": "markdown",
   "metadata": {},
   "source": [
    "## Data"
   ]
  },
  {
   "cell_type": "code",
   "execution_count": 157,
   "metadata": {
    "collapsed": false
   },
   "outputs": [],
   "source": [
    "#import our data\n",
    "train = pd.read_csv(\"data/train.csv\")\n",
    "test = pd.read_csv(\"data/test.csv\")\n",
    "data = pd.read_csv(\"data/processed_data.csv\")\n",
    "train = data[:len(train)]\n",
    "test = data[len(train):]\n",
    "X, Y = train.drop(\"Survived\", axis=1).as_matrix(), train.Survived"
   ]
  },
  {
   "cell_type": "markdown",
   "metadata": {},
   "source": [
    "## Utils"
   ]
  },
  {
   "cell_type": "code",
   "execution_count": 238,
   "metadata": {
    "collapsed": true
   },
   "outputs": [],
   "source": [
    "def report(clf, X, Y):\n",
    "    start=clock()\n",
    "    predicted = cross_validation.cross_val_predict(clf, X, Y, cv=10)\n",
    "    end = clock()\n",
    "    print(\"Accuracy: \", metrics.accuracy_score(Y, predicted))\n",
    "    print(\"Recall: \", metrics.recall_score(Y, predicted))\n",
    "    print(\"Precision: \", metrics.precision_score(Y, predicted))\n",
    "    print(\"F1: \", metrics.f1_score(Y, predicted))\n",
    "    print(\"Time elapsed: \", end-start)\n",
    "    return predicted\n",
    "\n",
    "def train_test_model(model, hyperparameters, X_train, X_test, y_train, y_test,\n",
    "                    folds = 10, score='accuracy'):\n",
    "    \"\"\"\n",
    "    Given a [model] and a set of possible [hyperparameters], along with \n",
    "    matricies corresponding to hold-out cross-validation, returns a model w/ \n",
    "    optimized hyperparameters, and prints out model evaluation metrics.\n",
    "    \"\"\"\n",
    "    optimized_model = GridSearchCV(model, hyperparameters, cv = folds, n_jobs = -1, scoring=score)\n",
    "    optimized_model.fit(X_train, y_train)\n",
    "    predicted = optimized_model.predict(X_test)\n",
    "    print ('Optimized parameters:', optimized_model.best_params_)\n",
    "    print ('Model accuracy (hold-out):', optimized_model.score(X_test, y_test))\n",
    "    kfold_score = np.mean(cross_validation.cross_val_score(\n",
    "            optimized_model.best_estimator_, np.append(X_train, X_test, axis = 0), \n",
    "            np.append(y_train, y_test), cv = folds, n_jobs = -1))\n",
    "    print ('Model accuracy ({0}-fold):'.format(str(folds)), kfold_score, '\\n')\n",
    "    return optimized_model\n",
    "\n",
    "def make_submission_file(filename, predictions):\n",
    "    results = pd.DataFrame()\n",
    "    results['Survived'] = [int(i) for i in predictions]\n",
    "    results['PassengerId'] = np.array(test.axes[0])+1\n",
    "    results.to_csv(filename,index=False)"
   ]
  },
  {
   "cell_type": "markdown",
   "metadata": {},
   "source": [
    "## Men"
   ]
  },
  {
   "cell_type": "code",
   "execution_count": 159,
   "metadata": {
    "collapsed": false
   },
   "outputs": [],
   "source": [
    "male_train = train[train.Sex==0]\n",
    "X_male, Y_male = male_train.drop(\"Survived\", axis=1).as_matrix(), np.array(male_train.Survived)\n",
    "X_train_men, X_test_men, y_train_men, y_test_men = cross_validation.train_test_split(X_male, Y_male, test_size = 0.2)"
   ]
  },
  {
   "cell_type": "code",
   "execution_count": 160,
   "metadata": {
    "collapsed": false
   },
   "outputs": [
    {
     "name": "stdout",
     "output_type": "stream",
     "text": [
      "Optimized parameters: {'class_weight': None, 'C': 10}\n",
      "Model accuracy (hold-out): 0.887931034483\n",
      "Model accuracy (10-fold): 0.830240471869 \n",
      "\n",
      "Accuracy:  0.830155979203\n",
      "Recall:  0.275229357798\n",
      "Precision:  0.612244897959\n",
      "F1:  0.379746835443\n",
      "Time elapsed:  0.26143500000011954\n"
     ]
    }
   ],
   "source": [
    "#Logistic Regression\n",
    "lr_men = train_test_model(\n",
    "    linear_model.LogisticRegression(), {\n",
    "        'C': [0.0001,0.001, 0.01, 0.1, 1, 10, 100, 1000],\n",
    "        'class_weight': [None, 'balanced', {0:1, 1:2}, {0:1, 1:10}, {0:1, 1:100}, {0:1, 1:1000}]}, \n",
    "    X_train_men, X_test_men, y_train_men, y_test_men)\n",
    "lr_men = lr_men.best_estimator_\n",
    "report(lr_men, X_male, Y_male)"
   ]
  },
  {
   "cell_type": "code",
   "execution_count": 161,
   "metadata": {
    "collapsed": false
   },
   "outputs": [
    {
     "name": "stdout",
     "output_type": "stream",
     "text": [
      "Optimized parameters: {'n_neighbors': 9}\n",
      "Model accuracy (hold-out): 0.870689655172\n",
      "Model accuracy (10-fold): 0.83362609109 \n",
      "\n",
      "Accuracy:  0.82842287695\n",
      "Recall:  0.256880733945\n",
      "Precision:  0.608695652174\n",
      "F1:  0.361290322581\n",
      "Time elapsed:  0.7719740000000002\n"
     ]
    }
   ],
   "source": [
    "# K Nearest Neighbors\n",
    "knn_men = train_test_model(\n",
    "    neighbors.KNeighborsClassifier(), {\n",
    "        'n_neighbors': np.array([num + 1 for num in range(0, 20) if num % 2 == 0])}, \n",
    "    X_train_men, X_test_men, y_train_men, y_test_men)\n",
    "knn_men = knn_men.best_estimator_\n",
    "report(knn_men, X_male, Y_male)"
   ]
  },
  {
   "cell_type": "code",
   "execution_count": 162,
   "metadata": {
    "collapsed": false
   },
   "outputs": [
    {
     "name": "stdout",
     "output_type": "stream",
     "text": [
      "Optimized parameters: {'gamma': 0.01, 'C': 10}\n",
      "Model accuracy (hold-out): 0.922413793103\n",
      "Model accuracy (10-fold): 0.849328061533 \n",
      "\n",
      "Accuracy:  0.852686308492\n",
      "Recall:  0.220183486239\n",
      "Precision:  1.0\n",
      "F1:  0.360902255639\n",
      "Time elapsed:  12.39700599999992\n"
     ]
    }
   ],
   "source": [
    "# SVM\n",
    "svm_men = train_test_model(\n",
    "    svm.SVC(probability = True, random_state = 25), {\n",
    "        'C': [0.001, 0.01, 0.1, 1, 10, 100, 1000],\n",
    "        'gamma': np.logspace(-9, 3, 13)}, \n",
    "    X_train_men, X_test_men, y_train_men, y_test_men)\n",
    "svm_men = svm_men.best_estimator_\n",
    "report(svm_men, X_male, Y_male)"
   ]
  },
  {
   "cell_type": "code",
   "execution_count": 163,
   "metadata": {
    "collapsed": false
   },
   "outputs": [
    {
     "name": "stdout",
     "output_type": "stream",
     "text": [
      "Optimized parameters: {'warm_start': True, 'max_depth': None, 'max_features': 100, 'n_estimators': 400}\n",
      "Model accuracy (hold-out): 0.913793103448\n",
      "Model accuracy (10-fold): 0.833779491833 \n",
      "\n",
      "Accuracy:  0.847487001733\n",
      "Recall:  0.238532110092\n",
      "Precision:  0.838709677419\n",
      "F1:  0.371428571429\n",
      "Time elapsed:  11.885559999999941\n"
     ]
    }
   ],
   "source": [
    "# Random Forest\n",
    "rf_men = train_test_model(\n",
    "    ensemble.RandomForestClassifier(random_state = 25), {\n",
    "    \"warm_start\":[True, False],\n",
    "    \"n_estimators\":[50, 400, 800],\n",
    "    \"max_depth\":[None, 5, 10, 20],\n",
    "    \"max_features\":[None, 100, 300, 500]\n",
    "}, X_train_men, X_test_men, y_train_men, y_test_men)\n",
    "rf_men = rf_men.best_estimator_\n",
    "\n",
    "report(rf_men, X_male, Y_male)"
   ]
  },
  {
   "cell_type": "code",
   "execution_count": 235,
   "metadata": {
    "collapsed": false
   },
   "outputs": [
    {
     "name": "stdout",
     "output_type": "stream",
     "text": [
      "Accuracy:  0.847487001733\n",
      "Recall:  0.229357798165\n",
      "Precision:  0.862068965517\n",
      "F1:  0.36231884058\n",
      "Time elapsed:  0.540903999999955\n"
     ]
    }
   ],
   "source": [
    "ridge_men = linear_model.RidgeClassifier(alpha=10)\n",
    "report(ridge_men, X_male, Y_male)"
   ]
  },
  {
   "cell_type": "markdown",
   "metadata": {},
   "source": [
    "## Women"
   ]
  },
  {
   "cell_type": "code",
   "execution_count": 165,
   "metadata": {
    "collapsed": true
   },
   "outputs": [],
   "source": [
    "female_train = train[train.Sex==1]\n",
    "X_female, Y_female = female_train.drop(\"Survived\", axis=1).as_matrix(), np.array(female_train.Survived)\n",
    "X_train_women, X_test_women, y_train_women, y_test_women = cross_validation.train_test_split(X_female, \n",
    "                                                                                             Y_female, test_size = 0.2)"
   ]
  },
  {
   "cell_type": "code",
   "execution_count": 166,
   "metadata": {
    "collapsed": false
   },
   "outputs": [
    {
     "name": "stdout",
     "output_type": "stream",
     "text": [
      "Optimized parameters: {'class_weight': {0: 1, 1: 10}, 'C': 10}\n",
      "Model accuracy (hold-out): 0.809523809524\n",
      "Model accuracy (10-fold): 0.856717375367 \n",
      "\n",
      "Accuracy:  0.856687898089\n",
      "Recall:  0.987124463519\n",
      "Precision:  0.845588235294\n",
      "F1:  0.910891089109\n",
      "Time elapsed:  0.1478349999999864\n"
     ]
    }
   ],
   "source": [
    "#Logistic Regression\n",
    "lr_women = train_test_model(\n",
    "    linear_model.LogisticRegression(), {\n",
    "        'C': [0.0001,0.001, 0.01, 0.1, 1, 10, 100, 1000],\n",
    "        'class_weight': [None, 'balanced', {0:1, 1:2}, {0:1, 1:10}, {0:1, 1:100}, {0:1, 1:1000}]}, \n",
    "    X_train_women, X_test_women, y_train_women, y_test_women)\n",
    "lr_women = lr_women.best_estimator_\n",
    "report(lr_women, X_female, Y_female)"
   ]
  },
  {
   "cell_type": "code",
   "execution_count": 167,
   "metadata": {
    "collapsed": false
   },
   "outputs": [
    {
     "name": "stdout",
     "output_type": "stream",
     "text": [
      "Optimized parameters: {'n_neighbors': 11}\n",
      "Model accuracy (hold-out): 0.761904761905\n",
      "Model accuracy (10-fold): 0.802880620723 \n",
      "\n",
      "Accuracy:  0.796178343949\n",
      "Recall:  0.909871244635\n",
      "Precision:  0.83137254902\n",
      "F1:  0.868852459016\n",
      "Time elapsed:  0.19590100000004895\n"
     ]
    }
   ],
   "source": [
    "# K Nearest Neighbors\n",
    "knn_women = train_test_model(\n",
    "    neighbors.KNeighborsClassifier(), {\n",
    "        'n_neighbors': np.array([num + 1 for num in range(0, 20) if num % 2 == 0])}, \n",
    "    X_train_women, X_test_women, y_train_women, y_test_women)\n",
    "knn_women = knn_women.best_estimator_\n",
    "report(knn_women, X_female, Y_female)"
   ]
  },
  {
   "cell_type": "code",
   "execution_count": 168,
   "metadata": {
    "collapsed": false
   },
   "outputs": [
    {
     "name": "stdout",
     "output_type": "stream",
     "text": [
      "Optimized parameters: {'gamma': 0.10000000000000001, 'C': 10}\n",
      "Model accuracy (hold-out): 0.777777777778\n",
      "Model accuracy (10-fold): 0.834243646139 \n",
      "\n",
      "Accuracy:  0.837579617834\n",
      "Recall:  0.905579399142\n",
      "Precision:  0.879166666667\n",
      "F1:  0.892177589852\n",
      "Time elapsed:  3.7402669999999034\n"
     ]
    }
   ],
   "source": [
    "# SVM\n",
    "svm_women = train_test_model(\n",
    "    svm.SVC(probability = True, random_state = 25), {\n",
    "        'C': [0.001, 0.01, 0.1, 1, 10, 100, 1000],\n",
    "        'gamma': np.logspace(-9, 3, 13)}, \n",
    "    X_train_women, X_test_women, y_train_women, y_test_women)\n",
    "svm_women = svm_women.best_estimator_\n",
    "report(svm_women, X_female, Y_female)"
   ]
  },
  {
   "cell_type": "code",
   "execution_count": 169,
   "metadata": {
    "collapsed": false
   },
   "outputs": [
    {
     "name": "stdout",
     "output_type": "stream",
     "text": [
      "Optimized parameters: {'warm_start': True, 'max_depth': None, 'max_features': 100, 'n_estimators': 50}\n",
      "Model accuracy (hold-out): 0.761904761905\n",
      "Model accuracy (10-fold): 0.828289956012 \n",
      "\n",
      "Accuracy:  0.815286624204\n",
      "Recall:  0.914163090129\n",
      "Precision:  0.848605577689\n",
      "F1:  0.880165289256\n",
      "Time elapsed:  0.9390450000000783\n"
     ]
    }
   ],
   "source": [
    "# Random Forest\n",
    "rf_women = train_test_model(\n",
    "    ensemble.RandomForestClassifier(random_state = 25), {\n",
    "    \"warm_start\":[True, False],\n",
    "    \"n_estimators\":[50, 400, 800],\n",
    "    \"max_depth\":[None, 5, 10, 20],\n",
    "    \"max_features\":[None, 100, 300, 500]\n",
    "}, X_train_women, X_test_women, y_train_women, y_test_women)\n",
    "rf_women = rf_women.best_estimator_\n",
    "\n",
    "report(rf_women, X_female, Y_female)"
   ]
  },
  {
   "cell_type": "code",
   "execution_count": 170,
   "metadata": {
    "collapsed": false
   },
   "outputs": [
    {
     "name": "stdout",
     "output_type": "stream",
     "text": [
      "Accuracy:  0.859872611465\n",
      "Recall:  0.974248927039\n",
      "Precision:  0.856603773585\n",
      "F1:  0.911646586345\n",
      "Time elapsed:  6.430282999999918\n"
     ]
    }
   ],
   "source": [
    "combined_w = ensemble.VotingClassifier([('2', lr_women), ('4', svm_women)],voting='soft')\n",
    "report(combined_w, X_female, Y_female)"
   ]
  },
  {
   "cell_type": "code",
   "execution_count": null,
   "metadata": {
    "collapsed": true
   },
   "outputs": [],
   "source": [
    "# if you combine svm_men and combined_w you get 80.8 on the leaderboard"
   ]
  },
  {
   "cell_type": "markdown",
   "metadata": {},
   "source": [
    "## Submission"
   ]
  },
  {
   "cell_type": "code",
   "execution_count": 207,
   "metadata": {
    "collapsed": false
   },
   "outputs": [],
   "source": [
    "X_test = test.drop(\"Survived\", axis=1).as_matrix()\n",
    "sex = np.array(test.Sex)"
   ]
  },
  {
   "cell_type": "code",
   "execution_count": 17,
   "metadata": {
    "collapsed": false
   },
   "outputs": [
    {
     "data": {
      "text/plain": [
       "VotingClassifier(estimators=[('2', LogisticRegression(C=1000, class_weight={0: 1, 1: 2}, dual=False,\n",
       "          fit_intercept=True, intercept_scaling=1, max_iter=100,\n",
       "          multi_class='ovr', n_jobs=1, penalty='l2', random_state=None,\n",
       "          solver='liblinear', tol=0.0001, verbose=0, warm_start=False)), ('4', ...bf',\n",
       "  max_iter=-1, probability=True, random_state=25, shrinking=True,\n",
       "  tol=0.001, verbose=False))],\n",
       "         voting='soft', weights=[3, 2])"
      ]
     },
     "execution_count": 17,
     "metadata": {},
     "output_type": "execute_result"
    }
   ],
   "source": [
    "svm_men.fit(X_male, Y_male)\n",
    "combined_w.fit(X_female, Y_female)"
   ]
  },
  {
   "cell_type": "code",
   "execution_count": 22,
   "metadata": {
    "collapsed": false
   },
   "outputs": [],
   "source": [
    "preds = []\n",
    "for i in range(len(sex)):\n",
    "    if sex[i]==0:\n",
    "        preds.append(svm_men.predict(X_test[i]))\n",
    "    else:\n",
    "        preds.append(combined_w.predict(X_test[i]))"
   ]
  },
  {
   "cell_type": "code",
   "execution_count": 222,
   "metadata": {
    "collapsed": false
   },
   "outputs": [],
   "source": [
    "combo.fit(X, Y)\n",
    "preds = combo.predict(X_test)"
   ]
  },
  {
   "cell_type": "code",
   "execution_count": 223,
   "metadata": {
    "collapsed": false
   },
   "outputs": [],
   "source": [
    "#make submission\n",
    "filename = \"predictions/new_combo.csv\"\n",
    "make_submission_file(filename, preds)"
   ]
  },
  {
   "cell_type": "code",
   "execution_count": null,
   "metadata": {
    "collapsed": true
   },
   "outputs": [],
   "source": []
  }
 ],
 "metadata": {
  "kernelspec": {
   "display_name": "Python 3",
   "language": "python",
   "name": "python3"
  },
  "language_info": {
   "codemirror_mode": {
    "name": "ipython",
    "version": 3
   },
   "file_extension": ".py",
   "mimetype": "text/x-python",
   "name": "python",
   "nbconvert_exporter": "python",
   "pygments_lexer": "ipython3",
   "version": "3.4.4"
  }
 },
 "nbformat": 4,
 "nbformat_minor": 0
}
