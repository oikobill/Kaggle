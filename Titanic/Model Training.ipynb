{
 "cells": [
  {
   "cell_type": "code",
   "execution_count": 1,
   "metadata": {
    "collapsed": true
   },
   "outputs": [],
   "source": [
    "#import the necessary libraries\n",
    "import pandas as pd\n",
    "import numpy as np\n",
    "from sklearn import cross_validation, linear_model, ensemble, svm, tree, neighbors, naive_bayes, metrics\n",
    "from sklearn.feature_selection import SelectKBest\n",
    "from sklearn.grid_search import GridSearchCV, RandomizedSearchCV\n",
    "from time import clock\n",
    "import warnings\n",
    "warnings.filterwarnings(\"ignore\")"
   ]
  },
  {
   "cell_type": "code",
   "execution_count": 7,
   "metadata": {
    "collapsed": true
   },
   "outputs": [],
   "source": [
    "#import data\n",
    "data = pd.read_csv(\"processed_data.csv\")"
   ]
  },
  {
   "cell_type": "markdown",
   "metadata": {},
   "source": [
    "## Format data"
   ]
  },
  {
   "cell_type": "code",
   "execution_count": 8,
   "metadata": {
    "collapsed": false
   },
   "outputs": [],
   "source": [
    "# First, we need to put categorical data into dummy variables. Luckily pandas has a very handy function for that.\n",
    "to_be_replaced = ['Sex', \"Embarked\", 'Deck', 'TicketPrefix', 'Fsize', 'Title']\n",
    "added_cols = pd.get_dummies(data[to_be_replaced])\n",
    "added_cols['PassengerId'] = data['PassengerId']\n",
    "data = pd.merge(data, added_cols, on='PassengerId')\n",
    "tmp = pd.get_dummies(data['Pclass'])\n",
    "tmp.columns=[\"Class 1\", \"Class 2\", \"Class 3\"]\n",
    "tmp['PassengerId'] = data['PassengerId']\n",
    "data.drop(to_be_replaced, axis=1, inplace=True)\n",
    "data.drop(\"Pclass\", axis=1, inplace=True)\n",
    "data = pd.merge(data, tmp, on='PassengerId')"
   ]
  },
  {
   "cell_type": "code",
   "execution_count": 11,
   "metadata": {
    "collapsed": false
   },
   "outputs": [],
   "source": [
    "train = data[:len(train)]\n",
    "test = data[len(train):]\n",
    "X=train.drop(['Ticket', 'Name', 'PassengerId', 'Survived'], axis=1).as_matrix()\n",
    "Y= np.array(train['Survived'])"
   ]
  },
  {
   "cell_type": "code",
   "execution_count": 12,
   "metadata": {
    "collapsed": true
   },
   "outputs": [],
   "source": [
    "#At this point we will define a utility function which will abstract away some of the code for us\n",
    "def report(clf, X, Y):\n",
    "    start=clock()\n",
    "    predicted = cross_validation.cross_val_predict(clf, X, Y, cv=10)\n",
    "    end = clock()\n",
    "    print(\"Accuracy: \", metrics.accuracy_score(Y, predicted))\n",
    "    print(\"Recall: \", metrics.recall_score(Y, predicted))\n",
    "    print(\"Precision: \", metrics.precision_score(Y, predicted))\n",
    "    print(\"F1: \", metrics.f1_score(Y, predicted))\n",
    "    print(\"Time elapsed: \", end-start)"
   ]
  },
  {
   "cell_type": "code",
   "execution_count": 13,
   "metadata": {
    "collapsed": true
   },
   "outputs": [],
   "source": [
    "#hello "
   ]
  },
  {
   "cell_type": "code",
   "execution_count": null,
   "metadata": {
    "collapsed": true
   },
   "outputs": [],
   "source": []
  }
 ],
 "metadata": {
  "kernelspec": {
   "display_name": "Python 3",
   "language": "python",
   "name": "python3"
  },
  "language_info": {
   "codemirror_mode": {
    "name": "ipython",
    "version": 3
   },
   "file_extension": ".py",
   "mimetype": "text/x-python",
   "name": "python",
   "nbconvert_exporter": "python",
   "pygments_lexer": "ipython3",
   "version": "3.5.1"
  }
 },
 "nbformat": 4,
 "nbformat_minor": 0
}
