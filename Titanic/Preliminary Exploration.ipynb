{
 "cells": [
  {
   "cell_type": "markdown",
   "metadata": {},
   "source": [
    "# Titanic -- Preliminary Exploration\n",
    "\n",
    "**Author**:  _Vasilis Oikonomou_\n",
    "\n",
    "\n",
    "**Language**:  _Python 3_\n",
    "\n",
    "\n",
    "**Date**:  _June 24th 2016_\n",
    "\n",
    "**Version**:  1"
   ]
  },
  {
   "cell_type": "markdown",
   "metadata": {},
   "source": [
    "## Table of Contents\n",
    "\n",
    "* **[Understanding the dataset](#intro)**\n",
    " * [What do the variables mean?](#vars)\n",
    " * _[Variable Importance(first taste)](#var_imp)\n",
    "* **[Feature Engineering](#feats)**\n",
    " * [Title](#title)\n",
    " * [Family Size](#fsize)\n",
    " * [Deck](#deck)\n",
    " * [Ticket prefix](#ticket)\n",
    "* **[Data Curation](#cur)**\n",
    " * [Fare](#fare)\n",
    " * [Age](#age)\n",
    "* **[Visualizations!](#viz)**\n",
    "* **[Model Formulation](#model)**\n",
    "* **[Submission](#submission)**"
   ]
  },
  {
   "cell_type": "markdown",
   "metadata": {},
   "source": [
    "<a name=\"intro\"></a>"
   ]
  },
  {
   "cell_type": "markdown",
   "metadata": {},
   "source": [
    "## Understanding the dataset\n",
    "**Welcome to my exploration of the _Titanic_ dataset on Kaggle. This document contains a first exploration of the data set along with a simple first submission. I am a beginner in ML so definitely feel free to comment your suggestions below so that I can include them in future versions!**\n",
    "\n",
    "***Hope you enjoy this!,***\n",
    "   \n",
    "   \n",
    "   **V**"
   ]
  },
  {
   "cell_type": "code",
   "execution_count": 1,
   "metadata": {
    "collapsed": false
   },
   "outputs": [],
   "source": [
    "#import the necessary libraries\n",
    "import pandas as pd\n",
    "import numpy as np\n",
    "import matplotlib.pyplot as plt\n",
    "import re\n",
    "from biokit.viz import corrplot\n",
    "from sklearn import preprocessing\n",
    "from sklearn import cross_validation\n",
    "from sklearn import linear_model\n",
    "from sklearn import ensemble\n",
    "from sklearn import svm\n",
    "from sklearn import tree\n",
    "from sklearn import neighbors \n",
    "from sklearn import naive_bayes\n",
    "from sklearn import metrics\n",
    "from sklearn.feature_selection import SelectKBest\n",
    "from sklearn.grid_search import GridSearchCV, RandomizedSearchCV\n",
    "from time import clock\n",
    "from statsmodels.graphics.mosaicplot import mosaic\n",
    "import warnings\n",
    "warnings.filterwarnings(\"ignore\")\n",
    "%matplotlib inline"
   ]
  },
  {
   "cell_type": "code",
   "execution_count": 2,
   "metadata": {
    "collapsed": true
   },
   "outputs": [],
   "source": [
    "#import our data\n",
    "train = pd.read_csv(\"data/train.csv\", )\n",
    "test = pd.read_csv(\"data/test.csv\")"
   ]
  },
  {
   "cell_type": "code",
   "execution_count": 3,
   "metadata": {
    "collapsed": false
   },
   "outputs": [
    {
     "name": "stdout",
     "output_type": "stream",
     "text": [
      "<class 'pandas.core.frame.DataFrame'>\n",
      "RangeIndex: 891 entries, 0 to 890\n",
      "Data columns (total 12 columns):\n",
      "PassengerId    891 non-null int64\n",
      "Survived       891 non-null int64\n",
      "Pclass         891 non-null int64\n",
      "Name           891 non-null object\n",
      "Sex            891 non-null object\n",
      "Age            714 non-null float64\n",
      "SibSp          891 non-null int64\n",
      "Parch          891 non-null int64\n",
      "Ticket         891 non-null object\n",
      "Fare           891 non-null float64\n",
      "Cabin          204 non-null object\n",
      "Embarked       889 non-null object\n",
      "dtypes: float64(2), int64(5), object(5)\n",
      "memory usage: 83.6+ KB\n"
     ]
    }
   ],
   "source": [
    "# Columns Age, Cabin and Embarked look like they have some missing data\n",
    "train.info()"
   ]
  },
  {
   "cell_type": "markdown",
   "metadata": {},
   "source": [
    "<a name=\"vars\"></a>"
   ]
  },
  {
   "cell_type": "markdown",
   "metadata": {},
   "source": [
    "### What do the variables mean?\n",
    "Our dataset intially consists of 11 variables. Note that some columns have missing values. We will deal with them in later sections. For now let's make sure we understand what each variable means.\n",
    "\n",
    "| **Variable name** | **Explanation**    \n",
    "| :------------- |:-------------\n",
    "| **Survived**| `1(survived) 0(died)`\n",
    "| **Pclass**      | `Passenger's class (1st, 2nd or 3rd)`     \n",
    "| **Name**| `Name of passenger ` \n",
    "| **Sex**| `Passenger's gender`\n",
    "| **Age**| `Age of passenger`\n",
    "| **SibSp**| `Number of siblings/spouses aboard`\n",
    "| **Parch**| `Number of parents/children aboard`\n",
    "| **Ticket**| `Passenger's ticket number`\n",
    "| **Fare**| `Amount paid for ticket`\n",
    "| **Cabin**| `Passenger's Cabin number`\n",
    "| **Embarked**| `Port of embarkation`\n",
    "\n"
   ]
  },
  {
   "cell_type": "code",
   "execution_count": 4,
   "metadata": {
    "collapsed": false
   },
   "outputs": [],
   "source": [
    "#Let's express the categorical variables we have, namely Sex. This will be usefull for the following section\n",
    "tempo = pd.get_dummies(train[['Sex']])\n",
    "train['male'] = tempo['Sex_male']\n",
    "train['female'] = tempo['Sex_female']"
   ]
  },
  {
   "cell_type": "markdown",
   "metadata": {},
   "source": [
    "<a name=\"var_imp\"></a>"
   ]
  },
  {
   "cell_type": "markdown",
   "metadata": {},
   "source": [
    "### Variable Importance (first taste)"
   ]
  },
  {
   "cell_type": "code",
   "execution_count": 5,
   "metadata": {
    "collapsed": false
   },
   "outputs": [
    {
     "name": "stdout",
     "output_type": "stream",
     "text": [
      "Computing correlation\n"
     ]
    },
    {
     "data": {
      "image/png": "[encoded data removed]",
      "text/plain": [
       "<matplotlib.figure.Figure at 0x118258a58>"
      ]
     },
     "metadata": {},
     "output_type": "display_data"
    }
   ],
   "source": [
    "# Now let's plot a correlation plot with what we are given\n",
    "fig = plt.figure()\n",
    "fig.set_figheight(25)\n",
    "fig.set_figwidth(50)\n",
    "ax1 = fig.add_subplot(221)\n",
    "c = corrplot.Corrplot(train.drop(['PassengerId', 'Cabin'], axis=1))\n",
    "c.plot(fig=fig, ax=ax1, method='color', fontsize=25)\n",
    "# By just getting a taste of which variables are important to us, we see that both gender(male, female) and Pclass \n",
    "# seem to be quite important (Generally we are looking for dark colored squares). Feel free to change the 'method' \n",
    "# variable from color to text and add colorbar=False to the parameters passed in the plot to see the actual \n",
    "# correlation."
   ]
  },
  {
   "cell_type": "markdown",
   "metadata": {},
   "source": [
    "<a name=\"feats\"></a>"
   ]
  },
  {
   "cell_type": "markdown",
   "metadata": {},
   "source": [
    "## Feature Engineering\n",
    "Here we will experiment with some new features that we can use. This section is very important since you can (and should) try  all the ideas you have on new features that will improve your learning algorithm."
   ]
  },
  {
   "cell_type": "markdown",
   "metadata": {},
   "source": [
    "<a name=\"title\"></a>"
   ]
  },
  {
   "cell_type": "markdown",
   "metadata": {},
   "source": [
    "### Title\n",
    "Extract the Title of each passenger using regular expressions. Regular expressions (also refered to as regex) is a sequence of characters that define and search for a pattern in a string.  Also note that from now on I will be using a combined version of our data (both train and test data) so that I won't have to rewrite code to create the test set features."
   ]
  },
  {
   "cell_type": "code",
   "execution_count": 6,
   "metadata": {
    "collapsed": false
   },
   "outputs": [],
   "source": [
    "data = train.append(test)\n",
    "data.drop([\"female\", \"male\"], axis=1, inplace=True)"
   ]
  },
  {
   "cell_type": "code",
   "execution_count": 7,
   "metadata": {
    "collapsed": false
   },
   "outputs": [
    {
     "data": {
      "text/html": [
       "<div>\n",
       "<table border=\"1\" class=\"dataframe\">\n",
       "  <thead>\n",
       "    <tr style=\"text-align: right;\">\n",
       "      <th>Title</th>\n",
       "      <th>Capt.</th>\n",
       "      <th>Col.</th>\n",
       "      <th>Countess.</th>\n",
       "      <th>Don.</th>\n",
       "      <th>Dona.</th>\n",
       "      <th>Dr.</th>\n",
       "      <th>Jonkheer.</th>\n",
       "      <th>Lady.</th>\n",
       "      <th>Major.</th>\n",
       "      <th>Master.</th>\n",
       "      <th>Miss.</th>\n",
       "      <th>Mlle.</th>\n",
       "      <th>Mme.</th>\n",
       "      <th>Mr.</th>\n",
       "      <th>Mrs.</th>\n",
       "      <th>Ms.</th>\n",
       "      <th>Rev.</th>\n",
       "      <th>Sir.</th>\n",
       "    </tr>\n",
       "    <tr>\n",
       "      <th>Gender</th>\n",
       "      <th></th>\n",
       "      <th></th>\n",
       "      <th></th>\n",
       "      <th></th>\n",
       "      <th></th>\n",
       "      <th></th>\n",
       "      <th></th>\n",
       "      <th></th>\n",
       "      <th></th>\n",
       "      <th></th>\n",
       "      <th></th>\n",
       "      <th></th>\n",
       "      <th></th>\n",
       "      <th></th>\n",
       "      <th></th>\n",
       "      <th></th>\n",
       "      <th></th>\n",
       "      <th></th>\n",
       "    </tr>\n",
       "  </thead>\n",
       "  <tbody>\n",
       "    <tr>\n",
       "      <th>female</th>\n",
       "      <td>0</td>\n",
       "      <td>0</td>\n",
       "      <td>1</td>\n",
       "      <td>0</td>\n",
       "      <td>1</td>\n",
       "      <td>1</td>\n",
       "      <td>0</td>\n",
       "      <td>1</td>\n",
       "      <td>0</td>\n",
       "      <td>0</td>\n",
       "      <td>260</td>\n",
       "      <td>2</td>\n",
       "      <td>1</td>\n",
       "      <td>0</td>\n",
       "      <td>197</td>\n",
       "      <td>2</td>\n",
       "      <td>0</td>\n",
       "      <td>0</td>\n",
       "    </tr>\n",
       "    <tr>\n",
       "      <th>male</th>\n",
       "      <td>1</td>\n",
       "      <td>4</td>\n",
       "      <td>0</td>\n",
       "      <td>1</td>\n",
       "      <td>0</td>\n",
       "      <td>7</td>\n",
       "      <td>1</td>\n",
       "      <td>0</td>\n",
       "      <td>2</td>\n",
       "      <td>61</td>\n",
       "      <td>0</td>\n",
       "      <td>0</td>\n",
       "      <td>0</td>\n",
       "      <td>757</td>\n",
       "      <td>0</td>\n",
       "      <td>0</td>\n",
       "      <td>8</td>\n",
       "      <td>1</td>\n",
       "    </tr>\n",
       "  </tbody>\n",
       "</table>\n",
       "</div>"
      ],
      "text/plain": [
       "Title   Capt.  Col.  Countess.  Don.  Dona.  Dr.  Jonkheer.  Lady.  Major.  \\\n",
       "Gender                                                                       \n",
       "female      0     0          1     0      1    1          0      1       0   \n",
       "male        1     4          0     1      0    7          1      0       2   \n",
       "\n",
       "Title   Master.  Miss.  Mlle.  Mme.  Mr.  Mrs.  Ms.  Rev.  Sir.  \n",
       "Gender                                                           \n",
       "female        0    260      2     1    0   197    2     0     0  \n",
       "male         61      0      0     0  757     0    0     8     1  "
      ]
     },
     "execution_count": 7,
     "metadata": {},
     "output_type": "execute_result"
    }
   ],
   "source": [
    "# Here is a pivot table with the Titles and the gender. Note that there should be a \n",
    "# high correlation between the two variables but that is ok for now.\n",
    "titles = []\n",
    "for name in data.Name:\n",
    "    titles.append(re.search(r'[A-Z][a-z]+\\.', name).group())\n",
    "data['Title'] = titles\n",
    "pd.crosstab(data['Sex'], data['Title'],rownames=['Gender'], colnames=['Title'])"
   ]
  },
  {
   "cell_type": "code",
   "execution_count": 8,
   "metadata": {
    "collapsed": false
   },
   "outputs": [],
   "source": [
    "# There are some titles with very few counts. We could group those into a collection of rare titles\n",
    "rare = [\"Capt.\", \"Col.\", \"Countess.\", \"Don.\", \"Dona.\", \"Jonkheer.\", \"Dr.\", \"Dr.\", \"Major.\", \"Rev.\", \"Sir.\", \"Lady.\"]\n",
    "for i in range(len(titles)):\n",
    "    if titles[i] in rare:\n",
    "        titles[i]='rare'\n",
    "data['Title']=titles"
   ]
  },
  {
   "cell_type": "code",
   "execution_count": 9,
   "metadata": {
    "collapsed": false
   },
   "outputs": [],
   "source": [
    "# Also reassign mlle, ms, and mme, lady accordingly\n",
    "data = data.replace(to_replace='Mlle.', value='Miss.')\n",
    "data = data.replace(to_replace='Ms.', value='Miss.')\n",
    "data = data.replace(to_replace='Mme.', value='Mrs.')"
   ]
  },
  {
   "cell_type": "code",
   "execution_count": 10,
   "metadata": {
    "collapsed": false
   },
   "outputs": [
    {
     "data": {
      "text/html": [
       "<div>\n",
       "<table border=\"1\" class=\"dataframe\">\n",
       "  <thead>\n",
       "    <tr style=\"text-align: right;\">\n",
       "      <th>Title</th>\n",
       "      <th>Master.</th>\n",
       "      <th>Miss.</th>\n",
       "      <th>Mr.</th>\n",
       "      <th>Mrs.</th>\n",
       "      <th>rare</th>\n",
       "    </tr>\n",
       "    <tr>\n",
       "      <th>Gender</th>\n",
       "      <th></th>\n",
       "      <th></th>\n",
       "      <th></th>\n",
       "      <th></th>\n",
       "      <th></th>\n",
       "    </tr>\n",
       "  </thead>\n",
       "  <tbody>\n",
       "    <tr>\n",
       "      <th>female</th>\n",
       "      <td>0</td>\n",
       "      <td>264</td>\n",
       "      <td>0</td>\n",
       "      <td>198</td>\n",
       "      <td>4</td>\n",
       "    </tr>\n",
       "    <tr>\n",
       "      <th>male</th>\n",
       "      <td>61</td>\n",
       "      <td>0</td>\n",
       "      <td>757</td>\n",
       "      <td>0</td>\n",
       "      <td>25</td>\n",
       "    </tr>\n",
       "  </tbody>\n",
       "</table>\n",
       "</div>"
      ],
      "text/plain": [
       "Title   Master.  Miss.  Mr.  Mrs.  rare\n",
       "Gender                                 \n",
       "female        0    264    0   198     4\n",
       "male         61      0  757     0    25"
      ]
     },
     "execution_count": 10,
     "metadata": {},
     "output_type": "execute_result"
    }
   ],
   "source": [
    "#Our new pivot table looks like this\n",
    "pd.crosstab(data['Sex'], data['Title'],rownames=['Gender'], colnames=['Title'])"
   ]
  },
  {
   "cell_type": "code",
   "execution_count": 11,
   "metadata": {
    "collapsed": false
   },
   "outputs": [
    {
     "data": {
      "text/html": [
       "<div>\n",
       "<table border=\"1\" class=\"dataframe\">\n",
       "  <thead>\n",
       "    <tr style=\"text-align: right;\">\n",
       "      <th>Title</th>\n",
       "      <th>Master.</th>\n",
       "      <th>Miss.</th>\n",
       "      <th>Mr.</th>\n",
       "      <th>Mrs.</th>\n",
       "      <th>rare</th>\n",
       "    </tr>\n",
       "    <tr>\n",
       "      <th>Survived</th>\n",
       "      <th></th>\n",
       "      <th></th>\n",
       "      <th></th>\n",
       "      <th></th>\n",
       "      <th></th>\n",
       "    </tr>\n",
       "  </thead>\n",
       "  <tbody>\n",
       "    <tr>\n",
       "      <th>0.0</th>\n",
       "      <td>17</td>\n",
       "      <td>55</td>\n",
       "      <td>436</td>\n",
       "      <td>26</td>\n",
       "      <td>15</td>\n",
       "    </tr>\n",
       "    <tr>\n",
       "      <th>1.0</th>\n",
       "      <td>23</td>\n",
       "      <td>130</td>\n",
       "      <td>81</td>\n",
       "      <td>100</td>\n",
       "      <td>8</td>\n",
       "    </tr>\n",
       "  </tbody>\n",
       "</table>\n",
       "</div>"
      ],
      "text/plain": [
       "Title     Master.  Miss.  Mr.  Mrs.  rare\n",
       "Survived                                 \n",
       "0.0            17     55  436    26    15\n",
       "1.0            23    130   81   100     8"
      ]
     },
     "execution_count": 11,
     "metadata": {},
     "output_type": "execute_result"
    }
   ],
   "source": [
    "# Survival in this case does not seem to depend to much on the title. perhaps we should revisit that feature to make \n",
    "# it more informative.\n",
    "pd.crosstab(data['Survived'], data['Title'],rownames=['Survived'], colnames=['Title'])"
   ]
  },
  {
   "cell_type": "markdown",
   "metadata": {},
   "source": [
    "<a name=\"fsize\"></a>"
   ]
  },
  {
   "cell_type": "markdown",
   "metadata": {},
   "source": [
    "### Family Size\n",
    "Now we will examine family sizes. Some intuition behind this is that families with children may have escaped the disaster if they were given priority when abandoning the sinking ship."
   ]
  },
  {
   "cell_type": "code",
   "execution_count": 12,
   "metadata": {
    "collapsed": false
   },
   "outputs": [],
   "source": [
    "# family size for each passenger\n",
    "data['Fsize'] = np.array(data['Parch'])+np.array(data['SibSp']) + 1"
   ]
  },
  {
   "cell_type": "code",
   "execution_count": 13,
   "metadata": {
    "collapsed": false
   },
   "outputs": [
    {
     "data": {
      "text/plain": [
       "<matplotlib.axes._subplots.AxesSubplot at 0x11a26ffd0>"
      ]
     },
     "execution_count": 13,
     "metadata": {},
     "output_type": "execute_result"
    },
    {
     "data": {
      "image/png": "[encoded data removed]",
      "text/plain": [
       "<matplotlib.figure.Figure at 0x1182c0668>"
      ]
     },
     "metadata": {},
     "output_type": "display_data"
    }
   ],
   "source": [
    "# Now let's explore the relation between family size and survival rate\n",
    "survived = data[data['Survived']==1]\n",
    "died = data[data['Survived']==0]\n",
    "died['Died'] = 1\n",
    "died.drop(\"Survived\", axis=1, inplace=True)\n",
    "survived = survived.groupby('Fsize')[['Survived']].sum()\n",
    "died = died.groupby('Fsize')[['Died']].sum()\n",
    "result = pd.concat([died, survived], axis=1)\n",
    "result = result.fillna(0)\n",
    "# convert to proportions\n",
    "total = np.array(result['Died'])+np.array(result['Survived'])\n",
    "result['Died'] = np.array(result[\"Died\"])/total\n",
    "result['Survived'] = np.array(result[\"Survived\"])/total\n",
    "result.plot(kind='bar')"
   ]
  },
  {
   "cell_type": "code",
   "execution_count": 14,
   "metadata": {
    "collapsed": false
   },
   "outputs": [],
   "source": [
    "# clearly we see that the only types of families that survived are mainly those of 2, 3 and 4 people while others seem\n",
    "# to have perished\n",
    "#Hence, we can encode the family size into 3 categorical variables, small, medium and large based on their size\n",
    "def encode_fsize(x):\n",
    "    if x==1:\n",
    "        return 'small'\n",
    "    elif x<5:\n",
    "        return 'medium'\n",
    "    else:\n",
    "        return 'large'"
   ]
  },
  {
   "cell_type": "code",
   "execution_count": 15,
   "metadata": {
    "collapsed": false
   },
   "outputs": [],
   "source": [
    "data['Fsize']=data['Fsize'].apply(encode_fsize)"
   ]
  },
  {
   "cell_type": "code",
   "execution_count": 16,
   "metadata": {
    "collapsed": false
   },
   "outputs": [
    {
     "data": {
      "image/png": "[encoded data removed]",
      "text/plain": [
       "<matplotlib.figure.Figure at 0x11c15e6a0>"
      ]
     },
     "metadata": {},
     "output_type": "display_data"
    }
   ],
   "source": [
    "f, a = mosaic(data, ['Fsize', 'Survived'])\n",
    "f.set_figheight(10)\n",
    "f.set_figwidth(10)"
   ]
  },
  {
   "cell_type": "code",
   "execution_count": 17,
   "metadata": {
    "collapsed": false
   },
   "outputs": [],
   "source": [
    "data.drop(['SibSp','Parch'], axis=1, inplace=True)"
   ]
  },
  {
   "cell_type": "markdown",
   "metadata": {},
   "source": [
    "<a name=\"deck\"></a>"
   ]
  },
  {
   "cell_type": "markdown",
   "metadata": {},
   "source": [
    "### Deck"
   ]
  },
  {
   "cell_type": "code",
   "execution_count": 18,
   "metadata": {
    "collapsed": false
   },
   "outputs": [],
   "source": [
    "# In this part we will utilize the cabin variable that we have to see what was the deck of each passenger\n",
    "# Z if value is nan\n",
    "data['Deck'] = data['Cabin'].apply(lambda x: x[0] if type(x)==type('str') else 'Z')\n",
    "data.drop('Cabin', axis=1, inplace=True)"
   ]
  },
  {
   "cell_type": "markdown",
   "metadata": {},
   "source": [
    "<a name=\"ticket\"></a>"
   ]
  },
  {
   "cell_type": "markdown",
   "metadata": {},
   "source": [
    "### Ticket prefix"
   ]
  },
  {
   "cell_type": "code",
   "execution_count": 19,
   "metadata": {
    "collapsed": false
   },
   "outputs": [
    {
     "data": {
      "text/plain": [
       "0           A/5 21171\n",
       "1            PC 17599\n",
       "2    STON/O2. 3101282\n",
       "3              113803\n",
       "4              373450\n",
       "Name: Ticket, dtype: object"
      ]
     },
     "execution_count": 19,
     "metadata": {},
     "output_type": "execute_result"
    }
   ],
   "source": [
    "# For this feature we will attempt to examine the significance of the ticket prefix, eg A/5, PC etc\n",
    "data['Ticket'].head()"
   ]
  },
  {
   "cell_type": "code",
   "execution_count": 20,
   "metadata": {
    "collapsed": false
   },
   "outputs": [],
   "source": [
    "data['TicketPrefix'] = data[\"Ticket\"].apply(lambda i: i.split(\" \")[0] if len(i.split(\" \"))>=2 else '0')"
   ]
  },
  {
   "cell_type": "code",
   "execution_count": 21,
   "metadata": {
    "collapsed": false
   },
   "outputs": [],
   "source": [
    "data['TicketPrefix'] = data['TicketPrefix'].apply(lambda x: re.sub(r'[/\\.]', \"\", x))"
   ]
  },
  {
   "cell_type": "markdown",
   "metadata": {},
   "source": [
    "<a name=\"cur\"></a>"
   ]
  },
  {
   "cell_type": "markdown",
   "metadata": {},
   "source": [
    "## Data Curation\n",
    "\n",
    "Now that we have made some new features, it is time to take a look at our dataset and see how we can deal with missing values and/or other anomalies that we come across. Note that we know from the beginning of the exploration that the colmns Age, Embarked, Cabin and Fare have some missing values"
   ]
  },
  {
   "cell_type": "markdown",
   "metadata": {},
   "source": [
    "<a name=\"fare\"></a>"
   ]
  },
  {
   "cell_type": "markdown",
   "metadata": {},
   "source": [
    "### Fare"
   ]
  },
  {
   "cell_type": "code",
   "execution_count": 22,
   "metadata": {
    "collapsed": false
   },
   "outputs": [
    {
     "data": {
      "text/html": [
       "<div>\n",
       "<table border=\"1\" class=\"dataframe\">\n",
       "  <thead>\n",
       "    <tr style=\"text-align: right;\">\n",
       "      <th></th>\n",
       "      <th>Age</th>\n",
       "      <th>Fare</th>\n",
       "      <th>PassengerId</th>\n",
       "      <th>Pclass</th>\n",
       "      <th>Survived</th>\n",
       "    </tr>\n",
       "  </thead>\n",
       "  <tbody>\n",
       "    <tr>\n",
       "      <th>count</th>\n",
       "      <td>1046.000000</td>\n",
       "      <td>1308.000000</td>\n",
       "      <td>1309.000000</td>\n",
       "      <td>1309.000000</td>\n",
       "      <td>891.000000</td>\n",
       "    </tr>\n",
       "    <tr>\n",
       "      <th>mean</th>\n",
       "      <td>29.881138</td>\n",
       "      <td>33.295479</td>\n",
       "      <td>655.000000</td>\n",
       "      <td>2.294882</td>\n",
       "      <td>0.383838</td>\n",
       "    </tr>\n",
       "    <tr>\n",
       "      <th>std</th>\n",
       "      <td>14.413493</td>\n",
       "      <td>51.758668</td>\n",
       "      <td>378.020061</td>\n",
       "      <td>0.837836</td>\n",
       "      <td>0.486592</td>\n",
       "    </tr>\n",
       "    <tr>\n",
       "      <th>min</th>\n",
       "      <td>0.170000</td>\n",
       "      <td>0.000000</td>\n",
       "      <td>1.000000</td>\n",
       "      <td>1.000000</td>\n",
       "      <td>0.000000</td>\n",
       "    </tr>\n",
       "    <tr>\n",
       "      <th>25%</th>\n",
       "      <td>21.000000</td>\n",
       "      <td>7.895800</td>\n",
       "      <td>328.000000</td>\n",
       "      <td>2.000000</td>\n",
       "      <td>0.000000</td>\n",
       "    </tr>\n",
       "    <tr>\n",
       "      <th>50%</th>\n",
       "      <td>28.000000</td>\n",
       "      <td>14.454200</td>\n",
       "      <td>655.000000</td>\n",
       "      <td>3.000000</td>\n",
       "      <td>0.000000</td>\n",
       "    </tr>\n",
       "    <tr>\n",
       "      <th>75%</th>\n",
       "      <td>39.000000</td>\n",
       "      <td>31.275000</td>\n",
       "      <td>982.000000</td>\n",
       "      <td>3.000000</td>\n",
       "      <td>1.000000</td>\n",
       "    </tr>\n",
       "    <tr>\n",
       "      <th>max</th>\n",
       "      <td>80.000000</td>\n",
       "      <td>512.329200</td>\n",
       "      <td>1309.000000</td>\n",
       "      <td>3.000000</td>\n",
       "      <td>1.000000</td>\n",
       "    </tr>\n",
       "  </tbody>\n",
       "</table>\n",
       "</div>"
      ],
      "text/plain": [
       "               Age         Fare  PassengerId       Pclass    Survived\n",
       "count  1046.000000  1308.000000  1309.000000  1309.000000  891.000000\n",
       "mean     29.881138    33.295479   655.000000     2.294882    0.383838\n",
       "std      14.413493    51.758668   378.020061     0.837836    0.486592\n",
       "min       0.170000     0.000000     1.000000     1.000000    0.000000\n",
       "25%      21.000000     7.895800   328.000000     2.000000    0.000000\n",
       "50%      28.000000    14.454200   655.000000     3.000000    0.000000\n",
       "75%      39.000000    31.275000   982.000000     3.000000    1.000000\n",
       "max      80.000000   512.329200  1309.000000     3.000000    1.000000"
      ]
     },
     "execution_count": 22,
     "metadata": {},
     "output_type": "execute_result"
    }
   ],
   "source": [
    "# What is interesting here is that the minimum Fare paid in this case is 0. Could those cases be babies who just did \n",
    "# not pay to get on board?\n",
    "data.describe()"
   ]
  },
  {
   "cell_type": "code",
   "execution_count": 23,
   "metadata": {
    "collapsed": false
   },
   "outputs": [
    {
     "data": {
      "text/html": [
       "<div>\n",
       "<table border=\"1\" class=\"dataframe\">\n",
       "  <thead>\n",
       "    <tr style=\"text-align: right;\">\n",
       "      <th></th>\n",
       "      <th>Age</th>\n",
       "      <th>Fare</th>\n",
       "      <th>Pclass</th>\n",
       "    </tr>\n",
       "  </thead>\n",
       "  <tbody>\n",
       "    <tr>\n",
       "      <th>179</th>\n",
       "      <td>36.0</td>\n",
       "      <td>0.0000</td>\n",
       "      <td>3</td>\n",
       "    </tr>\n",
       "    <tr>\n",
       "      <th>263</th>\n",
       "      <td>40.0</td>\n",
       "      <td>0.0000</td>\n",
       "      <td>1</td>\n",
       "    </tr>\n",
       "    <tr>\n",
       "      <th>271</th>\n",
       "      <td>25.0</td>\n",
       "      <td>0.0000</td>\n",
       "      <td>3</td>\n",
       "    </tr>\n",
       "    <tr>\n",
       "      <th>277</th>\n",
       "      <td>NaN</td>\n",
       "      <td>0.0000</td>\n",
       "      <td>2</td>\n",
       "    </tr>\n",
       "    <tr>\n",
       "      <th>302</th>\n",
       "      <td>19.0</td>\n",
       "      <td>0.0000</td>\n",
       "      <td>3</td>\n",
       "    </tr>\n",
       "    <tr>\n",
       "      <th>378</th>\n",
       "      <td>20.0</td>\n",
       "      <td>4.0125</td>\n",
       "      <td>3</td>\n",
       "    </tr>\n",
       "    <tr>\n",
       "      <th>413</th>\n",
       "      <td>NaN</td>\n",
       "      <td>0.0000</td>\n",
       "      <td>2</td>\n",
       "    </tr>\n",
       "    <tr>\n",
       "      <th>466</th>\n",
       "      <td>NaN</td>\n",
       "      <td>0.0000</td>\n",
       "      <td>2</td>\n",
       "    </tr>\n",
       "    <tr>\n",
       "      <th>481</th>\n",
       "      <td>NaN</td>\n",
       "      <td>0.0000</td>\n",
       "      <td>2</td>\n",
       "    </tr>\n",
       "    <tr>\n",
       "      <th>597</th>\n",
       "      <td>49.0</td>\n",
       "      <td>0.0000</td>\n",
       "      <td>3</td>\n",
       "    </tr>\n",
       "  </tbody>\n",
       "</table>\n",
       "</div>"
      ],
      "text/plain": [
       "      Age    Fare  Pclass\n",
       "179  36.0  0.0000       3\n",
       "263  40.0  0.0000       1\n",
       "271  25.0  0.0000       3\n",
       "277   NaN  0.0000       2\n",
       "302  19.0  0.0000       3\n",
       "378  20.0  4.0125       3\n",
       "413   NaN  0.0000       2\n",
       "466   NaN  0.0000       2\n",
       "481   NaN  0.0000       2\n",
       "597  49.0  0.0000       3"
      ]
     },
     "execution_count": 23,
     "metadata": {},
     "output_type": "execute_result"
    }
   ],
   "source": [
    "#Clearly these people are not babies, and the almost 0 fare is probably due to some error in our data\n",
    "# Let's replace those people's fare(including those with nan values) with the mean fare of their class \n",
    "# and port of embarkation.\n",
    "free_loaders = data[data['Fare']<5]\n",
    "free_loaders[['Age', 'Fare', 'Pclass']][:10]"
   ]
  },
  {
   "cell_type": "code",
   "execution_count": 24,
   "metadata": {
    "collapsed": false
   },
   "outputs": [
    {
     "data": {
      "text/html": [
       "<div>\n",
       "<table border=\"1\" class=\"dataframe\">\n",
       "  <thead>\n",
       "    <tr style=\"text-align: right;\">\n",
       "      <th>Title</th>\n",
       "      <th>C</th>\n",
       "      <th>Q</th>\n",
       "      <th>S</th>\n",
       "    </tr>\n",
       "    <tr>\n",
       "      <th>Pclass</th>\n",
       "      <th></th>\n",
       "      <th></th>\n",
       "      <th></th>\n",
       "    </tr>\n",
       "  </thead>\n",
       "  <tbody>\n",
       "    <tr>\n",
       "      <th>1</th>\n",
       "      <td>106.845330</td>\n",
       "      <td>90.000000</td>\n",
       "      <td>72.148094</td>\n",
       "    </tr>\n",
       "    <tr>\n",
       "      <th>2</th>\n",
       "      <td>23.300593</td>\n",
       "      <td>11.735114</td>\n",
       "      <td>21.206921</td>\n",
       "    </tr>\n",
       "    <tr>\n",
       "      <th>3</th>\n",
       "      <td>11.021624</td>\n",
       "      <td>10.390820</td>\n",
       "      <td>14.435422</td>\n",
       "    </tr>\n",
       "  </tbody>\n",
       "</table>\n",
       "</div>"
      ],
      "text/plain": [
       "Title            C          Q          S\n",
       "Pclass                                  \n",
       "1       106.845330  90.000000  72.148094\n",
       "2        23.300593  11.735114  21.206921\n",
       "3        11.021624  10.390820  14.435422"
      ]
     },
     "execution_count": 24,
     "metadata": {},
     "output_type": "execute_result"
    }
   ],
   "source": [
    "class_port_means = pd.crosstab(data['Pclass'], data['Embarked'], values = data['Fare'], aggfunc='mean',\n",
    "                               rownames=['Pclass'], colnames=['Title'])\n",
    "class_port_means"
   ]
  },
  {
   "cell_type": "code",
   "execution_count": 25,
   "metadata": {
    "collapsed": false
   },
   "outputs": [],
   "source": [
    "new_fares = []\n",
    "for i in range(len(data)):\n",
    "    if np.array(data['Fare'])[i]<5 or np.isnan(np.array(data['Fare'])[i]):\n",
    "        new_fares.append(class_port_means[np.array(data.Embarked)[i]][np.array(data.Pclass)[i]])\n",
    "    else:\n",
    "        new_fares.append(np.array(data['Fare'])[i])\n",
    "data['Fare'] = new_fares"
   ]
  },
  {
   "cell_type": "markdown",
   "metadata": {},
   "source": [
    "<a name=\"age\"></a>"
   ]
  },
  {
   "cell_type": "markdown",
   "metadata": {},
   "source": [
    "### Age \n",
    "For the time being we will just replace the missing values in our table with the mean of the entire data set. We will revisit section perhaps later."
   ]
  },
  {
   "cell_type": "code",
   "execution_count": 27,
   "metadata": {
    "collapsed": false
   },
   "outputs": [
    {
     "name": "stdout",
     "output_type": "stream",
     "text": [
      "<class 'pandas.core.frame.DataFrame'>\n",
      "Int64Index: 1309 entries, 0 to 417\n",
      "Data columns (total 13 columns):\n",
      "Age             1046 non-null float64\n",
      "Embarked        1307 non-null object\n",
      "Fare            1309 non-null float64\n",
      "Name            1309 non-null object\n",
      "PassengerId     1309 non-null int64\n",
      "Pclass          1309 non-null int64\n",
      "Sex             1309 non-null object\n",
      "Survived        891 non-null float64\n",
      "Ticket          1309 non-null object\n",
      "Title           1309 non-null object\n",
      "Fsize           1309 non-null object\n",
      "Deck            1309 non-null object\n",
      "TicketPrefix    1309 non-null object\n",
      "dtypes: float64(3), int64(2), object(8)\n",
      "memory usage: 143.2+ KB\n"
     ]
    }
   ],
   "source": [
    "data.info()"
   ]
  },
  {
   "cell_type": "code",
   "execution_count": 844,
   "metadata": {
    "collapsed": false
   },
   "outputs": [],
   "source": [
    "mean_age = np.mean(data['Age'])\n",
    "data = data.fillna(mean_age)"
   ]
  },
  {
   "cell_type": "code",
   "execution_count": 845,
   "metadata": {
    "collapsed": false
   },
   "outputs": [],
   "source": [
    "data['Embarked'] = data.replace(to_replace=29.881137667304014, value='S')['Embarked']"
   ]
  },
  {
   "cell_type": "markdown",
   "metadata": {},
   "source": [
    "<a name=\"viz\"></a>"
   ]
  },
  {
   "cell_type": "markdown",
   "metadata": {},
   "source": [
    "## Visualizations!\n",
    "This section will be about giving you some more interesting visualizations I have come across. "
   ]
  },
  {
   "cell_type": "code",
   "execution_count": 846,
   "metadata": {
    "collapsed": false
   },
   "outputs": [],
   "source": [
    "# As a first task, let's examine the survival rates for gender, port of embarkation and passenger class\n",
    "# For this task we will only keep the training set part of our data\n",
    "train = data[np.logical_or(data['Survived']==1, data['Survived']==0)]\n",
    "vars = ['Sex', 'Pclass', 'Embarked']"
   ]
  },
  {
   "cell_type": "code",
   "execution_count": 847,
   "metadata": {
    "collapsed": false
   },
   "outputs": [
    {
     "data": {
      "text/plain": [
       "<matplotlib.axes._subplots.AxesSubplot at 0x11527f438>"
      ]
     },
     "execution_count": 847,
     "metadata": {},
     "output_type": "execute_result"
    },
    {
     "data": {
      "image/png": "[encoded data removed]",
      "text/plain": [
       "<matplotlib.figure.Figure at 0x11bd3c198>"
      ]
     },
     "metadata": {},
     "output_type": "display_data"
    }
   ],
   "source": [
    "# Survival based on gender\n",
    "table = train.groupby(['Sex', 'Survived']).size()\n",
    "table = table.unstack() #splits the data into 2 columns, 0, 1, each indexed by the\n",
    "                                    #other variable\n",
    "normedtable = table.div(table.sum(1), axis=0) #divides the counts by the totals\n",
    "normedtable.plot(kind='barh', stacked=True, colormap='brg')"
   ]
  },
  {
   "cell_type": "code",
   "execution_count": 848,
   "metadata": {
    "collapsed": false
   },
   "outputs": [
    {
     "data": {
      "text/plain": [
       "<matplotlib.axes._subplots.AxesSubplot at 0x11ba878d0>"
      ]
     },
     "execution_count": 848,
     "metadata": {},
     "output_type": "execute_result"
    },
    {
     "data": {
      "image/png": "[encoded data removed]",
      "text/plain": [
       "<matplotlib.figure.Figure at 0x115209d30>"
      ]
     },
     "metadata": {},
     "output_type": "display_data"
    }
   ],
   "source": [
    "#Survival based on passenger class\n",
    "# Survival based on gender\n",
    "table = train.groupby(['Pclass', 'Survived']).size()\n",
    "table = table.unstack() #splits the data into 2 columns, 0, 1, each indexed by the\n",
    "                                    #other variable\n",
    "normedtable = table.div(table.sum(1), axis=0) #divides the counts by the totals\n",
    "normedtable.plot(kind='barh', stacked=True, colormap='brg')"
   ]
  },
  {
   "cell_type": "code",
   "execution_count": 849,
   "metadata": {
    "collapsed": false
   },
   "outputs": [
    {
     "data": {
      "text/plain": [
       "<matplotlib.axes._subplots.AxesSubplot at 0x11ba7fb70>"
      ]
     },
     "execution_count": 849,
     "metadata": {},
     "output_type": "execute_result"
    },
    {
     "data": {
      "image/png": "[encoded data removed]",
      "text/plain": [
       "<matplotlib.figure.Figure at 0x11c466080>"
      ]
     },
     "metadata": {},
     "output_type": "display_data"
    }
   ],
   "source": [
    "#Survival based on the port of embarkation\n",
    "# Survival based on gender\n",
    "table = train.groupby(['Embarked', 'Survived']).size()\n",
    "table = table.unstack() #splits the data into 2 columns, 0, 1, each indexed by the\n",
    "                                    #other variable\n",
    "normedtable = table.div(table.sum(1), axis=0) #divides the counts by the totals\n",
    "normedtable.plot(kind='barh', stacked=True, colormap='brg')"
   ]
  },
  {
   "cell_type": "code",
   "execution_count": 850,
   "metadata": {
    "collapsed": false
   },
   "outputs": [
    {
     "data": {
      "text/plain": [
       "<matplotlib.legend.Legend at 0x11cba8f28>"
      ]
     },
     "execution_count": 850,
     "metadata": {},
     "output_type": "execute_result"
    },
    {
     "data": {
      "image/png": "[encoded data removed]",
      "text/plain": [
       "<matplotlib.figure.Figure at 0x11c8a4c18>"
      ]
     },
     "metadata": {},
     "output_type": "display_data"
    }
   ],
   "source": [
    "# specifies the parameters of our graphs\n",
    "fig = plt.figure(figsize=(18,6), dpi=1600) \n",
    "alpha=alpha_scatterplot = 0.2 \n",
    "alpha_bar_chart = 0.55\n",
    "\n",
    "plt.subplot2grid((2,3),(1,0), colspan=2)\n",
    "# plots a kernel density estimate of the subset of the 1st class passangers's age\n",
    "data.Age[data.Pclass == 1].plot(kind='kde')    \n",
    "data.Age[data.Pclass == 2].plot(kind='kde')\n",
    "data.Age[data.Pclass == 3].plot(kind='kde')\n",
    " # plots an axis lable\n",
    "plt.xlabel(\"Age\")    \n",
    "plt.title(\"Age Distribution within classes\")\n",
    "# sets our legend for our graph.\n",
    "plt.legend(('1st Class', '2nd Class','3rd Class'),loc='best')"
   ]
  },
  {
   "cell_type": "markdown",
   "metadata": {},
   "source": [
    "### Did children have a higher chance of survival? \n",
    "If we think about it, it makes sense that children would have a better chance of surviving the shipwreck since they were probably given priority when leaving the ship. Let's test that by doing some permutation tests! In this section we will define children as passengers younger than 18 yrs old."
   ]
  },
  {
   "cell_type": "code",
   "execution_count": 851,
   "metadata": {
    "collapsed": false
   },
   "outputs": [
    {
     "name": "stdout",
     "output_type": "stream",
     "text": [
      "Overall in the Titanic: 61.62% died and 38.38% survived.\n",
      "Of the children in the Titanic: 50.36% died and 49.64% survived.\n"
     ]
    }
   ],
   "source": [
    "# For this exercise, we will use our train data only \n",
    "train = data[:len(train)]\n",
    "#Overall survival rate on the Titanic\n",
    "prop_died_overall, prop_survived_overall = train['Survived'].value_counts(normalize=True)\n",
    "# Children's survival rate\n",
    "children = train[train['Age']<=18]\n",
    "prop_children_died, prop_children_survived = children['Survived'].value_counts(normalize=True)\n",
    "print(\"Overall in the Titanic: {0:.2f}% died and {1:.2f}% survived.\".format(prop_died_overall*100, \n",
    "                                                                    prop_survived_overall*100))\n",
    "print(\"Of the children in the Titanic: {0:.2f}% died and {1:.2f}% survived.\".format(prop_children_died*100, \n",
    "                                                                    prop_children_survived*100))"
   ]
  },
  {
   "cell_type": "markdown",
   "metadata": {},
   "source": [
    "We see that the numbers are clearly different, however how statistically significant are they. We will examine this under the following null hypothesis:\n",
    "\n",
    "**Null hypothesis**: __The chance that a child survived the Titanic shipwreck is the same as the one for everu other passenger on the ship and any difference is due to chance. In other words, it is like flipping a coin where the chance of getting tails(surviving) is around 38% just like for everyone else on the ship.__\n",
    "\n",
    "For our hypothesis testing, we will use the survival rate as our test statistic.\n",
    "\n",
    "**Action Plan:** We will perform a permutation test, meaning that since it does not matter whether teh passenger was a child or not we can go about shuffling the survived column of our data frame, then isolating the children and measuring their survival rate. If we do this 10000 times we will get an empirical distribution of their survival rate assuming that our null hypothesis is true. After we will calculate the p-value of our observed survival rate and if that is below a certain threshold (usually 0.05) then we will say that there is strong evidence against the null hypothesis."
   ]
  },
  {
   "cell_type": "code",
   "execution_count": 852,
   "metadata": {
    "collapsed": false
   },
   "outputs": [],
   "source": [
    "observed_statistic = prop_children_survived * 100\n",
    "tmp = train.copy()\n",
    "dist_survived = []\n",
    "for _ in range(10000):\n",
    "    shuffled_col = np.array(train['Survived'].sample(frac=1, replace=False))\n",
    "    tmp['Survived'] = shuffled_col\n",
    "    child = tmp[tmp['Age']<=18]\n",
    "    prop_died, prop_survived = child['Survived'].value_counts(normalize=True)\n",
    "    dist_survived.append(prop_survived*100)"
   ]
  },
  {
   "cell_type": "code",
   "execution_count": 853,
   "metadata": {
    "collapsed": false
   },
   "outputs": [
    {
     "data": {
      "text/plain": [
       "<matplotlib.legend.Legend at 0x11cd3f588>"
      ]
     },
     "execution_count": 853,
     "metadata": {},
     "output_type": "execute_result"
    },
    {
     "data": {
      "image/png": "[encoded data removed]",
      "text/plain": [
       "<matplotlib.figure.Figure at 0x11b729b00>"
      ]
     },
     "metadata": {},
     "output_type": "display_data"
    }
   ],
   "source": [
    "plt.hist(dist_survived, bins=20)\n",
    "plt.plot([observed_statistic]*2500, np.arange(0, 2500), '--', linewidth=5, label='p_value')\n",
    "plt.xlim(10, 60)\n",
    "plt.title(\"Empirical distribution of the survival rate for children on the Titanic under the null hypothesis\")\n",
    "plt.legend()"
   ]
  },
  {
   "cell_type": "code",
   "execution_count": 854,
   "metadata": {
    "collapsed": false
   },
   "outputs": [
    {
     "name": "stdout",
     "output_type": "stream",
     "text": [
      "The p-value observed in this case is: 0.0018\n"
     ]
    }
   ],
   "source": [
    "#measuring the p_value\n",
    "p_value = np.count_nonzero(dist_survived>=observed_statistic)/len(dist_survived)\n",
    "print(\"The p-value observed in this case is: {}\".format(p_value))"
   ]
  },
  {
   "cell_type": "markdown",
   "metadata": {},
   "source": [
    "**Conclusion:** The p-value that we observed in our permutation test is clearly highly statistically significant which is evidence against the null hypothesis. Hence, unless we see a sample which is completely unrepresentative of the actual population, we can conclude that the null hypothesis probably does not stand."
   ]
  },
  {
   "cell_type": "markdown",
   "metadata": {},
   "source": [
    "<a name=\"model\"></a>"
   ]
  },
  {
   "cell_type": "markdown",
   "metadata": {},
   "source": [
    "## Model Formulation"
   ]
  },
  {
   "cell_type": "markdown",
   "metadata": {},
   "source": [
    "### Data Normalization\n",
    "To be able to run our models, we need to make sure that all our data are on the correct scale, so that our learning algorithms work properly. In this case, I will convert all columns needed (namely those that are not binary) in standard units (su = (value-mean)/std) so that my new data has a 0 mean and a 1 variance."
   ]
  },
  {
   "cell_type": "code",
   "execution_count": 855,
   "metadata": {
    "collapsed": false
   },
   "outputs": [
    {
     "name": "stdout",
     "output_type": "stream",
     "text": [
      "Mean Age is  1.538536720145175e-16\n",
      "Mean Fare is  -9.79608551139844e-18\n",
      "SD Age is  1.0000000000000004\n",
      "SD Fare is  0.9999999999999997\n"
     ]
    }
   ],
   "source": [
    "#sklearn preprocessing\n",
    "# Note that the values derived are not exactly 0 or 1 but are awefully close to those values.\n",
    "cols_to_normalize = [\"Fare\", \"Age\"]\n",
    "data['Fare'] = preprocessing.scale(data['Fare'])\n",
    "data['Age'] = preprocessing.scale(data['Age'])\n",
    "print(\"Mean Age is \", np.mean(data['Age']))\n",
    "print(\"Mean Fare is \", np.mean(data['Fare']))\n",
    "print(\"SD Age is \", np.std(data['Age']))\n",
    "print(\"SD Fare is \", np.std(data['Fare']))"
   ]
  },
  {
   "cell_type": "markdown",
   "metadata": {},
   "source": [
    "### Write DataFrames \n",
    "Writes dataframes to csv for model training"
   ]
  },
  {
   "cell_type": "code",
   "execution_count": 856,
   "metadata": {
    "collapsed": false
   },
   "outputs": [],
   "source": [
    "data.to_csv('processed_data.csv', index=False)"
   ]
  },
  {
   "cell_type": "markdown",
   "metadata": {},
   "source": [
    "### Data formatting\n",
    "Put the data in the correct format to train our classifiers."
   ]
  },
  {
   "cell_type": "code",
   "execution_count": 857,
   "metadata": {
    "collapsed": false
   },
   "outputs": [],
   "source": [
    "# First, we need to put categorical data into dummy variables. Luckily pandas has a very handy function for that.\n",
    "to_be_replaced = ['Sex', \"Embarked\", 'Deck', 'TicketPrefix', 'Fsize', 'Title']\n",
    "added_cols = pd.get_dummies(data[to_be_replaced])\n",
    "added_cols['PassengerId'] = data['PassengerId']\n",
    "data = pd.merge(data, added_cols, on='PassengerId')\n",
    "tmp = pd.get_dummies(data['Pclass'])\n",
    "tmp.columns=[\"Class 1\", \"Class 2\", \"Class 3\"]\n",
    "tmp['PassengerId'] = data['PassengerId']"
   ]
  },
  {
   "cell_type": "code",
   "execution_count": 858,
   "metadata": {
    "collapsed": false
   },
   "outputs": [],
   "source": [
    "data.drop(to_be_replaced, axis=1, inplace=True)\n",
    "data.drop(\"Pclass\", axis=1, inplace=True)\n",
    "data = pd.merge(data, tmp, on='PassengerId')"
   ]
  },
  {
   "cell_type": "markdown",
   "metadata": {},
   "source": [
    "### Predictions"
   ]
  },
  {
   "cell_type": "code",
   "execution_count": 859,
   "metadata": {
    "collapsed": true
   },
   "outputs": [],
   "source": [
    "train = data[:len(train)]\n",
    "test = data[len(train):]"
   ]
  },
  {
   "cell_type": "code",
   "execution_count": 860,
   "metadata": {
    "collapsed": false
   },
   "outputs": [],
   "source": [
    "X=train.drop(['Ticket', 'Name', 'PassengerId', 'Survived'], axis=1).as_matrix()\n",
    "Y= np.array(train['Survived'])"
   ]
  },
  {
   "cell_type": "code",
   "execution_count": 861,
   "metadata": {
    "collapsed": true
   },
   "outputs": [],
   "source": [
    "#At this point we will define a utility function which will abstract away some of the code for us\n",
    "def report(clf, X, Y):\n",
    "    start=clock()\n",
    "    predicted = cross_validation.cross_val_predict(clf, X, Y, cv=10)\n",
    "    end = clock()\n",
    "    print(\"Accuracy: \", metrics.accuracy_score(Y, predicted))\n",
    "    print(\"Recall: \", metrics.recall_score(Y, predicted))\n",
    "    print(\"Precision: \", metrics.precision_score(Y, predicted))\n",
    "    print(\"F1: \", metrics.f1_score(Y, predicted))\n",
    "    print(\"Time elapsed: \", end-start)"
   ]
  },
  {
   "cell_type": "code",
   "execution_count": 862,
   "metadata": {
    "collapsed": false
   },
   "outputs": [
    {
     "name": "stdout",
     "output_type": "stream",
     "text": [
      "---------------------------------\n",
      "Logistic Regression\n",
      "Accuracy:  0.835016835017\n",
      "Recall:  0.760233918129\n",
      "Precision:  0.8\n",
      "F1:  0.779610194903\n",
      "Time elapsed:  0.07735900000000129\n",
      "---------------------------------\n",
      "SVM\n",
      "Accuracy:  0.832772166105\n",
      "Recall:  0.733918128655\n",
      "Precision:  0.812297734628\n",
      "F1:  0.771121351767\n",
      "Time elapsed:  0.5946350000000393\n",
      "---------------------------------\n",
      "Random Forest\n",
      "Accuracy:  0.811447811448\n",
      "Recall:  0.707602339181\n",
      "Precision:  0.78064516129\n",
      "F1:  0.742331288344\n",
      "Time elapsed:  0.2044899999999643\n",
      "---------------------------------\n",
      "Naive Bayes\n",
      "Accuracy:  0.784511784512\n",
      "Recall:  0.771929824561\n",
      "Precision:  0.698412698413\n",
      "F1:  0.733333333333\n",
      "Time elapsed:  0.06425999999999021\n",
      "---------------------------------\n",
      "Decision Tree Classifier\n",
      "Accuracy:  0.7822671156\n",
      "Recall:  0.713450292398\n",
      "Precision:  0.717647058824\n",
      "F1:  0.715542521994\n",
      "Time elapsed:  0.07589300000000776\n"
     ]
    }
   ],
   "source": [
    "# Now that everything is set, use cross validation to test different learning algorithms and see how they perform\n",
    "print('---------------------------------')\n",
    "print('Logistic Regression')\n",
    "clf = linear_model.LogisticRegression()\n",
    "report(clf, X, Y)\n",
    "print('---------------------------------')\n",
    "print('SVM')\n",
    "clf = svm.SVC()\n",
    "report(clf, X, Y)\n",
    "print('---------------------------------')\n",
    "print('Random Forest')\n",
    "clf = ensemble.RandomForestClassifier()\n",
    "report(clf, X, Y)\n",
    "print('---------------------------------')\n",
    "print('Naive Bayes')\n",
    "clf = naive_bayes.BernoulliNB()\n",
    "report(clf, X, Y)\n",
    "print('---------------------------------')\n",
    "print('Decision Tree Classifier')\n",
    "clf = tree.DecisionTreeClassifier()\n",
    "report(clf, X, Y)"
   ]
  },
  {
   "cell_type": "markdown",
   "metadata": {},
   "source": [
    "<a name=\"submission\"></a>"
   ]
  },
  {
   "cell_type": "markdown",
   "metadata": {},
   "source": [
    "## Submission"
   ]
  },
  {
   "cell_type": "code",
   "execution_count": 864,
   "metadata": {
    "collapsed": false
   },
   "outputs": [],
   "source": [
    "# Based on my training data, the best-performing algorithm is Logistic Regression with SVM following closely\n",
    "# Based on the leaderboard, LR gives a 77.5 on the test set\n",
    "X_test = test.drop(['Ticket', 'Name', 'PassengerId', 'Survived'], axis=1).as_matrix()\n",
    "clf = ensemble.RandomForestClassifier(random_state = 10, warm_start = True, \n",
    "                                  n_estimators = 26,\n",
    "                                  max_depth = 6, \n",
    "                                  max_features = 'sqrt')\n",
    "clf.fit(X, Y)\n",
    "predictions = clf.predict(X_test)"
   ]
  },
  {
   "cell_type": "code",
   "execution_count": 865,
   "metadata": {
    "collapsed": false
   },
   "outputs": [],
   "source": [
    "def make_submission_file(filename, predictions):\n",
    "    results = pd.DataFrame()\n",
    "    results['Survived'] = [int(i) for i in predictions]\n",
    "    results['PassengerId'] = np.array(test.axes[0])+1\n",
    "    results.to_csv(filename,index=False)"
   ]
  },
  {
   "cell_type": "code",
   "execution_count": 866,
   "metadata": {
    "collapsed": false
   },
   "outputs": [],
   "source": [
    "#make submission\n",
    "filename = \"version 0.5.csv\"\n",
    "make_submission_file(filename, predictions)"
   ]
  },
  {
   "cell_type": "code",
   "execution_count": null,
   "metadata": {
    "collapsed": true
   },
   "outputs": [],
   "source": []
  }
 ],
 "metadata": {
  "kernelspec": {
   "display_name": "Python 3",
   "language": "python",
   "name": "python3"
  },
  "language_info": {
   "codemirror_mode": {
    "name": "ipython",
    "version": 3
   },
   "file_extension": ".py",
   "mimetype": "text/x-python",
   "name": "python",
   "nbconvert_exporter": "python",
   "pygments_lexer": "ipython3",
   "version": "3.5.1"
  }
 },
 "nbformat": 4,
 "nbformat_minor": 0
}
