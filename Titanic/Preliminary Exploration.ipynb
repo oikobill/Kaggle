{
 "cells": [
  {
   "cell_type": "markdown",
   "metadata": {},
   "source": [
    "# Titanic -- Preliminary Exploration\n",
    "\n",
    "**Author**:  _Vasilis Oikonomou_\n",
    "\n",
    "\n",
    "**Language**:  _Python 3_\n",
    "\n",
    "\n",
    "**Date Started**:  _June 21st 2016_"
   ]
  },
  {
   "cell_type": "markdown",
   "metadata": {},
   "source": [
    "## Table of Contents\n",
    "\n",
    "* **_ [Understanding the dataset](#intro)_**\n",
    " * _ [What do the variables mean?](#vars)_\n",
    " * _[Variable Importance(first taste)](#var_imp)_\n",
    "* **_ [Feature Engineering](#feats)_**\n",
    " * _ [Title](#title)_\n",
    " * _ [Family Size](#fsize)_\n",
    " * _ [Deck](#deck)_\n",
    " * _ [Ticket prefix](#ticket)_\n",
    "* **_ [Data Curation](#cur)_**\n",
    " * _ [Fare](#fare)_\n",
    " * _ [Age](#age)_\n",
    " * _ [Data Normalization](#norm)_\n",
    "* **_ [Visualizations!](#viz)_**\n",
    "* **_ [Model](#model)_**\n",
    "* **_ [Conclusion](#conclusion)_**"
   ]
  },
  {
   "cell_type": "markdown",
   "metadata": {},
   "source": [
    "<a name=\"intro\"></a>"
   ]
  },
  {
   "cell_type": "markdown",
   "metadata": {},
   "source": [
    "## Understanding the dataset\n",
    "####Welcome to my exploration of the Titanic dataset on Kaggle. This document is an accumulation of what I have learned so far in the competition. I am also a beginner in ML so definitely feel free to comment your suggestions below so that I can include them in future versions! \n",
    "\n",
    "####Hope you enjoy this!"
   ]
  },
  {
   "cell_type": "code",
   "execution_count": 903,
   "metadata": {
    "collapsed": false
   },
   "outputs": [],
   "source": [
    "#import the necessary libraries\n",
    "import pandas as pd\n",
    "import numpy as np\n",
    "import matplotlib.pyplot as plt\n",
    "import re\n",
    "from biokit.viz import corrplot\n",
    "from statsmodels.graphics.mosaicplot import mosaic\n",
    "import warnings\n",
    "warnings.filterwarnings(\"ignore\")\n",
    "%matplotlib inline\n",
    "#from sklearn import ..."
   ]
  },
  {
   "cell_type": "code",
   "execution_count": 904,
   "metadata": {
    "collapsed": true
   },
   "outputs": [],
   "source": [
    "#import our data\n",
    "train = pd.read_csv(\"data/train.csv\", )\n",
    "test = pd.read_csv(\"data/test.csv\")"
   ]
  },
  {
   "cell_type": "code",
   "execution_count": 905,
   "metadata": {
    "collapsed": false
   },
   "outputs": [
    {
     "name": "stdout",
     "output_type": "stream",
     "text": [
      "<class 'pandas.core.frame.DataFrame'>\n",
      "Int64Index: 891 entries, 0 to 890\n",
      "Data columns (total 12 columns):\n",
      "PassengerId    891 non-null int64\n",
      "Survived       891 non-null int64\n",
      "Pclass         891 non-null int64\n",
      "Name           891 non-null object\n",
      "Sex            891 non-null object\n",
      "Age            714 non-null float64\n",
      "SibSp          891 non-null int64\n",
      "Parch          891 non-null int64\n",
      "Ticket         891 non-null object\n",
      "Fare           891 non-null float64\n",
      "Cabin          204 non-null object\n",
      "Embarked       889 non-null object\n",
      "dtypes: float64(2), int64(5), object(5)\n",
      "memory usage: 90.5+ KB\n"
     ]
    }
   ],
   "source": [
    "train.info()"
   ]
  },
  {
   "cell_type": "markdown",
   "metadata": {},
   "source": [
    "<a name=\"vars\"></a>"
   ]
  },
  {
   "cell_type": "markdown",
   "metadata": {},
   "source": [
    "### What do the variables mean?\n",
    "We table consists of 11 variables. Note that some columns have missing values. We will deal with them in later sections. For now let's make sure we understand what each variable means.\n",
    "\n",
    "| **Variable name** | **Explanation**    \n",
    "| :------------- |:-------------\n",
    "| **Survived**| `1 if a passenger lived, 0 otherwise`\n",
    "| **Pclass**      | `Passenger's class (1st, 2nd or 3rd)`     \n",
    "| **Name**| `Name of passenger ` \n",
    "| **Sex**| `Passenger's gender`\n",
    "| **Age**| `Name of passenger`\n",
    "| **SibSp**| `Number of siblings/spouses aboard`\n",
    "| **Parch**| `Number of parents/children aboard`\n",
    "| **Ticket**| `Passenger's ticket number`\n",
    "| **Fare**| `Amount paid for ticket`\n",
    "| **Cabin**| `Passenger's Cabin number`\n",
    "| **Embarked**| `Port of embarkation`\n",
    "\n"
   ]
  },
  {
   "cell_type": "code",
   "execution_count": 906,
   "metadata": {
    "collapsed": false
   },
   "outputs": [],
   "source": [
    "#Let's express the categorical variables we have, namely Sex, for the time being\n",
    "tempo = pd.get_dummies(train[['Sex']])\n",
    "train['male'] = tempo['Sex_male']\n",
    "train['female'] = tempo['Sex_female']"
   ]
  },
  {
   "cell_type": "markdown",
   "metadata": {},
   "source": [
    "<a name=\"var_imp\"></a>"
   ]
  },
  {
   "cell_type": "markdown",
   "metadata": {},
   "source": [
    "### Variable Importance (first taste)"
   ]
  },
  {
   "cell_type": "code",
   "execution_count": 907,
   "metadata": {
    "collapsed": false
   },
   "outputs": [
    {
     "name": "stdout",
     "output_type": "stream",
     "text": [
      "Computing correlation\n"
     ]
    },
    {
     "data": {
      "image/png": "[encoded data removed]",
      "text/plain": [
       "<matplotlib.figure.Figure at 0x125fdb198>"
      ]
     },
     "metadata": {},
     "output_type": "display_data"
    }
   ],
   "source": [
    "# Now let's plot a correlation plot with what we are given\n",
    "fig = plt.figure()\n",
    "fig.set_figheight(25)\n",
    "fig.set_figwidth(50)\n",
    "ax1 = fig.add_subplot(221)\n",
    "c = corrplot.Corrplot(train.drop(['PassengerId', 'Cabin'], axis=1))\n",
    "c.plot(fig=fig, ax=ax1, method='color', fontsize=25)\n",
    "# By just getting a taste of which variables are important to us, we see that both gender(male, female) and Pclass \n",
    "# seem to be quite important. "
   ]
  },
  {
   "cell_type": "markdown",
   "metadata": {},
   "source": [
    "<a name=\"feats\"></a>"
   ]
  },
  {
   "cell_type": "markdown",
   "metadata": {},
   "source": [
    "## Feature Engineering"
   ]
  },
  {
   "cell_type": "markdown",
   "metadata": {},
   "source": [
    "<a name=\"title\"></a>"
   ]
  },
  {
   "cell_type": "markdown",
   "metadata": {},
   "source": [
    "### Title"
   ]
  },
  {
   "cell_type": "code",
   "execution_count": 908,
   "metadata": {
    "collapsed": false
   },
   "outputs": [],
   "source": [
    "# for this section, we will combine our train and test set into 1 so that we won't have to rewrite \n",
    "# our code for the test set\n",
    "data = train.append(test)\n",
    "data.drop([\"female\", \"male\"], axis=1, inplace=True)"
   ]
  },
  {
   "cell_type": "code",
   "execution_count": 909,
   "metadata": {
    "collapsed": false
   },
   "outputs": [
    {
     "data": {
      "text/html": [
       "<div>\n",
       "<table border=\"1\" class=\"dataframe\">\n",
       "  <thead>\n",
       "    <tr style=\"text-align: right;\">\n",
       "      <th>Title</th>\n",
       "      <th>Capt.</th>\n",
       "      <th>Col.</th>\n",
       "      <th>Countess.</th>\n",
       "      <th>Don.</th>\n",
       "      <th>Dona.</th>\n",
       "      <th>Dr.</th>\n",
       "      <th>Jonkheer.</th>\n",
       "      <th>Lady.</th>\n",
       "      <th>Major.</th>\n",
       "      <th>Master.</th>\n",
       "      <th>Miss.</th>\n",
       "      <th>Mlle.</th>\n",
       "      <th>Mme.</th>\n",
       "      <th>Mr.</th>\n",
       "      <th>Mrs.</th>\n",
       "      <th>Ms.</th>\n",
       "      <th>Rev.</th>\n",
       "      <th>Sir.</th>\n",
       "    </tr>\n",
       "    <tr>\n",
       "      <th>Gender</th>\n",
       "      <th></th>\n",
       "      <th></th>\n",
       "      <th></th>\n",
       "      <th></th>\n",
       "      <th></th>\n",
       "      <th></th>\n",
       "      <th></th>\n",
       "      <th></th>\n",
       "      <th></th>\n",
       "      <th></th>\n",
       "      <th></th>\n",
       "      <th></th>\n",
       "      <th></th>\n",
       "      <th></th>\n",
       "      <th></th>\n",
       "      <th></th>\n",
       "      <th></th>\n",
       "      <th></th>\n",
       "    </tr>\n",
       "  </thead>\n",
       "  <tbody>\n",
       "    <tr>\n",
       "      <th>female</th>\n",
       "      <td>0</td>\n",
       "      <td>0</td>\n",
       "      <td>1</td>\n",
       "      <td>0</td>\n",
       "      <td>1</td>\n",
       "      <td>1</td>\n",
       "      <td>0</td>\n",
       "      <td>1</td>\n",
       "      <td>0</td>\n",
       "      <td>0</td>\n",
       "      <td>260</td>\n",
       "      <td>2</td>\n",
       "      <td>1</td>\n",
       "      <td>0</td>\n",
       "      <td>197</td>\n",
       "      <td>2</td>\n",
       "      <td>0</td>\n",
       "      <td>0</td>\n",
       "    </tr>\n",
       "    <tr>\n",
       "      <th>male</th>\n",
       "      <td>1</td>\n",
       "      <td>4</td>\n",
       "      <td>0</td>\n",
       "      <td>1</td>\n",
       "      <td>0</td>\n",
       "      <td>7</td>\n",
       "      <td>1</td>\n",
       "      <td>0</td>\n",
       "      <td>2</td>\n",
       "      <td>61</td>\n",
       "      <td>0</td>\n",
       "      <td>0</td>\n",
       "      <td>0</td>\n",
       "      <td>757</td>\n",
       "      <td>0</td>\n",
       "      <td>0</td>\n",
       "      <td>8</td>\n",
       "      <td>1</td>\n",
       "    </tr>\n",
       "  </tbody>\n",
       "</table>\n",
       "</div>"
      ],
      "text/plain": [
       "Title   Capt.  Col.  Countess.  Don.  Dona.  Dr.  Jonkheer.  Lady.  Major.  \\\n",
       "Gender                                                                       \n",
       "female      0     0          1     0      1    1          0      1       0   \n",
       "male        1     4          0     1      0    7          1      0       2   \n",
       "\n",
       "Title   Master.  Miss.  Mlle.  Mme.  Mr.  Mrs.  Ms.  Rev.  Sir.  \n",
       "Gender                                                           \n",
       "female        0    260      2     1    0   197    2     0     0  \n",
       "male         61      0      0     0  757     0    0     8     1  "
      ]
     },
     "execution_count": 909,
     "metadata": {},
     "output_type": "execute_result"
    }
   ],
   "source": [
    "# The first new feature that we will try to construct will be related to passenger titles\n",
    "titles = []\n",
    "for name in data.Name:\n",
    "    titles.append(re.search(r'[A-Z][a-z]+\\.', name).group())\n",
    "data['Title'] = titles\n",
    "pd.crosstab(data['Sex'], data['Title'],rownames=['Gender'], colnames=['Title'])"
   ]
  },
  {
   "cell_type": "code",
   "execution_count": 910,
   "metadata": {
    "collapsed": false
   },
   "outputs": [],
   "source": [
    "# There are some titles with very few counts. We could group those into a collection of rare titles\n",
    "rare = [\"Capt.\", \"Col.\", \"Countess.\", \"Don.\", \"Dona.\", \"Jonkheer.\", \"Dr.\", \"Dr.\", \"Major.\", \"Rev.\", \"Sir.\", \"Lady.\"]\n",
    "for i in range(len(titles)):\n",
    "    if titles[i] in rare:\n",
    "        titles[i]='rare'\n",
    "data['Title']=titles"
   ]
  },
  {
   "cell_type": "code",
   "execution_count": 911,
   "metadata": {
    "collapsed": false
   },
   "outputs": [],
   "source": [
    "# Also reassign mlle, ms, and mme, lady accordingly\n",
    "data = data.replace(to_replace='Mlle.', value='Miss.')\n",
    "data = data.replace(to_replace='Ms.', value='Miss.')\n",
    "data = data.replace(to_replace='Mme.', value='Mrs.')"
   ]
  },
  {
   "cell_type": "code",
   "execution_count": 912,
   "metadata": {
    "collapsed": false
   },
   "outputs": [
    {
     "data": {
      "text/html": [
       "<div>\n",
       "<table border=\"1\" class=\"dataframe\">\n",
       "  <thead>\n",
       "    <tr style=\"text-align: right;\">\n",
       "      <th>Title</th>\n",
       "      <th>Master.</th>\n",
       "      <th>Miss.</th>\n",
       "      <th>Mr.</th>\n",
       "      <th>Mrs.</th>\n",
       "      <th>rare</th>\n",
       "    </tr>\n",
       "    <tr>\n",
       "      <th>Gender</th>\n",
       "      <th></th>\n",
       "      <th></th>\n",
       "      <th></th>\n",
       "      <th></th>\n",
       "      <th></th>\n",
       "    </tr>\n",
       "  </thead>\n",
       "  <tbody>\n",
       "    <tr>\n",
       "      <th>female</th>\n",
       "      <td>0</td>\n",
       "      <td>264</td>\n",
       "      <td>0</td>\n",
       "      <td>198</td>\n",
       "      <td>4</td>\n",
       "    </tr>\n",
       "    <tr>\n",
       "      <th>male</th>\n",
       "      <td>61</td>\n",
       "      <td>0</td>\n",
       "      <td>757</td>\n",
       "      <td>0</td>\n",
       "      <td>25</td>\n",
       "    </tr>\n",
       "  </tbody>\n",
       "</table>\n",
       "</div>"
      ],
      "text/plain": [
       "Title   Master.  Miss.  Mr.  Mrs.  rare\n",
       "Gender                                 \n",
       "female        0    264    0   198     4\n",
       "male         61      0  757     0    25"
      ]
     },
     "execution_count": 912,
     "metadata": {},
     "output_type": "execute_result"
    }
   ],
   "source": [
    "pd.crosstab(data['Sex'], data['Title'],rownames=['Gender'], colnames=['Title'])"
   ]
  },
  {
   "cell_type": "markdown",
   "metadata": {},
   "source": [
    "<a name=\"fsize\"></a>"
   ]
  },
  {
   "cell_type": "markdown",
   "metadata": {},
   "source": [
    "### Family Size"
   ]
  },
  {
   "cell_type": "code",
   "execution_count": 913,
   "metadata": {
    "collapsed": false
   },
   "outputs": [],
   "source": [
    "# Another feature that should be added is the family size \n",
    "data['Fsize'] = np.array(data['Parch'])+np.array(data['SibSp']) + 1"
   ]
  },
  {
   "cell_type": "code",
   "execution_count": 914,
   "metadata": {
    "collapsed": false
   },
   "outputs": [],
   "source": [
    "# Now let's explore the relation between family size and survival rate\n",
    "survived = data[data['Survived']==1]\n",
    "died = data[data['Survived']==0]\n",
    "died['Died'] = 1\n",
    "died.drop(\"Survived\", axis=1, inplace=True)"
   ]
  },
  {
   "cell_type": "code",
   "execution_count": 915,
   "metadata": {
    "collapsed": false
   },
   "outputs": [],
   "source": [
    "survived = survived.groupby('Fsize')[['Survived']].sum()\n",
    "died = died.groupby('Fsize')[['Died']].sum()"
   ]
  },
  {
   "cell_type": "code",
   "execution_count": 916,
   "metadata": {
    "collapsed": false
   },
   "outputs": [
    {
     "data": {
      "text/plain": [
       "<matplotlib.axes._subplots.AxesSubplot at 0x11b41f208>"
      ]
     },
     "execution_count": 916,
     "metadata": {},
     "output_type": "execute_result"
    },
    {
     "data": {
      "image/png": "[encoded data removed]",
      "text/plain": [
       "<matplotlib.figure.Figure at 0x120e6ebe0>"
      ]
     },
     "metadata": {},
     "output_type": "display_data"
    }
   ],
   "source": [
    "result = pd.concat([died, survived], axis=1)\n",
    "result = result.fillna(0)\n",
    "# convert to proportions\n",
    "total = np.array(result['Died'])+np.array(result['Survived'])\n",
    "result['Died'] = np.array(result[\"Died\"])/total\n",
    "result['Survived'] = np.array(result[\"Survived\"])/total\n",
    "result.plot(kind='bar')"
   ]
  },
  {
   "cell_type": "code",
   "execution_count": 917,
   "metadata": {
    "collapsed": false
   },
   "outputs": [],
   "source": [
    "# clearly we see that the only types of families that survived are mainly those of 2, 3 and 4 people while others seem\n",
    "# to have perished\n",
    "#Hence, we can encode the family size into 3 categorical variables, small, medium and large based on their size\n",
    "def encode_fsize(x):\n",
    "    if x==1:\n",
    "        return 'small'\n",
    "    elif x<5:\n",
    "        return 'medium'\n",
    "    else:\n",
    "        return 'large'"
   ]
  },
  {
   "cell_type": "code",
   "execution_count": 918,
   "metadata": {
    "collapsed": false
   },
   "outputs": [],
   "source": [
    "data['Fsize']=data['Fsize'].apply(encode_fsize)"
   ]
  },
  {
   "cell_type": "code",
   "execution_count": 919,
   "metadata": {
    "collapsed": false
   },
   "outputs": [
    {
     "data": {
      "image/png": "[encoded data removed]",
      "text/plain": [
       "<matplotlib.figure.Figure at 0x11ca2b898>"
      ]
     },
     "metadata": {},
     "output_type": "display_data"
    }
   ],
   "source": [
    "f, a = mosaic(data, ['Fsize', 'Survived'])\n",
    "f.set_figheight(10)\n",
    "f.set_figwidth(10)"
   ]
  },
  {
   "cell_type": "code",
   "execution_count": 920,
   "metadata": {
    "collapsed": false
   },
   "outputs": [],
   "source": [
    "data.drop(['SibSp','Parch'], axis=1, inplace=True)"
   ]
  },
  {
   "cell_type": "markdown",
   "metadata": {},
   "source": [
    "<a name=\"deck\"></a>"
   ]
  },
  {
   "cell_type": "markdown",
   "metadata": {},
   "source": [
    "### Deck"
   ]
  },
  {
   "cell_type": "code",
   "execution_count": 921,
   "metadata": {
    "collapsed": false
   },
   "outputs": [],
   "source": [
    "# In this part we will utilize the cabin variable that we have to see what was the deck of each passenger\n",
    "# Z if value is nan\n",
    "data['Deck'] = data['Cabin'].apply(lambda x: x[0] if type(x)==type('str') else 'Z')\n",
    "data.drop('Cabin', axis=1, inplace=True)"
   ]
  },
  {
   "cell_type": "markdown",
   "metadata": {},
   "source": [
    "<a name=\"ticket\"></a>"
   ]
  },
  {
   "cell_type": "markdown",
   "metadata": {},
   "source": [
    "### Ticket prefix"
   ]
  },
  {
   "cell_type": "code",
   "execution_count": 922,
   "metadata": {
    "collapsed": false
   },
   "outputs": [
    {
     "data": {
      "text/plain": [
       "0           A/5 21171\n",
       "1            PC 17599\n",
       "2    STON/O2. 3101282\n",
       "3              113803\n",
       "4              373450\n",
       "Name: Ticket, dtype: object"
      ]
     },
     "execution_count": 922,
     "metadata": {},
     "output_type": "execute_result"
    }
   ],
   "source": [
    "# For this feature we will attempt to examine the significance of the ticket prefix, eg A/5, PC etc\n",
    "data['Ticket'].head()"
   ]
  },
  {
   "cell_type": "code",
   "execution_count": 923,
   "metadata": {
    "collapsed": false
   },
   "outputs": [],
   "source": [
    "data['TicketPrefix'] = data[\"Ticket\"].apply(lambda i: i.split(\" \")[0] if len(i.split(\" \"))>=2 else '0')"
   ]
  },
  {
   "cell_type": "code",
   "execution_count": 924,
   "metadata": {
    "collapsed": false
   },
   "outputs": [],
   "source": [
    "data['TicketPrefix'] = data['TicketPrefix'].apply(lambda x: re.sub(r'[/\\.]', \"\", x))"
   ]
  },
  {
   "cell_type": "markdown",
   "metadata": {},
   "source": [
    "<a name=\"cur\"></a>"
   ]
  },
  {
   "cell_type": "markdown",
   "metadata": {},
   "source": [
    "## Data Curation\n",
    "\n",
    "Now that we have made some new features, it is time to take a look at our dataset and see how we can deal with missing values and/or other anomalies that we come across. Note that we know from the beginning of the exploration that the colmns Age, Embarked, Cabin and Fare have some missing values"
   ]
  },
  {
   "cell_type": "markdown",
   "metadata": {},
   "source": [
    "<a name=\"fare\"></a>"
   ]
  },
  {
   "cell_type": "markdown",
   "metadata": {},
   "source": [
    "### Fare"
   ]
  },
  {
   "cell_type": "code",
   "execution_count": 925,
   "metadata": {
    "collapsed": false
   },
   "outputs": [
    {
     "data": {
      "text/html": [
       "<div>\n",
       "<table border=\"1\" class=\"dataframe\">\n",
       "  <thead>\n",
       "    <tr style=\"text-align: right;\">\n",
       "      <th></th>\n",
       "      <th>Age</th>\n",
       "      <th>Fare</th>\n",
       "      <th>PassengerId</th>\n",
       "      <th>Pclass</th>\n",
       "      <th>Survived</th>\n",
       "    </tr>\n",
       "  </thead>\n",
       "  <tbody>\n",
       "    <tr>\n",
       "      <th>count</th>\n",
       "      <td>1046.000000</td>\n",
       "      <td>1308.000000</td>\n",
       "      <td>1309.000000</td>\n",
       "      <td>1309.000000</td>\n",
       "      <td>891.000000</td>\n",
       "    </tr>\n",
       "    <tr>\n",
       "      <th>mean</th>\n",
       "      <td>29.881138</td>\n",
       "      <td>33.295479</td>\n",
       "      <td>655.000000</td>\n",
       "      <td>2.294882</td>\n",
       "      <td>0.383838</td>\n",
       "    </tr>\n",
       "    <tr>\n",
       "      <th>std</th>\n",
       "      <td>14.413493</td>\n",
       "      <td>51.758668</td>\n",
       "      <td>378.020061</td>\n",
       "      <td>0.837836</td>\n",
       "      <td>0.486592</td>\n",
       "    </tr>\n",
       "    <tr>\n",
       "      <th>min</th>\n",
       "      <td>0.170000</td>\n",
       "      <td>0.000000</td>\n",
       "      <td>1.000000</td>\n",
       "      <td>1.000000</td>\n",
       "      <td>0.000000</td>\n",
       "    </tr>\n",
       "    <tr>\n",
       "      <th>25%</th>\n",
       "      <td>21.000000</td>\n",
       "      <td>7.895800</td>\n",
       "      <td>328.000000</td>\n",
       "      <td>2.000000</td>\n",
       "      <td>0.000000</td>\n",
       "    </tr>\n",
       "    <tr>\n",
       "      <th>50%</th>\n",
       "      <td>28.000000</td>\n",
       "      <td>14.454200</td>\n",
       "      <td>655.000000</td>\n",
       "      <td>3.000000</td>\n",
       "      <td>0.000000</td>\n",
       "    </tr>\n",
       "    <tr>\n",
       "      <th>75%</th>\n",
       "      <td>39.000000</td>\n",
       "      <td>31.275000</td>\n",
       "      <td>982.000000</td>\n",
       "      <td>3.000000</td>\n",
       "      <td>1.000000</td>\n",
       "    </tr>\n",
       "    <tr>\n",
       "      <th>max</th>\n",
       "      <td>80.000000</td>\n",
       "      <td>512.329200</td>\n",
       "      <td>1309.000000</td>\n",
       "      <td>3.000000</td>\n",
       "      <td>1.000000</td>\n",
       "    </tr>\n",
       "  </tbody>\n",
       "</table>\n",
       "</div>"
      ],
      "text/plain": [
       "               Age         Fare  PassengerId       Pclass    Survived\n",
       "count  1046.000000  1308.000000  1309.000000  1309.000000  891.000000\n",
       "mean     29.881138    33.295479   655.000000     2.294882    0.383838\n",
       "std      14.413493    51.758668   378.020061     0.837836    0.486592\n",
       "min       0.170000     0.000000     1.000000     1.000000    0.000000\n",
       "25%      21.000000     7.895800   328.000000     2.000000    0.000000\n",
       "50%      28.000000    14.454200   655.000000     3.000000    0.000000\n",
       "75%      39.000000    31.275000   982.000000     3.000000    1.000000\n",
       "max      80.000000   512.329200  1309.000000     3.000000    1.000000"
      ]
     },
     "execution_count": 925,
     "metadata": {},
     "output_type": "execute_result"
    }
   ],
   "source": [
    "# What is interesting here is that the minimum Fare paid in this case is 0. Could those cases be babies?\n",
    "data.describe()"
   ]
  },
  {
   "cell_type": "code",
   "execution_count": 926,
   "metadata": {
    "collapsed": false
   },
   "outputs": [
    {
     "data": {
      "text/html": [
       "<div>\n",
       "<table border=\"1\" class=\"dataframe\">\n",
       "  <thead>\n",
       "    <tr style=\"text-align: right;\">\n",
       "      <th></th>\n",
       "      <th>Age</th>\n",
       "      <th>Fare</th>\n",
       "      <th>Pclass</th>\n",
       "    </tr>\n",
       "  </thead>\n",
       "  <tbody>\n",
       "    <tr>\n",
       "      <th>179</th>\n",
       "      <td>36</td>\n",
       "      <td>0.0000</td>\n",
       "      <td>3</td>\n",
       "    </tr>\n",
       "    <tr>\n",
       "      <th>263</th>\n",
       "      <td>40</td>\n",
       "      <td>0.0000</td>\n",
       "      <td>1</td>\n",
       "    </tr>\n",
       "    <tr>\n",
       "      <th>271</th>\n",
       "      <td>25</td>\n",
       "      <td>0.0000</td>\n",
       "      <td>3</td>\n",
       "    </tr>\n",
       "    <tr>\n",
       "      <th>277</th>\n",
       "      <td>NaN</td>\n",
       "      <td>0.0000</td>\n",
       "      <td>2</td>\n",
       "    </tr>\n",
       "    <tr>\n",
       "      <th>302</th>\n",
       "      <td>19</td>\n",
       "      <td>0.0000</td>\n",
       "      <td>3</td>\n",
       "    </tr>\n",
       "    <tr>\n",
       "      <th>378</th>\n",
       "      <td>20</td>\n",
       "      <td>4.0125</td>\n",
       "      <td>3</td>\n",
       "    </tr>\n",
       "    <tr>\n",
       "      <th>413</th>\n",
       "      <td>NaN</td>\n",
       "      <td>0.0000</td>\n",
       "      <td>2</td>\n",
       "    </tr>\n",
       "    <tr>\n",
       "      <th>466</th>\n",
       "      <td>NaN</td>\n",
       "      <td>0.0000</td>\n",
       "      <td>2</td>\n",
       "    </tr>\n",
       "    <tr>\n",
       "      <th>481</th>\n",
       "      <td>NaN</td>\n",
       "      <td>0.0000</td>\n",
       "      <td>2</td>\n",
       "    </tr>\n",
       "    <tr>\n",
       "      <th>597</th>\n",
       "      <td>49</td>\n",
       "      <td>0.0000</td>\n",
       "      <td>3</td>\n",
       "    </tr>\n",
       "  </tbody>\n",
       "</table>\n",
       "</div>"
      ],
      "text/plain": [
       "     Age    Fare  Pclass\n",
       "179   36  0.0000       3\n",
       "263   40  0.0000       1\n",
       "271   25  0.0000       3\n",
       "277  NaN  0.0000       2\n",
       "302   19  0.0000       3\n",
       "378   20  4.0125       3\n",
       "413  NaN  0.0000       2\n",
       "466  NaN  0.0000       2\n",
       "481  NaN  0.0000       2\n",
       "597   49  0.0000       3"
      ]
     },
     "execution_count": 926,
     "metadata": {},
     "output_type": "execute_result"
    }
   ],
   "source": [
    "#Clearly these people are not babies, and the almost 0 fare is probably due to some error in our data\n",
    "# Let's replace those people's fare(including those with nan values) with the mean fare of their class \n",
    "# and port of embarkation\n",
    "free_loaders = data[data['Fare']<5]\n",
    "free_loaders[['Age', 'Fare', 'Pclass']][:10]"
   ]
  },
  {
   "cell_type": "code",
   "execution_count": 927,
   "metadata": {
    "collapsed": false
   },
   "outputs": [
    {
     "data": {
      "text/html": [
       "<div>\n",
       "<table border=\"1\" class=\"dataframe\">\n",
       "  <thead>\n",
       "    <tr style=\"text-align: right;\">\n",
       "      <th>Title</th>\n",
       "      <th>C</th>\n",
       "      <th>Q</th>\n",
       "      <th>S</th>\n",
       "    </tr>\n",
       "    <tr>\n",
       "      <th>Pclass</th>\n",
       "      <th></th>\n",
       "      <th></th>\n",
       "      <th></th>\n",
       "    </tr>\n",
       "  </thead>\n",
       "  <tbody>\n",
       "    <tr>\n",
       "      <th>1</th>\n",
       "      <td>106.845330</td>\n",
       "      <td>90.000000</td>\n",
       "      <td>72.148094</td>\n",
       "    </tr>\n",
       "    <tr>\n",
       "      <th>2</th>\n",
       "      <td>23.300593</td>\n",
       "      <td>11.735114</td>\n",
       "      <td>21.206921</td>\n",
       "    </tr>\n",
       "    <tr>\n",
       "      <th>3</th>\n",
       "      <td>11.021624</td>\n",
       "      <td>10.390820</td>\n",
       "      <td>14.435422</td>\n",
       "    </tr>\n",
       "  </tbody>\n",
       "</table>\n",
       "</div>"
      ],
      "text/plain": [
       "Title            C          Q          S\n",
       "Pclass                                  \n",
       "1       106.845330  90.000000  72.148094\n",
       "2        23.300593  11.735114  21.206921\n",
       "3        11.021624  10.390820  14.435422"
      ]
     },
     "execution_count": 927,
     "metadata": {},
     "output_type": "execute_result"
    }
   ],
   "source": [
    "class_port_means = pd.crosstab(data['Pclass'], data['Embarked'], values = data['Fare'], aggfunc='mean',\n",
    "                               rownames=['Pclass'], colnames=['Title'])\n",
    "class_port_means"
   ]
  },
  {
   "cell_type": "code",
   "execution_count": 928,
   "metadata": {
    "collapsed": false
   },
   "outputs": [],
   "source": [
    "new_fares = []\n",
    "for i in range(len(data)):\n",
    "    if np.array(data['Fare'])[i]<5 or np.isnan(np.array(data['Fare'])[i]):\n",
    "        new_fares.append(class_port_means[np.array(data.Embarked)[i]][np.array(data.Pclass)[i]])\n",
    "    else:\n",
    "        new_fares.append(np.array(data['Fare'])[i])\n",
    "data['Fare'] = new_fares"
   ]
  },
  {
   "cell_type": "markdown",
   "metadata": {},
   "source": [
    "<a name=\"age\"></a>"
   ]
  },
  {
   "cell_type": "markdown",
   "metadata": {},
   "source": [
    "### Age \n",
    "For the time being we will just replace the missing values in our table with the mean of the entire data set. We will revisit section perhaps later."
   ]
  },
  {
   "cell_type": "code",
   "execution_count": 929,
   "metadata": {
    "collapsed": false
   },
   "outputs": [],
   "source": [
    "mean_age = np.mean(data['Age'])\n",
    "data = data.fillna(mean_age)"
   ]
  },
  {
   "cell_type": "code",
   "execution_count": 930,
   "metadata": {
    "collapsed": false
   },
   "outputs": [],
   "source": [
    "data['Embarked'] = data.replace(to_replace=29.881137667304014, value='S')['Embarked']"
   ]
  },
  {
   "cell_type": "markdown",
   "metadata": {},
   "source": [
    "<a name=\"norm\"></a>"
   ]
  },
  {
   "cell_type": "markdown",
   "metadata": {},
   "source": [
    "## Data Normalization\n",
    "To be able to run our models, we need to make sure that all our data are on the correct scale, so that our learning algorithms work properly."
   ]
  },
  {
   "cell_type": "code",
   "execution_count": null,
   "metadata": {
    "collapsed": true
   },
   "outputs": [],
   "source": [
    "#sklearn preprocessing"
   ]
  },
  {
   "cell_type": "code",
   "execution_count": null,
   "metadata": {
    "collapsed": true
   },
   "outputs": [],
   "source": []
  },
  {
   "cell_type": "markdown",
   "metadata": {},
   "source": [
    "<a name=\"viz\"></a>"
   ]
  },
  {
   "cell_type": "markdown",
   "metadata": {},
   "source": [
    "## Visualizations!\n",
    "This section will be about giving you some more interesting visualizations I have come across. "
   ]
  },
  {
   "cell_type": "code",
   "execution_count": 931,
   "metadata": {
    "collapsed": false
   },
   "outputs": [],
   "source": [
    "# As a first task, let's examine the survival rates for gender, port of embarkation and passenger class\n",
    "# For this task we will only keep the training set part of our data\n",
    "train = data[np.logical_or(data['Survived']==1, data['Survived']==0)]\n",
    "vars = ['Sex', 'Pclass', 'Embarked']"
   ]
  },
  {
   "cell_type": "code",
   "execution_count": 932,
   "metadata": {
    "collapsed": false
   },
   "outputs": [
    {
     "data": {
      "text/plain": [
       "<matplotlib.axes._subplots.AxesSubplot at 0x11d26ea20>"
      ]
     },
     "execution_count": 932,
     "metadata": {},
     "output_type": "execute_result"
    },
    {
     "data": {
      "image/png": "[encoded data removed]",
      "text/plain": [
       "<matplotlib.figure.Figure at 0x11e68d2e8>"
      ]
     },
     "metadata": {},
     "output_type": "display_data"
    }
   ],
   "source": [
    "# Survival based on gender\n",
    "table = train.groupby(['Sex', 'Survived']).size()\n",
    "table = table.unstack() #splits the data into 2 columns, 0, 1, each indexed by the\n",
    "                                    #other variable\n",
    "normedtable = table.div(table.sum(1), axis=0) #divides the counts by the totals\n",
    "normedtable.plot(kind='barh', stacked=True, colormap='brg')"
   ]
  },
  {
   "cell_type": "code",
   "execution_count": 933,
   "metadata": {
    "collapsed": false
   },
   "outputs": [
    {
     "data": {
      "text/plain": [
       "<matplotlib.axes._subplots.AxesSubplot at 0x11f087668>"
      ]
     },
     "execution_count": 933,
     "metadata": {},
     "output_type": "execute_result"
    },
    {
     "data": {
      "image/png": "[encoded data removed]",
      "text/plain": [
       "<matplotlib.figure.Figure at 0x12370c668>"
      ]
     },
     "metadata": {},
     "output_type": "display_data"
    }
   ],
   "source": [
    "#Survival based on passenger class\n",
    "# Survival based on gender\n",
    "table = train.groupby(['Pclass', 'Survived']).size()\n",
    "table = table.unstack() #splits the data into 2 columns, 0, 1, each indexed by the\n",
    "                                    #other variable\n",
    "normedtable = table.div(table.sum(1), axis=0) #divides the counts by the totals\n",
    "normedtable.plot(kind='barh', stacked=True, colormap='brg')"
   ]
  },
  {
   "cell_type": "code",
   "execution_count": 934,
   "metadata": {
    "collapsed": false
   },
   "outputs": [
    {
     "data": {
      "text/plain": [
       "<matplotlib.axes._subplots.AxesSubplot at 0x11f087b70>"
      ]
     },
     "execution_count": 934,
     "metadata": {},
     "output_type": "execute_result"
    },
    {
     "data": {
      "image/png": "[encoded data removed]",
      "text/plain": [
       "<matplotlib.figure.Figure at 0x11b5937b8>"
      ]
     },
     "metadata": {},
     "output_type": "display_data"
    }
   ],
   "source": [
    "#Survival based on the port of embarkation\n",
    "# Survival based on gender\n",
    "table = train.groupby(['Embarked', 'Survived']).size()\n",
    "table = table.unstack() #splits the data into 2 columns, 0, 1, each indexed by the\n",
    "                                    #other variable\n",
    "normedtable = table.div(table.sum(1), axis=0) #divides the counts by the totals\n",
    "normedtable.plot(kind='barh', stacked=True, colormap='brg')"
   ]
  },
  {
   "cell_type": "markdown",
   "metadata": {},
   "source": [
    "## MORE TO BE ADDED"
   ]
  },
  {
   "cell_type": "markdown",
   "metadata": {},
   "source": [
    "<a name=\"model\"></a>"
   ]
  },
  {
   "cell_type": "markdown",
   "metadata": {},
   "source": [
    "## Model"
   ]
  },
  {
   "cell_type": "code",
   "execution_count": 935,
   "metadata": {
    "collapsed": false
   },
   "outputs": [],
   "source": [
    "# First, we need to put categorical data into dummy variables. Luckily pandas have a very handy function for that\n",
    "to_be_replaced = ['Sex', \"Embarked\", 'Deck', 'TicketPrefix', 'Fsize', 'Title']\n",
    "added_cols = pd.get_dummies(data[to_be_replaced])\n",
    "added_cols['PassengerId'] = data['PassengerId']\n",
    "data = pd.merge(data, added_cols, on='PassengerId')\n",
    "tmp = pd.get_dummies(data['Pclass'])\n",
    "tmp.columns=[\"Class 1\", \"Class 2\", \"Class 3\"]\n",
    "tmp['PassengerId'] = data['PassengerId']"
   ]
  },
  {
   "cell_type": "code",
   "execution_count": 936,
   "metadata": {
    "collapsed": false
   },
   "outputs": [],
   "source": [
    "data.drop(to_be_replaced, axis=1, inplace=True)\n",
    "data.drop(\"Pclass\", axis=1, inplace=True)\n",
    "data = pd.merge(data, tmp, on='PassengerId')"
   ]
  },
  {
   "cell_type": "code",
   "execution_count": 943,
   "metadata": {
    "collapsed": false
   },
   "outputs": [],
   "source": [
    "train = data.ix[train['PassengerId']]\n",
    "test = data.ix[test['PassengerId']]"
   ]
  },
  {
   "cell_type": "code",
   "execution_count": null,
   "metadata": {
    "collapsed": false
   },
   "outputs": [],
   "source": []
  },
  {
   "cell_type": "code",
   "execution_count": null,
   "metadata": {
    "collapsed": true
   },
   "outputs": [],
   "source": []
  }
 ],
 "metadata": {
  "kernelspec": {
   "display_name": "Python 3",
   "language": "python",
   "name": "python3"
  },
  "language_info": {
   "codemirror_mode": {
    "name": "ipython",
    "version": 3
   },
   "file_extension": ".py",
   "mimetype": "text/x-python",
   "name": "python",
   "nbconvert_exporter": "python",
   "pygments_lexer": "ipython3",
   "version": "3.4.4"
  }
 },
 "nbformat": 4,
 "nbformat_minor": 0
}
