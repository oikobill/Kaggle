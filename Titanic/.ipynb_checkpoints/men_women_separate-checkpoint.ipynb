{
 "cells": [
  {
   "cell_type": "code",
   "execution_count": 3,
   "metadata": {
    "collapsed": false
   },
   "outputs": [],
   "source": [
    "#import the necessary libraries\n",
    "import pandas as pd\n",
    "import numpy as np\n",
    "import matplotlib.pyplot as plt\n",
    "import re\n",
    "import collections\n",
    "from biokit.viz import corrplot\n",
    "from sklearn import preprocessing\n",
    "from sklearn import cross_validation\n",
    "from sklearn import linear_model\n",
    "from sklearn import ensemble\n",
    "from sklearn import svm\n",
    "from sklearn import tree\n",
    "from sklearn import neighbors \n",
    "from sklearn import naive_bayes\n",
    "from sklearn import metrics\n",
    "from sklearn.feature_selection import SelectKBest\n",
    "from sklearn.grid_search import GridSearchCV, RandomizedSearchCV\n",
    "from time import clock\n",
    "import fancyimpute\n",
    "from statsmodels.graphics.mosaicplot import mosaic\n",
    "import warnings\n",
    "warnings.filterwarnings(\"ignore\")\n",
    "%matplotlib inline"
   ]
  },
  {
   "cell_type": "markdown",
   "metadata": {},
   "source": [
    "## Data"
   ]
  },
  {
   "cell_type": "code",
   "execution_count": 10,
   "metadata": {
    "collapsed": false
   },
   "outputs": [],
   "source": [
    "#import our data\n",
    "train = pd.read_csv(\"data/train.csv\")\n",
    "test = pd.read_csv(\"data/test.csv\")\n",
    "data = pd.read_csv(\"data/processed_data.csv\")\n",
    "train = data[:len(train)]\n",
    "test = data[len(train):]"
   ]
  },
  {
   "cell_type": "markdown",
   "metadata": {},
   "source": [
    "## Utils"
   ]
  },
  {
   "cell_type": "code",
   "execution_count": 53,
   "metadata": {
    "collapsed": true
   },
   "outputs": [],
   "source": [
    "def report(clf, X, Y):\n",
    "    start=clock()\n",
    "    predicted = cross_validation.cross_val_predict(clf, X, Y, cv=10)\n",
    "    end = clock()\n",
    "    print(\"Accuracy: \", metrics.accuracy_score(Y, predicted))\n",
    "    print(\"Recall: \", metrics.recall_score(Y, predicted))\n",
    "    print(\"Precision: \", metrics.precision_score(Y, predicted))\n",
    "    print(\"F1: \", metrics.f1_score(Y, predicted))\n",
    "    print(\"Time elapsed: \", end-start)\n",
    "\n",
    "def train_test_model(model, hyperparameters, X_train, X_test, y_train, y_test,\n",
    "                    folds = 10):\n",
    "    \"\"\"\n",
    "    Given a [model] and a set of possible [hyperparameters], along with \n",
    "    matricies corresponding to hold-out cross-validation, returns a model w/ \n",
    "    optimized hyperparameters, and prints out model evaluation metrics.\n",
    "    \"\"\"\n",
    "    optimized_model = GridSearchCV(model, hyperparameters, cv = folds, n_jobs = -1)\n",
    "    optimized_model.fit(X_train, y_train)\n",
    "    predicted = optimized_model.predict(X_test)\n",
    "    print ('Optimized parameters:', optimized_model.best_params_)\n",
    "    print ('Model accuracy (hold-out):', optimized_model.score(X_test, y_test))\n",
    "    kfold_score = np.mean(cross_validation.cross_val_score(\n",
    "            optimized_model.best_estimator_, np.append(X_train, X_test, axis = 0), \n",
    "            np.append(y_train, y_test), cv = folds, n_jobs = -1))\n",
    "    print ('Model accuracy ({0}-fold):'.format(str(folds)), kfold_score, '\\n')\n",
    "    return optimized_model\n",
    "\n",
    "def make_submission_file(filename, predictions):\n",
    "    results = pd.DataFrame()\n",
    "    results['Survived'] = [int(i) for i in predictions]\n",
    "    results['PassengerId'] = np.array(test.axes[0])+1\n",
    "    results.to_csv(filename,index=False)"
   ]
  },
  {
   "cell_type": "markdown",
   "metadata": {},
   "source": [
    "## Men"
   ]
  },
  {
   "cell_type": "code",
   "execution_count": 54,
   "metadata": {
    "collapsed": false
   },
   "outputs": [],
   "source": [
    "male_train = train[train.Sex==0]\n",
    "X_male, Y_male = male_train.drop(\"Survived\", axis=1).as_matrix(), np.array(male_train.Survived)\n",
    "X_train_men, X_test_men, y_train_men, y_test_men = cross_validation.train_test_split(X_male, Y_male, test_size = 0.2)"
   ]
  },
  {
   "cell_type": "code",
   "execution_count": 55,
   "metadata": {
    "collapsed": false
   },
   "outputs": [
    {
     "name": "stdout",
     "output_type": "stream",
     "text": [
      "Optimized parameters: {'class_weight': {0: 1, 1: 2}, 'C': 0.1}\n",
      "Model accuracy (hold-out): 0.784482758621\n",
      "Model accuracy (10-fold): 0.824698599948 \n",
      "\n",
      "Accuracy:  0.816291161179\n",
      "Recall:  0.376146788991\n",
      "Precision:  0.518987341772\n",
      "F1:  0.436170212766\n",
      "Time elapsed:  0.09507300000001351\n"
     ]
    }
   ],
   "source": [
    "#Logistic Regression\n",
    "lr_men = train_test_model(\n",
    "    linear_model.LogisticRegression(), {\n",
    "        'C': [0.0001,0.001, 0.01, 0.1, 1, 10, 100, 1000],\n",
    "        'class_weight': [None, 'balanced', {0:1, 1:2}, {0:1, 1:10}, {0:1, 1:100}, {0:1, 1:1000}]}, \n",
    "    X_train_men, X_test_men, y_train_men, y_test_men)\n",
    "lr_men = lr_men.best_estimator_\n",
    "report(lr_men, X_male, Y_male)"
   ]
  },
  {
   "cell_type": "code",
   "execution_count": 56,
   "metadata": {
    "collapsed": false
   },
   "outputs": [
    {
     "name": "stdout",
     "output_type": "stream",
     "text": [
      "Optimized parameters: {'n_neighbors': 3}\n",
      "Model accuracy (hold-out): 0.818965517241\n",
      "Model accuracy (10-fold): 0.823065206119 \n",
      "\n",
      "Accuracy:  0.812824956672\n",
      "Recall:  0.348623853211\n",
      "Precision:  0.506666666667\n",
      "F1:  0.413043478261\n",
      "Time elapsed:  0.6662390000000187\n"
     ]
    }
   ],
   "source": [
    "# K Nearest Neighbors\n",
    "knn_men = train_test_model(\n",
    "    neighbors.KNeighborsClassifier(), {\n",
    "        'n_neighbors': np.array([num + 1 for num in range(0, 20) if num % 2 == 0])}, \n",
    "    X_train_men, X_test_men, y_train_men, y_test_men)\n",
    "knn_men = knn_men.best_estimator_\n",
    "report(knn_men, X_male, Y_male)"
   ]
  },
  {
   "cell_type": "code",
   "execution_count": 57,
   "metadata": {
    "collapsed": false
   },
   "outputs": [
    {
     "name": "stdout",
     "output_type": "stream",
     "text": [
      "Optimized parameters: {'gamma': 0.10000000000000001, 'C': 10}\n",
      "Model accuracy (hold-out): 0.862068965517\n",
      "Model accuracy (10-fold): 0.842277028779 \n",
      "\n",
      "Accuracy:  0.840554592721\n",
      "Recall:  0.348623853211\n",
      "Precision:  0.64406779661\n",
      "F1:  0.452380952381\n",
      "Time elapsed:  13.932484999999986\n"
     ]
    }
   ],
   "source": [
    "# SVM\n",
    "svm_men = train_test_model(\n",
    "    svm.SVC(probability = True, random_state = 25), {\n",
    "        'C': [0.001, 0.01, 0.1, 1, 10, 100, 1000],\n",
    "        'gamma': np.logspace(-9, 3, 13)}, \n",
    "    X_train_men, X_test_men, y_train_men, y_test_men)\n",
    "svm_men = svm_men.best_estimator_\n",
    "report(svm_men, X_male, Y_male)"
   ]
  },
  {
   "cell_type": "code",
   "execution_count": 59,
   "metadata": {
    "collapsed": false
   },
   "outputs": [
    {
     "name": "stdout",
     "output_type": "stream",
     "text": [
      "Optimized parameters: {'max_features': 100, 'max_depth': 20, 'n_estimators': 400, 'warm_start': True}\n",
      "Model accuracy (hold-out): 0.836206896552\n",
      "Model accuracy (10-fold): 0.840552890848 \n",
      "\n",
      "Accuracy:  0.84575389948\n",
      "Recall:  0.220183486239\n",
      "Precision:  0.857142857143\n",
      "F1:  0.350364963504\n",
      "Time elapsed:  9.532164000000023\n"
     ]
    }
   ],
   "source": [
    "# Random Forest\n",
    "rf_men = train_test_model(\n",
    "    ensemble.RandomForestClassifier(random_state = 25), {\n",
    "    \"warm_start\":[True, False],\n",
    "    \"n_estimators\":[50, 400, 800],\n",
    "    \"max_depth\":[None, 5, 10, 20],\n",
    "    \"max_features\":[None, 100, 300, 500]\n",
    "}, X_train_men, X_test_men, y_train_men, y_test_men)\n",
    "rf_men = rf_men.best_estimator_\n",
    "\n",
    "report(rf_men, X_male, Y_male)"
   ]
  },
  {
   "cell_type": "code",
   "execution_count": 104,
   "metadata": {
    "collapsed": false
   },
   "outputs": [
    {
     "name": "stdout",
     "output_type": "stream",
     "text": [
      "Accuracy:  0.854419410745\n",
      "Recall:  0.293577981651\n",
      "Precision:  0.820512820513\n",
      "F1:  0.432432432432\n",
      "Time elapsed:  24.605908\n"
     ]
    }
   ],
   "source": [
    "combined = ensemble.VotingClassifier([('2', rf_men), ('4', svm_men)], \n",
    "                                     weights=[1,2],voting='soft')\n",
    "report(combined, X_male, Y_male)"
   ]
  },
  {
   "cell_type": "markdown",
   "metadata": {},
   "source": [
    "## Women"
   ]
  },
  {
   "cell_type": "code",
   "execution_count": 62,
   "metadata": {
    "collapsed": true
   },
   "outputs": [],
   "source": [
    "female_train = train[train.Sex==1]\n",
    "X_female, Y_female = female_train.drop(\"Survived\", axis=1).as_matrix(), np.array(female_train.Survived)\n",
    "X_train_women, X_test_women, y_train_women, y_test_women = cross_validation.train_test_split(X_female, \n",
    "                                                                                             Y_female, test_size = 0.2)"
   ]
  },
  {
   "cell_type": "code",
   "execution_count": 63,
   "metadata": {
    "collapsed": false
   },
   "outputs": [
    {
     "name": "stdout",
     "output_type": "stream",
     "text": [
      "Optimized parameters: {'class_weight': None, 'C': 100}\n",
      "Model accuracy (hold-out): 0.809523809524\n",
      "Model accuracy (10-fold): 0.853308284457 \n",
      "\n",
      "Accuracy:  0.859872611465\n",
      "Recall:  0.922746781116\n",
      "Precision:  0.892116182573\n",
      "F1:  0.907172995781\n",
      "Time elapsed:  0.07094799999998713\n"
     ]
    }
   ],
   "source": [
    "#Logistic Regression\n",
    "lr_women = train_test_model(\n",
    "    linear_model.LogisticRegression(), {\n",
    "        'C': [0.0001,0.001, 0.01, 0.1, 1, 10, 100, 1000],\n",
    "        'class_weight': [None, 'balanced', {0:1, 1:2}, {0:1, 1:10}, {0:1, 1:100}, {0:1, 1:1000}]}, \n",
    "    X_train_women, X_test_women, y_train_women, y_test_women)\n",
    "lr_women = lr_women.best_estimator_\n",
    "report(lr_women, X_female, Y_female)"
   ]
  },
  {
   "cell_type": "code",
   "execution_count": 64,
   "metadata": {
    "collapsed": false
   },
   "outputs": [
    {
     "name": "stdout",
     "output_type": "stream",
     "text": [
      "Optimized parameters: {'n_neighbors': 15}\n",
      "Model accuracy (hold-out): 0.809523809524\n",
      "Model accuracy (10-fold): 0.821245723363 \n",
      "\n",
      "Accuracy:  0.812101910828\n",
      "Recall:  0.922746781116\n",
      "Precision:  0.83984375\n",
      "F1:  0.879345603272\n",
      "Time elapsed:  0.18564200000002984\n"
     ]
    }
   ],
   "source": [
    "# K Nearest Neighbors\n",
    "knn_women = train_test_model(\n",
    "    neighbors.KNeighborsClassifier(), {\n",
    "        'n_neighbors': np.array([num + 1 for num in range(0, 20) if num % 2 == 0])}, \n",
    "    X_train_women, X_test_women, y_train_women, y_test_women)\n",
    "knn_women = knn_women.best_estimator_\n",
    "report(knn_women, X_female, Y_female)"
   ]
  },
  {
   "cell_type": "code",
   "execution_count": 66,
   "metadata": {
    "collapsed": false
   },
   "outputs": [
    {
     "name": "stdout",
     "output_type": "stream",
     "text": [
      "Optimized parameters: {'gamma': 0.01, 'C': 100}\n",
      "Model accuracy (hold-out): 0.793650793651\n",
      "Model accuracy (10-fold): 0.846856671554 \n",
      "\n",
      "Accuracy:  0.856687898089\n",
      "Recall:  0.918454935622\n",
      "Precision:  0.891666666667\n",
      "F1:  0.904862579281\n",
      "Time elapsed:  3.3422160000000076\n"
     ]
    }
   ],
   "source": [
    "# SVM\n",
    "svm_women = train_test_model(\n",
    "    svm.SVC(probability = True, random_state = 25), {\n",
    "        'C': [0.001, 0.01, 0.1, 1, 10, 100, 1000],\n",
    "        'gamma': np.logspace(-9, 3, 13)}, \n",
    "    X_train_women, X_test_women, y_train_women, y_test_women)\n",
    "svm_women = svm_women.best_estimator_\n",
    "report(svm_women, X_female, Y_female)"
   ]
  },
  {
   "cell_type": "code",
   "execution_count": 67,
   "metadata": {
    "collapsed": false
   },
   "outputs": [
    {
     "name": "stdout",
     "output_type": "stream",
     "text": [
      "Optimized parameters: {'max_features': None, 'max_depth': None, 'n_estimators': 400, 'warm_start': True}\n",
      "Model accuracy (hold-out): 0.761904761905\n",
      "Model accuracy (10-fold): 0.821535923754 \n",
      "\n",
      "Accuracy:  0.831210191083\n",
      "Recall:  0.914163090129\n",
      "Precision:  0.865853658537\n",
      "F1:  0.889352818372\n",
      "Time elapsed:  9.576411000000007\n"
     ]
    }
   ],
   "source": [
    "# Random Forest\n",
    "rf_women = train_test_model(\n",
    "    ensemble.RandomForestClassifier(random_state = 25), {\n",
    "    \"warm_start\":[True, False],\n",
    "    \"n_estimators\":[50, 400, 800],\n",
    "    \"max_depth\":[None, 5, 10, 20],\n",
    "    \"max_features\":[None, 100, 300, 500]\n",
    "}, X_train_women, X_test_women, y_train_women, y_test_women)\n",
    "rf_women = rf_women.best_estimator_\n",
    "\n",
    "report(rf_women, X_female, Y_female)"
   ]
  },
  {
   "cell_type": "code",
   "execution_count": 74,
   "metadata": {
    "collapsed": false
   },
   "outputs": [
    {
     "name": "stdout",
     "output_type": "stream",
     "text": [
      "Accuracy:  0.859872611465\n",
      "Recall:  0.922746781116\n",
      "Precision:  0.892116182573\n",
      "F1:  0.907172995781\n",
      "Time elapsed:  3.270023999999978\n"
     ]
    }
   ],
   "source": [
    "combined_w = ensemble.VotingClassifier([('2', lr_women), ('4', svm_women)], \n",
    "                                     weights=[3,2],voting='soft')\n",
    "report(combined_w, X_female, Y_female)"
   ]
  },
  {
   "cell_type": "markdown",
   "metadata": {},
   "source": [
    "## Submission"
   ]
  },
  {
   "cell_type": "code",
   "execution_count": 100,
   "metadata": {
    "collapsed": false
   },
   "outputs": [],
   "source": [
    "X_test = test.drop(\"Survived\", axis=1).as_matrix()\n",
    "sex = np.array(test.Sex)"
   ]
  },
  {
   "cell_type": "code",
   "execution_count": 101,
   "metadata": {
    "collapsed": false
   },
   "outputs": [
    {
     "data": {
      "text/plain": [
       "VotingClassifier(estimators=[('2', LogisticRegression(C=100, class_weight=None, dual=False, fit_intercept=True,\n",
       "          intercept_scaling=1, max_iter=100, multi_class='ovr', n_jobs=1,\n",
       "          penalty='l2', random_state=None, solver='liblinear', tol=0.0001,\n",
       "          verbose=0, warm_start=False)), ('4', SVC(C=100...bf',\n",
       "  max_iter=-1, probability=True, random_state=25, shrinking=True,\n",
       "  tol=0.001, verbose=False))],\n",
       "         voting='soft', weights=[3, 2])"
      ]
     },
     "execution_count": 101,
     "metadata": {},
     "output_type": "execute_result"
    }
   ],
   "source": [
    "combined.fit(X_male, Y_male)\n",
    "combined_w.fit(X_female, Y_female)"
   ]
  },
  {
   "cell_type": "code",
   "execution_count": 102,
   "metadata": {
    "collapsed": false
   },
   "outputs": [],
   "source": [
    "# 80.03 % on leaderboard\n",
    "preds = []\n",
    "for i in range(len(sex)):\n",
    "    if sex[i]==0:\n",
    "        preds.append(combined.predict(X_test[i]))\n",
    "    else:\n",
    "        preds.append(combined_w.predict(X_test[i]))"
   ]
  },
  {
   "cell_type": "code",
   "execution_count": 103,
   "metadata": {
    "collapsed": false
   },
   "outputs": [],
   "source": [
    "#make submission\n",
    "filename = \"predictions/women_men.csv\"\n",
    "make_submission_file(filename, preds)"
   ]
  },
  {
   "cell_type": "code",
   "execution_count": null,
   "metadata": {
    "collapsed": true
   },
   "outputs": [],
   "source": []
  }
 ],
 "metadata": {
  "kernelspec": {
   "display_name": "Python 3",
   "language": "python",
   "name": "python3"
  },
  "language_info": {
   "codemirror_mode": {
    "name": "ipython",
    "version": 3
   },
   "file_extension": ".py",
   "mimetype": "text/x-python",
   "name": "python",
   "nbconvert_exporter": "python",
   "pygments_lexer": "ipython3",
   "version": "3.5.1"
  }
 },
 "nbformat": 4,
 "nbformat_minor": 0
}
