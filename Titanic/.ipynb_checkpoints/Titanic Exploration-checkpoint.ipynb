{
 "cells": [
  {
   "cell_type": "code",
   "execution_count": 54,
   "metadata": {
    "collapsed": false
   },
   "outputs": [],
   "source": [
    "import numpy as np\n",
    "import matplotlib.pyplot as plt\n",
    "import pandas as pd\n",
    "import re\n",
    "from statsmodels.graphics.mosaicplot import *\n",
    "from sklearn import preprocessing\n",
    "%matplotlib inline\n",
    "from warnings import *\n",
    "filterwarnings(\"ignore\")"
   ]
  },
  {
   "cell_type": "markdown",
   "metadata": {},
   "source": [
    "#Introduction\n",
    "This is an exploration of the Titanic dataset on Kaggle. It is my first attempt to write a script and this is also my first competition. A lot of the content is from Megan Risdal's exploration in R. I hope you enjoy the python version too!"
   ]
  },
  {
   "cell_type": "code",
   "execution_count": 55,
   "metadata": {
    "collapsed": false
   },
   "outputs": [
    {
     "name": "stdout",
     "output_type": "stream",
     "text": [
      "<class 'pandas.core.frame.DataFrame'>\n",
      "Int64Index: 1309 entries, 0 to 417\n",
      "Data columns (total 12 columns):\n",
      "Age            1046 non-null float64\n",
      "Cabin          295 non-null object\n",
      "Embarked       1307 non-null object\n",
      "Fare           1308 non-null float64\n",
      "Name           1309 non-null object\n",
      "Parch          1309 non-null int64\n",
      "PassengerId    1309 non-null int64\n",
      "Pclass         1309 non-null int64\n",
      "Sex            1309 non-null object\n",
      "SibSp          1309 non-null int64\n",
      "Survived       891 non-null float64\n",
      "Ticket         1309 non-null object\n",
      "dtypes: float64(3), int64(4), object(5)\n",
      "memory usage: 132.9+ KB\n"
     ]
    }
   ],
   "source": [
    "#read in train and test data and a combination of the two\n",
    "train = pd.read_csv(\"train.csv\")\n",
    "test = pd.read_csv(\"test.csv\")\n",
    "full = pd.concat([train, test])\n",
    "full.info()"
   ]
  },
  {
   "cell_type": "code",
   "execution_count": 56,
   "metadata": {
    "collapsed": false
   },
   "outputs": [
    {
     "data": {
      "text/html": [
       "<div>\n",
       "<table border=\"1\" class=\"dataframe\">\n",
       "  <thead>\n",
       "    <tr style=\"text-align: right;\">\n",
       "      <th>Title</th>\n",
       "      <th>Capt.</th>\n",
       "      <th>Col.</th>\n",
       "      <th>Countess.</th>\n",
       "      <th>Don.</th>\n",
       "      <th>Dona.</th>\n",
       "      <th>Dr.</th>\n",
       "      <th>Jonkheer.</th>\n",
       "      <th>Lady.</th>\n",
       "      <th>Major.</th>\n",
       "      <th>Master.</th>\n",
       "      <th>Miss.</th>\n",
       "      <th>Mlle.</th>\n",
       "      <th>Mme.</th>\n",
       "      <th>Mr.</th>\n",
       "      <th>Mrs.</th>\n",
       "      <th>Ms.</th>\n",
       "      <th>Rev.</th>\n",
       "      <th>Sir.</th>\n",
       "    </tr>\n",
       "    <tr>\n",
       "      <th>Sex</th>\n",
       "      <th></th>\n",
       "      <th></th>\n",
       "      <th></th>\n",
       "      <th></th>\n",
       "      <th></th>\n",
       "      <th></th>\n",
       "      <th></th>\n",
       "      <th></th>\n",
       "      <th></th>\n",
       "      <th></th>\n",
       "      <th></th>\n",
       "      <th></th>\n",
       "      <th></th>\n",
       "      <th></th>\n",
       "      <th></th>\n",
       "      <th></th>\n",
       "      <th></th>\n",
       "      <th></th>\n",
       "    </tr>\n",
       "  </thead>\n",
       "  <tbody>\n",
       "    <tr>\n",
       "      <th>female</th>\n",
       "      <td>0</td>\n",
       "      <td>0</td>\n",
       "      <td>1</td>\n",
       "      <td>0</td>\n",
       "      <td>1</td>\n",
       "      <td>1</td>\n",
       "      <td>0</td>\n",
       "      <td>1</td>\n",
       "      <td>0</td>\n",
       "      <td>0</td>\n",
       "      <td>260</td>\n",
       "      <td>2</td>\n",
       "      <td>1</td>\n",
       "      <td>0</td>\n",
       "      <td>197</td>\n",
       "      <td>2</td>\n",
       "      <td>0</td>\n",
       "      <td>0</td>\n",
       "    </tr>\n",
       "    <tr>\n",
       "      <th>male</th>\n",
       "      <td>1</td>\n",
       "      <td>4</td>\n",
       "      <td>0</td>\n",
       "      <td>1</td>\n",
       "      <td>0</td>\n",
       "      <td>7</td>\n",
       "      <td>1</td>\n",
       "      <td>0</td>\n",
       "      <td>2</td>\n",
       "      <td>61</td>\n",
       "      <td>0</td>\n",
       "      <td>0</td>\n",
       "      <td>0</td>\n",
       "      <td>757</td>\n",
       "      <td>0</td>\n",
       "      <td>0</td>\n",
       "      <td>8</td>\n",
       "      <td>1</td>\n",
       "    </tr>\n",
       "  </tbody>\n",
       "</table>\n",
       "</div>"
      ],
      "text/plain": [
       "Title   Capt.  Col.  Countess.  Don.  Dona.  Dr.  Jonkheer.  Lady.  Major.  \\\n",
       "Sex                                                                          \n",
       "female      0     0          1     0      1    1          0      1       0   \n",
       "male        1     4          0     1      0    7          1      0       2   \n",
       "\n",
       "Title   Master.  Miss.  Mlle.  Mme.  Mr.  Mrs.  Ms.  Rev.  Sir.  \n",
       "Sex                                                              \n",
       "female        0    260      2     1    0   197    2     0     0  \n",
       "male         61      0      0     0  757     0    0     8     1  "
      ]
     },
     "execution_count": 56,
     "metadata": {},
     "output_type": "execute_result"
    }
   ],
   "source": [
    "# Get the passengers' title\n",
    "titles = []\n",
    "for i in np.array(full[\"Name\"]):\n",
    "    titles.append(re.search(r'[A-Z](\\w)+\\.',i).group())\n",
    "full[\"Title\"] = titles\n",
    "pd.crosstab(full['Sex'], full[\"Title\"])"
   ]
  },
  {
   "cell_type": "code",
   "execution_count": 57,
   "metadata": {
    "collapsed": false
   },
   "outputs": [
    {
     "data": {
      "text/html": [
       "<div>\n",
       "<table border=\"1\" class=\"dataframe\">\n",
       "  <thead>\n",
       "    <tr style=\"text-align: right;\">\n",
       "      <th>Title</th>\n",
       "      <th>Master.</th>\n",
       "      <th>Miss.</th>\n",
       "      <th>Mr.</th>\n",
       "      <th>Mrs.</th>\n",
       "      <th>Rare Title</th>\n",
       "    </tr>\n",
       "    <tr>\n",
       "      <th>Sex</th>\n",
       "      <th></th>\n",
       "      <th></th>\n",
       "      <th></th>\n",
       "      <th></th>\n",
       "      <th></th>\n",
       "    </tr>\n",
       "  </thead>\n",
       "  <tbody>\n",
       "    <tr>\n",
       "      <th>female</th>\n",
       "      <td>0</td>\n",
       "      <td>264</td>\n",
       "      <td>0</td>\n",
       "      <td>198</td>\n",
       "      <td>4</td>\n",
       "    </tr>\n",
       "    <tr>\n",
       "      <th>male</th>\n",
       "      <td>61</td>\n",
       "      <td>0</td>\n",
       "      <td>757</td>\n",
       "      <td>0</td>\n",
       "      <td>25</td>\n",
       "    </tr>\n",
       "  </tbody>\n",
       "</table>\n",
       "</div>"
      ],
      "text/plain": [
       "Title   Master.  Miss.  Mr.  Mrs.  Rare Title\n",
       "Sex                                          \n",
       "female        0    264    0   198           4\n",
       "male         61      0  757     0          25"
      ]
     },
     "execution_count": 57,
     "metadata": {},
     "output_type": "execute_result"
    }
   ],
   "source": [
    "#This might be a useful feature but there are some titles which are very rare. We could group these together!\n",
    "rare_title = [\"Capt.\", \"Col.\", \"Countess.\", \"Don.\", \"Dona.\", \"Dr.\", \"Jonkheer.\", \"Sir.\", \"Major.\", \"Rev.\", \"Lady.\"]\n",
    "\n",
    "def change_title(t):\n",
    "    if t in rare_title:\n",
    "        return \"Rare Title\"\n",
    "    elif t in [\"Mlle.\", \"Ms.\"]:\n",
    "        return \"Miss.\"\n",
    "    elif t==\"Mme.\":\n",
    "        return \"Mrs.\"\n",
    "    else:\n",
    "        return t\n",
    "# we now reassign Mlle and Ms to Miss and Mme to Mrs and we also substitute for the rare titles\n",
    "full['Title']=full['Title'].apply(change_title)\n",
    "pd.crosstab(full['Sex'], full[\"Title\"])"
   ]
  },
  {
   "cell_type": "code",
   "execution_count": 58,
   "metadata": {
    "collapsed": false
   },
   "outputs": [],
   "source": [
    "#Now let's get the passengers' Surnames\n",
    "surnames = []\n",
    "for i in np.array(full[\"Name\"]):\n",
    "    surnames.append(re.split(r'[.,]', i)[0])\n",
    "full['Surnames'] = surnames"
   ]
  },
  {
   "cell_type": "code",
   "execution_count": 59,
   "metadata": {
    "collapsed": false
   },
   "outputs": [
    {
     "data": {
      "text/html": [
       "<div>\n",
       "<table border=\"1\" class=\"dataframe\">\n",
       "  <thead>\n",
       "    <tr style=\"text-align: right;\">\n",
       "      <th>Fsize</th>\n",
       "      <th>1</th>\n",
       "      <th>2</th>\n",
       "      <th>3</th>\n",
       "      <th>4</th>\n",
       "      <th>5</th>\n",
       "      <th>6</th>\n",
       "      <th>7</th>\n",
       "      <th>8</th>\n",
       "      <th>11</th>\n",
       "    </tr>\n",
       "    <tr>\n",
       "      <th>Survived</th>\n",
       "      <th></th>\n",
       "      <th></th>\n",
       "      <th></th>\n",
       "      <th></th>\n",
       "      <th></th>\n",
       "      <th></th>\n",
       "      <th></th>\n",
       "      <th></th>\n",
       "      <th></th>\n",
       "    </tr>\n",
       "  </thead>\n",
       "  <tbody>\n",
       "    <tr>\n",
       "      <th>0</th>\n",
       "      <td>374</td>\n",
       "      <td>72</td>\n",
       "      <td>43</td>\n",
       "      <td>8</td>\n",
       "      <td>12</td>\n",
       "      <td>19</td>\n",
       "      <td>8</td>\n",
       "      <td>6</td>\n",
       "      <td>7</td>\n",
       "    </tr>\n",
       "    <tr>\n",
       "      <th>1</th>\n",
       "      <td>163</td>\n",
       "      <td>89</td>\n",
       "      <td>59</td>\n",
       "      <td>21</td>\n",
       "      <td>3</td>\n",
       "      <td>3</td>\n",
       "      <td>4</td>\n",
       "      <td>0</td>\n",
       "      <td>0</td>\n",
       "    </tr>\n",
       "  </tbody>\n",
       "</table>\n",
       "</div>"
      ],
      "text/plain": [
       "Fsize      1   2   3   4   5   6   7   8   11\n",
       "Survived                                     \n",
       "0         374  72  43   8  12  19   8   6   7\n",
       "1         163  89  59  21   3   3   4   0   0"
      ]
     },
     "execution_count": 59,
     "metadata": {},
     "output_type": "execute_result"
    }
   ],
   "source": [
    "#For the next feature, I am going to create a family count including the passenger\n",
    "full['Fsize'] = np.array(full['Parch'])+np.array(full['SibSp'])+1\n",
    "cross = pd.crosstab(full['Survived'], full[\"Fsize\"])\n",
    "cross"
   ]
  },
  {
   "cell_type": "code",
   "execution_count": 60,
   "metadata": {
    "collapsed": false
   },
   "outputs": [
    {
     "data": {
      "image/png": "[encoded data removed]",
      "text/plain": [
       "<matplotlib.figure.Figure at 0x1165b7be0>"
      ]
     },
     "metadata": {},
     "output_type": "display_data"
    }
   ],
   "source": [
    "#To be changed\n",
    "xlabels = cross.axes[1]\n",
    "xcounts = cross.ix[0]\n",
    "plt.bar(xlabels, xcounts, align='center', label='0', color='r')\n",
    "plt.bar(cross.axes[1], cross.ix[1], align='center', label='1', color='b', alpha=0.5)\n",
    "plt.legend()\n",
    "plt.title(\"Relationship between family size and survival\")\n",
    "plt.xlabel(\"Size of family\")\n",
    "plt.ylabel(\"Survival counts\")\n",
    "#Observe that more families with 2, 3, or 4 members survived hence we can distinguish between 3 types of families:\n",
    "# 1. singleton  2. small 3. large   <-- small families mostly survived while others perished\n",
    "def family_size(s):\n",
    "    if s==1:\n",
    "        return 'singleton'\n",
    "    elif s<=4:\n",
    "        return \"small\"\n",
    "    else:\n",
    "        return \"large\"\n",
    "    \n",
    "full['Fsize'] = full['Fsize'].apply(family_size)"
   ]
  },
  {
   "cell_type": "code",
   "execution_count": 61,
   "metadata": {
    "collapsed": false
   },
   "outputs": [
    {
     "data": {
      "text/plain": [
       "(<matplotlib.figure.Figure at 0x116370080>,\n",
       " OrderedDict([(('small', '0.0'), (0.0, 0.0, 0.3244768921336578, 0.41983343193919809)), (('small', '1.0'), (0.0, 0.42315569107541073, 0.3244768921336578, 0.57684430892458916)), (('singleton', '0.0'), (0.3294273871831628, 0.0, 0.5967263393005967, 0.6941479982924702)), (('singleton', '1.0'), (0.3294273871831628, 0.69747025742868274, 0.5967263393005967, 0.30252974257131715)), (('large', '0.0'), (0.9311042215332644, 0.0, 0.06889577846673557, 0.83592326653091842)), (('large', '1.0'), (0.9311042215332644, 0.83924552566713095, 0.06889577846673557, 0.16075447433286888))]))"
      ]
     },
     "execution_count": 61,
     "metadata": {},
     "output_type": "execute_result"
    },
    {
     "data": {
      "image/png": "[encoded data removed]",
      "text/plain": [
       "<matplotlib.figure.Figure at 0x116370080>"
      ]
     },
     "metadata": {},
     "output_type": "display_data"
    }
   ],
   "source": [
    "# Here I will have to do a mosaic plot \n",
    "mosaic(full, ['Fsize', 'Survived'])"
   ]
  },
  {
   "cell_type": "code",
   "execution_count": 62,
   "metadata": {
    "collapsed": false
   },
   "outputs": [],
   "source": [
    "#Now we will try to utilize the cabin column in our training set to learn more about the deck where the passenger was\n",
    "# The deck is the first character\n",
    "deck = []\n",
    "t = type(\"ran str\")\n",
    "for i in np.array(full['Cabin']):\n",
    "    if type(i)==t:\n",
    "        deck.append(i[0])\n",
    "    else:\n",
    "        deck.append(i)\n",
    "full['Deck']=deck"
   ]
  },
  {
   "cell_type": "code",
   "execution_count": 355,
   "metadata": {
    "collapsed": false
   },
   "outputs": [
    {
     "data": {
      "text/html": [
       "<div>\n",
       "<table border=\"1\" class=\"dataframe\">\n",
       "  <thead>\n",
       "    <tr style=\"text-align: right;\">\n",
       "      <th></th>\n",
       "      <th>Age</th>\n",
       "      <th>Cabin</th>\n",
       "      <th>Embarked</th>\n",
       "      <th>Fare</th>\n",
       "      <th>Name</th>\n",
       "      <th>Parch</th>\n",
       "      <th>PassengerId</th>\n",
       "      <th>Pclass</th>\n",
       "      <th>Sex</th>\n",
       "      <th>SibSp</th>\n",
       "      <th>Survived</th>\n",
       "      <th>Ticket</th>\n",
       "      <th>Title</th>\n",
       "      <th>Surnames</th>\n",
       "      <th>Fsize</th>\n",
       "      <th>Deck</th>\n",
       "    </tr>\n",
       "  </thead>\n",
       "  <tbody>\n",
       "    <tr>\n",
       "      <th>61</th>\n",
       "      <td>38</td>\n",
       "      <td>B28</td>\n",
       "      <td>NaN</td>\n",
       "      <td>80</td>\n",
       "      <td>Icard, Miss. Amelie</td>\n",
       "      <td>0</td>\n",
       "      <td>62</td>\n",
       "      <td>1</td>\n",
       "      <td>female</td>\n",
       "      <td>0</td>\n",
       "      <td>1</td>\n",
       "      <td>113572</td>\n",
       "      <td>Miss.</td>\n",
       "      <td>Icard</td>\n",
       "      <td>singleton</td>\n",
       "      <td>B</td>\n",
       "    </tr>\n",
       "    <tr>\n",
       "      <th>829</th>\n",
       "      <td>62</td>\n",
       "      <td>B28</td>\n",
       "      <td>NaN</td>\n",
       "      <td>80</td>\n",
       "      <td>Stone, Mrs. George Nelson (Martha Evelyn)</td>\n",
       "      <td>0</td>\n",
       "      <td>830</td>\n",
       "      <td>1</td>\n",
       "      <td>female</td>\n",
       "      <td>0</td>\n",
       "      <td>1</td>\n",
       "      <td>113572</td>\n",
       "      <td>Mrs.</td>\n",
       "      <td>Stone</td>\n",
       "      <td>singleton</td>\n",
       "      <td>B</td>\n",
       "    </tr>\n",
       "  </tbody>\n",
       "</table>\n",
       "</div>"
      ],
      "text/plain": [
       "     Age Cabin Embarked  Fare                                       Name  \\\n",
       "61    38   B28      NaN    80                        Icard, Miss. Amelie   \n",
       "829   62   B28      NaN    80  Stone, Mrs. George Nelson (Martha Evelyn)   \n",
       "\n",
       "     Parch  PassengerId  Pclass     Sex  SibSp  Survived  Ticket  Title  \\\n",
       "61       0           62       1  female      0         1  113572  Miss.   \n",
       "829      0          830       1  female      0         1  113572   Mrs.   \n",
       "\n",
       "    Surnames      Fsize Deck  \n",
       "61     Icard  singleton    B  \n",
       "829    Stone  singleton    B  "
      ]
     },
     "execution_count": 355,
     "metadata": {},
     "output_type": "execute_result"
    }
   ],
   "source": [
    "# Now let's try to infer the missing values from our table based on their class and the fare paid\n",
    "# Let's start with the Embarked column\n",
    "float_class = type(1.0)\n",
    "full[np.logical_and(np.logical_and(full['Embarked'] !=\"S\", full['Embarked']!=\"Q\"),  full['Embarked']!=\"C\")]"
   ]
  },
  {
   "cell_type": "code",
   "execution_count": 356,
   "metadata": {
    "collapsed": false
   },
   "outputs": [
    {
     "name": "stdout",
     "output_type": "stream",
     "text": [
      "C median 76.7292\n"
     ]
    },
    {
     "data": {
      "image/png": "[encoded data removed]",
      "text/plain": [
       "<matplotlib.figure.Figure at 0x11b901dd8>"
      ]
     },
     "metadata": {},
     "output_type": "display_data"
    }
   ],
   "source": [
    "#As we can see above, both passengers paid a fare of $80 and are members of the 1st class\n",
    "#Let's visualize what is the fare paid for 1st class depending on the port\n",
    "first_class = full[full['Pclass']==1]\n",
    "#Port C\n",
    "median = np.median(first_class[first_class['Embarked']=='C']['Fare'])\n",
    "plt.hist(np.array(first_class[first_class['Embarked']=='C']['Fare']), bins=20, align='mid')\n",
    "plt.title(\"Fare paid - C\")\n",
    "print(\"C median\", median)"
   ]
  },
  {
   "cell_type": "code",
   "execution_count": 357,
   "metadata": {
    "collapsed": false
   },
   "outputs": [
    {
     "name": "stdout",
     "output_type": "stream",
     "text": [
      "S median 52.0\n"
     ]
    },
    {
     "data": {
      "image/png": "[encoded data removed]",
      "text/plain": [
       "<matplotlib.figure.Figure at 0x11ca5c0b8>"
      ]
     },
     "metadata": {},
     "output_type": "display_data"
    }
   ],
   "source": [
    "#Port S\n",
    "median = np.median(first_class[first_class['Embarked']=='S']['Fare'])\n",
    "plt.hist(np.array(first_class[first_class['Embarked']=='S']['Fare']), bins=20, align='mid', color='g')\n",
    "plt.title(\"Fare paid - S\")\n",
    "print(\"S median\", median)"
   ]
  },
  {
   "cell_type": "code",
   "execution_count": 358,
   "metadata": {
    "collapsed": false
   },
   "outputs": [
    {
     "name": "stdout",
     "output_type": "stream",
     "text": [
      "Q median 90.0\n"
     ]
    },
    {
     "data": {
      "image/png": "[encoded data removed]",
      "text/plain": [
       "<matplotlib.figure.Figure at 0x11cb26a90>"
      ]
     },
     "metadata": {},
     "output_type": "display_data"
    }
   ],
   "source": [
    "#Port Q\n",
    "median = np.median(first_class[first_class['Embarked']=='Q']['Fare'])\n",
    "plt.hist(np.array(first_class[first_class['Embarked']=='Q']['Fare']), bins=20, align='mid', color='y')\n",
    "plt.title(\"Fare paid - Q\")\n",
    "print(\"Q median\", median)"
   ]
  },
  {
   "cell_type": "code",
   "execution_count": 359,
   "metadata": {
    "collapsed": false
   },
   "outputs": [],
   "source": [
    "#Clearly, it is most likely that the two passengers embarked on the titanic from port C\n",
    "full['Embarked'] = full['Embarked'].fillna(\"C\")"
   ]
  },
  {
   "cell_type": "code",
   "execution_count": 360,
   "metadata": {
    "collapsed": false
   },
   "outputs": [
    {
     "data": {
      "text/html": [
       "<div>\n",
       "<table border=\"1\" class=\"dataframe\">\n",
       "  <thead>\n",
       "    <tr style=\"text-align: right;\">\n",
       "      <th></th>\n",
       "      <th>Age</th>\n",
       "      <th>Cabin</th>\n",
       "      <th>Embarked</th>\n",
       "      <th>Fare</th>\n",
       "      <th>Name</th>\n",
       "      <th>Parch</th>\n",
       "      <th>PassengerId</th>\n",
       "      <th>Pclass</th>\n",
       "      <th>Sex</th>\n",
       "      <th>SibSp</th>\n",
       "      <th>Survived</th>\n",
       "      <th>Ticket</th>\n",
       "      <th>Title</th>\n",
       "      <th>Surnames</th>\n",
       "      <th>Fsize</th>\n",
       "      <th>Deck</th>\n",
       "    </tr>\n",
       "  </thead>\n",
       "  <tbody>\n",
       "    <tr>\n",
       "      <th>152</th>\n",
       "      <td>60.5</td>\n",
       "      <td>NaN</td>\n",
       "      <td>S</td>\n",
       "      <td>NaN</td>\n",
       "      <td>Storey, Mr. Thomas</td>\n",
       "      <td>0</td>\n",
       "      <td>1044</td>\n",
       "      <td>3</td>\n",
       "      <td>male</td>\n",
       "      <td>0</td>\n",
       "      <td>NaN</td>\n",
       "      <td>3701</td>\n",
       "      <td>Mr.</td>\n",
       "      <td>Storey</td>\n",
       "      <td>singleton</td>\n",
       "      <td>NaN</td>\n",
       "    </tr>\n",
       "  </tbody>\n",
       "</table>\n",
       "</div>"
      ],
      "text/plain": [
       "      Age Cabin Embarked  Fare                Name  Parch  PassengerId  \\\n",
       "152  60.5   NaN        S   NaN  Storey, Mr. Thomas      0         1044   \n",
       "\n",
       "     Pclass   Sex  SibSp  Survived Ticket Title Surnames      Fsize Deck  \n",
       "152       3  male      0       NaN   3701   Mr.   Storey  singleton  NaN  "
      ]
     },
     "execution_count": 360,
     "metadata": {},
     "output_type": "execute_result"
    }
   ],
   "source": [
    "# Now let's deal with the missing value in the fare column\n",
    "full[np.logical_not(full['Fare']>=0)]"
   ]
  },
  {
   "cell_type": "code",
   "execution_count": 361,
   "metadata": {
    "collapsed": false
   },
   "outputs": [
    {
     "name": "stdout",
     "output_type": "stream",
     "text": [
      "Median fare 8.05\n"
     ]
    },
    {
     "data": {
      "image/png": "[encoded data removed]",
      "text/plain": [
       "<matplotlib.figure.Figure at 0x11af26dd8>"
      ]
     },
     "metadata": {},
     "output_type": "display_data"
    }
   ],
   "source": [
    "#He is a 3rd class passenger who departed from \"Southampton\".\n",
    "southa = full[full['Embarked']=='S']\n",
    "southa_3rd = southa[southa['Pclass']==3]\n",
    "southa_3rd = southa_3rd[southa_3rd['Fare']>=0]\n",
    "plt.hist(np.array(southa_3rd['Fare']))\n",
    "plt.title(\"Southampton-3rd class passengers Fare Distribution\")\n",
    "print(\"Median fare\", np.median(southa_3rd['Fare']))\n",
    "full['Fare'] = full['Fare'].fillna(8.05)# <-- fill the value with the median"
   ]
  },
  {
   "cell_type": "code",
   "execution_count": 362,
   "metadata": {
    "collapsed": false
   },
   "outputs": [],
   "source": [
    "#Now thebiggest challenge we face is to adress the issue of missing values in the Age column. \n",
    "#In this case, we should probably develop a model to predict a person's missing age based on other information we have \n",
    "# about him/her\n",
    "# Lookup imputation in python and pandas in particular"
   ]
  },
  {
   "cell_type": "code",
   "execution_count": 363,
   "metadata": {
    "collapsed": false
   },
   "outputs": [
    {
     "data": {
      "text/plain": [
       "<matplotlib.legend.Legend at 0x11a9bfd68>"
      ]
     },
     "execution_count": 363,
     "metadata": {},
     "output_type": "execute_result"
    },
    {
     "data": {
      "image/png": "[encoded data removed]",
      "text/plain": [
       "<matplotlib.figure.Figure at 0x11cca7d68>"
      ]
     },
     "metadata": {},
     "output_type": "display_data"
    }
   ],
   "source": [
    "# Now let's encode the Age column into adults, children and mothers.\n",
    "# Define mothers to be females, over 18 with one or more children\n",
    "#First, let's explore the relationship between Age and survival for men and women \n",
    "f, (ax1, ax2) = plt.subplots(1, 2, sharey='col')\n",
    "f.set_figheight(8)\n",
    "f.set_figwidth(20)\n",
    "female = full[full['Sex']=='female']\n",
    "male = full[full['Sex']=='male']\n",
    "female_survived = female[female['Survived']==1]\n",
    "female_survived = female_survived[female_survived['Age']>=0]\n",
    "female_died = female[female['Survived']==0]\n",
    "female_died = female_died[female_died['Age']>=0]\n",
    "ax1.hist(np.array(female_died['Age']), label='0', color='r', bins=np.arange(0, 80, 5))\n",
    "ax1.hist(np.array(female_survived['Age']), label='1', color='b',  alpha=0.5, bins=np.arange(0, 80, 5))\n",
    "ax1.set_title('Female Survival Rate', fontsize=20)\n",
    "ax1.set_xlabel('Age', fontsize=15)\n",
    "ax1.set_ylabel('Count', fontsize=15)\n",
    "male_survived = male[male['Survived']==1]\n",
    "male_survived = male_survived[male_survived['Age']>=0]\n",
    "male_died = male[male['Survived']==0]\n",
    "male_died = male_died[male_died['Age']>=0]\n",
    "ax2.hist(np.array(male_died['Age']), label='0', color='r', bins=np.arange(0, 80, 5))\n",
    "ax2.hist(np.array(male_survived['Age']), label='1', color='b',  alpha=0.5, bins=np.arange(0, 80, 5))\n",
    "ax2.set_title('Male Survival Rate', fontsize=20)\n",
    "ax2.set_xlabel('Age', fontsize=15)\n",
    "ax2.set_ylabel('Count', fontsize=15)\n",
    "ax1.legend()\n",
    "ax2.legend()"
   ]
  },
  {
   "cell_type": "code",
   "execution_count": 364,
   "metadata": {
    "collapsed": false
   },
   "outputs": [],
   "source": [
    "#Rewrite the Age column simply as child and adult (child < 18 and adult>18)\n",
    "def age(a):\n",
    "    if a<18:\n",
    "        return \"child\"\n",
    "    else:\n",
    "        return \"adult\"\n",
    "full['Child'] = full['Age'].apply(age)"
   ]
  },
  {
   "cell_type": "code",
   "execution_count": 370,
   "metadata": {
    "collapsed": false
   },
   "outputs": [
    {
     "data": {
      "text/html": [
       "<div>\n",
       "<table border=\"1\" class=\"dataframe\">\n",
       "  <thead>\n",
       "    <tr style=\"text-align: right;\">\n",
       "      <th>Survived</th>\n",
       "      <th>0.0</th>\n",
       "      <th>1.0</th>\n",
       "    </tr>\n",
       "    <tr>\n",
       "      <th>Child</th>\n",
       "      <th></th>\n",
       "      <th></th>\n",
       "    </tr>\n",
       "  </thead>\n",
       "  <tbody>\n",
       "    <tr>\n",
       "      <th>adult</th>\n",
       "      <td>497</td>\n",
       "      <td>281</td>\n",
       "    </tr>\n",
       "    <tr>\n",
       "      <th>child</th>\n",
       "      <td>52</td>\n",
       "      <td>61</td>\n",
       "    </tr>\n",
       "  </tbody>\n",
       "</table>\n",
       "</div>"
      ],
      "text/plain": [
       "Survived    0    1\n",
       "Child             \n",
       "adult     497  281\n",
       "child      52   61"
      ]
     },
     "execution_count": 370,
     "metadata": {},
     "output_type": "execute_result"
    }
   ],
   "source": [
    "pd.crosstab(full['Child'], full[\"Survived\"])"
   ]
  },
  {
   "cell_type": "code",
   "execution_count": 378,
   "metadata": {
    "collapsed": false
   },
   "outputs": [],
   "source": [
    "# Now let's create a mother variable\n",
    "mother = [1 if i==True else 0 for i in np.logical_and(full[\"Age\"]>18, full['Parch']>0)]\n",
    "full['Mother'] = mother"
   ]
  },
  {
   "cell_type": "code",
   "execution_count": 43,
   "metadata": {
    "collapsed": false
   },
   "outputs": [],
   "source": [
    "#Now that we are done, let's split the data again into a train and a test set\n",
    "train = full[1:891]\n",
    "test = full[892:]"
   ]
  },
  {
   "cell_type": "code",
   "execution_count": null,
   "metadata": {
    "collapsed": true
   },
   "outputs": [],
   "source": []
  }
 ],
 "metadata": {
  "kernelspec": {
   "display_name": "Python 3",
   "language": "python",
   "name": "python3"
  },
  "language_info": {
   "codemirror_mode": {
    "name": "ipython",
    "version": 3
   },
   "file_extension": ".py",
   "mimetype": "text/x-python",
   "name": "python",
   "nbconvert_exporter": "python",
   "pygments_lexer": "ipython3",
   "version": "3.4.4"
  }
 },
 "nbformat": 4,
 "nbformat_minor": 0
}
