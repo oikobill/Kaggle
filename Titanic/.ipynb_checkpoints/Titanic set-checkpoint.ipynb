{
 "cells": [
  {
   "cell_type": "code",
   "execution_count": 363,
   "metadata": {
    "collapsed": false
   },
   "outputs": [],
   "source": [
    "import numpy as np\n",
    "import pandas as pd\n",
    "import datascience\n",
    "import matplotlib.pyplot as plt\n",
    "import random\n",
    "import math\n",
    "from sklearn.naive_bayes import GaussianNB\n",
    "from sklearn.naive_bayes import MultinomialNB\n",
    "from sklearn.naive_bayes import BernoulliNB\n",
    "%matplotlib inline"
   ]
  },
  {
   "cell_type": "code",
   "execution_count": 4,
   "metadata": {
    "collapsed": false
   },
   "outputs": [
    {
     "name": "stdout",
     "output_type": "stream",
     "text": [
      "male: 577 female: 314\n"
     ]
    }
   ],
   "source": [
    "train = pd.read_csv('train.csv')\n",
    "# just counting women and men\n",
    "# adding a column count for easier grouping\n",
    "print(\"male: \" + str(len(train[train['Sex']=='male'])) + \" female: \" + str(len(train[train['Sex']=='female'])))\n",
    "train['count'] = 1"
   ]
  },
  {
   "cell_type": "code",
   "execution_count": 5,
   "metadata": {
    "collapsed": false
   },
   "outputs": [],
   "source": [
    "# encodes the sex column: 0 for men, 1 for women\n",
    "sex = []\n",
    "for i in train['Sex']:\n",
    "    if i=='male':\n",
    "        sex.append(0)\n",
    "    else:\n",
    "        sex.append(1)\n",
    "        \n",
    "train['sex_encoded'] = sex"
   ]
  },
  {
   "cell_type": "code",
   "execution_count": 6,
   "metadata": {
    "collapsed": false
   },
   "outputs": [
    {
     "data": {
      "text/plain": [
       "array([[ 1.        ,  0.54335138, -0.33848104, -0.0353225 ],\n",
       "       [ 0.54335138,  1.        , -0.13190049,  0.11463081],\n",
       "       [-0.33848104, -0.13190049,  1.        ,  0.08308136],\n",
       "       [-0.0353225 ,  0.11463081,  0.08308136,  1.        ]])"
      ]
     },
     "execution_count": 6,
     "metadata": {},
     "output_type": "execute_result"
    }
   ],
   "source": [
    "# correlation matric shown --> noteable associations:1) sex matters a lot, 2) Which class you were in matters\n",
    "correlations = np.corrcoef([train['Survived'],train['sex_encoded'],train['Pclass'], train['SibSp']])\n",
    "correlations"
   ]
  },
  {
   "cell_type": "code",
   "execution_count": 6,
   "metadata": {
    "collapsed": false
   },
   "outputs": [
    {
     "name": "stdout",
     "output_type": "stream",
     "text": [
      "percent women survived: 74.2038216561\n",
      "percent men survived: 18.8908145581\n",
      "Overall survival rate: 38.3838383838\n"
     ]
    }
   ],
   "source": [
    "#Let's explore sex first in the train set\n",
    "#That's odd\n",
    "observed_women_survived = train[train['sex_encoded'] == 1]['Survived'].sum()/len(train[train['sex_encoded']==1])\n",
    "observed_men_survived = train[train['sex_encoded'] == 0]['Survived'].sum()/len(train[train['sex_encoded']==0])\n",
    "overall_survival_rate = train['Survived'].sum()/len(train['Survived'])\n",
    "print(\"percent women survived: \"+str(observed_women_survived*100))\n",
    "print(\"percent men survived: \"+str(observed_men_survived*100))\n",
    "print(\"Overall survival rate: \"+str(overall_survival_rate*100))"
   ]
  },
  {
   "cell_type": "code",
   "execution_count": 7,
   "metadata": {
    "collapsed": false
   },
   "outputs": [
    {
     "data": {
      "text/plain": [
       "array([[<matplotlib.axes._subplots.AxesSubplot object at 0x7f2662bfbb70>]], dtype=object)"
      ]
     },
     "execution_count": 7,
     "metadata": {},
     "output_type": "execute_result"
    },
    {
     "data": {
      "image/png": "[encoded data removed]",
      "text/plain": [
       "<matplotlib.figure.Figure at 0x7f2662bfb358>"
      ]
     },
     "metadata": {},
     "output_type": "display_data"
    }
   ],
   "source": [
    "# Hypothesis: The percentage of men who survived is the same as that of women and it is the same as the \n",
    "#overall percentage. Any difference is due to chance.\n",
    "men = []\n",
    "women = []\n",
    "for i in range(10000):\n",
    "    m,w = np.random.multinomial(len(train['PassengerId']),[train['Survived'].sum()/len(train['Survived'])]*2)\n",
    "    men.append(m)\n",
    "    women.append(w)\n",
    "men_survived = pd.DataFrame(data = men, columns = ['num_men_survived'])\n",
    "men_survived['num_men_survived'] = men_survived['num_men_survived']/len(train['Survived'])\n",
    "men_survived.hist(bins=20)"
   ]
  },
  {
   "cell_type": "code",
   "execution_count": 8,
   "metadata": {
    "collapsed": false
   },
   "outputs": [
    {
     "data": {
      "text/plain": [
       "0"
      ]
     },
     "execution_count": 8,
     "metadata": {},
     "output_type": "execute_result"
    }
   ],
   "source": [
    "#Zero p-value\n",
    "p_value = np.count_nonzero(men_survived['num_men_survived']<=0.19)\n",
    "p_value"
   ]
  },
  {
   "cell_type": "code",
   "execution_count": 9,
   "metadata": {
    "collapsed": true
   },
   "outputs": [],
   "source": [
    "#Conclusion number 1: If you were a women in the Titanic, your chances of surviving were probaby much much higher"
   ]
  },
  {
   "cell_type": "code",
   "execution_count": 10,
   "metadata": {
    "collapsed": true
   },
   "outputs": [],
   "source": [
    "# Now let's examine what was the role of the class the passengers had been part of. The negative correlation\n",
    "#that is observed shows that if you were on the first or second class, your chances of surviving were significantly\n",
    "#better\n"
   ]
  },
  {
   "cell_type": "code",
   "execution_count": 11,
   "metadata": {
    "collapsed": false
   },
   "outputs": [
    {
     "name": "stdout",
     "output_type": "stream",
     "text": [
      "percentage of 1st class that survived: 62.962962963\n"
     ]
    }
   ],
   "source": [
    "A_class_rate = train[train['Pclass']==1].sum()['Survived']/len(train[train['Pclass']==1])\n",
    "print(\"percentage of 1st class that survived: \"+str(100*A_class_rate))"
   ]
  },
  {
   "cell_type": "code",
   "execution_count": 12,
   "metadata": {
    "collapsed": false
   },
   "outputs": [
    {
     "name": "stdout",
     "output_type": "stream",
     "text": [
      "percentage of 2nd class that survived: 47.2826086957\n"
     ]
    }
   ],
   "source": [
    "B_class_rate = train[train['Pclass']==2].sum()['Survived']/len(train[train['Pclass']==2])\n",
    "print(\"percentage of 2nd class that survived: \"+str(100*B_class_rate))"
   ]
  },
  {
   "cell_type": "code",
   "execution_count": 13,
   "metadata": {
    "collapsed": false
   },
   "outputs": [
    {
     "name": "stdout",
     "output_type": "stream",
     "text": [
      "percentage of 3rd class that survived: 24.2362525458\n"
     ]
    }
   ],
   "source": [
    "C_class_rate = train[train['Pclass']==3].sum()['Survived']/len(train[train['Pclass']==3])\n",
    "print(\"percentage of 3rd class that survived: \"+str(100*C_class_rate))"
   ]
  },
  {
   "cell_type": "code",
   "execution_count": 14,
   "metadata": {
    "collapsed": false
   },
   "outputs": [],
   "source": [
    "num_b_class = len(train[train['Pclass']==2])"
   ]
  },
  {
   "cell_type": "code",
   "execution_count": 15,
   "metadata": {
    "collapsed": false
   },
   "outputs": [],
   "source": [
    "#Hypothesis testing: The survival rate for the passengers of the second class is the same as the overall survival rate\n",
    "lst  = []\n",
    "for i in range(10000):\n",
    "    lst.append(np.random.multinomial(num_b_class,[overall_survival_rate]*2)[0]/num_b_class)"
   ]
  },
  {
   "cell_type": "code",
   "execution_count": 16,
   "metadata": {
    "collapsed": false
   },
   "outputs": [
    {
     "name": "stdout",
     "output_type": "stream",
     "text": [
      "p value: 0.47282608695652173\n"
     ]
    },
    {
     "data": {
      "image/png": "[encoded data removed]",
      "text/plain": [
       "<matplotlib.figure.Figure at 0x7f2660ab0d68>"
      ]
     },
     "metadata": {},
     "output_type": "display_data"
    }
   ],
   "source": [
    "b_class_tab = pd.DataFrame(data = lst,columns = [\"%survived\"])\n",
    "b_class_tab.hist(bins = 20)\n",
    "p_value = np.count_nonzero(b_class_tab['%survived']>=B_class_rate)/num_b_class\n",
    "print(\"p value: \"+str(p_value))"
   ]
  },
  {
   "cell_type": "code",
   "execution_count": 17,
   "metadata": {
    "collapsed": true
   },
   "outputs": [],
   "source": [
    "# Conclusions. It seems extremely likely that the survival rate of b class passengers is actually very close to or \n",
    "#even the same as the overall survival rate."
   ]
  },
  {
   "cell_type": "code",
   "execution_count": 18,
   "metadata": {
    "collapsed": false
   },
   "outputs": [],
   "source": [
    "lst = []\n",
    "for i in range(len(train['Age'])):\n",
    "    if math.isnan(train['Age'][i]):\n",
    "        pass\n",
    "    else:\n",
    "        lst.append(i)\n",
    "lst\n",
    "without_nan = train.ix[lst]"
   ]
  },
  {
   "cell_type": "code",
   "execution_count": 19,
   "metadata": {
    "collapsed": false
   },
   "outputs": [
    {
     "name": "stdout",
     "output_type": "stream",
     "text": [
      "        Survived,      sex_encoded, Pclass,     SibSp,          Age\n"
     ]
    },
    {
     "data": {
      "text/plain": [
       "array([[ 1.        ,  0.53882559, -0.35965268, -0.01735836, -0.07722109],\n",
       "       [ 0.53882559,  1.        , -0.1554603 ,  0.10394968, -0.09325358],\n",
       "       [-0.35965268, -0.1554603 ,  1.        ,  0.06724737, -0.36922602],\n",
       "       [-0.01735836,  0.10394968,  0.06724737,  1.        , -0.30824676],\n",
       "       [-0.07722109, -0.09325358, -0.36922602, -0.30824676,  1.        ]])"
      ]
     },
     "execution_count": 19,
     "metadata": {},
     "output_type": "execute_result"
    }
   ],
   "source": [
    "#Mieh correlation between Age and whether people survived or not \n",
    "print(\"        Survived,      sex_encoded, Pclass,     SibSp,          Age\")\n",
    "np.corrcoef([without_nan['Survived'],without_nan['sex_encoded'],without_nan['Pclass'], without_nan['SibSp'],without_nan['Age']])"
   ]
  },
  {
   "cell_type": "code",
   "execution_count": 20,
   "metadata": {
    "collapsed": false
   },
   "outputs": [
    {
     "data": {
      "text/plain": [
       "<matplotlib.axes._subplots.AxesSubplot at 0x7f26609c0c18>"
      ]
     },
     "execution_count": 20,
     "metadata": {},
     "output_type": "execute_result"
    },
    {
     "data": {
      "image/png": "[encoded data removed]",
      "text/plain": [
       "<matplotlib.figure.Figure at 0x7f2660984b38>"
      ]
     },
     "metadata": {},
     "output_type": "display_data"
    }
   ],
   "source": [
    "# maybe if we examine age-brackets there could be a clearer pattern\n",
    "# For instance, I would expect that the younger the child, the more chances it would have of surviving since they \n",
    "# are always given priority when evauating\n",
    "#But first, let's check the age distribution\n",
    "without_nan['Age'].hist(bins = 20, normed = True)"
   ]
  },
  {
   "cell_type": "code",
   "execution_count": 21,
   "metadata": {
    "collapsed": true
   },
   "outputs": [],
   "source": [
    "#takes in probability of the event, total number of people, the observed proportion and returns the p_value\n",
    "def hyp_test(probability, N, observed):\n",
    "    lst = []\n",
    "    for i in range(10000):\n",
    "        lst.append(np.random.multinomial(N,[probability]*2)[0]/N)\n",
    "    return np.count_nonzero(np.array(lst)>=observed)/N"
   ]
  },
  {
   "cell_type": "code",
   "execution_count": 22,
   "metadata": {
    "collapsed": false
   },
   "outputs": [
    {
     "name": "stdout",
     "output_type": "stream",
     "text": [
      "The observed p-value:0.0\n"
     ]
    }
   ],
   "source": [
    "less_than15_prop = np.count_nonzero(without_nan['Age']<=15)/len(train['Age'])\n",
    "num_under_15 = sum(without_nan[without_nan['Age']<=15]['count'])\n",
    "survival_rate_under15 = sum(without_nan[without_nan['Age']<=15]['Survived'])/np.count_nonzero(without_nan['Age']<=15)\n",
    "#test significance with respect to the overall survival rate\n",
    "p_value = hyp_test(overall_survival_rate,num_under_15,survival_rate_under15)\n",
    "print(\"The observed p-value:\" +str(p_value)) \n",
    "#I would say that it is highly significant. My interpretation is that actually younger children had a higher chance \n",
    "# of surviving so we might take that into consideration"
   ]
  },
  {
   "cell_type": "code",
   "execution_count": 23,
   "metadata": {
    "collapsed": false
   },
   "outputs": [
    {
     "name": "stdout",
     "output_type": "stream",
     "text": [
      "The survival rate for people between 15 and 50 was: 0.386243386243\n"
     ]
    }
   ],
   "source": [
    "#how about people aged 15 to 50\n",
    "temp =without_nan[without_nan['Age']>15]\n",
    "temp = temp[temp['Age']<=50]\n",
    "survival_rate_15_to_50 = temp.sum()['Survived']/temp.sum()['count']\n",
    "print(\"The survival rate for people between 15 and 50 was: \"+str(survival_rate_15_to_50))\n",
    "#Obviously no testing is needed since the survival rate is almost identical to the overall survival rate"
   ]
  },
  {
   "cell_type": "code",
   "execution_count": 24,
   "metadata": {
    "collapsed": false
   },
   "outputs": [
    {
     "data": {
      "text/plain": [
       "0.34375"
      ]
     },
     "execution_count": 24,
     "metadata": {},
     "output_type": "execute_result"
    }
   ],
   "source": [
    "#finally, people above 50. My guess is that those people are probbbly going to have a higher survival rate given that \n",
    "# along with women and children, they would have priority on boarding \n",
    "num_more_than_50 = len(without_nan[without_nan['Age']>50])\n",
    "survival_rate_more_50 = without_nan[without_nan['Age']>50].sum()['Survived']/num_more_than_50\n",
    "survival_rate_more_50\n",
    "#very close to the overall survival rate and even a bit lower \n",
    "#CONCLUSION: AGE DOESN'T MATTER SO MUCH BUT IF YOU ARE CHILD <15 YOUR CHANCES OF SURVNG ARE CLEARLY HIGHER"
   ]
  },
  {
   "cell_type": "code",
   "execution_count": 25,
   "metadata": {
    "collapsed": false
   },
   "outputs": [],
   "source": [
    "best_features = ['sex_encoded','Pclass','Fare']\n",
    "#encode embarl"
   ]
  },
  {
   "cell_type": "code",
   "execution_count": 26,
   "metadata": {
    "collapsed": false
   },
   "outputs": [
    {
     "data": {
      "text/plain": [
       "<seaborn.axisgrid.FacetGrid at 0x7f266084a080>"
      ]
     },
     "execution_count": 26,
     "metadata": {},
     "output_type": "execute_result"
    },
    {
     "name": "stderr",
     "output_type": "stream",
     "text": [
      "/opt/conda/lib/python3.4/site-packages/matplotlib/collections.py:590: FutureWarning: elementwise comparison failed; returning scalar instead, but in the future will perform elementwise comparison\n",
      "  if self._edgecolors == str('face'):\n"
     ]
    },
    {
     "data": {
      "image/png": "[encoded data removed]",
      "text/plain": [
       "<matplotlib.figure.Figure at 0x7f266093ffd0>"
      ]
     },
     "metadata": {},
     "output_type": "display_data"
    },
    {
     "data": {
      "image/png": "[encoded data removed]",
      "text/plain": [
       "<matplotlib.figure.Figure at 0x7f2660843128>"
      ]
     },
     "metadata": {},
     "output_type": "display_data"
    }
   ],
   "source": [
    "sns.factorplot('Sex','Survived', data=train,size=4,aspect=3)\n",
    "sns.factorplot('Embarked','Survived', data=train,size=4,aspect=3)"
   ]
  },
  {
   "cell_type": "code",
   "execution_count": 27,
   "metadata": {
    "collapsed": false
   },
   "outputs": [
    {
     "data": {
      "text/plain": [
       "array([[ 1.        ,  0.54335138, -0.33848104,  0.17124875,  0.25730652],\n",
       "       [ 0.54335138,  1.        , -0.13190049,  0.1120945 ,  0.18233283],\n",
       "       [-0.33848104, -0.13190049,  1.        , -0.1665206 , -0.54949962],\n",
       "       [ 0.17124875,  0.1120945 , -0.1665206 ,  1.        ,  0.22742125],\n",
       "       [ 0.25730652,  0.18233283, -0.54949962,  0.22742125,  1.        ]])"
      ]
     },
     "execution_count": 27,
     "metadata": {},
     "output_type": "execute_result"
    }
   ],
   "source": [
    "#translate empbarked 0 S, 1 C, 2 Q\n",
    "encoding = []\n",
    "for i in train['Embarked']:\n",
    "    if i==\"S\":\n",
    "        encoding.append(0)\n",
    "    elif i==\"C\":\n",
    "        encoding.append(2)\n",
    "    else:\n",
    "        encoding.append(1)\n",
    "train['emb_encoded']  = encoding   \n",
    "np.corrcoef([train['Survived'],train['sex_encoded'],train['Pclass'],train['emb_encoded'],train['Fare']])"
   ]
  },
  {
   "cell_type": "code",
   "execution_count": 28,
   "metadata": {
    "collapsed": false
   },
   "outputs": [],
   "source": [
    "#Best features:\n",
    "#1st sex_encoded\n",
    "#2nd Pclass\n",
    "#3rd Fare\n",
    "#4th emb_encoded"
   ]
  },
  {
   "cell_type": "code",
   "execution_count": 33,
   "metadata": {
    "collapsed": false
   },
   "outputs": [
    {
     "data": {
      "text/plain": [
       "<matplotlib.legend.Legend at 0x7f26606d4da0>"
      ]
     },
     "execution_count": 33,
     "metadata": {},
     "output_type": "execute_result"
    },
    {
     "name": "stderr",
     "output_type": "stream",
     "text": [
      "/opt/conda/lib/python3.4/site-packages/matplotlib/collections.py:590: FutureWarning: elementwise comparison failed; returning scalar instead, but in the future will perform elementwise comparison\n",
      "  if self._edgecolors == str('face'):\n"
     ]
    },
    {
     "data": {
      "image/png": "[encoded data removed]",
      "text/plain": [
       "<matplotlib.figure.Figure at 0x7f26607c9b70>"
      ]
     },
     "metadata": {},
     "output_type": "display_data"
    }
   ],
   "source": [
    "survived = train[train['Survived']==1]\n",
    "died = train[train['Survived']==0]\n",
    "plt.scatter(survived['Age'],survived['Fare'], label = 'survived')\n",
    "plt.scatter(died['Age'],died['Fare'],color  = 'r', label ='died')\n",
    "plt.xlabel(\"Age\")\n",
    "plt.ylabel(\"Fare\")\n",
    "plt.title('Everyone on board')\n",
    "plt.legend()"
   ]
  },
  {
   "cell_type": "code",
   "execution_count": 35,
   "metadata": {
    "collapsed": false
   },
   "outputs": [
    {
     "data": {
      "text/plain": [
       "<matplotlib.legend.Legend at 0x7f26607adc88>"
      ]
     },
     "execution_count": 35,
     "metadata": {},
     "output_type": "execute_result"
    },
    {
     "data": {
      "image/png": "[encoded data removed]",
      "text/plain": [
       "<matplotlib.figure.Figure at 0x7f26606864e0>"
      ]
     },
     "metadata": {},
     "output_type": "display_data"
    }
   ],
   "source": [
    "women_of_class_3 = train[train['Pclass']==3]\n",
    "women_of_class_3 = women_of_class_3[women_of_class_3['sex_encoded']==1]\n",
    "survived = train[train['Survived']==1]\n",
    "died = train[train['Survived']==0]\n",
    "prototype_survived = survived.mean()\n",
    "prototype_died= died.mean() \n",
    "fare_survived = prototype_survived['Fare']\n",
    "fare_died = prototype_died['Fare']\n",
    "women_of_class_3[women_of_class_3['Survived']==1]['Fare'].hist(normed = True,label = 'Survived')\n",
    "women_of_class_3[women_of_class_3['Survived']==0]['Fare'].hist (normed = True,alpha = 0.5, label = 'Died')\n",
    "plt.xlabel(\"Fare\")\n",
    "plt.title(\"Women - 3rd class\")\n",
    "plt.legend()"
   ]
  },
  {
   "cell_type": "code",
   "execution_count": 36,
   "metadata": {
    "collapsed": false
   },
   "outputs": [
    {
     "name": "stdout",
     "output_type": "stream",
     "text": [
      "Mean Fare:\n",
      "32.2042079686\n",
      "Median Fare: \n",
      "14.4542\n",
      "SD:\n",
      "49.6655344448\n"
     ]
    },
    {
     "data": {
      "text/plain": [
       "<matplotlib.legend.Legend at 0x7f2660585ac8>"
      ]
     },
     "execution_count": 36,
     "metadata": {},
     "output_type": "execute_result"
    },
    {
     "data": {
      "image/png": "[encoded data removed]",
      "text/plain": [
       "<matplotlib.figure.Figure at 0x7f26607e0c18>"
      ]
     },
     "metadata": {},
     "output_type": "display_data"
    }
   ],
   "source": [
    "print(\"Mean Fare:\")\n",
    "print(str(np.mean(train['Fare'])))\n",
    "print(\"Median Fare: \")\n",
    "print(str(np.median(train[\"Fare\"])))\n",
    "print(\"SD:\")\n",
    "print(str(np.std(train['Fare'])))\n",
    "died['Fare'].hist(bins = 20, normed=True, color = 'r',label = 'died')\n",
    "survived['Fare'].hist(bins = 20, normed=True, color = 'b', alpha = 0.5, label = 'survived')\n",
    "plt.xlabel(\"Fare\")\n",
    "plt.legend()"
   ]
  },
  {
   "cell_type": "code",
   "execution_count": 37,
   "metadata": {
    "collapsed": false
   },
   "outputs": [],
   "source": [
    "#prototype_survived\n",
    "#Best features:\n",
    "#1st sex_encoded 100\n",
    "#2nd Pclass 50\n",
    "#3rd Fare 25\n",
    "#4th emb_encoded 10\n",
    "su_table = train[['sex_encoded','Pclass','Fare','emb_encoded']]\n",
    "su_table =(su_table - su_table.mean())/su_table.std()\n",
    "su_table['Survived'] = train['Survived']\n",
    "su_table['PassengerId'] = train['PassengerId']\n",
    "#su_table #su_table[su_table['PassengerId']==1]\n"
   ]
  },
  {
   "cell_type": "markdown",
   "metadata": {},
   "source": [
    "CLASSIFICATION ALGORITHMS"
   ]
  },
  {
   "cell_type": "code",
   "execution_count": 84,
   "metadata": {
    "collapsed": false
   },
   "outputs": [
    {
     "data": {
      "text/plain": [
       "1"
      ]
     },
     "execution_count": 84,
     "metadata": {},
     "output_type": "execute_result"
    }
   ],
   "source": [
    "#ATTEMPT 1\n",
    "#gender based model - women survive, men die gets 78% on train set and 76.5 on test set\n",
    "def decision(i):\n",
    "    return train[train['PassengerId']==i]['sex_encoded'][i-1]"
   ]
  },
  {
   "cell_type": "code",
   "execution_count": 101,
   "metadata": {
    "collapsed": false
   },
   "outputs": [],
   "source": [
    "#ATTEMPT 2\n",
    "#5 closest neigbors classifier #84.5% on train set, 73.5% on test set\n",
    "#clearly there is a case for overfitting, I am wondering if converting everything to standard units and weighting the \n",
    "#variables would make a differerence\n",
    "def find_dist(i):\n",
    "    dist_fare = []\n",
    "    dist_sex = []\n",
    "    dist_Pclass = []\n",
    "    dist_emb_encoded =[]\n",
    "    for j in range(1, max(train['PassengerId'])+1):\n",
    "            dist_fare.append(train[train['PassengerId']==j]['Fare'][j-1]-train[train['PassengerId']==i]['Fare'][i-1])\n",
    "            dist_sex.append(train[train['PassengerId']==j]['sex_encoded'][j-1]-train[train['PassengerId']==i]['sex_encoded'][i-1])\n",
    "            dist_Pclass.append(train[train['PassengerId']==j]['Pclass'][j-1]-train[train['PassengerId']==i]['Pclass'][i-1])\n",
    "            dist_emb_encoded.append(train[train['PassengerId']==j]['emb_encoded'][j-1]-train[train['PassengerId']==i]['Fare'][i-1])\n",
    "    a = np.array(dist_fare)**2\n",
    "    b = np.array(dist_sex)**2\n",
    "    c = np.array(dist_Pclass)**2\n",
    "    d = np.array(dist_emb_encoded)**2\n",
    "    return [a,b,c]\n",
    "def make_prediction(lst):\n",
    "    test['dist'] = np.sqrt(a+b+c)\n",
    "    if test.mean()['dist']>0.5:\n",
    "        return 1\n",
    "    else:\n",
    "        return 0\n",
    "\n",
    "def decision(i):\n",
    "    return make_prediction(find_dist(i))"
   ]
  },
  {
   "cell_type": "code",
   "execution_count": 102,
   "metadata": {
    "collapsed": true
   },
   "outputs": [],
   "source": [
    "#ATTEMPT 3\n",
    "#Same as a above but with everything converted to standard units 86% accuracy on the train set - performs really badly on\n",
    "#test set\n",
    "# A next step to this could be to try and weight the different factors so that a divergence in sex is smore important \n",
    "# than in fare\n",
    "def find_dist_su(i):\n",
    "    dist_fare = []\n",
    "    dist_sex = []\n",
    "    dist_Pclass = []\n",
    "    dist_emb_encoded =[]\n",
    "    for j in range(1, max(train['PassengerId'])+1):\n",
    "            dist_fare.append(su_table[su_table['PassengerId']==j]['Fare'][j-1]-su_table[su_table['PassengerId']==i]['Fare'][i-892])\n",
    "            dist_sex.append(su_table[su_table['PassengerId']==j]['sex_encoded'][j-1]-su_table[su_table['PassengerId']==i]['sex_encoded'][i-892])\n",
    "            dist_Pclass.append(su_table[su_table['PassengerId']==j]['Pclass'][j-1]-su_table[su_table['PassengerId']==i]['Pclass'][i-892])\n",
    "            dist_emb_encoded.append(su_table[su_table['PassengerId']==j]['emb_encoded'][j-1]-su_table[su_table['PassengerId']==i]['Fare'][i-892])\n",
    "    a = np.array(dist_fare)**2\n",
    "    b = np.array(dist_sex)**2\n",
    "    c = np.array(dist_Pclass)**2\n",
    "    d = np.array(dist_emb_encoded)**2\n",
    "    return [a,b,c]\n",
    "\n",
    "\n",
    "def decision_su(i):\n",
    "    return make_prediction(find_dist_su(i))\n"
   ]
  },
  {
   "cell_type": "code",
   "execution_count": 206,
   "metadata": {
    "collapsed": false
   },
   "outputs": [],
   "source": [
    "from datascience import *\n",
    "import warnings\n",
    "import pandas as pd\n",
    "from sklearn.metrics import accuracy_score\n",
    "warnings.filterwarnings(\"ignore\")"
   ]
  },
  {
   "cell_type": "code",
   "execution_count": 207,
   "metadata": {
    "collapsed": false
   },
   "outputs": [],
   "source": [
    "#ATTEMPT 4\n",
    "# Implement naive Bayes to explore data \n",
    "train = Table.read_table(\"train.csv\")\n",
    "test = Table.read_table(\"test.csv\")\n",
    "num_validation = math.ceil(train.num_rows * 0.30)\n",
    "validation_set = train.sample(num_validation, with_replacement=False)\n",
    "tr = []\n",
    "for i in range(0, train.num_rows):\n",
    "    if not train['PassengerId'][i] in validation_set['PassengerId']:\n",
    "        tr.append(i)\n",
    "train = train.take(tr)"
   ]
  },
  {
   "cell_type": "code",
   "execution_count": 208,
   "metadata": {
    "collapsed": false
   },
   "outputs": [],
   "source": [
    "embarked = np.unique(train['Embarked'])[:3]"
   ]
  },
  {
   "cell_type": "code",
   "execution_count": 272,
   "metadata": {
    "collapsed": false
   },
   "outputs": [],
   "source": [
    "#encode sex, embarked\n",
    "dicti = {}\n",
    "dicti['male'] = 0\n",
    "dicti['female'] = 1\n",
    "dicti['S'] = 0\n",
    "dicti['C'] = 1\n",
    "dicti['Q'] = 2"
   ]
  },
  {
   "cell_type": "code",
   "execution_count": 516,
   "metadata": {
    "collapsed": false
   },
   "outputs": [],
   "source": [
    "#returns an array of features\n",
    "def featurize(train):\n",
    "    features_train  = []\n",
    "    for i in range(train.num_rows):\n",
    "        if train.take(i)['Embarked'][0] in dicti.keys() and not math.isnan(train.take(i)['Age'][0]) and not math.isnan(train.take(i)['Fare'][0]):\n",
    "            tmp = []\n",
    "            #tmp.append(dicti[train.take(i)['Sex'][0]])\n",
    "            tmp.append(train.take(i)['Age'][0])\n",
    "            #mp.append(train.take(i)['SibSp'][0])\n",
    "            tmp.append(train.take(i)['Fare'][0])\n",
    "            #tmp.append(train.take(i)['Pclass'][0])\n",
    "            #tmp.append(dicti[train.take(i)['Embarked'][0]])\n",
    "        elif not train.take(i)['Embarked'][0] in dicti.keys():\n",
    "            tmp = []\n",
    "            #tmp.append(dicti[train.take(i)['Sex'][0]])\n",
    "            tmp.append(train.take(i)['Age'][0])\n",
    "            #tmp.append(train.take(i)['SibSp'][0])\n",
    "            tmp.append(train.take(i)['Fare'][0])\n",
    "            #tmp.append(train.take(i)['Pclass'][0])\n",
    "            #tmp.append(-1)\n",
    "        elif math.isnan(train.take(i)['Fare'][0]):\n",
    "            tmp = []\n",
    "            #tmp.append(dicti[train.take(i)['Sex'][0]])\n",
    "            tmp.append(train.take(i)['Age'][0])\n",
    "            #tmp.append(train.take(i)['SibSp'][0])\n",
    "            tmp.append(-1)\n",
    "            #tmp.append(train.take(i)['Pclass'][0])\n",
    "            #tmp.append(dicti[train.take(i)['Embarked'][0]])\n",
    "        else:\n",
    "            tmp = []\n",
    "            #tmp.append(dicti[train.take(i)['Sex'][0]])\n",
    "            tmp.append(-1)\n",
    "            #tmp.append(train.take(i)['SibSp'][0])\n",
    "            tmp.append(train.take(i)['Fare'][0])\n",
    "            #tmp.append(train.take(i)['Pclass'][0])\n",
    "            #tmp.append(dicti[train.take(i)['Embarked'][0]])\n",
    "        features_train.append(tmp)\n",
    "    return features_train"
   ]
  },
  {
   "cell_type": "code",
   "execution_count": 517,
   "metadata": {
    "collapsed": false
   },
   "outputs": [],
   "source": [
    "features_train = featurize(train)\n",
    "features_test = featurize(validation_set)"
   ]
  },
  {
   "cell_type": "code",
   "execution_count": 518,
   "metadata": {
    "collapsed": false
   },
   "outputs": [
    {
     "data": {
      "text/plain": [
       "0.66791044776119401"
      ]
     },
     "execution_count": 518,
     "metadata": {},
     "output_type": "execute_result"
    }
   ],
   "source": [
    "#include prior probability probably is important\n",
    "clf = GaussianNB()\n",
    "clf.fit(features_train, train['Survived'])\n",
    "predictions = clf.predict(features_test)\n",
    "accuracy_score(validation_set['Survived'], predictions)"
   ]
  },
  {
   "cell_type": "code",
   "execution_count": 519,
   "metadata": {
    "collapsed": false
   },
   "outputs": [
    {
     "ename": "KeyboardInterrupt",
     "evalue": "",
     "output_type": "error",
     "traceback": [
      "\u001b[0;31m---------------------------------------------------------------------------\u001b[0m",
      "\u001b[0;31mKeyboardInterrupt\u001b[0m                         Traceback (most recent call last)",
      "\u001b[0;32m<ipython-input-519-1bdc7d518ac7>\u001b[0m in \u001b[0;36m<module>\u001b[0;34m()\u001b[0m\n\u001b[1;32m     13\u001b[0m             \u001b[0mtr\u001b[0m\u001b[0;34m.\u001b[0m\u001b[0mappend\u001b[0m\u001b[0;34m(\u001b[0m\u001b[0mi\u001b[0m\u001b[0;34m)\u001b[0m\u001b[0;34m\u001b[0m\u001b[0m\n\u001b[1;32m     14\u001b[0m     \u001b[0mtrain\u001b[0m \u001b[0;34m=\u001b[0m \u001b[0mtrain\u001b[0m\u001b[0;34m.\u001b[0m\u001b[0mtake\u001b[0m\u001b[0;34m(\u001b[0m\u001b[0mtr\u001b[0m\u001b[0;34m)\u001b[0m\u001b[0;34m\u001b[0m\u001b[0m\n\u001b[0;32m---> 15\u001b[0;31m     \u001b[0mfeatures_train\u001b[0m \u001b[0;34m=\u001b[0m \u001b[0mfeaturize\u001b[0m\u001b[0;34m(\u001b[0m\u001b[0mtrain\u001b[0m\u001b[0;34m)\u001b[0m\u001b[0;34m\u001b[0m\u001b[0m\n\u001b[0m\u001b[1;32m     16\u001b[0m     \u001b[0mclf\u001b[0m\u001b[0;34m.\u001b[0m\u001b[0mfit\u001b[0m\u001b[0;34m(\u001b[0m\u001b[0mfeatures_train\u001b[0m\u001b[0;34m,\u001b[0m \u001b[0mtrain\u001b[0m\u001b[0;34m[\u001b[0m\u001b[0;34m'Survived'\u001b[0m\u001b[0;34m]\u001b[0m\u001b[0;34m)\u001b[0m\u001b[0;34m\u001b[0m\u001b[0m\n\u001b[1;32m     17\u001b[0m     \u001b[0mpredictions\u001b[0m \u001b[0;34m=\u001b[0m \u001b[0mclf\u001b[0m\u001b[0;34m.\u001b[0m\u001b[0mpredict\u001b[0m\u001b[0;34m(\u001b[0m\u001b[0mfeatures_test\u001b[0m\u001b[0;34m)\u001b[0m\u001b[0;34m\u001b[0m\u001b[0m\n",
      "\u001b[0;32m<ipython-input-516-dd09a99d94f1>\u001b[0m in \u001b[0;36mfeaturize\u001b[0;34m(train)\u001b[0m\n\u001b[1;32m      3\u001b[0m     \u001b[0mfeatures_train\u001b[0m  \u001b[0;34m=\u001b[0m \u001b[0;34m[\u001b[0m\u001b[0;34m]\u001b[0m\u001b[0;34m\u001b[0m\u001b[0m\n\u001b[1;32m      4\u001b[0m     \u001b[0;32mfor\u001b[0m \u001b[0mi\u001b[0m \u001b[0;32min\u001b[0m \u001b[0mrange\u001b[0m\u001b[0;34m(\u001b[0m\u001b[0mtrain\u001b[0m\u001b[0;34m.\u001b[0m\u001b[0mnum_rows\u001b[0m\u001b[0;34m)\u001b[0m\u001b[0;34m:\u001b[0m\u001b[0;34m\u001b[0m\u001b[0m\n\u001b[0;32m----> 5\u001b[0;31m         \u001b[0;32mif\u001b[0m \u001b[0mtrain\u001b[0m\u001b[0;34m.\u001b[0m\u001b[0mtake\u001b[0m\u001b[0;34m(\u001b[0m\u001b[0mi\u001b[0m\u001b[0;34m)\u001b[0m\u001b[0;34m[\u001b[0m\u001b[0;34m'Embarked'\u001b[0m\u001b[0;34m]\u001b[0m\u001b[0;34m[\u001b[0m\u001b[0;36m0\u001b[0m\u001b[0;34m]\u001b[0m \u001b[0;32min\u001b[0m \u001b[0mdicti\u001b[0m\u001b[0;34m.\u001b[0m\u001b[0mkeys\u001b[0m\u001b[0;34m(\u001b[0m\u001b[0;34m)\u001b[0m \u001b[0;32mand\u001b[0m \u001b[0;32mnot\u001b[0m \u001b[0mmath\u001b[0m\u001b[0;34m.\u001b[0m\u001b[0misnan\u001b[0m\u001b[0;34m(\u001b[0m\u001b[0mtrain\u001b[0m\u001b[0;34m.\u001b[0m\u001b[0mtake\u001b[0m\u001b[0;34m(\u001b[0m\u001b[0mi\u001b[0m\u001b[0;34m)\u001b[0m\u001b[0;34m[\u001b[0m\u001b[0;34m'Age'\u001b[0m\u001b[0;34m]\u001b[0m\u001b[0;34m[\u001b[0m\u001b[0;36m0\u001b[0m\u001b[0;34m]\u001b[0m\u001b[0;34m)\u001b[0m \u001b[0;32mand\u001b[0m \u001b[0;32mnot\u001b[0m \u001b[0mmath\u001b[0m\u001b[0;34m.\u001b[0m\u001b[0misnan\u001b[0m\u001b[0;34m(\u001b[0m\u001b[0mtrain\u001b[0m\u001b[0;34m.\u001b[0m\u001b[0mtake\u001b[0m\u001b[0;34m(\u001b[0m\u001b[0mi\u001b[0m\u001b[0;34m)\u001b[0m\u001b[0;34m[\u001b[0m\u001b[0;34m'Fare'\u001b[0m\u001b[0;34m]\u001b[0m\u001b[0;34m[\u001b[0m\u001b[0;36m0\u001b[0m\u001b[0;34m]\u001b[0m\u001b[0;34m)\u001b[0m\u001b[0;34m:\u001b[0m\u001b[0;34m\u001b[0m\u001b[0m\n\u001b[0m\u001b[1;32m      6\u001b[0m             \u001b[0mtmp\u001b[0m \u001b[0;34m=\u001b[0m \u001b[0;34m[\u001b[0m\u001b[0;34m]\u001b[0m\u001b[0;34m\u001b[0m\u001b[0m\n\u001b[1;32m      7\u001b[0m             \u001b[0;31m#tmp.append(dicti[train.take(i)['Sex'][0]])\u001b[0m\u001b[0;34m\u001b[0m\u001b[0;34m\u001b[0m\u001b[0m\n",
      "\u001b[0;32m/Users/Vasilis/anaconda3/lib/python3.4/site-packages/datascience/tables.py\u001b[0m in \u001b[0;36m__call__\u001b[0;34m(self, row_numbers_or_slice)\u001b[0m\n\u001b[1;32m   2215\u001b[0m \u001b[0;34m\u001b[0m\u001b[0m\n\u001b[1;32m   2216\u001b[0m     \u001b[0;32mdef\u001b[0m \u001b[0m__call__\u001b[0m\u001b[0;34m(\u001b[0m\u001b[0mself\u001b[0m\u001b[0;34m,\u001b[0m \u001b[0mrow_numbers_or_slice\u001b[0m\u001b[0;34m)\u001b[0m\u001b[0;34m:\u001b[0m\u001b[0;34m\u001b[0m\u001b[0m\n\u001b[0;32m-> 2217\u001b[0;31m         \u001b[0;32mreturn\u001b[0m \u001b[0mself\u001b[0m\u001b[0;34m[\u001b[0m\u001b[0mrow_numbers_or_slice\u001b[0m\u001b[0;34m]\u001b[0m\u001b[0;34m\u001b[0m\u001b[0m\n\u001b[0m\u001b[1;32m   2218\u001b[0m \u001b[0;34m\u001b[0m\u001b[0m\n\u001b[1;32m   2219\u001b[0m     \u001b[0;34m@\u001b[0m\u001b[0mabc\u001b[0m\u001b[0;34m.\u001b[0m\u001b[0mabstractmethod\u001b[0m\u001b[0;34m\u001b[0m\u001b[0m\n",
      "\u001b[0;32m/Users/Vasilis/anaconda3/lib/python3.4/site-packages/datascience/tables.py\u001b[0m in \u001b[0;36m__getitem__\u001b[0;34m(self, row_indices_or_slice)\u001b[0m\n\u001b[1;32m   2289\u001b[0m             \u001b[0;32mreturn\u001b[0m \u001b[0mself\u001b[0m\u001b[0;34m.\u001b[0m\u001b[0m_table\u001b[0m\u001b[0;34m.\u001b[0m\u001b[0m_with_columns\u001b[0m\u001b[0;34m(\u001b[0m\u001b[0mcolumns\u001b[0m\u001b[0;34m)\u001b[0m\u001b[0;34m\u001b[0m\u001b[0m\n\u001b[1;32m   2290\u001b[0m \u001b[0;34m\u001b[0m\u001b[0m\n\u001b[0;32m-> 2291\u001b[0;31m         \u001b[0mrows\u001b[0m \u001b[0;34m=\u001b[0m \u001b[0mself\u001b[0m\u001b[0;34m.\u001b[0m\u001b[0m_table\u001b[0m\u001b[0;34m.\u001b[0m\u001b[0mrows\u001b[0m\u001b[0;34m[\u001b[0m\u001b[0mrow_indices_or_slice\u001b[0m\u001b[0;34m]\u001b[0m\u001b[0;34m\u001b[0m\u001b[0m\n\u001b[0m\u001b[1;32m   2292\u001b[0m         \u001b[0;32mif\u001b[0m \u001b[0misinstance\u001b[0m\u001b[0;34m(\u001b[0m\u001b[0mrows\u001b[0m\u001b[0;34m,\u001b[0m \u001b[0mTable\u001b[0m\u001b[0;34m.\u001b[0m\u001b[0mRow\u001b[0m\u001b[0;34m)\u001b[0m\u001b[0;34m:\u001b[0m\u001b[0;34m\u001b[0m\u001b[0m\n\u001b[1;32m   2293\u001b[0m             \u001b[0mrows\u001b[0m \u001b[0;34m=\u001b[0m \u001b[0;34m[\u001b[0m\u001b[0mrows\u001b[0m\u001b[0;34m]\u001b[0m\u001b[0;34m\u001b[0m\u001b[0m\n",
      "\u001b[0;32m/Users/Vasilis/anaconda3/lib/python3.4/site-packages/datascience/tables.py\u001b[0m in \u001b[0;36m__getitem__\u001b[0;34m(self, i)\u001b[0m\n\u001b[1;32m   2104\u001b[0m                 \u001b[0;32mreturn\u001b[0m \u001b[0;34m(\u001b[0m\u001b[0mself\u001b[0m\u001b[0;34m[\u001b[0m\u001b[0mj\u001b[0m\u001b[0;34m]\u001b[0m \u001b[0;32mfor\u001b[0m \u001b[0mj\u001b[0m \u001b[0;32min\u001b[0m \u001b[0mrange\u001b[0m\u001b[0;34m(\u001b[0m\u001b[0;34m*\u001b[0m\u001b[0mi\u001b[0m\u001b[0;34m.\u001b[0m\u001b[0mindices\u001b[0m\u001b[0;34m(\u001b[0m\u001b[0mlen\u001b[0m\u001b[0;34m(\u001b[0m\u001b[0mself\u001b[0m\u001b[0;34m)\u001b[0m\u001b[0;34m)\u001b[0m\u001b[0;34m)\u001b[0m\u001b[0;34m)\u001b[0m\u001b[0;34m\u001b[0m\u001b[0m\n\u001b[1;32m   2105\u001b[0m \u001b[0;34m\u001b[0m\u001b[0m\n\u001b[0;32m-> 2106\u001b[0;31m             \u001b[0mlabels\u001b[0m \u001b[0;34m=\u001b[0m \u001b[0mtuple\u001b[0m\u001b[0;34m(\u001b[0m\u001b[0mself\u001b[0m\u001b[0;34m.\u001b[0m\u001b[0m_table\u001b[0m\u001b[0;34m.\u001b[0m\u001b[0mlabels\u001b[0m\u001b[0;34m)\u001b[0m\u001b[0;34m\u001b[0m\u001b[0m\n\u001b[0m\u001b[1;32m   2107\u001b[0m             \u001b[0;32mif\u001b[0m \u001b[0mlabels\u001b[0m \u001b[0;34m!=\u001b[0m \u001b[0mself\u001b[0m\u001b[0;34m.\u001b[0m\u001b[0m_labels\u001b[0m\u001b[0;34m:\u001b[0m\u001b[0;34m\u001b[0m\u001b[0m\n\u001b[1;32m   2108\u001b[0m                 \u001b[0mself\u001b[0m\u001b[0;34m.\u001b[0m\u001b[0m_labels\u001b[0m \u001b[0;34m=\u001b[0m \u001b[0mlabels\u001b[0m\u001b[0;34m\u001b[0m\u001b[0m\n",
      "\u001b[0;32m/Users/Vasilis/anaconda3/lib/python3.4/site-packages/datascience/tables.py\u001b[0m in \u001b[0;36mlabels\u001b[0;34m(self)\u001b[0m\n\u001b[1;32m    227\u001b[0m     \u001b[0;32mdef\u001b[0m \u001b[0mlabels\u001b[0m\u001b[0;34m(\u001b[0m\u001b[0mself\u001b[0m\u001b[0;34m)\u001b[0m\u001b[0;34m:\u001b[0m\u001b[0;34m\u001b[0m\u001b[0m\n\u001b[1;32m    228\u001b[0m         \u001b[0;34m\"\"\"Return a tuple of column labels.\"\"\"\u001b[0m\u001b[0;34m\u001b[0m\u001b[0m\n\u001b[0;32m--> 229\u001b[0;31m         \u001b[0;32mreturn\u001b[0m \u001b[0mtuple\u001b[0m\u001b[0;34m(\u001b[0m\u001b[0mself\u001b[0m\u001b[0;34m.\u001b[0m\u001b[0m_columns\u001b[0m\u001b[0;34m.\u001b[0m\u001b[0mkeys\u001b[0m\u001b[0;34m(\u001b[0m\u001b[0;34m)\u001b[0m\u001b[0;34m)\u001b[0m\u001b[0;34m\u001b[0m\u001b[0m\n\u001b[0m\u001b[1;32m    230\u001b[0m \u001b[0;34m\u001b[0m\u001b[0m\n\u001b[1;32m    231\u001b[0m     \u001b[0;31m# Deprecated\u001b[0m\u001b[0;34m\u001b[0m\u001b[0;34m\u001b[0m\u001b[0m\n",
      "\u001b[0;32m/Users/Vasilis/anaconda3/lib/python3.4/_collections_abc.py\u001b[0m in \u001b[0;36m__iter__\u001b[0;34m(self)\u001b[0m\n\u001b[1;32m    474\u001b[0m \u001b[0;34m\u001b[0m\u001b[0m\n\u001b[1;32m    475\u001b[0m     \u001b[0;32mdef\u001b[0m \u001b[0m__iter__\u001b[0m\u001b[0;34m(\u001b[0m\u001b[0mself\u001b[0m\u001b[0;34m)\u001b[0m\u001b[0;34m:\u001b[0m\u001b[0;34m\u001b[0m\u001b[0m\n\u001b[0;32m--> 476\u001b[0;31m         \u001b[0;32myield\u001b[0m \u001b[0;32mfrom\u001b[0m \u001b[0mself\u001b[0m\u001b[0;34m.\u001b[0m\u001b[0m_mapping\u001b[0m\u001b[0;34m\u001b[0m\u001b[0m\n\u001b[0m\u001b[1;32m    477\u001b[0m \u001b[0;34m\u001b[0m\u001b[0m\n\u001b[1;32m    478\u001b[0m \u001b[0mKeysView\u001b[0m\u001b[0;34m.\u001b[0m\u001b[0mregister\u001b[0m\u001b[0;34m(\u001b[0m\u001b[0mdict_keys\u001b[0m\u001b[0;34m)\u001b[0m\u001b[0;34m\u001b[0m\u001b[0m\n",
      "\u001b[0;31mKeyboardInterrupt\u001b[0m: "
     ]
    }
   ],
   "source": [
    "#accuracy diagram\n",
    "clf = GaussianNB()\n",
    "accuracy = []\n",
    "for j in range(100):\n",
    "    train = Table.read_table(\"train.csv\")\n",
    "    test = Table.read_table(\"test.csv\")\n",
    "    num_validation = math.ceil(train.num_rows * 0.30)\n",
    "    validation_set = train.sample(num_validation, with_replacement=False)\n",
    "    features_test = featurize(validation_set)\n",
    "    tr = []\n",
    "    for i in range(0, train.num_rows):\n",
    "        if not train['PassengerId'][i] in validation_set['PassengerId']:\n",
    "            tr.append(i)\n",
    "    train = train.take(tr)\n",
    "    features_train = featurize(train)\n",
    "    clf.fit(features_train, train['Survived'])\n",
    "    predictions = clf.predict(features_test)\n",
    "    accuracy.append(accuracy_score(validation_set['Survived'], predictions))"
   ]
  },
  {
   "cell_type": "code",
   "execution_count": null,
   "metadata": {
    "collapsed": false
   },
   "outputs": [],
   "source": [
    "# possible improvements\n",
    "plt.hist(accuracy)\n",
    "np.mean(accuracy)"
   ]
  },
  {
   "cell_type": "code",
   "execution_count": 449,
   "metadata": {
    "collapsed": false
   },
   "outputs": [],
   "source": [
    "#naive based with features \n",
    "def naive_bayes(table):\n",
    "    train = Table.read_table(\"train.csv\")\n",
    "    features = featurize(table)\n",
    "    clf = GaussianNB()\n",
    "    f = featurize(train)\n",
    "    clf.fit(f, train['Survived'])\n",
    "    return clf.predict(features)\n",
    "test = Table.read_table('test.csv')\n",
    "bayes_results = naive_bayes(test)"
   ]
  },
  {
   "cell_type": "code",
   "execution_count": 450,
   "metadata": {
    "collapsed": false
   },
   "outputs": [],
   "source": [
    "dic = {'PassengerId': test['PassengerId'], 'Survived': bayes_results}\n",
    "df = pd.DataFrame(dic)\n",
    "len(bayes_results)\n",
    "df.to_csv('naive_bayes_results.csv', index=False)"
   ]
  },
  {
   "cell_type": "code",
   "execution_count": null,
   "metadata": {
    "collapsed": false
   },
   "outputs": [],
   "source": [
    "# ATTEMPT 5 -  Support Vector Machines\n",
    "from sklearn import svm\n",
    "clf = svm.SVC(kernel = 'linear')\n",
    "features_train = featurize(train)\n",
    "clf.fit(features_train, train['Survived'])"
   ]
  },
  {
   "cell_type": "code",
   "execution_count": null,
   "metadata": {
    "collapsed": false
   },
   "outputs": [],
   "source": [
    "import numpy as np\n",
    "import matplotlib.pyplot as plt\n",
    "from sklearn import svm\n",
    "\n",
    "X = features_train \n",
    "Y = train['Survived']\n",
    "\n",
    "x_min, x_max = min([i[0] for i in X]) - 1, max([i[0] for i in X]) + 1\n",
    "y_min, y_max = min([i[1] for i in X]) - 1, max([i[1] for i in X]) + 1\n",
    "xx, yy = np.meshgrid(np.arange(x_min, x_max),\n",
    "                     np.arange(y_min, y_max))\n",
    "\n",
    "# here \"model\" is your model's prediction (classification) function\n",
    "Z = clf.predict(np.c_[xx.ravel(), yy.ravel()]) \n",
    "\n",
    "# Put the result into a color plot\n",
    "Z = Z.reshape(xx.shape)\n",
    "plt.contourf(xx, yy, Z, cmap=plt.cm.Paired)\n",
    "plt.axis('off')\n",
    "\n",
    "# Plot also the training points\n",
    "plt.scatter([i[0] for i in X], [i[1] for i in X], c=Y, cmap=plt.cm.Paired)"
   ]
  },
  {
   "cell_type": "code",
   "execution_count": null,
   "metadata": {
    "collapsed": false
   },
   "outputs": [],
   "source": []
  },
  {
   "cell_type": "code",
   "execution_count": null,
   "metadata": {
    "collapsed": true
   },
   "outputs": [],
   "source": []
  }
 ],
 "metadata": {
  "kernelspec": {
   "display_name": "Python 3",
   "language": "python",
   "name": "python3"
  },
  "language_info": {
   "codemirror_mode": {
    "name": "ipython",
    "version": 3
   },
   "file_extension": ".py",
   "mimetype": "text/x-python",
   "name": "python",
   "nbconvert_exporter": "python",
   "pygments_lexer": "ipython3",
   "version": "3.4.4"
  }
 },
 "nbformat": 4,
 "nbformat_minor": 0
}
