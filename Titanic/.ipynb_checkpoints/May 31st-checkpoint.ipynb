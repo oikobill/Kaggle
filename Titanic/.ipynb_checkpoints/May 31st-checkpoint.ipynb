{
 "cells": [
  {
   "cell_type": "code",
   "execution_count": 192,
   "metadata": {
    "collapsed": false
   },
   "outputs": [],
   "source": [
    "import pandas as pd\n",
    "import numpy as np\n",
    "from scipy import stats\n",
    "import matplotlib.pyplot as plt\n",
    "from sklearn import metrics \n",
    "from sklearn import svm\n",
    "from sklearn import tree\n",
    "from sklearn import cross_validation\n",
    "from sklearn import linear_model\n",
    "from sklearn import ensemble\n",
    "import re\n",
    "import warnings\n",
    "warnings.filterwarnings('ignore')\n",
    "%matplotlib inline"
   ]
  },
  {
   "cell_type": "code",
   "execution_count": 193,
   "metadata": {
    "collapsed": false
   },
   "outputs": [],
   "source": [
    "data = pd.read_csv(\"train.csv\")\n",
    "test = pd.read_csv(\"test.csv\")"
   ]
  },
  {
   "cell_type": "code",
   "execution_count": 194,
   "metadata": {
    "collapsed": false
   },
   "outputs": [
    {
     "name": "stdout",
     "output_type": "stream",
     "text": [
      "<class 'pandas.core.frame.DataFrame'>\n",
      "Int64Index: 891 entries, 0 to 890\n",
      "Data columns (total 12 columns):\n",
      "PassengerId    891 non-null int64\n",
      "Survived       891 non-null int64\n",
      "Pclass         891 non-null int64\n",
      "Name           891 non-null object\n",
      "Sex            891 non-null object\n",
      "Age            714 non-null float64\n",
      "SibSp          891 non-null int64\n",
      "Parch          891 non-null int64\n",
      "Ticket         891 non-null object\n",
      "Fare           891 non-null float64\n",
      "Cabin          204 non-null object\n",
      "Embarked       889 non-null object\n",
      "dtypes: float64(2), int64(5), object(5)\n",
      "memory usage: 90.5+ KB\n",
      "None\n",
      "---------------------------\n",
      "<class 'pandas.core.frame.DataFrame'>\n",
      "Int64Index: 418 entries, 0 to 417\n",
      "Data columns (total 11 columns):\n",
      "PassengerId    418 non-null int64\n",
      "Pclass         418 non-null int64\n",
      "Name           418 non-null object\n",
      "Sex            418 non-null object\n",
      "Age            332 non-null float64\n",
      "SibSp          418 non-null int64\n",
      "Parch          418 non-null int64\n",
      "Ticket         418 non-null object\n",
      "Fare           417 non-null float64\n",
      "Cabin          91 non-null object\n",
      "Embarked       418 non-null object\n",
      "dtypes: float64(2), int64(4), object(5)\n",
      "memory usage: 39.2+ KB\n",
      "None\n"
     ]
    }
   ],
   "source": [
    "print(data.info())\n",
    "print(\"---------------------------\")\n",
    "print(test.info())"
   ]
  },
  {
   "cell_type": "code",
   "execution_count": 195,
   "metadata": {
    "collapsed": false
   },
   "outputs": [],
   "source": [
    "#Clearly the Cabin data as well as the Passenger ID are useless\n",
    "data = data.drop([\"Cabin\", \"PassengerId\"], axis=1)"
   ]
  },
  {
   "cell_type": "code",
   "execution_count": 196,
   "metadata": {
    "collapsed": false
   },
   "outputs": [],
   "source": [
    "#replace nan values with most frequent observations for embarked\n",
    "data['Embarked'] = data['Embarked'].fillna(\"S\")"
   ]
  },
  {
   "cell_type": "code",
   "execution_count": 197,
   "metadata": {
    "collapsed": false
   },
   "outputs": [],
   "source": [
    "#Fill the missing values for age with the median age\n",
    "data['Age'].fillna(data['Age'].median(), inplace=True)"
   ]
  },
  {
   "cell_type": "code",
   "execution_count": 198,
   "metadata": {
    "collapsed": false
   },
   "outputs": [],
   "source": [
    "#add if passenger had family or not and then drop Parch and SibSp\n",
    "data['Family'] = np.array(data['SibSp'])+np.array(data['Parch'])\n",
    "data['Family'].loc[data['Family']>=1]=1\n",
    "data[\"Family\"].loc[data['Family']==0]=0\n",
    "data = data.drop([\"SibSp\", \"Parch\"], axis = 1)"
   ]
  },
  {
   "cell_type": "code",
   "execution_count": 199,
   "metadata": {
    "collapsed": false
   },
   "outputs": [
    {
     "data": {
      "image/png": "[encoded data removed]",
      "text/plain": [
       "<matplotlib.figure.Figure at 0x1120266a0>"
      ]
     },
     "metadata": {},
     "output_type": "display_data"
    }
   ],
   "source": [
    "#Explore whether having a family or not on board was significant in any way\n",
    "with_family = data[data['Family']==1]\n",
    "without_family = data[data['Family']==0]\n",
    "bar_width = 1\n",
    "barlist = plt.bar([0, 1],[len(with_family['Survived']), len(without_family['Survived'])], bar_width)\n",
    "plt.xticks([0.5, 1.5], ('With Family', 'Without Family'))\n",
    "plt.ylabel(\"Counts\")\n",
    "plt.title(\"Family Situation\")\n",
    "barlist[0].set_color('g')\n",
    "barlist[1].set_color('b')"
   ]
  },
  {
   "cell_type": "code",
   "execution_count": 200,
   "metadata": {
    "collapsed": false
   },
   "outputs": [],
   "source": [
    "#children <16 have a higher chance of surviving hence split Sex into male female and children instead\n",
    "new_sex = []\n",
    "for i in range(len(data['Sex'])):\n",
    "    if data['Age'][i]<=16:\n",
    "        new_sex.append('child')\n",
    "    else:\n",
    "        new_sex.append(data['Sex'][i])\n",
    "data['Sex'] = new_sex"
   ]
  },
  {
   "cell_type": "code",
   "execution_count": 201,
   "metadata": {
    "collapsed": false
   },
   "outputs": [],
   "source": [
    "#Make sex into an actual feature\n",
    "data = data.join(pd.get_dummies(data['Sex']))\n",
    "#Make embarked into an actual feature\n",
    "data = data.join(pd.get_dummies(data['Embarked']))"
   ]
  },
  {
   "cell_type": "code",
   "execution_count": 202,
   "metadata": {
    "collapsed": false
   },
   "outputs": [],
   "source": [
    "data.drop([\"Embarked\", \"Sex\"], axis=1, inplace=True)"
   ]
  },
  {
   "cell_type": "code",
   "execution_count": 203,
   "metadata": {
    "collapsed": false
   },
   "outputs": [],
   "source": [
    "# #Encoded Title\n",
    "# title = []\n",
    "# for i in range(len(data['Name'])):\n",
    "#     ti = re.search(r'[A-Z][a-z]*\\.',data['Name'][i]).group()\n",
    "#     title.append(ti)\n",
    "# data['Title'] = title"
   ]
  },
  {
   "cell_type": "code",
   "execution_count": 204,
   "metadata": {
    "collapsed": false
   },
   "outputs": [],
   "source": [
    "# data = data.join(pd.get_dummies(data['Title']))\n",
    "# data.drop([\"Title\"], axis=1, inplace=True)"
   ]
  },
  {
   "cell_type": "code",
   "execution_count": 217,
   "metadata": {
    "collapsed": false
   },
   "outputs": [],
   "source": [
    "# Data--All Set\n",
    "X = data.drop([\"Survived\",\"Name\", \"Ticket\"], axis=1).as_matrix()\n",
    "Y = data['Survived']"
   ]
  },
  {
   "cell_type": "code",
   "execution_count": 216,
   "metadata": {
    "collapsed": false
   },
   "outputs": [
    {
     "data": {
      "text/plain": [
       "0.80134680134680136"
      ]
     },
     "execution_count": 216,
     "metadata": {},
     "output_type": "execute_result"
    }
   ],
   "source": [
    "#Classifier: Logistic Regression -- All Set\n",
    "#Using cross-validation: check\n",
    "clf = linear_model.LogisticRegression()\n",
    "predicted = cross_validation.cross_val_predict(clf, X, Y, cv=10)\n",
    "metrics.accuracy_score(predicted, Y)"
   ]
  },
  {
   "cell_type": "code",
   "execution_count": 215,
   "metadata": {
    "collapsed": false
   },
   "outputs": [
    {
     "data": {
      "text/plain": [
       "0.71268237934904599"
      ]
     },
     "execution_count": 215,
     "metadata": {},
     "output_type": "execute_result"
    }
   ],
   "source": [
    "#Classifier: SVC -- All Set\n",
    "#Using cross-validation: check\n",
    "clf = svm.SVC()\n",
    "predicted = cross_validation.cross_val_predict(clf, X, Y, cv=10)\n",
    "metrics.accuracy_score(predicted, Y)"
   ]
  },
  {
   "cell_type": "code",
   "execution_count": 214,
   "metadata": {
    "collapsed": false
   },
   "outputs": [
    {
     "data": {
      "text/plain": [
       "0.78338945005611671"
      ]
     },
     "execution_count": 214,
     "metadata": {},
     "output_type": "execute_result"
    }
   ],
   "source": [
    "#Classifier: Decision Tree -- All Set\n",
    "#Using cross-validation: check\n",
    "clf = tree.DecisionTreeClassifier()\n",
    "predicted = cross_validation.cross_val_predict(clf, X, Y, cv=10)\n",
    "metrics.accuracy_score(predicted, Y)"
   ]
  },
  {
   "cell_type": "code",
   "execution_count": 213,
   "metadata": {
    "collapsed": false
   },
   "outputs": [
    {
     "data": {
      "text/plain": [
       "0.83164983164983164"
      ]
     },
     "execution_count": 213,
     "metadata": {},
     "output_type": "execute_result"
    }
   ],
   "source": [
    "#Classifier: RandomForestClassifier -- All Set\n",
    "#Using cross-validation: check\n",
    "clf = ensemble.RandomForestClassifier()\n",
    "metrics.accuracy_score(predicted, Y)"
   ]
  },
  {
   "cell_type": "code",
   "execution_count": 210,
   "metadata": {
    "collapsed": false
   },
   "outputs": [],
   "source": [
    "#Put test_set_in the correct format\n",
    "test['Fare'].fillna(data['Fare'].median(), inplace=True)\n",
    "test = test.drop([\"Cabin\",\"Name\"], axis=1)"
   ]
  },
  {
   "cell_type": "code",
   "execution_count": 211,
   "metadata": {
    "collapsed": false
   },
   "outputs": [],
   "source": [
    "test['Age'].fillna(test['Age'].median(), inplace=True)\n",
    "test['Family'] = np.array(test['SibSp'])+np.array(test['Parch'])\n",
    "test['Family'].loc[test['Family']>=1]=1\n",
    "test[\"Family\"].loc[test['Family']==0]=0\n",
    "test = test.drop([\"SibSp\", \"Parch\"], axis = 1)\n",
    "new_sex = []\n",
    "for i in range(len(test['Sex'])):\n",
    "    if test['Age'][i]<=16:\n",
    "        new_sex.append('child')\n",
    "    else:\n",
    "        new_sex.append(test['Sex'][i])\n",
    "test['Sex'] = new_sex\n",
    "#Make sex into an actual feature\n",
    "test = test.join(pd.get_dummies(test['Sex']))\n",
    "#Make embarked into an actual feature\n",
    "test = test.join(pd.get_dummies(test['Embarked']))\n",
    "test.drop([\"Embarked\", \"Sex\"], axis=1, inplace=True)"
   ]
  },
  {
   "cell_type": "code",
   "execution_count": 189,
   "metadata": {
    "collapsed": false
   },
   "outputs": [],
   "source": [
    "clf.fit(X, Y)\n",
    "X = test.drop([\"Ticket\", \"PassengerId\"], axis=1).as_matrix()"
   ]
  },
  {
   "cell_type": "code",
   "execution_count": 190,
   "metadata": {
    "collapsed": false
   },
   "outputs": [],
   "source": [
    "predictions = clf.predict(X)"
   ]
  },
  {
   "cell_type": "code",
   "execution_count": 191,
   "metadata": {
    "collapsed": true
   },
   "outputs": [],
   "source": [
    "#submision\n",
    "df = pd.DataFrame()\n",
    "df['Survived']=predictions\n",
    "df['PassengerId']=test['PassengerId']\n",
    "df.to_csv(\"RandomForest.csv\", index=False)"
   ]
  }
 ],
 "metadata": {
  "kernelspec": {
   "display_name": "Python 3",
   "language": "python",
   "name": "python3"
  },
  "language_info": {
   "codemirror_mode": {
    "name": "ipython",
    "version": 3
   },
   "file_extension": ".py",
   "mimetype": "text/x-python",
   "name": "python",
   "nbconvert_exporter": "python",
   "pygments_lexer": "ipython3",
   "version": "3.4.4"
  }
 },
 "nbformat": 4,
 "nbformat_minor": 0
}
